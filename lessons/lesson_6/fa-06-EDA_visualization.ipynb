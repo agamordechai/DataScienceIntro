{
 "cells": [
  {
   "cell_type": "markdown",
   "metadata": {
    "nbgrader": {
     "grade": false,
     "locked": true,
     "solution": false
    },
    "editable": false,
    "deletable": false
   },
   "source": [
    "![Final Lesson Exercise](images/Banner_FEX.png)"
   ]
  },
  {
   "cell_type": "markdown",
   "metadata": {
    "nbgrader": {
     "grade": false,
     "locked": true,
     "solution": false
    },
    "editable": false,
    "deletable": false
   },
   "source": [
    "# Lesson #6: Visualization and Exploratory Data Analysis \n",
    "## Good Movies - The IMDb movie dataset"
   ]
  },
  {
   "cell_type": "markdown",
   "metadata": {
    "nbgrader": {
     "grade": false,
     "locked": true,
     "solution": false
    },
    "editable": false,
    "deletable": false
   },
   "source": [
    "## About this assignment\n",
    "In this assignment, you will continue to explore information regarding good movies.<br/>\n",
    "\n",
    "This time you will do so, using exploratory data analysis and visualization of the data."
   ]
  },
  {
   "cell_type": "markdown",
   "metadata": {
    "nbgrader": {
     "grade": false,
     "locked": true,
     "solution": false
    },
    "editable": false,
    "deletable": false
   },
   "source": [
    "## Preceding Step - import modules (packages)\n",
    "This step is necessary in order to use external packages. \n",
    "\n",
    "**Use the following libraries for the assignment, when needed**:"
   ]
  },
  {
   "cell_type": "code",
   "metadata": {
    "collapsed": true,
    "nbgrader": {
     "grade": false,
     "locked": true,
     "solution": false
    },
    "editable": false,
    "deletable": false,
    "ExecuteTime": {
     "end_time": "2024-12-22T14:46:05.904736Z",
     "start_time": "2024-12-22T14:46:05.712006Z"
    }
   },
   "source": [
    "# ------------>>>>>>>> RUN THIS CODE CELL <<<<<<<<------------\n",
    "# === CELL TYPE: IMPORTS AND SETUP \n",
    "\n",
    "from plotchecker import LinePlotChecker, ScatterPlotChecker, BarPlotChecker  # for testing use only\n",
    "import matplotcheck.base as mpc     # for testing use only\n",
    "import matplotcheck.notebook as nb  # for testing use only\n",
    "import os                           # for testing use only\n",
    "import pandas as pd\n",
    "import numpy as np\n",
    "import matplotlib as mpl\n",
    "import matplotlib.pyplot as plt      \n",
    "import math\n",
    "import seaborn as sns\n",
    "from collections import Counter\n",
    "from sklearn.decomposition import PCA\n",
    "%matplotlib inline"
   ],
   "outputs": [],
   "execution_count": 1
  },
  {
   "cell_type": "markdown",
   "metadata": {
    "nbgrader": {
     "grade": false,
     "locked": true,
     "solution": false
    },
    "editable": false,
    "deletable": false
   },
   "source": [
    "## 1. Load and clean the IMDb movie dataset\n",
    "In this section you will perform the following:\n",
    "1. Load the IMDB movie dataset\n",
    "+ Remove duplicates\n",
    "+ Remove missing string values\n",
    "+ Repair numeric missing values"
   ]
  },
  {
   "cell_type": "markdown",
   "metadata": {
    "nbgrader": {
     "grade": false,
     "locked": true,
     "solution": false
    },
    "editable": false,
    "deletable": false
   },
   "source": [
    "### 1.a. Load the IMDB movie dataset"
   ]
  },
  {
   "cell_type": "markdown",
   "metadata": {
    "nbgrader": {
     "grade": false,
     "locked": true,
     "solution": false
    },
    "editable": false,
    "deletable": false
   },
   "source": [
    "### 1.a. Instructions\n",
    "<u>method name</u>: <b>load_csv</b>\n",
    "<pre>The following is expected:\n",
    "--- Complete the 'load_csv' function to load the 'IMDB' dataset \n",
    "    from the csv, located in the 'file_name' parameter into a pandas dataframe.\n",
    "    You should return a dataframe containing only the columns appearing the \n",
    "    'column_names' input parameter. \n",
    "</pre>"
   ]
  },
  {
   "cell_type": "code",
   "metadata": {
    "collapsed": true,
    "ExecuteTime": {
     "end_time": "2024-12-22T14:46:08.426137Z",
     "start_time": "2024-12-22T14:46:08.422992Z"
    }
   },
   "source": [
    "# 1.a.\n",
    "# ------------>>>>>>>> RUN THIS CODE CELL <<<<<<<<------------\n",
    "# --------  (run after implementation)\n",
    "# === CODE TYPE: ANSWER \n",
    "\n",
    "def load_csv(file_name, column_names):\n",
    "    return pd.read_csv(file_name, usecols=column_names)\n"
   ],
   "outputs": [],
   "execution_count": 2
  },
  {
   "cell_type": "code",
   "metadata": {
    "collapsed": true,
    "ExecuteTime": {
     "end_time": "2024-12-22T14:46:09.247912Z",
     "start_time": "2024-12-22T14:46:09.208632Z"
    }
   },
   "source": [
    "# 1.a.\n",
    "# ------------>>>>>>>> RUN THIS CODE CELL <<<<<<<<------------\n",
    "# --------  (run after implementation)\n",
    "# === CODE TYPE: SELF TESTING\n",
    "# Use the following code to test your implementation:\n",
    "file_name = '.' + os.sep + 'data' + os.sep + 'imdb_movies_v1.5b.csv'\n",
    "col_names = ['movie_title', 'title_year', 'director_name', 'actor_1_name', \n",
    "             'duration', 'facenumber_in_poster', 'budget', 'gross', 'imdb_score', \n",
    "             'num_voted_users', 'num_user_for_reviews', 'num_critic_for_reviews', 'director_facebook_likes', \n",
    "             'movie_facebook_likes', 'actor_1_facebook_likes', 'cast_total_facebook_likes']\n",
    "df_imdb_movies = load_csv(file_name,col_names)\n",
    "# --- add additional code to check your code if needed:\n",
    "###\n",
    "### YOUR CODE HERE\n",
    "###\n"
   ],
   "outputs": [],
   "execution_count": 3
  },
  {
   "cell_type": "code",
   "metadata": {
    "collapsed": true,
    "ExecuteTime": {
     "end_time": "2024-12-22T14:46:10.208011Z",
     "start_time": "2024-12-22T14:46:10.196098Z"
    }
   },
   "source": [
    "# 1.a.\n",
    "# ------------>>>>>>>> RUN THIS CODE CELL <<<<<<<<------------\n",
    "# --------  (run after implementation, if used)\n",
    "# === CODE TYPE: SELF TESTING\n",
    "# ---- Add your additional tests here if needed:\n",
    "df_imdb_movies.head()\n"
   ],
   "outputs": [
    {
     "data": {
      "text/plain": [
       "             movie_title  title_year   director_name   actor_1_name  duration  \\\n",
       "0           Total Recall        1990  Paul Verhoeven      Ronny Cox       113   \n",
       "1       The 13th Warrior        1999  John McTiernan    Tony Curran       102   \n",
       "2  Gone in Sixty Seconds        2000    Dominic Sena   Nicolas Cage       127   \n",
       "3      The Expendables 2        2012      Simon West  Jason Statham       103   \n",
       "4            End of Days        1999     Peter Hyams    CCH Pounder       121   \n",
       "\n",
       "   facenumber_in_poster    budget      gross  imdb_score  num_voted_users  \\\n",
       "0                   0.0  65000000  119412921         7.5           240241   \n",
       "1                   1.0  85000000   32694788         6.6           101411   \n",
       "2                   1.0  90000000  101643008         6.5           218341   \n",
       "3                   3.0  92000000   85017401         6.7           246803   \n",
       "4                   0.0  83000000   66862068         5.7            89509   \n",
       "\n",
       "   num_user_for_reviews  num_critic_for_reviews  director_facebook_likes  \\\n",
       "0                   391                   196.0                      719   \n",
       "1                   546                    85.0                      323   \n",
       "2                   498                   175.0                       57   \n",
       "3                   474                   383.0                      165   \n",
       "4                   524                   174.0                        0   \n",
       "\n",
       "   movie_facebook_likes  actor_1_facebook_likes  cast_total_facebook_likes  \n",
       "0                     0                     605                       1441  \n",
       "1                     0                     845                       1815  \n",
       "2                     0                   12000                      29069  \n",
       "3                108000                   26000                      57881  \n",
       "4                  2000                    1000                       3903  "
      ],
      "text/html": [
       "<div>\n",
       "<style scoped>\n",
       "    .dataframe tbody tr th:only-of-type {\n",
       "        vertical-align: middle;\n",
       "    }\n",
       "\n",
       "    .dataframe tbody tr th {\n",
       "        vertical-align: top;\n",
       "    }\n",
       "\n",
       "    .dataframe thead th {\n",
       "        text-align: right;\n",
       "    }\n",
       "</style>\n",
       "<table border=\"1\" class=\"dataframe\">\n",
       "  <thead>\n",
       "    <tr style=\"text-align: right;\">\n",
       "      <th></th>\n",
       "      <th>movie_title</th>\n",
       "      <th>title_year</th>\n",
       "      <th>director_name</th>\n",
       "      <th>actor_1_name</th>\n",
       "      <th>duration</th>\n",
       "      <th>facenumber_in_poster</th>\n",
       "      <th>budget</th>\n",
       "      <th>gross</th>\n",
       "      <th>imdb_score</th>\n",
       "      <th>num_voted_users</th>\n",
       "      <th>num_user_for_reviews</th>\n",
       "      <th>num_critic_for_reviews</th>\n",
       "      <th>director_facebook_likes</th>\n",
       "      <th>movie_facebook_likes</th>\n",
       "      <th>actor_1_facebook_likes</th>\n",
       "      <th>cast_total_facebook_likes</th>\n",
       "    </tr>\n",
       "  </thead>\n",
       "  <tbody>\n",
       "    <tr>\n",
       "      <th>0</th>\n",
       "      <td>Total Recall</td>\n",
       "      <td>1990</td>\n",
       "      <td>Paul Verhoeven</td>\n",
       "      <td>Ronny Cox</td>\n",
       "      <td>113</td>\n",
       "      <td>0.0</td>\n",
       "      <td>65000000</td>\n",
       "      <td>119412921</td>\n",
       "      <td>7.5</td>\n",
       "      <td>240241</td>\n",
       "      <td>391</td>\n",
       "      <td>196.0</td>\n",
       "      <td>719</td>\n",
       "      <td>0</td>\n",
       "      <td>605</td>\n",
       "      <td>1441</td>\n",
       "    </tr>\n",
       "    <tr>\n",
       "      <th>1</th>\n",
       "      <td>The 13th Warrior</td>\n",
       "      <td>1999</td>\n",
       "      <td>John McTiernan</td>\n",
       "      <td>Tony Curran</td>\n",
       "      <td>102</td>\n",
       "      <td>1.0</td>\n",
       "      <td>85000000</td>\n",
       "      <td>32694788</td>\n",
       "      <td>6.6</td>\n",
       "      <td>101411</td>\n",
       "      <td>546</td>\n",
       "      <td>85.0</td>\n",
       "      <td>323</td>\n",
       "      <td>0</td>\n",
       "      <td>845</td>\n",
       "      <td>1815</td>\n",
       "    </tr>\n",
       "    <tr>\n",
       "      <th>2</th>\n",
       "      <td>Gone in Sixty Seconds</td>\n",
       "      <td>2000</td>\n",
       "      <td>Dominic Sena</td>\n",
       "      <td>Nicolas Cage</td>\n",
       "      <td>127</td>\n",
       "      <td>1.0</td>\n",
       "      <td>90000000</td>\n",
       "      <td>101643008</td>\n",
       "      <td>6.5</td>\n",
       "      <td>218341</td>\n",
       "      <td>498</td>\n",
       "      <td>175.0</td>\n",
       "      <td>57</td>\n",
       "      <td>0</td>\n",
       "      <td>12000</td>\n",
       "      <td>29069</td>\n",
       "    </tr>\n",
       "    <tr>\n",
       "      <th>3</th>\n",
       "      <td>The Expendables 2</td>\n",
       "      <td>2012</td>\n",
       "      <td>Simon West</td>\n",
       "      <td>Jason Statham</td>\n",
       "      <td>103</td>\n",
       "      <td>3.0</td>\n",
       "      <td>92000000</td>\n",
       "      <td>85017401</td>\n",
       "      <td>6.7</td>\n",
       "      <td>246803</td>\n",
       "      <td>474</td>\n",
       "      <td>383.0</td>\n",
       "      <td>165</td>\n",
       "      <td>108000</td>\n",
       "      <td>26000</td>\n",
       "      <td>57881</td>\n",
       "    </tr>\n",
       "    <tr>\n",
       "      <th>4</th>\n",
       "      <td>End of Days</td>\n",
       "      <td>1999</td>\n",
       "      <td>Peter Hyams</td>\n",
       "      <td>CCH Pounder</td>\n",
       "      <td>121</td>\n",
       "      <td>0.0</td>\n",
       "      <td>83000000</td>\n",
       "      <td>66862068</td>\n",
       "      <td>5.7</td>\n",
       "      <td>89509</td>\n",
       "      <td>524</td>\n",
       "      <td>174.0</td>\n",
       "      <td>0</td>\n",
       "      <td>2000</td>\n",
       "      <td>1000</td>\n",
       "      <td>3903</td>\n",
       "    </tr>\n",
       "  </tbody>\n",
       "</table>\n",
       "</div>"
      ]
     },
     "execution_count": 4,
     "metadata": {},
     "output_type": "execute_result"
    }
   ],
   "execution_count": 4
  },
  {
   "cell_type": "code",
   "metadata": {
    "nbgrader": {
     "grade": true,
     "grade_id": "test1a-1_load_csv",
     "locked": true,
     "points": "0.1",
     "solution": false
    },
    "editable": false,
    "deletable": false,
    "ExecuteTime": {
     "end_time": "2024-12-22T14:46:13.234833Z",
     "start_time": "2024-12-22T14:46:13.219605Z"
    }
   },
   "source": [
    "# 1.a.\n",
    "# ------------>>>>>>>> RUN THIS CODE CELL <<<<<<<<------------\n",
    "# --------  (run only)\n",
    "# === CODE TYPE: GRADED TEST \n",
    "\n",
    "print (\"Part 1a. - Test 1 (name: test1a-1_load_csv, points: 0.1) - Sanity\")\n",
    "print (\"\\t--->Testing the implementation of 'load_csv' ...\")\n",
    "\n",
    "file_name = '.' + os.sep + 'data' + os.sep + 'imdb_movies_v1.5b.csv'\n",
    "col_names = ['movie_title', 'title_year', 'director_name', 'actor_1_name', \n",
    "             'duration', 'facenumber_in_poster', 'budget', 'gross', 'imdb_score', \n",
    "             'num_voted_users', 'num_user_for_reviews', 'num_critic_for_reviews', 'director_facebook_likes', \n",
    "             'movie_facebook_likes', 'actor_1_facebook_likes', 'cast_total_facebook_likes']\n",
    "try:\n",
    "    df_imdb_movies = load_csv(file_name,col_names)\n",
    "except Exception as e:\n",
    "    print ('You probably have a syntax error, we got the following exception:')\n",
    "    print ('\\tError Message:',str(e))\n",
    "    print ('Try fixing your implementation')\n",
    "    raise \n",
    "\n",
    "print (\"Good Job!\\nYou've passed the 1st test for the 'load_csv' function implementation :-)\")"
   ],
   "outputs": [
    {
     "name": "stdout",
     "output_type": "stream",
     "text": [
      "Part 1a. - Test 1 (name: test1a-1_load_csv, points: 0.1) - Sanity\n",
      "\t--->Testing the implementation of 'load_csv' ...\n",
      "Good Job!\n",
      "You've passed the 1st test for the 'load_csv' function implementation :-)\n"
     ]
    }
   ],
   "execution_count": 5
  },
  {
   "cell_type": "code",
   "metadata": {
    "nbgrader": {
     "grade": true,
     "grade_id": "test1a-2_load_csv",
     "locked": true,
     "points": "0.1",
     "solution": false
    },
    "editable": false,
    "deletable": false,
    "ExecuteTime": {
     "end_time": "2024-12-22T14:46:14.139134Z",
     "start_time": "2024-12-22T14:46:14.122654Z"
    }
   },
   "source": [
    "# 1.a.\n",
    "# ------------>>>>>>>> RUN THIS CODE CELL <<<<<<<<------------\n",
    "# --------  (run only)\n",
    "# === CODE TYPE: GRADED TEST \n",
    "\n",
    "print (\"Part 1a. - Test 2 (name: test1a-2_load_csv, points: 0.1)\")\n",
    "print (\"\\t--->Testing the implementation of 'load_csv' ...\")\n",
    "\n",
    "file_name = '.' + os.sep + 'data' + os.sep + 'imdb_movies_v1.5b.csv'\n",
    "col_names = ['movie_title', 'title_year', 'director_name', 'actor_1_name', \n",
    "             'duration', 'facenumber_in_poster', 'budget', 'gross', 'imdb_score', \n",
    "             'num_voted_users', 'num_user_for_reviews', 'num_critic_for_reviews', 'director_facebook_likes', \n",
    "             'movie_facebook_likes', 'actor_1_facebook_likes', 'cast_total_facebook_likes']\n",
    "try:\n",
    "    df_imdb_movies = load_csv(file_name,col_names)\n",
    "except Exception as e:\n",
    "    print ('You probably have a syntax error, we got the following exception:')\n",
    "    print ('\\tError Message:',str(e))\n",
    "    print ('Try fixing your implementation')\n",
    "    raise \n",
    "    \n",
    "assert df_imdb_movies is not None, \"You did not return an object from the function, try again\"\n",
    "assert df_imdb_movies.shape == (2808, 16), 'Wrong dataframe shape, try again'\n",
    "\n",
    "print (\"Good Job!\\nYou've passed the 2nd test for the 'load_csv' function implementation :-)\")"
   ],
   "outputs": [
    {
     "name": "stdout",
     "output_type": "stream",
     "text": [
      "Part 1a. - Test 2 (name: test1a-2_load_csv, points: 0.1)\n",
      "\t--->Testing the implementation of 'load_csv' ...\n",
      "Good Job!\n",
      "You've passed the 2nd test for the 'load_csv' function implementation :-)\n"
     ]
    }
   ],
   "execution_count": 6
  },
  {
   "cell_type": "markdown",
   "metadata": {
    "nbgrader": {
     "grade": false,
     "locked": true,
     "solution": false
    },
    "editable": false,
    "deletable": false
   },
   "source": [
    "### 1.b. Remove duplicates"
   ]
  },
  {
   "cell_type": "markdown",
   "metadata": {
    "nbgrader": {
     "grade": false,
     "locked": true,
     "solution": false
    },
    "editable": false,
    "deletable": false
   },
   "source": [
    "### 1.b. Instructions\n",
    "<u>method name</u>: <b>remove_duplicates</b>\n",
    "<pre>The following is expected:\n",
    "--- Complete the 'remove_duplicates' function to return a copy of a the given 'df' dataframe,\n",
    "    after removing the duplicates, based on the 'dup_col_name' parameter.\n",
    "    The duplication will be considered as such if based on a duplicate value in the 'dup_col_name' column.\n",
    "\n",
    "    You need to keep the first occurrence of a duplication.  \n",
    "</pre>"
   ]
  },
  {
   "cell_type": "code",
   "metadata": {
    "collapsed": true,
    "ExecuteTime": {
     "end_time": "2024-12-22T14:47:16.382025Z",
     "start_time": "2024-12-22T14:47:16.378758Z"
    }
   },
   "source": [
    "# 1.b.\n",
    "# ------------>>>>>>>> RUN THIS CODE CELL <<<<<<<<------------\n",
    "# --------  (run after implementation)\n",
    "# === CODE TYPE: ANSWER \n",
    "\n",
    "def remove_duplicates(df, dup_col_name):\n",
    "    return df.drop_duplicates(subset=dup_col_name)\n"
   ],
   "outputs": [],
   "execution_count": 7
  },
  {
   "cell_type": "code",
   "metadata": {
    "collapsed": true,
    "ExecuteTime": {
     "end_time": "2024-12-22T14:47:17.025467Z",
     "start_time": "2024-12-22T14:47:17.001442Z"
    }
   },
   "source": [
    "# 1.b.\n",
    "# ------------>>>>>>>> RUN THIS CODE CELL <<<<<<<<------------\n",
    "# --------  (run after implementation)\n",
    "# === CODE TYPE: SELF TESTING\n",
    "# Use the following code to test your implementation:\n",
    "file_name = '.' + os.sep + 'data' + os.sep + 'imdb_movies_v1.5b.csv'\n",
    "col_names = ['movie_title', 'title_year', 'director_name', 'actor_1_name', \n",
    "             'duration', 'facenumber_in_poster', 'budget', 'gross', 'imdb_score', \n",
    "             'num_voted_users', 'num_user_for_reviews', 'num_critic_for_reviews', 'director_facebook_likes', \n",
    "             'movie_facebook_likes', 'actor_1_facebook_likes', 'cast_total_facebook_likes']\n",
    "dup_col = 'movie_title'\n",
    "df_imdb_movies = load_csv(file_name,col_names)\n",
    "df_cln_imdb = remove_duplicates(df_imdb_movies, dup_col)\n",
    "# --- add additional code to check your code if needed:\n",
    "###\n",
    "### YOUR CODE HERE\n",
    "###\n"
   ],
   "outputs": [],
   "execution_count": 8
  },
  {
   "cell_type": "code",
   "metadata": {
    "collapsed": true,
    "ExecuteTime": {
     "end_time": "2024-12-22T14:48:01.614721Z",
     "start_time": "2024-12-22T14:48:01.611848Z"
    }
   },
   "source": [
    "# 1.b.\n",
    "# ------------>>>>>>>> RUN THIS CODE CELL <<<<<<<<------------\n",
    "# --------  (run after implementation, if used)\n",
    "# === CODE TYPE: SELF TESTING\n",
    "# ---- Add your additional tests here if needed:\n",
    "print(f\"df shape: {df_imdb_movies.shape} -> {df_cln_imdb.shape}\")\n"
   ],
   "outputs": [
    {
     "name": "stdout",
     "output_type": "stream",
     "text": [
      "df shape: (2808, 16) -> (2750, 16)\n"
     ]
    }
   ],
   "execution_count": 10
  },
  {
   "cell_type": "code",
   "metadata": {
    "nbgrader": {
     "grade": true,
     "grade_id": "test1b-1_remove_duplicates",
     "locked": true,
     "points": "0.1",
     "solution": false
    },
    "editable": false,
    "deletable": false,
    "ExecuteTime": {
     "end_time": "2024-12-22T14:48:03.278011Z",
     "start_time": "2024-12-22T14:48:03.262062Z"
    }
   },
   "source": [
    "# 1.b.\n",
    "# ------------>>>>>>>> RUN THIS CODE CELL <<<<<<<<------------\n",
    "# --------  (run only)\n",
    "# === CODE TYPE: GRADED TEST \n",
    "\n",
    "print (\"Part 1b. - Test 1 (name: test1b-1_remove_duplicates, points: 0.1) - Sanity\")\n",
    "print (\"\\t--->Testing the implementation of 'remove_duplicates' ...\")\n",
    "\n",
    "file_name = '.' + os.sep + 'data' + os.sep + 'imdb_movies_v1.5b.csv'\n",
    "col_names = ['movie_title', 'title_year', 'director_name', 'actor_1_name', \n",
    "             'duration', 'facenumber_in_poster', 'budget', 'gross', 'imdb_score', \n",
    "             'num_voted_users', 'num_user_for_reviews', 'num_critic_for_reviews', 'director_facebook_likes', \n",
    "             'movie_facebook_likes', 'actor_1_facebook_likes', 'cast_total_facebook_likes']\n",
    "dup_col = 'movie_title'\n",
    "\n",
    "try:\n",
    "    df_imdb_movies = load_csv(file_name,col_names)\n",
    "    df_cln_imdb = remove_duplicates(df_imdb_movies, dup_col)\n",
    "except Exception as e:\n",
    "    print ('You probably have a syntax error, we got the following exception:')\n",
    "    print ('\\tError Message:',str(e))\n",
    "    print ('Try fixing your implementation')\n",
    "    raise \n",
    "\n",
    "print (\"Good Job!\\nYou've passed the 1st test for the 'remove_duplicates' function implementation :-)\")"
   ],
   "outputs": [
    {
     "name": "stdout",
     "output_type": "stream",
     "text": [
      "Part 1b. - Test 1 (name: test1b-1_remove_duplicates, points: 0.1) - Sanity\n",
      "\t--->Testing the implementation of 'remove_duplicates' ...\n",
      "Good Job!\n",
      "You've passed the 1st test for the 'remove_duplicates' function implementation :-)\n"
     ]
    }
   ],
   "execution_count": 11
  },
  {
   "cell_type": "code",
   "metadata": {
    "nbgrader": {
     "grade": true,
     "grade_id": "test1b-2_remove_duplicates",
     "locked": true,
     "points": "0.1",
     "solution": false
    },
    "editable": false,
    "deletable": false,
    "ExecuteTime": {
     "end_time": "2024-12-22T14:48:04.331345Z",
     "start_time": "2024-12-22T14:48:04.314678Z"
    }
   },
   "source": [
    "# 1.b.\n",
    "# ------------>>>>>>>> RUN THIS CODE CELL <<<<<<<<------------\n",
    "# --------  (run only)\n",
    "# === CODE TYPE: GRADED TEST \n",
    "\n",
    "print (\"Part 1b. - Test 2 (name: test1b-2_remove_duplicates, points: 0.1)\")\n",
    "print (\"\\t--->Testing the implementation of 'remove_duplicates' ...\")\n",
    "\n",
    "file_name = '.' + os.sep + 'data' + os.sep + 'imdb_movies_v1.5b.csv'\n",
    "col_names = ['movie_title', 'title_year', 'director_name', 'actor_1_name', \n",
    "             'duration', 'facenumber_in_poster', 'budget', 'gross', 'imdb_score', \n",
    "             'num_voted_users', 'num_user_for_reviews', 'num_critic_for_reviews', 'director_facebook_likes', \n",
    "             'movie_facebook_likes', 'actor_1_facebook_likes', 'cast_total_facebook_likes']\n",
    "dup_col = 'movie_title'\n",
    "\n",
    "try:\n",
    "    df_imdb_movies = load_csv(file_name,col_names)\n",
    "    df_cln_imdb = remove_duplicates(df_imdb_movies, dup_col)\n",
    "except Exception as e:\n",
    "    print ('You probably have a syntax error, we got the following exception:')\n",
    "    print ('\\tError Message:',str(e))\n",
    "    print ('Try fixing your implementation')\n",
    "    raise \n",
    "    \n",
    "assert df_cln_imdb is not None, \"You did not return an object from the 'remove_duplicates' function, try again\"\n",
    "assert df_cln_imdb.shape == (2750, 16), 'Wrong shape for dataframe, after removing duplicates, try again'\n",
    "\n",
    "print (\"Good Job!\\nYou've passed the 2nd test for the 'remove_duplicates' function implementation :-)\")"
   ],
   "outputs": [
    {
     "name": "stdout",
     "output_type": "stream",
     "text": [
      "Part 1b. - Test 2 (name: test1b-2_remove_duplicates, points: 0.1)\n",
      "\t--->Testing the implementation of 'remove_duplicates' ...\n",
      "Good Job!\n",
      "You've passed the 2nd test for the 'remove_duplicates' function implementation :-)\n"
     ]
    }
   ],
   "execution_count": 12
  },
  {
   "cell_type": "markdown",
   "metadata": {
    "nbgrader": {
     "grade": false,
     "locked": true,
     "solution": false
    },
    "editable": false,
    "deletable": false
   },
   "source": [
    "### 1.c. Remove missing string values"
   ]
  },
  {
   "cell_type": "markdown",
   "metadata": {
    "nbgrader": {
     "grade": false,
     "locked": true,
     "solution": false
    },
    "editable": false,
    "deletable": false
   },
   "source": [
    "### 1.c. Instructions\n",
    "<u>method name</u>: <b>remove_missing_str_val_rows</b>\n",
    "<pre>The following is expected:\n",
    "--- Complete the 'remove_missing_str_val_rows' function to return a copy of a the given 'df' dataframe,\n",
    "    after removing rows with missing string values.\n",
    "\n",
    "    Remove all the rows with a missing value in one or more 'string_cols' columns. \n",
    "</pre>"
   ]
  },
  {
   "cell_type": "code",
   "metadata": {
    "collapsed": true,
    "ExecuteTime": {
     "end_time": "2024-12-22T14:48:16.633408Z",
     "start_time": "2024-12-22T14:48:16.630339Z"
    }
   },
   "source": [
    "# 1.c.\n",
    "# ------------>>>>>>>> RUN THIS CODE CELL <<<<<<<<------------\n",
    "# --------  (run after implementation)\n",
    "# === CODE TYPE: ANSWER \n",
    "\n",
    "def remove_missing_str_val_rows(df, string_cols):\n",
    "    return df.dropna(subset=string_cols)\n"
   ],
   "outputs": [],
   "execution_count": 13
  },
  {
   "cell_type": "code",
   "metadata": {
    "collapsed": true,
    "ExecuteTime": {
     "end_time": "2024-12-22T14:48:17.778903Z",
     "start_time": "2024-12-22T14:48:17.758329Z"
    }
   },
   "source": [
    "# 1.c.\n",
    "# ------------>>>>>>>> RUN THIS CODE CELL <<<<<<<<------------\n",
    "# --------  (run after implementation)\n",
    "# === CODE TYPE: SELF TESTING\n",
    "# Use the following code to test your implementation:\n",
    "file_name = '.' + os.sep + 'data' + os.sep + 'imdb_movies_v1.5b.csv'\n",
    "col_names = ['movie_title', 'title_year', 'director_name', 'actor_1_name', \n",
    "             'duration', 'facenumber_in_poster', 'budget', 'gross', 'imdb_score', \n",
    "             'num_voted_users', 'num_user_for_reviews', 'num_critic_for_reviews', 'director_facebook_likes', \n",
    "             'movie_facebook_likes', 'actor_1_facebook_likes', 'cast_total_facebook_likes']\n",
    "string_cols = ['movie_title', 'director_name', 'actor_1_name'] \n",
    "df_imdb_movies = load_csv(file_name,col_names)\n",
    "df_cln_imdb = remove_missing_str_val_rows(df_imdb_movies, string_cols)\n",
    "# --- add additional code to check your code if needed:\n",
    "###\n",
    "### YOUR CODE HERE\n",
    "###\n"
   ],
   "outputs": [],
   "execution_count": 14
  },
  {
   "cell_type": "code",
   "metadata": {
    "collapsed": true,
    "ExecuteTime": {
     "end_time": "2024-12-22T14:51:10.583296Z",
     "start_time": "2024-12-22T14:51:10.579967Z"
    }
   },
   "source": [
    "# 1.c.\n",
    "# ------------>>>>>>>> RUN THIS CODE CELL <<<<<<<<------------\n",
    "# --------  (run after implementation, if used)\n",
    "# === CODE TYPE: SELF TESTING\n",
    "# ---- Add your additional tests here if needed:\n",
    "print(f\"nan rows number: {df_imdb_movies.shape[0] - df_cln_imdb.shape[0]}\")\n",
    "print(f\"{df_imdb_movies.shape} -> {df_cln_imdb.shape}\")\n"
   ],
   "outputs": [
    {
     "name": "stdout",
     "output_type": "stream",
     "text": [
      "nan rows number: 0\n",
      "(2808, 16) -> (2808, 16)\n"
     ]
    }
   ],
   "execution_count": 15
  },
  {
   "cell_type": "code",
   "metadata": {
    "nbgrader": {
     "grade": true,
     "grade_id": "test1c-1_remove_missing_str_val_rows",
     "locked": true,
     "points": "0.1",
     "solution": false
    },
    "editable": false,
    "deletable": false,
    "ExecuteTime": {
     "end_time": "2024-12-22T14:51:23.804869Z",
     "start_time": "2024-12-22T14:51:23.789415Z"
    }
   },
   "source": [
    "# 1.c.\n",
    "# ------------>>>>>>>> RUN THIS CODE CELL <<<<<<<<------------\n",
    "# --------  (run only)\n",
    "# === CODE TYPE: GRADED TEST \n",
    "\n",
    "print (\"Part 1c. - Test 1 (name: test1c-1_remove_missing_str_val_rows, points: 0.1) - Sanity\")\n",
    "print (\"\\t--->Testing the implementation of 'remove_missing_str_val_rows' ...\")\n",
    "\n",
    "file_name = '.' + os.sep + 'data' + os.sep + 'imdb_movies_v1.5b.csv'\n",
    "col_names = ['movie_title', 'title_year', 'director_name', 'actor_1_name', \n",
    "             'duration', 'facenumber_in_poster', 'budget', 'gross', 'imdb_score', \n",
    "             'num_voted_users', 'num_user_for_reviews', 'num_critic_for_reviews', 'director_facebook_likes', \n",
    "             'movie_facebook_likes', 'actor_1_facebook_likes', 'cast_total_facebook_likes']\n",
    "string_cols = ['movie_title', 'director_name', 'actor_1_name'] \n",
    "\n",
    "try:\n",
    "    df_imdb_movies = load_csv(file_name,col_names)\n",
    "    df_cln_imdb = remove_missing_str_val_rows(df_imdb_movies, string_cols)\n",
    "except Exception as e:\n",
    "    print ('You probably have a syntax error, we got the following exception:')\n",
    "    print ('\\tError Message:',str(e))\n",
    "    print ('Try fixing your implementation')\n",
    "    raise \n",
    "\n",
    "print (\"Good Job!\\nYou've passed the 1st test for the 'remove_missing_str_val_rows' function implementation :-)\")"
   ],
   "outputs": [
    {
     "name": "stdout",
     "output_type": "stream",
     "text": [
      "Part 1c. - Test 1 (name: test1c-1_remove_missing_str_val_rows, points: 0.1) - Sanity\n",
      "\t--->Testing the implementation of 'remove_missing_str_val_rows' ...\n",
      "Good Job!\n",
      "You've passed the 1st test for the 'remove_missing_str_val_rows' function implementation :-)\n"
     ]
    }
   ],
   "execution_count": 16
  },
  {
   "cell_type": "code",
   "metadata": {
    "nbgrader": {
     "grade": true,
     "grade_id": "test1c-2_remove_missing_str_val_rows",
     "locked": true,
     "points": "0.1",
     "solution": false
    },
    "editable": false,
    "deletable": false,
    "ExecuteTime": {
     "end_time": "2024-12-22T14:51:24.625503Z",
     "start_time": "2024-12-22T14:51:24.608900Z"
    }
   },
   "source": [
    "# 1.c.\n",
    "# ------------>>>>>>>> RUN THIS CODE CELL <<<<<<<<------------\n",
    "# --------  (run only)\n",
    "# === CODE TYPE: GRADED TEST \n",
    "\n",
    "print (\"Part 1c. - Test 2 (name: test1c-2_remove_missing_str_val_rows, points: 0.1)\")\n",
    "print (\"\\t--->Testing the implementation of 'remove_missing_str_val_rows' ...\")\n",
    "\n",
    "file_name = '.' + os.sep + 'data' + os.sep + 'imdb_movies_v1.5b.csv'\n",
    "col_names = ['movie_title', 'title_year', 'director_name', 'actor_1_name', \n",
    "             'duration', 'facenumber_in_poster', 'budget', 'gross', 'imdb_score', \n",
    "             'num_voted_users', 'num_user_for_reviews', 'num_critic_for_reviews', 'director_facebook_likes', \n",
    "             'movie_facebook_likes', 'actor_1_facebook_likes', 'cast_total_facebook_likes']\n",
    "string_cols = ['movie_title', 'director_name', 'actor_1_name'] \n",
    "\n",
    "try:\n",
    "    df_imdb_movies = load_csv(file_name,col_names)\n",
    "    df_cln_imdb = remove_missing_str_val_rows(df_imdb_movies, string_cols)\n",
    "except Exception as e:\n",
    "    print ('You probably have a syntax error, we got the following exception:')\n",
    "    print ('\\tError Message:',str(e))\n",
    "    print ('Try fixing your implementation')\n",
    "    raise \n",
    "\n",
    "assert df_cln_imdb is not None, \"You did not return an object from the 'remove_missing_str_val_rows' function, try again\"\n",
    "assert df_cln_imdb.shape == (2808, 16), 'Wrong dataframe shape, try again'\n",
    "\n",
    "print (\"Good Job!\\nYou've passed the 2nd test for the 'remove_missing_str_val_rows' function implementation :-)\")"
   ],
   "outputs": [
    {
     "name": "stdout",
     "output_type": "stream",
     "text": [
      "Part 1c. - Test 2 (name: test1c-2_remove_missing_str_val_rows, points: 0.1)\n",
      "\t--->Testing the implementation of 'remove_missing_str_val_rows' ...\n",
      "Good Job!\n",
      "You've passed the 2nd test for the 'remove_missing_str_val_rows' function implementation :-)\n"
     ]
    }
   ],
   "execution_count": 17
  },
  {
   "cell_type": "markdown",
   "metadata": {
    "nbgrader": {
     "grade": false,
     "locked": true,
     "solution": false
    },
    "editable": false,
    "deletable": false
   },
   "source": [
    "### 1.d. Repair numeric missing values\\"
   ]
  },
  {
   "cell_type": "markdown",
   "metadata": {
    "nbgrader": {
     "grade": false,
     "locked": true,
     "solution": false
    },
    "editable": false,
    "deletable": false
   },
   "source": [
    "### 1.d. Instructions\n",
    "<u>method name</u>: <b>repair_numeric_missing_vals</b>\n",
    "<pre>The following is expected:\n",
    "--- Complete the 'repair_numeric_missing_vals' function to return a copy of a the given 'df' dataframe,\n",
    "    after repairing numeric missing values.\n",
    "\n",
    "    For each column in 'numeric_cols', replace all numeric values, with the median value of that column.  \n",
    "</pre>"
   ]
  },
  {
   "cell_type": "code",
   "metadata": {
    "collapsed": true,
    "ExecuteTime": {
     "end_time": "2024-12-22T14:51:39.259413Z",
     "start_time": "2024-12-22T14:51:39.256870Z"
    }
   },
   "source": [
    "# 1.d.\n",
    "# ------------>>>>>>>> RUN THIS CODE CELL <<<<<<<<------------\n",
    "# --------  (run after implementation)\n",
    "# === CODE TYPE: ANSWER \n",
    "\n",
    "def repair_numeric_missing_vals(df, numeric_cols):\n",
    "    return df.fillna(df[numeric_cols].median())\n"
   ],
   "outputs": [],
   "execution_count": 18
  },
  {
   "cell_type": "code",
   "metadata": {
    "collapsed": true,
    "ExecuteTime": {
     "end_time": "2024-12-22T14:51:40.284804Z",
     "start_time": "2024-12-22T14:51:40.260670Z"
    }
   },
   "source": [
    "# 1.d.\n",
    "# ------------>>>>>>>> RUN THIS CODE CELL <<<<<<<<------------\n",
    "# --------  (run after implementation)\n",
    "# === CODE TYPE: SELF TESTING\n",
    "# Use the following code to test your implementation:\n",
    "file_name = '.' + os.sep + 'data' + os.sep + 'imdb_movies_v1.5b.csv'\n",
    "col_names = ['movie_title', 'title_year', 'director_name', 'actor_1_name', \n",
    "             'duration', 'facenumber_in_poster', 'budget', 'gross', 'imdb_score', \n",
    "             'num_voted_users', 'num_user_for_reviews', 'num_critic_for_reviews', 'director_facebook_likes', \n",
    "             'movie_facebook_likes', 'actor_1_facebook_likes', 'cast_total_facebook_likes']\n",
    "numeric_cols = ['title_year','duration', 'facenumber_in_poster', 'budget', 'gross', 'imdb_score', \n",
    "             'num_voted_users', 'num_user_for_reviews', 'num_critic_for_reviews', 'director_facebook_likes', \n",
    "             'movie_facebook_likes', 'actor_1_facebook_likes', 'cast_total_facebook_likes']\n",
    "df_imdb_movies = load_csv(file_name,col_names)\n",
    "df_cln_imdb = repair_numeric_missing_vals(df_imdb_movies, numeric_cols)\n",
    "# --- add additional code to check your code if needed:\n",
    "###\n",
    "### YOUR CODE HERE\n",
    "###\n"
   ],
   "outputs": [],
   "execution_count": 19
  },
  {
   "cell_type": "code",
   "metadata": {
    "collapsed": true,
    "ExecuteTime": {
     "end_time": "2024-12-22T14:55:14.936024Z",
     "start_time": "2024-12-22T14:55:14.930799Z"
    }
   },
   "source": [
    "# 1.d.\n",
    "# ------------>>>>>>>> RUN THIS CODE CELL <<<<<<<<------------\n",
    "# --------  (run after implementation, if used)\n",
    "# === CODE TYPE: SELF TESTING\n",
    "# ---- Add your additional tests here if needed:\n",
    "print(f\"{df_imdb_movies.isna().sum().sum()} -> {df_cln_imdb.isna().sum().sum()}\")\n"
   ],
   "outputs": [
    {
     "name": "stdout",
     "output_type": "stream",
     "text": [
      "5 -> 0\n"
     ]
    }
   ],
   "execution_count": 24
  },
  {
   "cell_type": "code",
   "metadata": {
    "nbgrader": {
     "grade": true,
     "grade_id": "test1d-1_repair_numeric_missing_vals",
     "locked": true,
     "points": "0.1",
     "solution": false
    },
    "editable": false,
    "deletable": false,
    "ExecuteTime": {
     "end_time": "2024-12-22T14:55:20.923901Z",
     "start_time": "2024-12-22T14:55:20.906396Z"
    }
   },
   "source": [
    "# 1.d.\n",
    "# ------------>>>>>>>> RUN THIS CODE CELL <<<<<<<<------------\n",
    "# --------  (run only)\n",
    "# === CODE TYPE: GRADED TEST \n",
    "\n",
    "print (\"Part 1d. - Test 1 (name: test1d-1_repair_numeric_missing_vals, points: 0.1) - Sanity\")\n",
    "print (\"\\t--->Testing the implementation of 'repair_numeric_missing_vals' ...\")\n",
    "\n",
    "file_name = '.' + os.sep + 'data' + os.sep + 'imdb_movies_v1.5b.csv'\n",
    "col_names = ['movie_title', 'title_year', 'director_name', 'actor_1_name', \n",
    "             'duration', 'facenumber_in_poster', 'budget', 'gross', 'imdb_score', \n",
    "             'num_voted_users', 'num_user_for_reviews', 'num_critic_for_reviews', 'director_facebook_likes', \n",
    "             'movie_facebook_likes', 'actor_1_facebook_likes', 'cast_total_facebook_likes']\n",
    "numeric_cols = ['title_year','duration', 'facenumber_in_poster', 'budget', 'gross', 'imdb_score', \n",
    "             'num_voted_users', 'num_user_for_reviews', 'num_critic_for_reviews', 'director_facebook_likes', \n",
    "             'movie_facebook_likes', 'actor_1_facebook_likes', 'cast_total_facebook_likes']\n",
    "\n",
    "try:\n",
    "    df_imdb_movies = load_csv(file_name,col_names)\n",
    "    df_cln_imdb = repair_numeric_missing_vals(df_imdb_movies, numeric_cols)\n",
    "except Exception as e:\n",
    "    print ('You probably have a syntax error, we got the following exception:')\n",
    "    print ('\\tError Message:',str(e))\n",
    "    print ('Try fixing your implementation')\n",
    "    raise \n",
    "\n",
    "print (\"Good Job!\\nYou've passed the 1st test for the 'repair_numeric_missing_vals' function implementation :-)\")"
   ],
   "outputs": [
    {
     "name": "stdout",
     "output_type": "stream",
     "text": [
      "Part 1d. - Test 1 (name: test1d-1_repair_numeric_missing_vals, points: 0.1) - Sanity\n",
      "\t--->Testing the implementation of 'repair_numeric_missing_vals' ...\n",
      "Good Job!\n",
      "You've passed the 1st test for the 'repair_numeric_missing_vals' function implementation :-)\n"
     ]
    }
   ],
   "execution_count": 25
  },
  {
   "cell_type": "code",
   "metadata": {
    "nbgrader": {
     "grade": true,
     "grade_id": "test1d-2_repair_numeric_missing_vals",
     "locked": true,
     "points": "0.1",
     "solution": false
    },
    "editable": false,
    "deletable": false,
    "ExecuteTime": {
     "end_time": "2024-12-22T14:55:21.882176Z",
     "start_time": "2024-12-22T14:55:21.864047Z"
    }
   },
   "source": [
    "# 1.d.\n",
    "# ------------>>>>>>>> RUN THIS CODE CELL <<<<<<<<------------\n",
    "# --------  (run only)\n",
    "# === CODE TYPE: GRADED TEST \n",
    "\n",
    "print (\"Part 1d. - Test 2 (name: test1d-2_repair_numeric_missing_vals, points: 0.1)\")\n",
    "print (\"\\t--->Testing the implementation of 'repair_numeric_missing_vals' ...\")\n",
    "\n",
    "file_name = '.' + os.sep + 'data' + os.sep + 'imdb_movies_v1.5b.csv'\n",
    "col_names = ['movie_title', 'title_year', 'director_name', 'actor_1_name', \n",
    "             'duration', 'facenumber_in_poster', 'budget', 'gross', 'imdb_score', \n",
    "             'num_voted_users', 'num_user_for_reviews', 'num_critic_for_reviews', 'director_facebook_likes', \n",
    "             'movie_facebook_likes', 'actor_1_facebook_likes', 'cast_total_facebook_likes']\n",
    "numeric_cols = ['title_year','duration', 'facenumber_in_poster', 'budget', 'gross', 'imdb_score', \n",
    "             'num_voted_users', 'num_user_for_reviews', 'num_critic_for_reviews', 'director_facebook_likes', \n",
    "             'movie_facebook_likes', 'actor_1_facebook_likes', 'cast_total_facebook_likes']\n",
    "\n",
    "try:\n",
    "    df_imdb_movies = load_csv(file_name,col_names)\n",
    "    df_cln_imdb = repair_numeric_missing_vals(df_imdb_movies, numeric_cols)\n",
    "except Exception as e:\n",
    "    print ('You probably have a syntax error, we got the following exception:')\n",
    "    print ('\\tError Message:',str(e))\n",
    "    print ('Try fixing your implementation')\n",
    "    raise \n",
    "\n",
    "assert df_cln_imdb is not None, \"You did not return an object from the 'repair_numeric_missing_vals' function, try again\"\n",
    "assert df_cln_imdb.shape == (2808, 16), 'Wrong dataframe shape, try again'\n",
    "\n",
    "print (\"Good Job!\\nYou've passed the 2nd test for the 'repair_numeric_missing_vals' function implementation :-)\")"
   ],
   "outputs": [
    {
     "name": "stdout",
     "output_type": "stream",
     "text": [
      "Part 1d. - Test 2 (name: test1d-2_repair_numeric_missing_vals, points: 0.1)\n",
      "\t--->Testing the implementation of 'repair_numeric_missing_vals' ...\n",
      "Good Job!\n",
      "You've passed the 2nd test for the 'repair_numeric_missing_vals' function implementation :-)\n"
     ]
    }
   ],
   "execution_count": 26
  },
  {
   "cell_type": "code",
   "metadata": {
    "nbgrader": {
     "grade": true,
     "grade_id": "test1d-3_repair_numeric_missing_vals",
     "locked": true,
     "points": "0.2",
     "solution": false
    },
    "editable": false,
    "deletable": false,
    "ExecuteTime": {
     "end_time": "2024-12-22T14:55:26.040368Z",
     "start_time": "2024-12-22T14:55:26.018424Z"
    }
   },
   "source": [
    "# 1.d.\n",
    "# ------------>>>>>>>> RUN THIS CODE CELL <<<<<<<<------------\n",
    "# --------  (run only)\n",
    "# === CODE TYPE: GRADED TEST \n",
    "\n",
    "print (\"Part 1d. - Test 3 (name: test1d-3_repair_numeric_missing_vals, points: 0.2)\")\n",
    "print (\"\\t--->Testing the implementation of 'repair_numeric_missing_vals' ...\")\n",
    "\n",
    "file_name = '.' + os.sep + 'data' + os.sep + 'imdb_movies_v1.5b.csv'\n",
    "col_names = ['movie_title', 'title_year', 'director_name', 'actor_1_name', \n",
    "             'duration', 'facenumber_in_poster', 'budget', 'gross', 'imdb_score', \n",
    "             'num_voted_users', 'num_user_for_reviews', 'num_critic_for_reviews', 'director_facebook_likes', \n",
    "             'movie_facebook_likes', 'actor_1_facebook_likes', 'cast_total_facebook_likes']\n",
    "dup_col = 'movie_title'\n",
    "string_cols = ['movie_title', 'director_name', 'actor_1_name'] \n",
    "numeric_cols = ['title_year','duration', 'facenumber_in_poster', 'budget', 'gross', 'imdb_score', \n",
    "             'num_voted_users', 'num_user_for_reviews', 'num_critic_for_reviews', 'director_facebook_likes', \n",
    "             'movie_facebook_likes', 'actor_1_facebook_likes', 'cast_total_facebook_likes']\n",
    "try:\n",
    "    df_imdb_movies = load_csv(file_name,col_names)\n",
    "    df_cln_imdb = remove_duplicates(df_imdb_movies, dup_col)\n",
    "    df_cln_imdb = remove_missing_str_val_rows(df_cln_imdb, string_cols)\n",
    "    df_cln_imdb = repair_numeric_missing_vals(df_cln_imdb, numeric_cols)\n",
    "except Exception as e:\n",
    "    print ('You probably have a syntax error, we got the following exception:')\n",
    "    print ('\\tError Message:',str(e))\n",
    "    print ('Try fixing your implementation')\n",
    "    raise\n",
    "\n",
    "assert df_cln_imdb.shape == (2750, 16), 'Wrong dataframe shape, try again'\n",
    "assert df_cln_imdb[df_cln_imdb.isnull().T.any()].shape == (0, 16), \"After basic data cleaning, you shouldn't have any missing values\"\n",
    "\n",
    "df_cln_imdb['facenumber_in_poster'] = df_cln_imdb['facenumber_in_poster'].astype('int32')\n",
    "df_cln_imdb['num_critic_for_reviews'] = df_cln_imdb['num_critic_for_reviews'].astype('int32')\n",
    "print('Head of clean dataframe:')\n",
    "print('------------------------------')\n",
    "df_cln_imdb.head()\n",
    "print('------------------------------')\n",
    "print (\"Good Job!\\nYou've passed the 3rd test for the 'repair_numeric_missing_vals' function implementation :-)\")"
   ],
   "outputs": [
    {
     "name": "stdout",
     "output_type": "stream",
     "text": [
      "Part 1d. - Test 3 (name: test1d-3_repair_numeric_missing_vals, points: 0.2)\n",
      "\t--->Testing the implementation of 'repair_numeric_missing_vals' ...\n",
      "Head of clean dataframe:\n",
      "------------------------------\n",
      "------------------------------\n",
      "Good Job!\n",
      "You've passed the 3rd test for the 'repair_numeric_missing_vals' function implementation :-)\n"
     ]
    }
   ],
   "execution_count": 27
  },
  {
   "cell_type": "markdown",
   "metadata": {
    "nbgrader": {
     "grade": false,
     "locked": true,
     "solution": false
    },
    "editable": false,
    "deletable": false
   },
   "source": [
    "## 2. Most frequent elements - One dimensional visualization \n",
    "In this section you will perform a visualization of the most frequent values, for given columns.<br />\n",
    "\n",
    "You will do this in three steps:\n",
    "1. Acquire most frequent elements\n",
    "+ Plot one dimensional plots\n",
    "+ Combine these two parts to plot one dimensional visualization of most frequent elements "
   ]
  },
  {
   "cell_type": "markdown",
   "metadata": {
    "nbgrader": {
     "grade": false,
     "locked": true,
     "solution": false
    },
    "editable": false,
    "deletable": false
   },
   "source": [
    "### 2.a. Acquire most frequent elements"
   ]
  },
  {
   "cell_type": "markdown",
   "metadata": {
    "nbgrader": {
     "grade": false,
     "locked": true,
     "solution": false
    },
    "editable": false,
    "deletable": false
   },
   "source": [
    "### 2.a. Instructions\n",
    "<u>method name</u>: <b>get_frequent_elements</b>\n",
    "<pre>The following is expected:\n",
    "--- Complete the 'get_frequent_elements' function to return a series of the 'num_top_elements'\n",
    "    most frequent elements for the given 'col_name' column out of the given 'df' dataframe.\n",
    "    Example: series of the top 5 elements for column 'my_column' in the dataframe 'my_dataframe'.\n",
    "   \n",
    "Return a series, with sorted values of the top frequent element, in an ascending order.*\n",
    "\n",
    "Note: The elements should be sorted by the element values and NOT by the frequency. \n",
    "</pre>"
   ]
  },
  {
   "cell_type": "code",
   "metadata": {
    "collapsed": true,
    "ExecuteTime": {
     "end_time": "2024-12-22T15:05:52.468543Z",
     "start_time": "2024-12-22T15:05:52.465749Z"
    }
   },
   "source": [
    "# 2.a.\n",
    "# ------------>>>>>>>> RUN THIS CODE CELL <<<<<<<<------------\n",
    "# --------  (run after implementation)\n",
    "# === CODE TYPE: ANSWER \n",
    "\n",
    "def get_frequent_elements(df, col_name, num_top_elements):\n",
    "    return df[col_name].value_counts(ascending=False)[:num_top_elements].sort_index()\n"
   ],
   "outputs": [],
   "execution_count": 58
  },
  {
   "cell_type": "code",
   "metadata": {
    "collapsed": true,
    "ExecuteTime": {
     "end_time": "2024-12-22T15:05:53.148577Z",
     "start_time": "2024-12-22T15:05:53.145747Z"
    }
   },
   "source": [
    "# 2.a.\n",
    "# ------------>>>>>>>> RUN THIS CODE CELL <<<<<<<<------------\n",
    "# --------  (run after implementation)\n",
    "# === CODE TYPE: ANSWER \n",
    "\n",
    "def get_frequenft_elements(df, col_name, num_top_elements):\n",
    "    return df[col_name].value_counts(ascending=True)[:num_top_elements].sort_index()"
   ],
   "outputs": [],
   "execution_count": 59
  },
  {
   "cell_type": "code",
   "metadata": {
    "ExecuteTime": {
     "end_time": "2024-12-22T15:05:53.312172Z",
     "start_time": "2024-12-22T15:05:53.299800Z"
    }
   },
   "source": [
    "# 2.a.\n",
    "# ------------>>>>>>>> RUN THIS CODE CELL <<<<<<<<------------\n",
    "# --------  (run after implementation)\n",
    "# === CODE TYPE: SELF TESTING\n",
    "# Use the following code to test your implementation:\n",
    "file_name = '.' + os.sep + 'data' + os.sep + 'imdb_movies_v1.5c.csv'\n",
    "col_names = ['movie_title', 'title_year', 'director_name', 'actor_1_name', \n",
    "             'duration', 'facenumber_in_poster', 'budget', 'gross', 'imdb_score', \n",
    "             'num_voted_users', 'num_user_for_reviews', 'num_critic_for_reviews', 'director_facebook_likes', \n",
    "             'movie_facebook_likes', 'actor_1_facebook_likes', 'cast_total_facebook_likes']\n",
    "df_cln_imdb = load_csv(file_name,col_names)\n",
    "sr_freq_directors = get_frequent_elements(df_cln_imdb, 'director_name', 11)\n",
    "# --- add additional code to check your code if needed:\n",
    "###\n",
    "### YOUR CODE HERE\n",
    "###\n"
   ],
   "outputs": [],
   "execution_count": 60
  },
  {
   "cell_type": "code",
   "metadata": {
    "collapsed": true,
    "ExecuteTime": {
     "end_time": "2024-12-22T15:05:54.309308Z",
     "start_time": "2024-12-22T15:05:54.305634Z"
    }
   },
   "source": [
    "# 2.a.\n",
    "# ------------>>>>>>>> RUN THIS CODE CELL <<<<<<<<------------\n",
    "# --------  (run after implementation, if used)\n",
    "# === CODE TYPE: SELF TESTING\n",
    "# ---- Add your additional tests here if needed:\n",
    "print(f\"min: {sr_freq_directors.min()}, max: {sr_freq_directors.max()}\")\n",
    "print(sr_freq_directors)\n"
   ],
   "outputs": [
    {
     "name": "stdout",
     "output_type": "stream",
     "text": [
      "min: 10, max: 17\n",
      "director_name\n",
      "Barry Levinson       10\n",
      "Clint Eastwood       16\n",
      "John Carpenter       10\n",
      "Martin Scorsese      10\n",
      "Oliver Stone         10\n",
      "Renny Harlin         13\n",
      "Richard Linklater    11\n",
      "Rob Reiner           10\n",
      "Spike Lee            15\n",
      "Steven Soderbergh    12\n",
      "Woody Allen          17\n",
      "Name: count, dtype: int64\n"
     ]
    }
   ],
   "execution_count": 61
  },
  {
   "cell_type": "code",
   "metadata": {
    "nbgrader": {
     "grade": true,
     "grade_id": "test2a-1_get_frequent_elements",
     "locked": true,
     "points": "0.1",
     "solution": false
    },
    "editable": false,
    "deletable": false,
    "ExecuteTime": {
     "end_time": "2024-12-22T15:06:26.234997Z",
     "start_time": "2024-12-22T15:06:26.223717Z"
    }
   },
   "source": [
    "# 2.a.\n",
    "# ------------>>>>>>>> RUN THIS CODE CELL <<<<<<<<------------\n",
    "# --------  (run only)\n",
    "# === CODE TYPE: GRADED TEST \n",
    "\n",
    "print (\"Part 2a. - Test 1 (name: test2a-1_get_frequent_elements, points: 0.1) - Sanity\")\n",
    "print (\"\\t--->Testing the implementation of 'get_frequent_elements' ...\")\n",
    "\n",
    "file_name = '.' + os.sep + 'data' + os.sep + 'imdb_movies_v1.5c.csv'\n",
    "col_names = ['movie_title', 'title_year', 'director_name', 'actor_1_name', \n",
    "             'duration', 'facenumber_in_poster', 'budget', 'gross', 'imdb_score', \n",
    "             'num_voted_users', 'num_user_for_reviews', 'num_critic_for_reviews', 'director_facebook_likes', \n",
    "             'movie_facebook_likes', 'actor_1_facebook_likes', 'cast_total_facebook_likes']\n",
    "try:\n",
    "    df_cln_imdb = load_csv(file_name,col_names)\n",
    "    sr_freq_directors = get_frequent_elements(df_cln_imdb, 'director_name', 11)\n",
    "except Exception as e:\n",
    "    print ('You probably have a syntax error, we got the following exception:')\n",
    "    print ('\\tError Message:',str(e))\n",
    "    print ('Try fixing your implementation')\n",
    "    raise \n",
    "\n",
    "print (\"Good Job!\\nYou've passed the 1st test for the 'get_frequent_elements' function implementation :-)\")\n"
   ],
   "outputs": [
    {
     "name": "stdout",
     "output_type": "stream",
     "text": [
      "Part 2a. - Test 1 (name: test2a-1_get_frequent_elements, points: 0.1) - Sanity\n",
      "\t--->Testing the implementation of 'get_frequent_elements' ...\n",
      "Good Job!\n",
      "You've passed the 1st test for the 'get_frequent_elements' function implementation :-)\n"
     ]
    }
   ],
   "execution_count": 62
  },
  {
   "cell_type": "code",
   "metadata": {
    "collapsed": true,
    "ExecuteTime": {
     "end_time": "2024-12-22T15:06:27.321149Z",
     "start_time": "2024-12-22T15:06:27.318839Z"
    }
   },
   "source": [],
   "outputs": [],
   "execution_count": null
  },
  {
   "cell_type": "code",
   "metadata": {
    "nbgrader": {
     "grade": true,
     "grade_id": "test2a-2_get_frequent_elements",
     "locked": true,
     "points": "0.3",
     "solution": false
    },
    "editable": false,
    "deletable": false,
    "ExecuteTime": {
     "end_time": "2024-12-22T15:06:29.576473Z",
     "start_time": "2024-12-22T15:06:29.561293Z"
    }
   },
   "source": [
    "# 2.a.\n",
    "# ------------>>>>>>>> RUN THIS CODE CELL <<<<<<<<------------\n",
    "# --------  (run only)\n",
    "# === CODE TYPE: GRADED TEST \n",
    "\n",
    "print (\"Part 2a. - Test 2 (name: test2a-2_get_frequent_elements, points: 0.3)\")\n",
    "print (\"\\t--->Testing the implementation of 'get_frequent_elements' ...\")\n",
    "\n",
    "file_name = '.' + os.sep + 'data' + os.sep + 'imdb_movies_v1.5c.csv'\n",
    "col_names = ['movie_title', 'title_year', 'director_name', 'actor_1_name', \n",
    "             'duration', 'facenumber_in_poster', 'budget', 'gross', 'imdb_score', \n",
    "             'num_voted_users', 'num_user_for_reviews', 'num_critic_for_reviews', 'director_facebook_likes', \n",
    "             'movie_facebook_likes', 'actor_1_facebook_likes', 'cast_total_facebook_likes']\n",
    "try:\n",
    "    df_cln_imdb = load_csv(file_name,col_names)\n",
    "    sr_freq_directors = get_frequent_elements(df_cln_imdb, 'director_name', 11)\n",
    "except Exception as e:\n",
    "    print ('You probably have a syntax error, we got the following exception:')\n",
    "    print ('\\tError Message:',str(e))\n",
    "    print ('Try fixing your implementation')\n",
    "    raise \n",
    "\n",
    "assert sr_freq_directors is not None, \"You did not return an object from the 'get_frequent_elements' function, try again\"\n",
    "minmax_freq = (sr_freq_directors.min(), sr_freq_directors.max())\n",
    "assert minmax_freq == (10, 17), 'Wrong minimum and maximum values for the frequent elements series'\n",
    "assert sr_freq_directors.index[2].strip() == \"John Carpenter\", \"Wrong element order, try fixing your code\"\n",
    "\n",
    "print('Head of sorted frequent elements series:')\n",
    "print('------------------------------')\n",
    "print(sr_freq_directors.head())\n",
    "print('------------------------------')\n",
    "print (\"Good Job!\\nYou've passed the 2nd test for the 'get_frequent_elements' function implementation :-)\")"
   ],
   "outputs": [
    {
     "name": "stdout",
     "output_type": "stream",
     "text": [
      "Part 2a. - Test 2 (name: test2a-2_get_frequent_elements, points: 0.3)\n",
      "\t--->Testing the implementation of 'get_frequent_elements' ...\n",
      "Head of sorted frequent elements series:\n",
      "------------------------------\n",
      "director_name\n",
      "Barry Levinson     10\n",
      "Clint Eastwood     16\n",
      "John Carpenter     10\n",
      "Martin Scorsese    10\n",
      "Oliver Stone       10\n",
      "Name: count, dtype: int64\n",
      "------------------------------\n",
      "Good Job!\n",
      "You've passed the 2nd test for the 'get_frequent_elements' function implementation :-)\n"
     ]
    }
   ],
   "execution_count": 63
  },
  {
   "cell_type": "code",
   "metadata": {
    "ExecuteTime": {
     "end_time": "2024-12-22T15:07:04.629925Z",
     "start_time": "2024-12-22T15:07:04.627231Z"
    }
   },
   "source": "print(minmax_freq)",
   "outputs": [
    {
     "name": "stdout",
     "output_type": "stream",
     "text": [
      "(np.int64(10), np.int64(17))\n"
     ]
    }
   ],
   "execution_count": 65
  },
  {
   "cell_type": "markdown",
   "metadata": {},
   "source": [
    "### 2.b. One dimensional plots \n",
    "In this section you need to plot one dimensional plots.\n",
    "You will need to plot one of the following plots:\n",
    "1. A 'bar' plot\n",
    "+ A 'pie' plot\n",
    "+ A 'line' plot\n",
    "\n",
    "IMPORTANT NOTE:\n",
    "* DO NOT explicitly display the figure (remove plt.show())"
   ]
  },
  {
   "cell_type": "markdown",
   "metadata": {},
   "source": [
    "### 2.b. Instructions\n",
    "<u>method name</u>: <b>one_dim_plot</b>\n",
    "<pre>The following is expected:\n",
    "--- Complete the 'one_dim_plot' function to plot the given 'sr' series.\n",
    "\n",
    "    Input parameters:\n",
    "    - 'sr' - a series containing values and their frequency (count). \n",
    "             * The index of the series represents the values.\n",
    "             * The values could be numbers of strings.\n",
    "    - 'plot_type' - the type of the plot, which you need to plot.\n",
    "                    * There are three possible plot types:  'bar', 'pie' or 'line'.\n",
    "    - 'axis'      - the axis which you need to plot into.  \n",
    "                    * Depending on the plot type you will use, you could set the \n",
    "                      plot destination of the plot, using ax=axis, or using\n",
    "                      axis.plot or axis.bar and so on.\n",
    "IMPORTANT NOTES:\n",
    "* DO NOT create new axes or figures. \n",
    "* DO NOT explicitly display the figure (remove plt.show()) \n",
    "</pre>"
   ]
  },
  {
   "cell_type": "code",
   "metadata": {
    "collapsed": true,
    "ExecuteTime": {
     "end_time": "2024-12-22T15:21:56.986379Z",
     "start_time": "2024-12-22T15:21:56.982813Z"
    }
   },
   "source": [
    "# 2.b.\n",
    "# ------------>>>>>>>> RUN THIS CODE CELL <<<<<<<<------------\n",
    "# --------  (run after implementation)\n",
    "# === CODE TYPE: ANSWER \n",
    "\n",
    "def one_dim_plot(sr, plot_type, axis):\n",
    "    if plot_type not in ['bar', 'pie', 'line']:\n",
    "        raise ValueError(\"plot_type should be one of the following: 'bar', 'pie' or 'line'\")\n",
    "    sr.plot(kind=plot_type, ax=axis)\n"
   ],
   "outputs": [],
   "execution_count": 66
  },
  {
   "cell_type": "code",
   "metadata": {
    "ExecuteTime": {
     "end_time": "2024-12-22T15:21:58.128035Z",
     "start_time": "2024-12-22T15:21:57.922527Z"
    }
   },
   "source": [
    "# 2.b.\n",
    "# ------------>>>>>>>> RUN THIS CODE CELL <<<<<<<<------------\n",
    "# --------  (run after implementation)\n",
    "# === CODE TYPE: SELF TESTING\n",
    "# Use the following code to test your implementation:\n",
    "file_name = '.' + os.sep + 'data' + os.sep + 'imdb_movies_v1.5c.csv'\n",
    "col_names = ['movie_title', 'title_year', 'director_name', 'actor_1_name', \n",
    "             'duration', 'facenumber_in_poster', 'budget', 'gross', 'imdb_score', \n",
    "             'num_voted_users', 'num_user_for_reviews', 'num_critic_for_reviews', 'director_facebook_likes', \n",
    "             'movie_facebook_likes', 'actor_1_facebook_likes', 'cast_total_facebook_likes']\n",
    "fig, axes = plt.subplots(1,2, figsize=(20,5))\n",
    "sr_flowers = pd.Series([10, 20, 15, 12], index=['Lily', 'Orchid', 'Rose', 'Violet'])\n",
    "sr_snaks = pd.Series([7.8, 5.5, 6.2, 7.1, 8.3], index=['Cheetos', 'Doritos', 'Cookies', 'Chips', 'Chocolate'])\n",
    "df_cln_imdb = load_csv(file_name,col_names)\n",
    "one_dim_plot(sr_snaks, 'pie', axes[1])\n",
    "# --- add additional code to check your code if needed:\n",
    "###\n",
    "### YOUR CODE HERE\n",
    "###\n"
   ],
   "outputs": [
    {
     "data": {
      "text/plain": [
       "<Figure size 2000x500 with 2 Axes>"
      ],
      "image/png": "[encoded data removed]"
     },
     "metadata": {},
     "output_type": "display_data"
    }
   ],
   "execution_count": 67
  },
  {
   "cell_type": "code",
   "metadata": {
    "collapsed": true,
    "ExecuteTime": {
     "end_time": "2024-12-22T15:31:25.962949Z",
     "start_time": "2024-12-22T15:31:25.960989Z"
    }
   },
   "source": [
    "# 2.b.\n",
    "# ------------>>>>>>>> RUN THIS CODE CELL <<<<<<<<------------\n",
    "# --------  (run after implementation, if used)\n",
    "# === CODE TYPE: SELF TESTING\n",
    "# ---- Add your additional tests here if needed:\n",
    "# one_dim_plot(sr_flowers, 'non_existant_plot_type', axes[0])\n"
   ],
   "outputs": [],
   "execution_count": 73
  },
  {
   "cell_type": "code",
   "metadata": {
    "nbgrader": {
     "grade": true,
     "grade_id": "test2b-1_one_dim_plot",
     "locked": true,
     "points": "0.1",
     "solution": false
    },
    "editable": false,
    "deletable": false,
    "ExecuteTime": {
     "end_time": "2024-12-22T15:31:27.382308Z",
     "start_time": "2024-12-22T15:31:27.243493Z"
    }
   },
   "source": [
    "# 2.b.\n",
    "# ------------>>>>>>>> RUN THIS CODE CELL <<<<<<<<------------\n",
    "# --------  (run only)\n",
    "# === CODE TYPE: GRADED TEST \n",
    "\n",
    "print (\"Part 2b. - Test 1 (name: test2b-1_one_dim_plot, points: 0.1) - Sanity\")\n",
    "print (\"\\t--->Testing the implementation of 'one_dim_plot' ...\")\n",
    "\n",
    "file_name = '.' + os.sep + 'data' + os.sep + 'imdb_movies_v1.5c.csv'\n",
    "col_names = ['movie_title', 'title_year', 'director_name', 'actor_1_name', \n",
    "             'duration', 'facenumber_in_poster', 'budget', 'gross', 'imdb_score', \n",
    "             'num_voted_users', 'num_user_for_reviews', 'num_critic_for_reviews', 'director_facebook_likes', \n",
    "             'movie_facebook_likes', 'actor_1_facebook_likes', 'cast_total_facebook_likes']\n",
    "\n",
    "fig, axes = plt.subplots(1,2, figsize=(20,5))\n",
    "sr_flowers = pd.Series([10, 20, 15, 12], index=['Lily', 'Orchid', 'Rose', 'Violet'])\n",
    "sr_snaks = pd.Series([7.8, 5.5, 6.2, 7.1, 8.3], index=['Cheetos', 'Doritos', 'Cookies', 'Chips', 'Chocolate'])\n",
    "\n",
    "try:\n",
    "    df_cln_imdb = load_csv(file_name,col_names)\n",
    "    \n",
    "    one_dim_plot(sr_snaks, 'pie', axes[1])\n",
    "except Exception as e:\n",
    "    print ('You probably have a syntax error, we got the following exception:')\n",
    "    print ('\\tError Message:',str(e))\n",
    "    print ('Try fixing your implementation')\n",
    "    raise \n",
    "\n",
    "print (\"Good Job!\\nYou've passed the 1st test for the 'one_dim_plot' function implementation :-)\")"
   ],
   "outputs": [
    {
     "name": "stdout",
     "output_type": "stream",
     "text": [
      "Part 2b. - Test 1 (name: test2b-1_one_dim_plot, points: 0.1) - Sanity\n",
      "\t--->Testing the implementation of 'one_dim_plot' ...\n",
      "Good Job!\n",
      "You've passed the 1st test for the 'one_dim_plot' function implementation :-)\n"
     ]
    },
    {
     "data": {
      "text/plain": [
       "<Figure size 2000x500 with 2 Axes>"
      ],
      "image/png": "[encoded data removed]"
     },
     "metadata": {},
     "output_type": "display_data"
    }
   ],
   "execution_count": 74
  },
  {
   "cell_type": "code",
   "metadata": {
    "nbgrader": {
     "grade": true,
     "grade_id": "test2b-2_one_dim_plot",
     "locked": true,
     "points": "0.2",
     "solution": false
    },
    "editable": false,
    "deletable": false,
    "ExecuteTime": {
     "end_time": "2024-12-22T15:31:28.063583Z",
     "start_time": "2024-12-22T15:31:27.921609Z"
    }
   },
   "source": [
    "# 2.b.\n",
    "# ------------>>>>>>>> RUN THIS CODE CELL <<<<<<<<------------\n",
    "# --------  (run only)\n",
    "# === CODE TYPE: GRADED TEST \n",
    "\n",
    "print (\"Part 2b. - Test 2 (name: test2b-2_one_dim_plot, points: 0.2)\")\n",
    "print (\"\\t--->Testing the implementation of 'one_dim_plot' ...\")\n",
    "\n",
    "file_name = '.' + os.sep + 'data' + os.sep + 'imdb_movies_v1.5c.csv'\n",
    "col_names = ['movie_title', 'title_year', 'director_name', 'actor_1_name', \n",
    "             'duration', 'facenumber_in_poster', 'budget', 'gross', 'imdb_score', \n",
    "             'num_voted_users', 'num_user_for_reviews', 'num_critic_for_reviews', 'director_facebook_likes', \n",
    "             'movie_facebook_likes', 'actor_1_facebook_likes', 'cast_total_facebook_likes']\n",
    "fig, axes = plt.subplots(1,2, figsize=(20,5))\n",
    "sr_flowers = pd.Series([10, 20, 15, 12], index=['Lily', 'Orchid', 'Rose', 'Violet'])\n",
    "sr_snaks = pd.Series([7.8, 5.5, 6.2, 7.1, 8.3], index=['Cheetos', 'Doritos', 'Cookies', 'Chips', 'Chocolate'])\n",
    "try:\n",
    "    df_cln_imdb = load_csv(file_name,col_names)\n",
    "    one_dim_plot(sr_snaks, 'pie', axes[1])\n",
    "except Exception as e:\n",
    "    print ('You probably have a syntax error, we got the following exception:')\n",
    "    print ('\\tError Message:',str(e))\n",
    "    print ('Try fixing your implementation')\n",
    "    raise \n",
    "\n",
    "assert mpl.patches.Wedge in [type(chld) for chld in axes[1].get_children()], 'Wrong plot type, it must be a pie plot'\n",
    "num_of_elements = sum([1 for chld in axes[1].get_children() if mpl.patches.Wedge==type(chld)])\n",
    "assert num_of_elements == sr_snaks.shape[0], 'Wrong number of pie plot elements'  \n",
    "\n",
    "print (\"Good Job!\\nYou've passed the 2nd test for the 'one_dim_plot' function implementation :-)\")"
   ],
   "outputs": [
    {
     "name": "stdout",
     "output_type": "stream",
     "text": [
      "Part 2b. - Test 2 (name: test2b-2_one_dim_plot, points: 0.2)\n",
      "\t--->Testing the implementation of 'one_dim_plot' ...\n",
      "Good Job!\n",
      "You've passed the 2nd test for the 'one_dim_plot' function implementation :-)\n"
     ]
    },
    {
     "data": {
      "text/plain": [
       "<Figure size 2000x500 with 2 Axes>"
      ],
      "image/png": "[encoded data removed]"
     },
     "metadata": {},
     "output_type": "display_data"
    }
   ],
   "execution_count": 75
  },
  {
   "cell_type": "code",
   "metadata": {
    "nbgrader": {
     "grade": true,
     "grade_id": "test2b-3_one_dim_plot",
     "locked": true,
     "points": "0.3",
     "solution": false
    },
    "editable": false,
    "deletable": false,
    "ExecuteTime": {
     "end_time": "2024-12-22T15:31:28.765560Z",
     "start_time": "2024-12-22T15:31:28.523036Z"
    }
   },
   "source": [
    "# 2.b.\n",
    "# ------------>>>>>>>> RUN THIS CODE CELL <<<<<<<<------------\n",
    "# --------  (run only)\n",
    "# === CODE TYPE: GRADED TEST \n",
    "\n",
    "print (\"Part 2b. - Test 3 (name: test2b-3_one_dim_plot, points: 0.3)\")\n",
    "print (\"\\t--->Testing the implementation of 'one_dim_plot' ...\")\n",
    "\n",
    "file_name = '.' + os.sep + 'data' + os.sep + 'imdb_movies_v1.5c.csv'\n",
    "col_names = ['movie_title', 'title_year', 'director_name', 'actor_1_name', \n",
    "             'duration', 'facenumber_in_poster', 'budget', 'gross', 'imdb_score', \n",
    "             'num_voted_users', 'num_user_for_reviews', 'num_critic_for_reviews', 'director_facebook_likes', \n",
    "             'movie_facebook_likes', 'actor_1_facebook_likes', 'cast_total_facebook_likes']\n",
    "fig, axes = plt.subplots(1,3, figsize=(20,5))\n",
    "sr_flowers = pd.Series([10, 20, 15, 12], index=['Lily', 'Orchid', 'Rose', 'Violet'])\n",
    "sr_snaks = pd.Series([7.8, 5.5, 6.2, 7.1, 8.3], index=['Cheetos', 'Doritos', 'Cookies', 'Chips', 'Chocolate'])\n",
    "try:\n",
    "    one_dim_plot(sr_flowers,'bar', axes[0])\n",
    "    one_dim_plot(sr_snaks, 'line', axes[2])\n",
    "except Exception as e:\n",
    "    print ('You probably have a syntax error, we got the following exception:')\n",
    "    print ('\\tError Message:',str(e))\n",
    "    print ('Try fixing your implementation')\n",
    "    raise \n",
    "\n",
    "plot_tester0 = mpc.PlotTester(axes[0])\n",
    "plot_tester0.assert_plot_type('bar')\n",
    "bpc0 = BarPlotChecker(axes[0])\n",
    "height_vals = [val for val in bpc0.heights]\n",
    "assert min(height_vals)==sr_flowers.min(), 'Mismatch of the minimum value between series and plot values'\n",
    "\n",
    "plot_tester1 = mpc.PlotTester(axes[2])\n",
    "plot_tester1.assert_plot_type('line')\n",
    "lpc1 = LinePlotChecker(axes[2])\n",
    "lpc1.assert_num_lines(1)    \n",
    "y_data = np.array([val for val in lpc1.y_data])\n",
    "assert round(y_data.mean(), 2) == round(np.sort(sr_snaks.values).mean(), 2)\n",
    "\n",
    "print (\"\\nGood Job!\\nYou've passed the 3rd test for the implementation of the 'one_dim_plot' method :-)\")"
   ],
   "outputs": [
    {
     "name": "stdout",
     "output_type": "stream",
     "text": [
      "Part 2b. - Test 3 (name: test2b-3_one_dim_plot, points: 0.3)\n",
      "\t--->Testing the implementation of 'one_dim_plot' ...\n",
      "\n",
      "Good Job!\n",
      "You've passed the 3rd test for the implementation of the 'one_dim_plot' method :-)\n"
     ]
    },
    {
     "data": {
      "text/plain": [
       "<Figure size 2000x500 with 3 Axes>"
      ],
      "image/png": "[encoded data removed]"
     },
     "metadata": {},
     "output_type": "display_data"
    }
   ],
   "execution_count": 76
  },
  {
   "cell_type": "markdown",
   "metadata": {
    "nbgrader": {
     "grade": false,
     "locked": true,
     "solution": false
    },
    "editable": false,
    "deletable": false
   },
   "source": [
    "### 2.c. Most Frequent elements - one dimensional visualization\n",
    "In this section you will perform a visualization of the most frequent values, for given columns, using three types of plots: pie, bar and line."
   ]
  },
  {
   "cell_type": "markdown",
   "metadata": {
    "nbgrader": {
     "grade": false,
     "locked": true,
     "solution": false
    },
    "editable": false,
    "deletable": false
   },
   "source": [
    "### The parameters of the 'plot_frequent_elements' function\n",
    "In the next answer code cell, you'll need to implement the 'plot_frequent_elements' function<br /> to plot the most frequent elements for the columns of a given dataframe.<br />\n",
    "\n",
    "**The following explains the input parameters of the function**:\n",
    "- 'df' - the input dataframe, for which you need to find the most frequent elements.\n",
    "- 'df_params' - the input parameters in a dataframe. <br />\n",
    "  The 'df_params' dataframe includs the following information:\n",
    "  * The 'col_name' column refers to the column names, for which you should plot the most frequent values.\n",
    "  * The 'plot_type' column refers to the type of the plot you should plot for the corresponding column (appearing in the same row). \n",
    "     * The possible options are: 'bar', 'pie' or 'line'.\n",
    "     * The same plot type can repeat in different rows, but could also be distinct.\n",
    "   * The 'num_top_elements' column refers to the number of most frequent elements, you should plot.\n",
    "\n",
    "**Notes**:\n",
    "* Assume that the number of rows in the 'df_params' dataframe is between 1 to 3.\n",
    "* Use the 'get_frequent_elements' and the 'one_dim_plot' functions which you've already implemented.\n",
    "* You are advised to call these functions in a similar way to the way they were called in the above test code cells."
   ]
  },
  {
   "cell_type": "markdown",
   "metadata": {
    "nbgrader": {
     "grade": false,
     "locked": true,
     "solution": false
    },
    "editable": false,
    "deletable": false
   },
   "source": [
    "#### An example for a 'df_params' dataframe:\n",
    "\n",
    "| | col_name | plot_type | num_top_elements |\n",
    "| :- | :- | :- | :- |\n",
    "| 0 | 'director_name' | 'bar' | 10 |\n",
    "| 1 | 'actor_1_name' | 'line' | 5 |\n",
    "\n",
    "*What is expected to do in this example*:\n",
    "- You will need to create 2 subplots, one for each row in the dataframe.\n",
    "  * The first subplot, should correspond to the 'director_name  column' <br />\n",
    "    and the second subplot to the 'actor_1_name' column.\n",
    "- You need to plot the 10 most frequent elements from the 'director_name' column on the left subplot \n",
    "  and the 5 most frequent elements from the 'actor_1_name' column on the right subplot.\n",
    "  * Frequency refers to the number of times an element appears in the column. \n",
    "- The left subplot should be a 'bar' and the right subplot should be a 'line'."
   ]
  },
  {
   "cell_type": "markdown",
   "metadata": {
    "nbgrader": {
     "grade": false,
     "locked": true,
     "solution": false
    },
    "editable": false,
    "deletable": false
   },
   "source": [
    "### 2.c. Instructions\n",
    "<u>method name</u>: <b>plot_frequent_elements</b>\n",
    "<pre>The following is expected:\n",
    "--- Complete the 'plot_frequent_elements' function to plot the most frequent elements for columns from\n",
    "    the given 'df' dataframe. \n",
    "    * Use the 'get_frequent_elements' and the 'one_dim_plot' functions which you've already implemented.\n",
    "    * You are advised to call these functions in a similar way, to the way it was done in the above test code cells.\n",
    "\n",
    "The input parameters, as well as some instructions are explained in the above (markdown) cell.\n",
    "\n",
    "Additional instructions:\n",
    "* The plots should be in the same row using subplots.\n",
    "   * The order of the plots should be in the same order of the rows in the 'df_in_params' dataframe.\n",
    "   * The first subplot should appear on the left most subplot (and the last one on the right most subplot).\n",
    "* You need to sort the values of the top frequent element in an ascending order.\n",
    "    * The elements should be sorted by the element values and NOT by the frequency.\n",
    "* For each subplot, the x axis should refer to the values and the y axis should refer to their frequency.\n",
    "  \n",
    "IMPORTANT NOTE:\n",
    "* DO NOT explicitly display the figure (remove plt.show())\n",
    "</pre>"
   ]
  },
  {
   "cell_type": "code",
   "execution_count": 42,
   "metadata": {
    "collapsed": true
   },
   "outputs": [],
   "source": [
    "# 2.c.\n",
    "# ------------>>>>>>>> RUN THIS CODE CELL <<<<<<<<------------\n",
    "# --------  (run after implementation)\n",
    "# === CODE TYPE: ANSWER \n",
    "\n",
    "def plot_frequent_elements(df, df_in_params):\n",
    "    \n"
   ]
  },
  {
   "cell_type": "code",
   "execution_count": 43,
   "metadata": {},
   "outputs": [],
   "source": [
    "# 2.c.\n",
    "# ------------>>>>>>>> RUN THIS CODE CELL <<<<<<<<------------\n",
    "# --------  (run after implementation)\n",
    "# === CODE TYPE: SELF TESTING\n",
    "# Use the following code to test your implementation:\n",
    "file_name = '.' + os.sep + 'data' + os.sep + 'imdb_movies_v1.5c.csv'\n",
    "col_names = ['movie_title', 'title_year', 'director_name', 'actor_1_name', \n",
    "             'duration', 'facenumber_in_poster', 'budget', 'gross', 'imdb_score', \n",
    "             'num_voted_users', 'num_user_for_reviews', 'num_critic_for_reviews', 'director_facebook_likes', \n",
    "             'movie_facebook_likes', 'actor_1_facebook_likes', 'cast_total_facebook_likes']\n",
    "df_params = pd.DataFrame({'plot_type': ['line', 'bar', 'pie'], \n",
    "                          'col_name': ['title_year', 'director_name', 'actor_1_name'],\n",
    "                          'num_top_elements': [15,6,7]})\n",
    "df_cln_imdb = load_csv(file_name,col_names)\n",
    "plot_frequent_elements(df_cln_imdb, df_params)\n",
    "# --- add additional code to check your code if needed:\n",
    "###\n",
    "### YOUR CODE HERE\n",
    "###\n"
   ]
  },
  {
   "cell_type": "code",
   "execution_count": 44,
   "metadata": {
    "collapsed": true
   },
   "outputs": [],
   "source": [
    "# 2.c.\n",
    "# ------------>>>>>>>> RUN THIS CODE CELL <<<<<<<<------------\n",
    "# --------  (run after implementation, if used)\n",
    "# === CODE TYPE: SELF TESTING\n",
    "# ---- Add your additional tests here if needed:\n",
    "###\n",
    "### YOUR CODE HERE\n",
    "###\n"
   ]
  },
  {
   "cell_type": "code",
   "execution_count": 45,
   "metadata": {
    "nbgrader": {
     "grade": true,
     "grade_id": "test2c-1_plot_frequent_elements",
     "locked": true,
     "points": "0.1",
     "solution": false
    },
    "editable": false,
    "deletable": false
   },
   "outputs": [],
   "source": [
    "# 2.c.\n",
    "# ------------>>>>>>>> RUN THIS CODE CELL <<<<<<<<------------\n",
    "# --------  (run only)\n",
    "# === CODE TYPE: GRADED TEST \n",
    "\n",
    "print (\"Part 2c. - Test 1 (name: test2c-1_plot_frequent_elements, points: 0.1) - Sanity\")\n",
    "print (\"\\t--->Testing the implementation of 'plot_frequent_elements' ...\")\n",
    "\n",
    "file_name = '.' + os.sep + 'data' + os.sep + 'imdb_movies_v1.5c.csv'\n",
    "col_names = ['movie_title', 'title_year', 'director_name', 'actor_1_name', \n",
    "             'duration', 'facenumber_in_poster', 'budget', 'gross', 'imdb_score', \n",
    "             'num_voted_users', 'num_user_for_reviews', 'num_critic_for_reviews', 'director_facebook_likes', \n",
    "             'movie_facebook_likes', 'actor_1_facebook_likes', 'cast_total_facebook_likes']\n",
    "df_params = pd.DataFrame({'plot_type': ['line', 'bar', 'pie'], \n",
    "                          'col_name': ['title_year', 'director_name', 'actor_1_name'],\n",
    "                          'num_top_elements': [15,6,7]})\n",
    "try:\n",
    "    df_cln_imdb = load_csv(file_name,col_names)\n",
    "    plot_frequent_elements(df_cln_imdb, df_params)\n",
    "except Exception as e:\n",
    "    print ('You probably have a syntax error, we got the following exception:')\n",
    "    print ('\\tError Message:',str(e))\n",
    "    print ('Try fixing your implementation')\n",
    "    raise \n",
    "    \n",
    "print (\"\\nGood Job!\\nYou've passed the 1st test for the implementation of the 'plot_frequent_elements' method :-)\")"
   ]
  },
  {
   "cell_type": "code",
   "execution_count": 46,
   "metadata": {
    "nbgrader": {
     "grade": true,
     "grade_id": "test2c-2_plot_frequent_elements",
     "locked": true,
     "points": "0.4",
     "solution": false
    },
    "editable": false,
    "deletable": false
   },
   "outputs": [],
   "source": [
    "# 2.c.\n",
    "# ------------>>>>>>>> RUN THIS CODE CELL <<<<<<<<------------\n",
    "# --------  (run only)\n",
    "# === CODE TYPE: GRADED TEST \n",
    "\n",
    "print (\"Part 2c. - Test 2 (name: test2c-2_plot_frequent_elements, points: 0.4)\")\n",
    "print (\"\\t--->Testing the implementation of 'plot_frequent_elements' ...\")\n",
    "\n",
    "file_name = '.' + os.sep + 'data' + os.sep + 'imdb_movies_v1.5c.csv'\n",
    "col_names = ['movie_title', 'title_year', 'director_name', 'actor_1_name', \n",
    "             'duration', 'facenumber_in_poster', 'budget', 'gross', 'imdb_score', \n",
    "             'num_voted_users', 'num_user_for_reviews', 'num_critic_for_reviews', 'director_facebook_likes', \n",
    "             'movie_facebook_likes', 'actor_1_facebook_likes', 'cast_total_facebook_likes']\n",
    "df_params = pd.DataFrame({'plot_type': ['line', 'bar', 'pie'], \n",
    "                          'col_name': ['title_year', 'director_name', 'actor_1_name'],\n",
    "                          'num_top_elements': [15,6,7]})\n",
    "try:\n",
    "    df_cln_imdb = load_csv(file_name,col_names)\n",
    "    plot_frequent_elements(df_cln_imdb, df_params)\n",
    "except Exception as e:\n",
    "    print ('You probably have a syntax error, we got the following exception:')\n",
    "    print ('\\tError Message:',str(e))\n",
    "    print ('Try fixing your implementation')\n",
    "    raise \n",
    "\n",
    "all_axes = plt.gcf().get_axes()\n",
    "assert len(all_axes)==3, 'Wrong number of subplots, try again'\n",
    "\n",
    "plot_testers = [mpc.PlotTester(all_axes[n_axis]) for n_axis in range(len(all_axes))]\n",
    "for n_plot in range(3):\n",
    "    plot_type = df_params['plot_type'].iloc[n_plot]\n",
    "    col_name = df_params['col_name'].iloc[n_plot]\n",
    "    n_elements = df_params['num_top_elements'].iloc[n_plot]\n",
    "    curr_tested_axis = all_axes[n_plot]\n",
    "    df_col = df_cln_imdb[col_name]\n",
    "    \n",
    "    if plot_type in ['line', 'bar']:\n",
    "        plot_testers[n_plot].assert_plot_type(plot_type)\n",
    "        if plot_type == 'bar':\n",
    "            bpc = BarPlotChecker(curr_tested_axis)\n",
    "            bpc.assert_num_bars(n_elements)\n",
    "        else:\n",
    "            lpc = LinePlotChecker(curr_tested_axis)\n",
    "            lpc.assert_num_lines(1)    \n",
    "    else: # plot_type == 'pie'\n",
    "        plot_cls_types =  [type(chld) for chld in curr_tested_axis.get_children()]\n",
    "        assert mpl.patches.Wedge in plot_cls_types, 'Wrong plot type, must be a pie plot'\n",
    "\n",
    "print (\"\\nGood Job!\\nYou've passed the 2nd test for the implementation of the 'plot_frequent_elements' method :-)\")"
   ]
  },
  {
   "cell_type": "code",
   "execution_count": 47,
   "metadata": {
    "nbgrader": {
     "grade": true,
     "grade_id": "test2c-3_plot_frequent_elements",
     "locked": true,
     "points": "0.5",
     "solution": false
    },
    "editable": false,
    "deletable": false
   },
   "outputs": [],
   "source": [
    "# 2.c.\n",
    "# ------------>>>>>>>> RUN THIS CODE CELL <<<<<<<<------------\n",
    "# --------  (run only)\n",
    "# === CODE TYPE: GRADED TEST \n",
    "\n",
    "print (\"Part 2c. - Test 3 (name: test2c-3_plot_frequent_elements, points: 0.5)\")\n",
    "print (\"\\t--->Testing the implementation of 'plot_frequent_elements' ...\")\n",
    "\n",
    "file_name = '.' + os.sep + 'data' + os.sep + 'imdb_movies_v1.5c.csv'\n",
    "col_names = ['movie_title', 'title_year', 'director_name', 'actor_1_name', \n",
    "             'duration', 'facenumber_in_poster', 'budget', 'gross', 'imdb_score', \n",
    "             'num_voted_users', 'num_user_for_reviews', 'num_critic_for_reviews', 'director_facebook_likes', \n",
    "             'movie_facebook_likes', 'actor_1_facebook_likes', 'cast_total_facebook_likes']\n",
    "df_params = pd.DataFrame({'plot_type': ['line', 'bar', 'pie'], \n",
    "                          'col_name': ['title_year', 'director_name', 'actor_1_name'],\n",
    "                          'num_top_elements': [15,6,7]})\n",
    "try:\n",
    "    df_cln_imdb = load_csv(file_name,col_names)\n",
    "    plot_frequent_elements(df_cln_imdb, df_params)\n",
    "except Exception as e:\n",
    "    print ('You probably have a syntax error, we got the following exception:')\n",
    "    print ('\\tError Message:',str(e))\n",
    "    print ('Try fixing your implementation')\n",
    "    raise \n",
    "\n",
    "all_axes = plt.gcf().get_axes()\n",
    "\n",
    "plot_testers = [mpc.PlotTester(all_axes[n_axis]) for n_axis in range(len(all_axes))]\n",
    "for n_plot in range(3):\n",
    "    plot_type = df_params['plot_type'].iloc[n_plot]\n",
    "    col_name = df_params['col_name'].iloc[n_plot]\n",
    "    n_elements = df_params['num_top_elements'].iloc[n_plot]\n",
    "    curr_tested_axis = all_axes[n_plot]\n",
    "    df_col = df_cln_imdb[col_name]\n",
    "    \n",
    "    if plot_type in ['line', 'bar']:\n",
    "        if plot_type == 'bar':\n",
    "            bpc = BarPlotChecker(curr_tested_axis)\n",
    "            height_vals = [val for val in bpc.heights]\n",
    "            freq_val = df_col.mode().iloc[0]\n",
    "            assert max(height_vals)==df_col[df_col==freq_val].count(), 'Wrong frequency for the most frequent element'\n",
    "        else:\n",
    "            lpc = LinePlotChecker(curr_tested_axis)\n",
    "            y_data = np.array([val for val in lpc.y_data])\n",
    "            (values,counts) = np.unique(df_col.values,return_counts=True)\n",
    "            assert round(y_data.mean(), 2) == round(np.sort(counts)[::-1][:n_elements].mean(), 2)\n",
    "    else: # plot_type == 'pie'\n",
    "        assert sum([1 for chld in curr_tested_axis.get_children() if mpl.patches.Wedge==type(chld)]) ==n_elements, 'Wrong number of pie plot elements'  \n",
    "        \n",
    "print (\"\\nGood Job!\\nYou've passed the 3rd test for the implementation of the 'plot_frequent_elements' method :-)\") "
   ]
  },
  {
   "cell_type": "markdown",
   "metadata": {
    "nbgrader": {
     "grade": false,
     "locked": true,
     "solution": false
    },
    "editable": false,
    "deletable": false
   },
   "source": [
    "## 3. Correlation - Two dimensional visualization \n",
    "In this section you will perform exploration and visualization of two features, including:\n",
    "* A cross tabulation of two discrete features in a dataframe and its two dimensional visualization.\n",
    "* A plot of columns with high correlation, determined by the Pearson correlation coefficient.\n",
    "* Two dimensional scatter and line plots."
   ]
  },
  {
   "cell_type": "markdown",
   "metadata": {
    "nbgrader": {
     "grade": false,
     "locked": true,
     "solution": false
    },
    "editable": false,
    "deletable": false
   },
   "source": [
    "### 3.a. Cross tabulation"
   ]
  },
  {
   "cell_type": "markdown",
   "metadata": {
    "nbgrader": {
     "grade": false,
     "locked": true,
     "solution": false
    },
    "editable": false,
    "deletable": false
   },
   "source": [
    "### 3.a. Instructions\n",
    "<u>method name</u>: <b>cross_tabulation</b>\n",
    "<pre>The following is expected:\n",
    "--- Complete the 'cross_tabulation' function to create and return a datadrame of a cross tabulation between\n",
    "    the given 'col_name' column and the given 'other_col_name' column.\n",
    "\n",
    "Note:\n",
    "      * The 'col_name' column's values, should function as your output dataframe's index and the\n",
    "        'other_col_name' column's values, should function as column names.  \n",
    "</pre>"
   ]
  },
  {
   "cell_type": "code",
   "execution_count": 48,
   "metadata": {
    "collapsed": true
   },
   "outputs": [],
   "source": [
    "# 3.a.\n",
    "# ------------>>>>>>>> RUN THIS CODE CELL <<<<<<<<------------\n",
    "# --------  (run after implementation)\n",
    "# === CODE TYPE: ANSWER \n",
    "\n",
    "def cross_tabulation(df, col_name, other_col_name):\n",
    "    ###\n",
    "    ### YOUR CODE HERE\n",
    "    ###\n"
   ]
  },
  {
   "cell_type": "code",
   "execution_count": 49,
   "metadata": {
    "collapsed": true
   },
   "outputs": [],
   "source": [
    "# 3.a.\n",
    "# ------------>>>>>>>> RUN THIS CODE CELL <<<<<<<<------------\n",
    "# --------  (run after implementation)\n",
    "# === CODE TYPE: SELF TESTING\n",
    "# Use the following code to test your implementation:\n",
    "file_name = '.' + os.sep + 'data' + os.sep + 'imdb_movies_v1.5d.csv'\n",
    "col_names = ['movie_title', 'title_year', 'director_name', 'actor_1_name', \n",
    "             'duration', 'facenumber_in_poster', 'budget', 'gross', 'imdb_score', \n",
    "             'num_voted_users', 'num_user_for_reviews', 'num_critic_for_reviews', 'director_facebook_likes', \n",
    "             'movie_facebook_likes', 'actor_1_facebook_likes', 'cast_total_facebook_likes']\n",
    "df_cln_processed_imdb = load_csv(file_name,col_names)\n",
    "df_crosstab = cross_tabulation(df_cln_processed_imdb, 'title_year', 'facenumber_in_poster')\n",
    "# --- add additional code to check your code if needed:\n",
    "###\n",
    "### YOUR CODE HERE\n",
    "###\n"
   ]
  },
  {
   "cell_type": "code",
   "execution_count": 50,
   "metadata": {
    "collapsed": true
   },
   "outputs": [],
   "source": [
    "# 3.a.\n",
    "# ------------>>>>>>>> RUN THIS CODE CELL <<<<<<<<------------\n",
    "# --------  (run after implementation, if used)\n",
    "# === CODE TYPE: SELF TESTING\n",
    "# ---- Add your additional tests here if needed:\n",
    "###\n",
    "### YOUR CODE HERE\n",
    "###\n"
   ]
  },
  {
   "cell_type": "code",
   "execution_count": 51,
   "metadata": {
    "nbgrader": {
     "grade": true,
     "grade_id": "test3a-1_cross_tabulation",
     "locked": true,
     "points": "0.1",
     "solution": false
    },
    "editable": false,
    "deletable": false
   },
   "outputs": [],
   "source": [
    "# 3.a.\n",
    "# ------------>>>>>>>> RUN THIS CODE CELL <<<<<<<<------------\n",
    "# --------  (run only)\n",
    "# === CODE TYPE: GRADED TEST \n",
    "\n",
    "print (\"Part 3a. - Test 1 (name: test3a-1_cross_tabulation, points: 0.1) - Sanity\")\n",
    "print (\"\\t--->Testing the implementation of 'cross_tabulation' ...\")\n",
    "\n",
    "file_name = '.' + os.sep + 'data' + os.sep + 'imdb_movies_v1.5d.csv'\n",
    "col_names = ['movie_title', 'title_year', 'director_name', 'actor_1_name', \n",
    "             'duration', 'facenumber_in_poster', 'budget', 'gross', 'imdb_score', \n",
    "             'num_voted_users', 'num_user_for_reviews', 'num_critic_for_reviews', 'director_facebook_likes', \n",
    "             'movie_facebook_likes', 'actor_1_facebook_likes', 'cast_total_facebook_likes'] \n",
    "\n",
    "try:\n",
    "    df_cln_processed_imdb = load_csv(file_name,col_names)\n",
    "    df_crosstab = cross_tabulation(df_cln_processed_imdb, 'title_year', 'facenumber_in_poster')\n",
    "except Exception as e:\n",
    "    print ('You probably have a syntax error, we got the following exception:')\n",
    "    print ('\\tError Message:',str(e))\n",
    "    print ('Try fixing your implementation')\n",
    "    raise \n",
    "\n",
    "print (\"\\nGood Job!\\nYou've passed the 1st test for the implementation of the 'cross_tabulation' method :-)\")"
   ]
  },
  {
   "cell_type": "code",
   "execution_count": 52,
   "metadata": {
    "nbgrader": {
     "grade": true,
     "grade_id": "test3a-2_cross_tabulation",
     "locked": true,
     "points": "0.2",
     "solution": false
    },
    "editable": false,
    "deletable": false
   },
   "outputs": [],
   "source": [
    "# 3.a.\n",
    "# ------------>>>>>>>> RUN THIS CODE CELL <<<<<<<<------------\n",
    "# --------  (run only)\n",
    "# === CODE TYPE: GRADED TEST \n",
    "\n",
    "print (\"Part 3a. - Test 2 (name: test3a-2_cross_tabulation, points: 0.2)\")\n",
    "print (\"\\t--->Testing the implementation of 'cross_tabulation' ...\")\n",
    "\n",
    "file_name = '.' + os.sep + 'data' + os.sep + 'imdb_movies_v1.5d.csv'\n",
    "col_names = ['movie_title', 'title_year', 'director_name', 'actor_1_name', \n",
    "             'duration', 'facenumber_in_poster', 'budget', 'gross', 'imdb_score', \n",
    "             'num_voted_users', 'num_user_for_reviews', 'num_critic_for_reviews', 'director_facebook_likes', \n",
    "             'movie_facebook_likes', 'actor_1_facebook_likes', 'cast_total_facebook_likes']\n",
    "\n",
    "try:\n",
    "    df_cln_processed_imdb = load_csv(file_name,col_names)\n",
    "    df_crosstab = cross_tabulation(df_cln_processed_imdb, 'title_year', 'facenumber_in_poster')\n",
    "except Exception as e:\n",
    "    print ('You probably have a syntax error, we got the following exception:')\n",
    "    print ('\\tError Message:',str(e))\n",
    "    print ('Try fixing your implementation')\n",
    "    raise \n",
    "\n",
    "assert df_crosstab is not None, \"You did not return an object from the function, try again\"\n",
    "assert [str(val) for val in df_crosstab.columns] == ['0.5', '2.0'], 'Wrong column names'\n",
    "assert df_crosstab.index[2] == 1997, 'Wrong 3rd index value'\n",
    "assert round(df_crosstab.values.mean(), 1)==0.5, 'Wrong mean value for cross tabulation dataframe'\n",
    "\n",
    "print(df_crosstab.head())\n",
    "print('--------------------------------')\n",
    "print (\"\\nGood Job!\\nYou've passed the 2nd test for the implementation of the 'cross_tabulation' method :-)\")"
   ]
  },
  {
   "cell_type": "markdown",
   "metadata": {},
   "source": [
    "### 3.b. Cross tabulation plot"
   ]
  },
  {
   "cell_type": "markdown",
   "metadata": {},
   "source": [
    "### 3.b. Instructions\n",
    "<u>method name</u>: <b>plot_cross_tabulation</b>\n",
    "<pre>The following is expected:\n",
    "--- Complete the 'plot_cross_tabulation' function to create a cross tabulation for each of the \n",
    "    columns in the given 'col_names' with the other given 'other_col_name' column.\n",
    "    You should plot a 'line' plot for each dataframe of the cross tabulation.\n",
    "\n",
    "Notes: \n",
    "* You are advised to use your above implementation of 'cross_tabulation'.\n",
    "* Each row in the cross tabulation should be normalized by the values of that row.\n",
    "* Use subplots to plot the scatter plots, with up to 5 subplots a row.\n",
    "  * Assume there are not more than one row of subplots (i.e., maximum 5 subplots)\n",
    "</pre>"
   ]
  },
  {
   "cell_type": "code",
   "execution_count": 53,
   "metadata": {
    "collapsed": true
   },
   "outputs": [],
   "source": [
    "# 3.b.\n",
    "# ------------>>>>>>>> RUN THIS CODE CELL <<<<<<<<------------\n",
    "# --------  (run after implementation)\n",
    "# === CODE TYPE: ANSWER \n",
    "\n",
    "def plot_cross_tabulation(df, col_names, other_col_name):\n",
    "    ###\n",
    "    ### YOUR CODE HERE\n",
    "    ###\n"
   ]
  },
  {
   "cell_type": "code",
   "execution_count": 54,
   "metadata": {},
   "outputs": [],
   "source": [
    "# 3.b.\n",
    "# ------------>>>>>>>> RUN THIS CODE CELL <<<<<<<<------------\n",
    "# --------  (run after implementation)\n",
    "# === CODE TYPE: SELF TESTING\n",
    "# Use the following code to test your implementation:\n",
    "file_name = '.' + os.sep + 'data' + os.sep + 'imdb_movies_v1.5d.csv'\n",
    "col_names = ['movie_title', 'title_year', 'director_name', 'actor_1_name', \n",
    "             'duration', 'facenumber_in_poster', 'budget', 'gross', 'imdb_score', \n",
    "             'num_voted_users', 'num_user_for_reviews', 'num_critic_for_reviews', 'director_facebook_likes', \n",
    "             'movie_facebook_likes', 'actor_1_facebook_likes', 'cast_total_facebook_likes']\n",
    "df_cln_processed_imdb = load_csv(file_name,col_names)\n",
    "plot_cross_tabulation(df_cln_processed_imdb, ['title_year','imdb_score'], 'facenumber_in_poster')\n",
    "# --- add additional code to check your code if needed:\n",
    "###\n",
    "### YOUR CODE HERE\n",
    "###\n"
   ]
  },
  {
   "cell_type": "code",
   "execution_count": 55,
   "metadata": {
    "collapsed": true
   },
   "outputs": [],
   "source": [
    "# 3.b.\n",
    "# ------------>>>>>>>> RUN THIS CODE CELL <<<<<<<<------------\n",
    "# --------  (run after implementation, if used)\n",
    "# === CODE TYPE: SELF TESTING\n",
    "# ---- Add your additional tests here if needed:\n",
    "###\n",
    "### YOUR CODE HERE\n",
    "###\n"
   ]
  },
  {
   "cell_type": "code",
   "execution_count": 56,
   "metadata": {
    "nbgrader": {
     "grade": true,
     "grade_id": "test3b-1_plot_cross_tabulation",
     "locked": true,
     "points": "0.1",
     "solution": false
    },
    "editable": false,
    "deletable": false
   },
   "outputs": [],
   "source": [
    "# 3.b.\n",
    "# ------------>>>>>>>> RUN THIS CODE CELL <<<<<<<<------------\n",
    "# --------  (run only)\n",
    "# === CODE TYPE: GRADED TEST \n",
    "\n",
    "print (\"Part 3b. - Test 1 (name: test3b-1_plot_cross_tabulation, points: 0.1) - Sanity\")\n",
    "print (\"\\t--->Testing the implementation of 'plot_cross_tabulation' ...\")\n",
    "\n",
    "file_name = '.' + os.sep + 'data' + os.sep + 'imdb_movies_v1.5d.csv'\n",
    "col_names = ['movie_title', 'title_year', 'director_name', 'actor_1_name', \n",
    "             'duration', 'facenumber_in_poster', 'budget', 'gross', 'imdb_score', \n",
    "             'num_voted_users', 'num_user_for_reviews', 'num_critic_for_reviews', 'director_facebook_likes', \n",
    "             'movie_facebook_likes', 'actor_1_facebook_likes', 'cast_total_facebook_likes']\n",
    "try:\n",
    "    df_cln_processed_imdb = load_csv(file_name,col_names)\n",
    "    plot_cross_tabulation(df_cln_processed_imdb, ['title_year','imdb_score'], 'facenumber_in_poster')\n",
    "except Exception as e:\n",
    "    print ('You probably have a syntax error, we got the following exception:')\n",
    "    print ('\\tError Message:',str(e))\n",
    "    print ('Try fixing your implementation')\n",
    "    raise \n",
    "\n",
    "print (\"\\nGood Job!\\nYou've passed the 1st test for the implementation of the 'plot_cross_tabulation' method :-)\")"
   ]
  },
  {
   "cell_type": "code",
   "execution_count": 57,
   "metadata": {
    "nbgrader": {
     "grade": true,
     "grade_id": "test3b-2_plot_cross_tabulation",
     "locked": true,
     "points": "0.3",
     "solution": false
    },
    "editable": false,
    "deletable": false
   },
   "outputs": [],
   "source": [
    "# 3.b.\n",
    "# ------------>>>>>>>> RUN THIS CODE CELL <<<<<<<<------------\n",
    "# --------  (run only)\n",
    "# === CODE TYPE: GRADED TEST \n",
    "\n",
    "print (\"Part 3b. - Test 2 (name: test3b-2_plot_cross_tabulation, points: 0.3)\")\n",
    "print (\"\\t--->Testing the implementation of 'plot_cross_tabulation' ...\")\n",
    "\n",
    "file_name = '.' + os.sep + 'data' + os.sep + 'imdb_movies_v1.5d.csv'\n",
    "col_names = ['movie_title', 'title_year', 'director_name', 'actor_1_name', \n",
    "             'duration', 'facenumber_in_poster', 'budget', 'gross', 'imdb_score', \n",
    "             'num_voted_users', 'num_user_for_reviews', 'num_critic_for_reviews', 'director_facebook_likes', \n",
    "             'movie_facebook_likes', 'actor_1_facebook_likes', 'cast_total_facebook_likes']\n",
    "try:\n",
    "    df_cln_processed_imdb = load_csv(file_name,col_names)\n",
    "    plot_cross_tabulation(df_cln_processed_imdb, ['title_year','imdb_score'], 'facenumber_in_poster')\n",
    "except Exception as e:\n",
    "    print ('You probably have a syntax error, we got the following exception:')\n",
    "    print ('\\tError Message:',str(e))\n",
    "    print ('Try fixing your implementation')\n",
    "    raise \n",
    "\n",
    "all_axes = plt.gcf().get_axes()\n",
    "assert len(all_axes)==2, 'Wrong number of subplots'\n",
    "cols=['title_year','imdb_score']\n",
    "plot_testers = [mpc.PlotTester(all_axes[n_axis]) for n_axis in range(len(all_axes))]\n",
    "lpc_testers  = [LinePlotChecker(all_axes[n_axis]) for n_axis in range(len(all_axes))]\n",
    "lines   = [np.array([val for val in lpc_testers[n_plot].y_data]) for n_plot in range(2)]\n",
    "line_diffs = [lines[n_plot][0]-lines[n_plot][1] for n_plot in range(2)]\n",
    "change_sign = lambda arr: arr if arr.max() > 0 else -arr\n",
    "line_diffs = [change_sign(line_diff) for line_diff in line_diffs]\n",
    "for n_plot in range(2):\n",
    "    curr_tested_axis = all_axes[n_plot]\n",
    "    plot_testers[n_plot].assert_plot_type('line')\n",
    "    lpc_testers[n_plot].assert_num_lines(2)   \n",
    "    assert line_diffs[n_plot].min()>0, 'All the values of the top line for %s should be above the bottom line' %(cols[n_plot])\n",
    "    assert round(line_diffs[n_plot].mean(), 2) == [0.33, 0.39][n_plot], 'Wrong mean diff value for the %s column' %(cols[n_plot])\n",
    "    assert round(np.median(line_diffs[n_plot]), 2) == [0.31, 0.39][n_plot], 'Wrong median diff value for the %s column' %(cols[n_plot])\n",
    "\n",
    "print (\"\\nGood Job!\\nYou've passed the 2nd test for the implementation of the 'plot_cross_tabulation' method :-)\")"
   ]
  },
  {
   "cell_type": "code",
   "execution_count": 58,
   "metadata": {
    "nbgrader": {
     "grade": true,
     "grade_id": "test3b-3_plot_cross_tabulation",
     "locked": true,
     "points": "0.3",
     "solution": false
    },
    "editable": false,
    "deletable": false
   },
   "outputs": [],
   "source": [
    "# 3.b.\n",
    "# ------------>>>>>>>> RUN THIS CODE CELL <<<<<<<<------------\n",
    "# --------  (run only)\n",
    "# === CODE TYPE: GRADED TEST \n",
    "\n",
    "print (\"Part 3b. - Test 3 (name: test3b-3_plot_cross_tabulation, points: 0.3)\")\n",
    "print (\"\\t--->Testing the implementation of 'plot_cross_tabulation' ...\")\n",
    "print (\"\\n\\t====> Full grading test - the following test can not be seen before submission\")\n",
    "\n",
    "###\n",
    "### AUTOGRADER TEST - DO NOT REMOVE\n",
    "###\n"
   ]
  },
  {
   "cell_type": "markdown",
   "metadata": {
    "nbgrader": {
     "grade": false,
     "locked": true,
     "solution": false
    },
    "editable": false,
    "deletable": false
   },
   "source": [
    "### 3.c. Pearson correlation coefficient"
   ]
  },
  {
   "cell_type": "markdown",
   "metadata": {
    "nbgrader": {
     "grade": false,
     "locked": true,
     "solution": false
    },
    "editable": false,
    "deletable": false
   },
   "source": [
    "### 3.c. Instructions\n",
    "<u>method name</u>: <b>load_soup_object</b>\n",
    "<pre>The following is expected:\n",
    "--- Complete the 'get_highly_correlated_cols' function to return two arrays:\n",
    "    * 'correlations' - An python list, containing the correlation values for highly correlated columns\n",
    "                       from the given 'df' dataframe.\n",
    "    * 'tuple_arr'    - A python list, containing two dimensional tuples, representing two \n",
    "                          columns with a high correlation.\n",
    "                       * Two columns are considered as correlated if the value of the \n",
    "                         Pearson correlation coefficient of these columns is >=0.5. \n",
    "                       * Each tuple should look like this: (i, j), where 'i' and 'j' are number \n",
    "                         of the highly correlated columns.\n",
    "                         * Remember that for two columns x, y, the correlation(x,y) =  correlation(y,x).\n",
    "                               * Only one corresponding pair should be returned. \n",
    "                         * You should make sure that i < j.\n",
    "                           For instance, if columns 3 and 5 are correlated, return\n",
    "                               the tuple (3, 5) instead of (5, 3).\n",
    "                         * Don't forget to filter self correlation (of a column with the same column).\n",
    "\n",
    "The return statement should look like this:\n",
    "return correlations, tuple_arr\n",
    "</pre>"
   ]
  },
  {
   "cell_type": "code",
   "execution_count": 59,
   "metadata": {
    "collapsed": true
   },
   "outputs": [],
   "source": [
    "# 3.c.\n",
    "# ------------>>>>>>>> RUN THIS CODE CELL <<<<<<<<------------\n",
    "# --------  (run after implementation)\n",
    "# === CODE TYPE: ANSWER \n",
    "\n",
    "def get_highly_correlated_cols(df):\n",
    "    ###\n",
    "    ### YOUR CODE HERE\n",
    "    ###\n"
   ]
  },
  {
   "cell_type": "code",
   "execution_count": 60,
   "metadata": {},
   "outputs": [],
   "source": [
    "# 3.c.\n",
    "# ------------>>>>>>>> RUN THIS CODE CELL <<<<<<<<------------\n",
    "# --------  (run after implementation)\n",
    "# === CODE TYPE: SELF TESTING\n",
    "# Use the following code to test your implementation:\n",
    "file_name = '.' + os.sep + 'data' + os.sep + 'imdb_movies_v1.5c.csv'\n",
    "col_names = ['movie_title', 'title_year', 'director_name', 'actor_1_name', \n",
    "             'duration', 'facenumber_in_poster', 'budget', 'gross', 'imdb_score', \n",
    "             'num_voted_users', 'num_user_for_reviews', 'num_critic_for_reviews', 'director_facebook_likes', \n",
    "             'movie_facebook_likes', 'actor_1_facebook_likes', 'cast_total_facebook_likes']\n",
    "cols_for_correlations = ['duration', 'facenumber_in_poster', 'budget', 'gross', 'imdb_score', \n",
    "                         'num_critic_for_reviews', 'director_facebook_likes', 'movie_facebook_likes', \n",
    "                         'actor_1_facebook_likes', 'cast_total_facebook_likes']\n",
    "df_cln_imdb = load_csv(file_name,col_names)\n",
    "correlations, tuple_arr = get_highly_correlated_cols(df_cln_imdb[cols_for_correlations])\n",
    "# --- add additional code to check your code if needed:\n",
    "###\n",
    "### YOUR CODE HERE\n",
    "###\n"
   ]
  },
  {
   "cell_type": "code",
   "execution_count": 61,
   "metadata": {
    "collapsed": true
   },
   "outputs": [],
   "source": [
    "# 3.c.\n",
    "# ------------>>>>>>>> RUN THIS CODE CELL <<<<<<<<------------\n",
    "# --------  (run after implementation, if used)\n",
    "# === CODE TYPE: SELF TESTING\n",
    "# ---- Add your additional tests here if needed:\n",
    "###\n",
    "### YOUR CODE HERE\n",
    "###\n"
   ]
  },
  {
   "cell_type": "code",
   "execution_count": 62,
   "metadata": {
    "nbgrader": {
     "grade": true,
     "grade_id": "test3c-1_get_highly_correlated_cols",
     "locked": true,
     "points": "0.1",
     "solution": false
    },
    "editable": false,
    "deletable": false
   },
   "outputs": [],
   "source": [
    "# 3.c.\n",
    "# ------------>>>>>>>> RUN THIS CODE CELL <<<<<<<<------------\n",
    "# --------  (run only)\n",
    "# === CODE TYPE: GRADED TEST \n",
    "\n",
    "print (\"Part 3c. - Test 1 (name: test3c-1_get_highly_correlated_cols, points: 0.1) - Sanity\")\n",
    "print (\"\\t--->Testing the implementation of 'get_highly_correlated_cols' ...\")\n",
    "\n",
    "file_name = '.' + os.sep + 'data' + os.sep + 'imdb_movies_v1.5c.csv'\n",
    "col_names = ['movie_title', 'title_year', 'director_name', 'actor_1_name', \n",
    "             'duration', 'facenumber_in_poster', 'budget', 'gross', 'imdb_score', \n",
    "             'num_voted_users', 'num_user_for_reviews', 'num_critic_for_reviews', 'director_facebook_likes', \n",
    "             'movie_facebook_likes', 'actor_1_facebook_likes', 'cast_total_facebook_likes']\n",
    "cols_for_correlations = ['duration', 'facenumber_in_poster', 'budget', 'gross', 'imdb_score', \n",
    "                         'num_critic_for_reviews', 'director_facebook_likes', 'movie_facebook_likes', \n",
    "                         'actor_1_facebook_likes', 'cast_total_facebook_likes']\n",
    "\n",
    "try:\n",
    "    df_cln_imdb = load_csv(file_name,col_names)\n",
    "    correlations, tuple_arr = get_highly_correlated_cols(df_cln_imdb[cols_for_correlations])\n",
    "except Exception as e:\n",
    "    print ('You probably have a syntax error, we got the following exception:')\n",
    "    print ('\\tError Message:',str(e))\n",
    "    print ('Try fixing your implementation')\n",
    "    raise \n",
    "\n",
    "assert len(correlations)==3, 'Wrong number of correlation values'\n",
    "assert len(tuple_arr)==3, 'Wrong number of correlated pairs'\n",
    "\n",
    "indx_sort = np.argsort(correlations)\n",
    "\n",
    "assert round(correlations[indx_sort[-1]], 2) == 0.92, 'Wrong top correlation values'\n",
    "\n",
    "for n_correlation in indx_sort:\n",
    "    col_lt, col_rt = tuple_arr[n_correlation]\n",
    "    col_name_lt, col_name_rt = cols_for_correlations[col_lt], cols_for_correlations[col_rt]\n",
    "    title = \"corr('%s', '%s')=%4.2f\" %(col_name_lt, col_name_rt, correlations[n_correlation]) \n",
    "    print(title)\n",
    "    \n",
    "print (\"\\nGood Job!\\nYou've passed the 1st test for the implementation of the 'get_highly_correlated_cols' method :-)\")"
   ]
  },
  {
   "cell_type": "code",
   "execution_count": 63,
   "metadata": {
    "nbgrader": {
     "grade": true,
     "grade_id": "test3c-2_get_highly_correlated_cols",
     "locked": true,
     "points": "0.3",
     "solution": false
    },
    "editable": false,
    "deletable": false
   },
   "outputs": [],
   "source": [
    "# 3.c.\n",
    "# ------------>>>>>>>> RUN THIS CODE CELL <<<<<<<<------------\n",
    "# --------  (run only)\n",
    "# === CODE TYPE: GRADED TEST \n",
    "\n",
    "print (\"Part 3c. - Test 2 (name: test3c-2_get_highly_correlated_cols, points: 0.3)\")\n",
    "print (\"\\t--->Testing the implementation of 'get_highly_correlated_cols' ...\")\n",
    "\n",
    "file_name = '.' + os.sep + 'data' + os.sep + 'imdb_movies_v1.5c.csv'\n",
    "col_names = ['movie_title', 'title_year', 'director_name', 'actor_1_name', \n",
    "             'duration', 'facenumber_in_poster', 'budget', 'gross', 'imdb_score', \n",
    "             'num_voted_users', 'num_user_for_reviews', 'num_critic_for_reviews', 'director_facebook_likes', \n",
    "             'movie_facebook_likes', 'actor_1_facebook_likes', 'cast_total_facebook_likes']\n",
    "cols_for_correlations = ['duration', 'facenumber_in_poster', 'budget', 'gross', 'imdb_score', \n",
    "                         'num_critic_for_reviews', 'director_facebook_likes', 'movie_facebook_likes', \n",
    "                         'actor_1_facebook_likes', 'cast_total_facebook_likes']\n",
    "\n",
    "try:\n",
    "    df_cln_imdb = load_csv(file_name,col_names)\n",
    "    correlations, tuple_arr = get_highly_correlated_cols(df_cln_imdb[cols_for_correlations])\n",
    "except Exception as e:\n",
    "    print ('You probably have a syntax error, we got the following exception:')\n",
    "    print ('\\tError Message:',str(e))\n",
    "    print ('Try fixing your implementation')\n",
    "    raise \n",
    "\n",
    "assert len(correlations)==3, 'Wrong number of correlation values'\n",
    "assert len(tuple_arr)==3, 'Wrong number of correlated pairs'\n",
    "    \n",
    "print (\"\\nGood Job!\\nYou've passed the 2nd test for the implementation of the 'get_highly_correlated_cols' method :-)\")"
   ]
  },
  {
   "cell_type": "code",
   "execution_count": 64,
   "metadata": {
    "nbgrader": {
     "grade": true,
     "grade_id": "test3c-3_get_highly_correlated_cols",
     "locked": true,
     "points": "0.6",
     "solution": false
    },
    "editable": false,
    "deletable": false
   },
   "outputs": [],
   "source": [
    "# 3.c.\n",
    "# ------------>>>>>>>> RUN THIS CODE CELL <<<<<<<<------------\n",
    "# --------  (run only)\n",
    "# === CODE TYPE: GRADED TEST \n",
    "\n",
    "print (\"Part 3c. - Test 3 (name: test3c-3_get_highly_correlated_cols, points: 0.6)\")\n",
    "print (\"\\t--->Testing the implementation of 'get_highly_correlated_cols' ...\")\n",
    "\n",
    "file_name = '.' + os.sep + 'data' + os.sep + 'imdb_movies_v1.5c.csv'\n",
    "col_names = ['movie_title', 'title_year', 'director_name', 'actor_1_name', \n",
    "             'duration', 'facenumber_in_poster', 'budget', 'gross', 'imdb_score', \n",
    "             'num_voted_users', 'num_user_for_reviews', 'num_critic_for_reviews', 'director_facebook_likes', \n",
    "             'movie_facebook_likes', 'actor_1_facebook_likes', 'cast_total_facebook_likes']\n",
    "cols_for_correlations = ['duration', 'facenumber_in_poster', 'budget', 'gross', 'imdb_score', \n",
    "                         'num_critic_for_reviews', 'director_facebook_likes', 'movie_facebook_likes', \n",
    "                         'actor_1_facebook_likes', 'cast_total_facebook_likes']\n",
    "\n",
    "try:\n",
    "    df_cln_imdb = load_csv(file_name,col_names)\n",
    "    correlations, tuple_arr = get_highly_correlated_cols(df_cln_imdb[cols_for_correlations])\n",
    "except Exception as e:\n",
    "    print ('You probably have a syntax error, we got the following exception:')\n",
    "    print ('\\tError Message:',str(e))\n",
    "    print ('Try fixing your implementation')\n",
    "    raise \n",
    "\n",
    "indx_sort = np.argsort(correlations)\n",
    "assert round(correlations[indx_sort[-1]], 2) == 0.92, 'Wrong top correlation values'\n",
    "for n_correlation in indx_sort:\n",
    "    col_lt, col_rt = tuple_arr[n_correlation]\n",
    "    col_name_lt, col_name_rt = cols_for_correlations[col_lt], cols_for_correlations[col_rt]\n",
    "    title = \"corr('%s', '%s')=%4.2f\" %(col_name_lt, col_name_rt, correlations[n_correlation]) \n",
    "    print(title)\n",
    "    \n",
    "print (\"\\nGood Job!\\nYou've passed the 3rd test for the implementation of the 'get_highly_correlated_cols' method :-)\")"
   ]
  },
  {
   "cell_type": "code",
   "execution_count": 67,
   "metadata": {},
   "outputs": [],
   "source": [
    "print(indx_sort)\n",
    "print(correlations)\n",
    "print(tuple_arr)\n",
    "print(col_name_lt)"
   ]
  },
  {
   "cell_type": "markdown",
   "metadata": {
    "nbgrader": {
     "grade": false,
     "locked": true,
     "solution": false
    },
    "editable": false,
    "deletable": false
   },
   "source": [
    "### 3.d. Scatter plot of highly correlated column values"
   ]
  },
  {
   "cell_type": "markdown",
   "metadata": {
    "nbgrader": {
     "grade": false,
     "locked": true,
     "solution": false
    },
    "editable": false,
    "deletable": false
   },
   "source": [
    "### 3.d. Instructions\n",
    "<u>method name</u>: <b>plot_high_correlated_scatters</b>\n",
    "<pre>The following is expected:\n",
    "--- Complete the 'plot_high_correlated_scatters' function to plot scatter plots for each column pair,\n",
    "    of the given 'df' dataframe, which has a high Pearson correlation coefficient (>=0.5).\n",
    "    * Use the 'get_highly_correlated_cols', which you've already implemented, to get the\n",
    "      highly correlated column pair numbers.\n",
    "\n",
    "In your plots, each plot's title should be formatted as following:\n",
    "  \"corr('%s', '%s')=%4.2f\" (col_name1, col_name2, correlation)\n",
    "* An example of such a title is shown in the above test for the 'get_highly_correlated_cols' function.\n",
    "Notes: \n",
    "* Use subplots to plot the scatter plots, with up to 5 plots a row (if there are up to\n",
    "  5 subplots to display, display them in the same row)\n",
    "* Remember that correlation(x,y) =  correlation(y,x). \n",
    "  Only one corresponding pair should be plotted. \n",
    "  * Assume there are not more than one row of subplots (i.e., maximum 5 subplots)\n",
    "</pre>"
   ]
  },
  {
   "cell_type": "code",
   "execution_count": null,
   "metadata": {
    "collapsed": true
   },
   "outputs": [],
   "source": [
    "# 3.d.\n",
    "# ------------>>>>>>>> RUN THIS CODE CELL <<<<<<<<------------\n",
    "# --------  (run after implementation)\n",
    "# === CODE TYPE: ANSWER \n",
    "\n",
    "def plot_high_correlated_scatters(df):\n",
    "    ###\n",
    "    ### YOUR CODE HERE\n",
    "    ###\n"
   ]
  },
  {
   "cell_type": "code",
   "execution_count": null,
   "metadata": {
    "collapsed": true
   },
   "outputs": [],
   "source": [
    "# 3.d.\n",
    "# ------------>>>>>>>> RUN THIS CODE CELL <<<<<<<<------------\n",
    "# --------  (run after implementation)\n",
    "# === CODE TYPE: SELF TESTING\n",
    "# Use the following code to test your implementation:\n",
    "file_name = '.' + os.sep + 'data' + os.sep + 'imdb_movies_v1.5c.csv'\n",
    "col_names = ['movie_title', 'title_year', 'director_name', 'actor_1_name', \n",
    "             'duration', 'facenumber_in_poster', 'budget', 'gross', 'imdb_score', \n",
    "             'num_voted_users', 'num_user_for_reviews', 'num_critic_for_reviews', 'director_facebook_likes', \n",
    "             'movie_facebook_likes', 'actor_1_facebook_likes', 'cast_total_facebook_likes']\n",
    "cols_for_correlations = ['duration', 'facenumber_in_poster', 'budget', 'gross', 'imdb_score', \n",
    "                         'num_critic_for_reviews', 'director_facebook_likes', 'movie_facebook_likes', \n",
    "                         'actor_1_facebook_likes', 'cast_total_facebook_likes']\n",
    "df_cln_imdb = load_csv(file_name,col_names)\n",
    "plot_high_correlated_scatters(df_cln_imdb[cols_for_correlations])\n",
    "# --- add additional code to check your code if needed:\n",
    "###\n",
    "### YOUR CODE HERE\n",
    "###\n"
   ]
  },
  {
   "cell_type": "code",
   "execution_count": null,
   "metadata": {
    "collapsed": true
   },
   "outputs": [],
   "source": [
    "# 3.d.\n",
    "# ------------>>>>>>>> RUN THIS CODE CELL <<<<<<<<------------\n",
    "# --------  (run after implementation, if used)\n",
    "# === CODE TYPE: SELF TESTING\n",
    "# ---- Add your additional tests here if needed:\n",
    "###\n",
    "### YOUR CODE HERE\n",
    "###\n"
   ]
  },
  {
   "cell_type": "code",
   "execution_count": null,
   "metadata": {
    "collapsed": true,
    "nbgrader": {
     "grade": true,
     "grade_id": "test3d-1_plot_high_correlated_scatters",
     "locked": true,
     "points": "0.1",
     "solution": false
    },
    "editable": false,
    "deletable": false
   },
   "outputs": [],
   "source": [
    "# 3.d.\n",
    "# ------------>>>>>>>> RUN THIS CODE CELL <<<<<<<<------------\n",
    "# --------  (run only)\n",
    "# === CODE TYPE: GRADED TEST \n",
    "\n",
    "print (\"Part 3d. - Test 1 (name: test3d-1_plot_high_correlated_scatters, points: 0.1) - Sanity\")\n",
    "print (\"\\t--->Testing the implementation of 'plot_high_correlated_scatters' ...\")\n",
    "\n",
    "file_name = '.' + os.sep + 'data' + os.sep + 'imdb_movies_v1.5c.csv'\n",
    "col_names = ['movie_title', 'title_year', 'director_name', 'actor_1_name', \n",
    "             'duration', 'facenumber_in_poster', 'budget', 'gross', 'imdb_score', \n",
    "             'num_voted_users', 'num_user_for_reviews', 'num_critic_for_reviews', 'director_facebook_likes', \n",
    "             'movie_facebook_likes', 'actor_1_facebook_likes', 'cast_total_facebook_likes']\n",
    "cols_for_correlations = ['duration', 'facenumber_in_poster', 'budget', 'gross', 'imdb_score', \n",
    "                         'num_critic_for_reviews', 'director_facebook_likes', 'movie_facebook_likes', \n",
    "                         'actor_1_facebook_likes', 'cast_total_facebook_likes']\n",
    "\n",
    "try:\n",
    "    df_cln_imdb = load_csv(file_name,col_names)\n",
    "    plot_high_correlated_scatters(df_cln_imdb[cols_for_correlations])\n",
    "except Exception as e:\n",
    "    print ('You probably have a syntax error, we got the following exception:')\n",
    "    print ('\\tError Message:',str(e))\n",
    "    print ('Try fixing your implementation')\n",
    "    raise \n",
    "\n",
    "print (\"\\nGood Job!\\nYou've passed the 1st test for the implementation of the 'plot_high_correlated_scatters' method :-)\")"
   ]
  },
  {
   "cell_type": "code",
   "execution_count": null,
   "metadata": {
    "collapsed": true,
    "nbgrader": {
     "grade": true,
     "grade_id": "test3d-2_plot_high_correlated_scatters",
     "locked": true,
     "points": "0.4",
     "solution": false
    },
    "editable": false,
    "deletable": false
   },
   "outputs": [],
   "source": [
    "# 3.d.\n",
    "# ------------>>>>>>>> RUN THIS CODE CELL <<<<<<<<------------\n",
    "# --------  (run only)\n",
    "# === CODE TYPE: GRADED TEST \n",
    "\n",
    "print (\"Part 3d. - Test 2 (name: test3d-2_plot_high_correlated_scatters, points: 0.4)\")\n",
    "print (\"\\t--->Testing the implementation of 'plot_high_correlated_scatters' ...\")\n",
    "\n",
    "file_name = '.' + os.sep + 'data' + os.sep + 'imdb_movies_v1.5c.csv'\n",
    "col_names = ['movie_title', 'title_year', 'director_name', 'actor_1_name', \n",
    "             'duration', 'facenumber_in_poster', 'budget', 'gross', 'imdb_score', \n",
    "             'num_voted_users', 'num_user_for_reviews', 'num_critic_for_reviews', 'director_facebook_likes', \n",
    "             'movie_facebook_likes', 'actor_1_facebook_likes', 'cast_total_facebook_likes']\n",
    "cols_for_correlations = ['duration', 'facenumber_in_poster', 'budget', 'gross', 'imdb_score', \n",
    "                         'num_critic_for_reviews', 'director_facebook_likes', 'movie_facebook_likes', \n",
    "                         'actor_1_facebook_likes', 'cast_total_facebook_likes']\n",
    "\n",
    "try:\n",
    "    df_cln_imdb = load_csv(file_name,col_names)\n",
    "    plot_high_correlated_scatters(df_cln_imdb[cols_for_correlations])\n",
    "except Exception as e:\n",
    "    print ('You probably have a syntax error, we got the following exception:')\n",
    "    print ('\\tError Message:',str(e))\n",
    "    print ('Try fixing your implementation')\n",
    "    raise \n",
    "\n",
    "all_axes = plt.gcf().get_axes()\n",
    "assert len(all_axes)==3, 'Wrong number of subplots'\n",
    "\n",
    "print (\"\\nGood Job!\\nYou've passed the 2nd test for the implementation of the 'plot_high_correlated_scatters' method :-)\")"
   ]
  },
  {
   "cell_type": "code",
   "execution_count": null,
   "metadata": {
    "collapsed": true,
    "nbgrader": {
     "grade": true,
     "grade_id": "test3d-3_plot_high_correlated_scatters",
     "locked": true,
     "points": "0.5",
     "solution": false
    },
    "editable": false,
    "deletable": false
   },
   "outputs": [],
   "source": [
    "# 3.d.\n",
    "# ------------>>>>>>>> RUN THIS CODE CELL <<<<<<<<------------\n",
    "# --------  (run only)\n",
    "# === CODE TYPE: GRADED TEST \n",
    "\n",
    "print (\"Part 3d. - Test 3 (name: test3d-3_plot_high_correlated_scatters, points: 0.5)\")\n",
    "print (\"\\t--->Testing the implementation of 'plot_high_correlated_scatters' ...\")\n",
    "\n",
    "file_name = '.' + os.sep + 'data' + os.sep + 'imdb_movies_v1.5c.csv'\n",
    "col_names = ['movie_title', 'title_year', 'director_name', 'actor_1_name', \n",
    "             'duration', 'facenumber_in_poster', 'budget', 'gross', 'imdb_score', \n",
    "             'num_voted_users', 'num_user_for_reviews', 'num_critic_for_reviews', 'director_facebook_likes', \n",
    "             'movie_facebook_likes', 'actor_1_facebook_likes', 'cast_total_facebook_likes']\n",
    "cols_for_correlations = ['duration', 'facenumber_in_poster', 'budget', 'gross', 'imdb_score', \n",
    "                         'num_critic_for_reviews', 'director_facebook_likes', 'movie_facebook_likes', \n",
    "                         'actor_1_facebook_likes', 'cast_total_facebook_likes']\n",
    "\n",
    "try:\n",
    "    df_cln_imdb = load_csv(file_name,col_names)\n",
    "    plot_high_correlated_scatters(df_cln_imdb[cols_for_correlations])\n",
    "except Exception as e:\n",
    "    print ('You probably have a syntax error, we got the following exception:')\n",
    "    print ('\\tError Message:',str(e))\n",
    "    print ('Try fixing your implementation')\n",
    "    raise \n",
    "\n",
    "all_axes = plt.gcf().get_axes()\n",
    "assert len(all_axes)==3, 'Wrong number of subplots'\n",
    "\n",
    "cols=['title_year','imdb_score']\n",
    "plot_testers = [mpc.PlotTester(all_axes[n_axis]) for n_axis in range(len(all_axes))]\n",
    "spc_testers  = [ScatterPlotChecker(all_axes[n_axis]) for n_axis in range(len(all_axes))]\n",
    "scatter_ydata_values   = [np.array([val for val in spc_testers[n_plot].y_data]) for n_plot in range(3)]\n",
    "scatter_xdata_values   = [np.array([val for val in spc_testers[n_plot].x_data]) for n_plot in range(3)]\n",
    "scatter_values_diffs = [scatter_ydata_values[n_plot]-scatter_xdata_values[n_plot] for n_plot in range(3)]\n",
    "scatter_values_diffs_mean = [np.around(scatter_values_diff.mean(), decimals=2) for scatter_values_diff in scatter_values_diffs]\n",
    "scatter_values_diffs_median = [np.around(np.median(scatter_values_diff), decimals=2) for scatter_values_diff in scatter_values_diffs]\n",
    "for n_plot in range(3):\n",
    "    curr_tested_axis = all_axes[n_plot]\n",
    "    plot_testers[n_plot].assert_plot_type('scatter')\n",
    "    assert scatter_values_diffs_mean[n_plot] == [6752841.14, 6134.92, 3070.32][n_plot], 'Wrong mean diff value for the %s column' %(cols[n_plot])\n",
    "    assert scatter_values_diffs_median[n_plot] == [751256.5, 104.5, 1791.5][n_plot], 'Wrong median diff value for the %s column' %(cols[n_plot])\n",
    "\n",
    "print (\"\\nGood Job!\\nYou've passed the 3rd test for the implementation of the 'plot_high_correlated_scatters' method :-)\")"
   ]
  }
 ],
 "metadata": {
  "kernelspec": {
   "display_name": "Python 3 (ipykernel)",
   "language": "python",
   "name": "python3"
  },
  "language_info": {
   "codemirror_mode": {
    "name": "ipython",
    "version": 3
   },
   "file_extension": ".py",
   "mimetype": "text/x-python",
   "name": "python",
   "nbconvert_exporter": "python",
   "pygments_lexer": "ipython3",
   "version": "3.8.7"
  }
 },
 "nbformat": 4,
 "nbformat_minor": 2
}
