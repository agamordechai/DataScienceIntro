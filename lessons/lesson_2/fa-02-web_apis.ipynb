{
 "cells": [
  {
   "cell_type": "markdown",
   "metadata": {
    "nbgrader": {
     "grade": false,
     "locked": true,
     "solution": false
    },
    "editable": false,
    "deletable": false
   },
   "source": [
    "![Final Lesson Exercise](images/Banner_FEX.png)"
   ]
  },
  {
   "cell_type": "markdown",
   "metadata": {
    "nbgrader": {
     "grade": false,
     "locked": true,
     "solution": false
    },
    "editable": false,
    "deletable": false
   },
   "source": [
    "# Lesson #2: Data Science Introduction \n",
    "## Good chocolate (cont)"
   ]
  },
  {
   "cell_type": "markdown",
   "metadata": {
    "nbgrader": {
     "grade": false,
     "locked": true,
     "solution": false
    },
    "editable": false,
    "deletable": false
   },
   "source": [
    "## About this assignment\n",
    "In this assignment, you will continue to explore information regarding good chocolate.<br/>\n",
    "\n",
    "This time you will do so, using new capabilities, namely web APIs."
   ]
  },
  {
   "cell_type": "markdown",
   "metadata": {},
   "source": [
    "## Preceding Step - import modules (packages)\n",
    "This step is necessary in order to use external packages. \n",
    "\n",
    "**Use the following libraries for the assignment, when needed**:"
   ]
  },
  {
   "cell_type": "code",
   "metadata": {
    "collapsed": true,
    "nbgrader": {
     "grade": false,
     "locked": true,
     "solution": false
    },
    "editable": false,
    "deletable": false,
    "ExecuteTime": {
     "end_time": "2024-11-22T09:17:56.410646Z",
     "start_time": "2024-11-22T09:17:56.401340Z"
    }
   },
   "source": [
    "# ------------>>>>>>>> RUN THIS CODE CELL <<<<<<<<------------\n",
    "# === CELL TYPE: IMPORTS AND SETUP \n",
    "\n",
    "import pandas as pd\n",
    "import numpy as np\n",
    "\n",
    "import requests\n",
    "import json\n",
    "# ---\n",
    "import os # for testing only\n",
    "# ---"
   ],
   "outputs": [],
   "execution_count": 20
  },
  {
   "cell_type": "markdown",
   "metadata": {
    "nbgrader": {
     "grade": false,
     "locked": true,
     "solution": false
    },
    "editable": false,
    "deletable": false
   },
   "source": [
    "# 1. Using a web-API to acquire data\n",
    "<a id=\"dataset_desc\"></a>\n",
    "## The data - the quality chocolate database\n",
    "In this section, You will continue exploring the attributes of quality chocolate.<br />\n",
    "You will query a database on a distant server, using a web-API.<br/>\n",
    "This database holds information about quality chocolate in a dedicated table.<br/>\n",
    "\n",
    "<b>The table consists of the following attributes</b>:\n",
    " * company, name, review_date, cocoa_percent, company_location, ,rating, broad_bean_origin, bean_type. \n",
    "\n",
    "You can see below a sample of 5 rows:\n",
    "\n",
    "| company | name | review_date | cocoa_percent | company_location | rating | broad_bean_origin | bean_type |\n",
    "| :- | :- | :- | :- | :- | :- | :- | :- |\n",
    "| Castronovo | Tumbes | 2013 | 70 | U.S.A. | 2.75 | Peru | Criollo |\n",
    "| Blue Bandana | Akesson's E., Sambirano V. | 2016 | 82 | U.S.A. | 3.5 | Madagascar | Trinitario |\n",
    "| Grenada Chocolate Co. | Grenada | 2008 | 71 | Grenada | 2.5 | Grenada | Trinitario |\n",
    "| Heirloom Cacao Preservation (Brasstown) | Maya Mtn, Moho R., Toledo D., 2015 | 2016 | 70 | U.S.A. | 3.25 | Belize | Amazon |\n",
    "| Scharffen Berger | Kumasi Sambirano | 2006 | 68 | U.S.A. | 2 | Ghana & Madagascar | Blend |\n",
    "| Coppeneur | Los Rios, H. Iara | 2010 | 72 | Germany | 2.5 | Ecuador | Nacional |"
   ]
  },
  {
   "cell_type": "markdown",
   "metadata": {
    "nbgrader": {
     "grade": false,
     "locked": true,
     "solution": false
    },
    "editable": false,
    "deletable": false
   },
   "source": [
    "## Acquiring the data - about the web-API\n",
    "In the above [The data - the quality chocolate database](#dataset_desc) section you could see a list of the attributes which you could query, using the web-API.\n",
    "\n",
    "<b>For each of these attributes we can apply one of the following 2 criteria</b>:\n",
    "* “<b>refine</b>” – filter rows to match specific parameter values\n",
    "   * For instance if we use a query which contains the string: <i>refine.rating=3.5</i><br/>\n",
    "        This means - we want only records, which contain a 'rating' (one of the attribute names) of 3.5 <br/>\n",
    "        \n",
    "* “<b>exclude</b>” – exclude rows that contain specific parameter values.\n",
    "   * For instance if we use a query which contains the string: <i>exclude.company_location=Peru</i><br/>\n",
    "        This means - we want only records, which DO NOT contain the 'company_location' (one of the attribute names) of Peru <br/>\n",
    "\n",
    "If we add another constraint, in which we state we want reviews from 2015, then <b>the query string should look as following</b>:\n",
    "http://3.136.25.169:8080/api/records/1.0/search?dataset=chocolate-bars&exclude.company_location=Peru&refine.review_date=2015&refine.rating=3.5\n",
    "\n",
    "<b>Web-API URL address notice</b>:\n",
    "<div class=\"alert alert-success\">\n",
    "&#x2714; The web-API calls a server located in <a href=\"http://3.136.25.169:8080\">3.136.25.169:8080</a><br />\n",
    "    &#x2714; We query the chocolate-bars dataset, using: <b>dataset=chocolate-bars</b><br />\n",
    "&#x2714; The prefix of the query should look like this: <b>http://3.136.25.169:8080/api/records/1.0/search?dataset=chocolate-bars</b><br />\n",
    "</div>\n",
    "\n",
    "<b>Note</b>: This web-API uses the rules of the opendatasoft search web-API.<br/>\n",
    "Please refer to the [Search web-API rules documentation](https://help.opendatasoft.com/apis/ods-search-v1/#refining), for additional information, about the API rules."
   ]
  },
  {
   "cell_type": "markdown",
   "metadata": {
    "nbgrader": {
     "grade": false,
     "locked": true,
     "solution": false
    },
    "editable": false,
    "deletable": false
   },
   "source": [
    "## 1. Using a web-API to acquire data\n",
    "\n",
    "### Instructions\n",
    "<u>method name</u>: <b>get_res_for_API_query</b>\n",
    "<pre>The following is expected:\n",
    "--- Complete the 'get_res_for_API_query' function to get the result from\n",
    "    the chocolate-bar API, as explained above.\n",
    "--------\n",
    "Parameters:\n",
    "'included_field_value_pairs' - For example, [('review_date', '2015'),\n",
    "                                     ('company', 'Acalli')] - \n",
    "                  means that the 'review_date' must be equal to '2015' and the 'company' \n",
    "                  must be equal to 'Acalli'.\n",
    "                  * Note: the 'included_field_value_pairs' parameter might be empty.\n",
    "                          In such a case, do not add any 'refine' constraint.      \n",
    "'excluded_field_value_pairs' - For example, [('company_location', 'Peru')] -\n",
    "                  means that the 'company_location' MUST NOT be equal to 'Peru'\n",
    "                  * Note: the 'excluded_field_value_pairs' parameter might be empty.\n",
    "                          In such a case, do not add any 'exclude' constraint.\n",
    "--------\n",
    "The returned value needs to be the object returned from requests.get(str_query)    \n",
    "</pre>"
   ]
  },
  {
   "cell_type": "code",
   "metadata": {
    "collapsed": true,
    "ExecuteTime": {
     "end_time": "2024-11-22T09:18:02.548941Z",
     "start_time": "2024-11-22T09:18:02.533648Z"
    }
   },
   "source": [
    "# 1.\n",
    "# ------------>>>>>>>> RUN THIS CODE CELL <<<<<<<<------------\n",
    "# --------  (run after implementation)\n",
    "# === CODE TYPE: ANSWER \n",
    "\n",
    "def get_res_for_API_query(included_field_value_pairs, excluded_field_value_pairs):\n",
    "    prefix_url = 'http://3.136.25.169:8080/api/records/1.0/search?dataset=chocolate-bars'\n",
    "\n",
    "    refine_str = '&'.join([f'refine.{field}={val}' for field, val in included_field_value_pairs])\n",
    "    exclude_str = '&'.join([f'exclude.{field}={val}' for field, val in excluded_field_value_pairs])\n",
    "\n",
    "    url = '&'.join([prefix_url, refine_str, exclude_str])\n",
    "\n",
    "    return requests.get(url)"
   ],
   "outputs": [],
   "execution_count": 21
  },
  {
   "cell_type": "code",
   "metadata": {
    "ExecuteTime": {
     "end_time": "2024-11-22T09:18:05.505593Z",
     "start_time": "2024-11-22T09:18:04.716699Z"
    }
   },
   "source": [
    "# 1.\n",
    "# ------------>>>>>>>> RUN THIS CODE CELL <<<<<<<<------------\n",
    "# --------  (run after implementation)\n",
    "# === CODE TYPE: SELF TESTING\n",
    "# Use the following code to test your implementation:\n",
    "\n",
    "include_field_value_pairs = [('review_date', '2012'), ('company_location', 'Canada')]\n",
    "exlude_field_value_pairs = [('rating', '3.25')]\n",
    "res_query = get_res_for_API_query(include_field_value_pairs, exlude_field_value_pairs)\n",
    "res_json = res_query.json()\n",
    "res_recs = res_json['records']\n",
    "res_json"
   ],
   "outputs": [
    {
     "data": {
      "text/plain": [
       "{'nhits': 1234,\n",
       " 'parameters': {'dataset': 'chocolate-bars',\n",
       "  'exclude': {'rating': '3.25'},\n",
       "  'format': 'json',\n",
       "  'refine': {'company_location': 'Canada', 'review_date': '2012'},\n",
       "  'rows': 10,\n",
       "  'timezone': 'UTC'},\n",
       " 'records': [{'datasetid': 'chocolate-bars',\n",
       "   'fields': {'bean_type': 'Blend',\n",
       "    'broad_bean_origin': 'Dom. Rep., Madagascar',\n",
       "    'cocoa_percent': 70,\n",
       "    'company': 'Soma',\n",
       "    'company_location': 'Canada',\n",
       "    'name': 'Dual Origins, Sambirano, Elvesia',\n",
       "    'rating': 4.0,\n",
       "    'ref': '867',\n",
       "    'review_date': '2012'},\n",
       "   'record_timestamp': '2016-12-20T18:57:04.946+02:00',\n",
       "   'recordid': '78a75fece0efe14f0296c2e77737d36a'},\n",
       "  {'datasetid': 'chocolate-bars',\n",
       "   'fields': {'bean_type': 'Blend',\n",
       "    'broad_bean_origin': 'Gre., PNG, Haw., Haiti, Mad',\n",
       "    'cocoa_percent': 70,\n",
       "    'company': 'Soma',\n",
       "    'company_location': 'Canada',\n",
       "    'name': 'Dancing in Your Head, 5 bean blend',\n",
       "    'rating': 4.0,\n",
       "    'ref': '867',\n",
       "    'review_date': '2012'},\n",
       "   'record_timestamp': '2016-12-20T18:57:04.946+02:00',\n",
       "   'recordid': '96371463e2b52437f86b451533e64edb'},\n",
       "  {'datasetid': 'chocolate-bars',\n",
       "   'fields': {'bean_type': 'Trinitario',\n",
       "    'broad_bean_origin': 'Guatemala',\n",
       "    'cocoa_percent': 70,\n",
       "    'company': 'Soma',\n",
       "    'company_location': 'Canada',\n",
       "    'name': 'Cahabon Region',\n",
       "    'rating': 3.5,\n",
       "    'ref': '951',\n",
       "    'review_date': '2012'},\n",
       "   'record_timestamp': '2016-12-20T18:57:04.946+02:00',\n",
       "   'recordid': '0a8760ac5588aa7f0dcd89a89890470f'},\n",
       "  {'datasetid': 'chocolate-bars',\n",
       "   'fields': {'bean_type': 'Trinitario',\n",
       "    'broad_bean_origin': 'Papua New Guinea',\n",
       "    'cocoa_percent': 85,\n",
       "    'company': 'Soma',\n",
       "    'company_location': 'Canada',\n",
       "    'name': 'Papua New Guinea',\n",
       "    'rating': 3.5,\n",
       "    'ref': '983',\n",
       "    'review_date': '2012'},\n",
       "   'record_timestamp': '2016-12-20T18:57:04.946+02:00',\n",
       "   'recordid': '560b0556ccc071cd51b84b1b24508066'},\n",
       "  {'datasetid': 'chocolate-bars',\n",
       "   'fields': {'bean_type': 'Trinitario',\n",
       "    'broad_bean_origin': 'Venezuela',\n",
       "    'cocoa_percent': 70,\n",
       "    'company': 'Soma',\n",
       "    'company_location': 'Canada',\n",
       "    'name': 'Carenero Superior',\n",
       "    'rating': 3.75,\n",
       "    'ref': '951',\n",
       "    'review_date': '2012'},\n",
       "   'record_timestamp': '2016-12-20T18:57:04.946+02:00',\n",
       "   'recordid': 'd4844bab5242532781cad5fc809a9a57'},\n",
       "  {'datasetid': 'chocolate-bars',\n",
       "   'fields': {'bean_type': '',\n",
       "    'broad_bean_origin': 'Hawaii',\n",
       "    'cocoa_percent': 70,\n",
       "    'company': 'Soma',\n",
       "    'company_location': 'Canada',\n",
       "    'name': \"O'ahu\",\n",
       "    'rating': 3.75,\n",
       "    'ref': '833',\n",
       "    'review_date': '2012'},\n",
       "   'record_timestamp': '2016-12-20T18:57:04.946+02:00',\n",
       "   'recordid': '87c496b98e7b54e558fbfdbf152be134'},\n",
       "  {'datasetid': 'chocolate-bars',\n",
       "   'fields': {'bean_type': 'Blend',\n",
       "    'broad_bean_origin': 'Mad., Java, PNG',\n",
       "    'cocoa_percent': 70,\n",
       "    'company': 'Soma',\n",
       "    'company_location': 'Canada',\n",
       "    'name': 'Eastern Promises',\n",
       "    'rating': 3.5,\n",
       "    'ref': '967',\n",
       "    'review_date': '2012'},\n",
       "   'record_timestamp': '2016-12-20T18:57:04.946+02:00',\n",
       "   'recordid': 'b3390a7abc5271bbd4d4ccea0749127d'}]}"
      ]
     },
     "execution_count": 22,
     "metadata": {},
     "output_type": "execute_result"
    }
   ],
   "execution_count": 22
  },
  {
   "cell_type": "code",
   "execution_count": 21,
   "metadata": {
    "collapsed": true
   },
   "outputs": [],
   "source": [
    "# 1.\n",
    "# ------------>>>>>>>> RUN THIS CODE CELL <<<<<<<<------------\n",
    "# --------  (run after implementation, if used)\n",
    "# === CODE TYPE: SELF TESTING\n",
    "# Add your additional tests here if needed:\n",
    "\n",
    "###\n",
    "### YOUR CODE HERE\n",
    "###\n"
   ]
  },
  {
   "cell_type": "code",
   "metadata": {
    "nbgrader": {
     "grade": true,
     "grade_id": "test-1_1-get_res_for_API_query",
     "locked": true,
     "points": "0.5",
     "solution": false
    },
    "editable": false,
    "deletable": false,
    "ExecuteTime": {
     "end_time": "2024-11-22T09:18:54.030797Z",
     "start_time": "2024-11-22T09:18:52.335828Z"
    }
   },
   "source": [
    "# 1.\n",
    "# ------------>>>>>>>> RUN THIS CODE CELL <<<<<<<<------------\n",
    "# --------  (run only)\n",
    "# === CODE TYPE: GRADED TEST \n",
    "\n",
    "print (\"Part 1 - Test 1 (0.5 points) - Sanity (1)\")\n",
    "print (\"\\t--->Testing the implementation of 'get_res_for_API_query' ...\")\n",
    "\n",
    "include_field_value_pairs = [('review_date', '2012')]\n",
    "exlude_field_value_pairs = []\n",
    "res_query = None\n",
    "try:\n",
    "    res_query = get_res_for_API_query(include_field_value_pairs, exlude_field_value_pairs)\n",
    "except Exception as e:\n",
    "    print ('You probably have a syntax error, we got the following exception:')\n",
    "    print (str(e))\n",
    "    raise\n",
    "\n",
    "print (\"Good Job!\\nYou've passed the 1st test for the 'get_res_for_API_query' function implementation :-)\")"
   ],
   "outputs": [
    {
     "name": "stdout",
     "output_type": "stream",
     "text": [
      "Part 1 - Test 1 (0.5 points) - Sanity (1)\n",
      "\t--->Testing the implementation of 'get_res_for_API_query' ...\n",
      "Good Job!\n",
      "You've passed the 1st test for the 'get_res_for_API_query' function implementation :-)\n"
     ]
    }
   ],
   "execution_count": 23
  },
  {
   "cell_type": "code",
   "metadata": {
    "nbgrader": {
     "grade": true,
     "grade_id": "test-1_2-get_res_for_API_query",
     "locked": true,
     "points": "0.5",
     "solution": false
    },
    "editable": false,
    "deletable": false,
    "ExecuteTime": {
     "end_time": "2024-11-22T09:19:06.581732Z",
     "start_time": "2024-11-22T09:19:00.584689Z"
    }
   },
   "source": [
    "# 1.\n",
    "# ------------>>>>>>>> RUN THIS CODE CELL <<<<<<<<------------\n",
    "# --------  (run only)\n",
    "# === CODE TYPE: GRADED TEST \n",
    "\n",
    "print (\"Part 1 - Test 2 (0.5 points) - Sanity (2)\")\n",
    "print (\"\\t--->Testing the implementation of 'get_res_for_API_query' ...\")\n",
    "\n",
    "include_field_value_pairs = []\n",
    "exlude_field_value_pairs = [('rating', '3.25')]\n",
    "res_query = None\n",
    "try:\n",
    "    res_query = get_res_for_API_query(include_field_value_pairs, exlude_field_value_pairs)\n",
    "except Exception as e:\n",
    "    print ('You probably have a syntax error, we got the following exception:')\n",
    "    print (str(e))\n",
    "    raise\n",
    "\n",
    "print (\"Good Job!\\nYou've passed the 2nd test for the 'get_res_for_API_query' function implementation :-)\")"
   ],
   "outputs": [
    {
     "name": "stdout",
     "output_type": "stream",
     "text": [
      "Part 1 - Test 2 (0.5 points) - Sanity (2)\n",
      "\t--->Testing the implementation of 'get_res_for_API_query' ...\n",
      "Good Job!\n",
      "You've passed the 2nd test for the 'get_res_for_API_query' function implementation :-)\n"
     ]
    }
   ],
   "execution_count": 24
  },
  {
   "cell_type": "code",
   "metadata": {
    "nbgrader": {
     "grade": true,
     "grade_id": "test-1_3-get_res_for_API_query",
     "locked": true,
     "points": "0.5",
     "solution": false
    },
    "editable": false,
    "deletable": false,
    "ExecuteTime": {
     "end_time": "2024-11-22T09:19:17.581274Z",
     "start_time": "2024-11-22T09:19:16.803123Z"
    }
   },
   "source": [
    "# 1.\n",
    "# ------------>>>>>>>> RUN THIS CODE CELL <<<<<<<<------------\n",
    "# --------  (run only)\n",
    "# === CODE TYPE: GRADED TEST \n",
    "\n",
    "print (\"Part 1 - Test 3 (0.5 points) - Sanity (3)\")\n",
    "print (\"\\t--->Testing the implementation of 'get_res_for_API_query' ...\")\n",
    "\n",
    "include_field_value_pairs = [('review_date', '2012'), ('company_location', 'Canada')]\n",
    "exlude_field_value_pairs = [('rating', '3.25')]\n",
    "res_query = None\n",
    "try:\n",
    "    res_query = get_res_for_API_query(include_field_value_pairs, exlude_field_value_pairs)\n",
    "    res_json = res_query.json()\n",
    "    res_recs = res_json['records']\n",
    "except Exception as e:\n",
    "    print ('You probably have a syntax error, we got the following exception:')\n",
    "    print (str(e))\n",
    "    raise\n",
    "\n",
    "print (\"Good Job!\\nYou've passed the 3rd test for the 'get_res_for_API_query' function implementation :-)\")"
   ],
   "outputs": [
    {
     "name": "stdout",
     "output_type": "stream",
     "text": [
      "Part 1 - Test 3 (0.5 points) - Sanity (3)\n",
      "\t--->Testing the implementation of 'get_res_for_API_query' ...\n",
      "Good Job!\n",
      "You've passed the 3rd test for the 'get_res_for_API_query' function implementation :-)\n"
     ]
    }
   ],
   "execution_count": 25
  },
  {
   "cell_type": "code",
   "metadata": {
    "nbgrader": {
     "grade": true,
     "grade_id": "test-1_4-get_res_for_API_query",
     "locked": true,
     "points": "0.5",
     "solution": false
    },
    "editable": false,
    "deletable": false,
    "ExecuteTime": {
     "end_time": "2024-11-22T09:19:20.344422Z",
     "start_time": "2024-11-22T09:19:19.705699Z"
    }
   },
   "source": [
    "# 1.\n",
    "# ------------>>>>>>>> RUN THIS CODE CELL <<<<<<<<------------\n",
    "# --------  (run only)\n",
    "# === CODE TYPE: GRADED TEST \n",
    "\n",
    "print (\"Part 1 - Test 4 (0.5 points)\")\n",
    "print (\"\\t--->Testing the implementation of 'get_res_for_API_query' ...\")\n",
    "\n",
    "include_field_value_pairs = [('review_date', '2012'), ('company_location', 'Canada')]\n",
    "exlude_field_value_pairs = [('rating', '3.25')]\n",
    "res_query = None\n",
    "try:\n",
    "    res_query = get_res_for_API_query(include_field_value_pairs, exlude_field_value_pairs)\n",
    "    res_json = res_query.json()\n",
    "    res_recs = res_json['records']\n",
    "    records_not_dict = [rec for rec in res_recs if type(rec) is not dict]\n",
    "except Exception as e:\n",
    "    print ('You probably have a syntax error, we got the following exception:')\n",
    "    print (str(e))\n",
    "    raise\n",
    "\n",
    "assert len(records_not_dict)==0, 'Each of the records should be a dictionary'\n",
    "\n",
    "print (\"Good Job!\\nYou've passed the 4th test for the 'get_res_for_API_query' function implementation :-)\")"
   ],
   "outputs": [
    {
     "name": "stdout",
     "output_type": "stream",
     "text": [
      "Part 1 - Test 4 (0.5 points)\n",
      "\t--->Testing the implementation of 'get_res_for_API_query' ...\n",
      "Good Job!\n",
      "You've passed the 4th test for the 'get_res_for_API_query' function implementation :-)\n"
     ]
    }
   ],
   "execution_count": 26
  },
  {
   "cell_type": "code",
   "metadata": {
    "nbgrader": {
     "grade": true,
     "grade_id": "test-1_5-get_res_for_API_query",
     "locked": true,
     "points": "0.5",
     "solution": false
    },
    "editable": false,
    "deletable": false,
    "ExecuteTime": {
     "end_time": "2024-11-22T09:19:24.033331Z",
     "start_time": "2024-11-22T09:19:23.373916Z"
    }
   },
   "source": [
    "# 1.\n",
    "# ------------>>>>>>>> RUN THIS CODE CELL <<<<<<<<------------\n",
    "# --------  (run only)\n",
    "# === CODE TYPE: GRADED TEST \n",
    "\n",
    "print (\"Part 1 - Test 5 (0.5 points)\")\n",
    "print (\"\\t--->Testing the implementation of 'get_res_for_API_query' ...\")\n",
    "\n",
    "include_field_value_pairs = [('review_date', '2012'), ('company_location', 'Canada')]\n",
    "exlude_field_value_pairs = [('rating', '3.25')]\n",
    "res_query = None\n",
    "try:\n",
    "    res_query = get_res_for_API_query(include_field_value_pairs, exlude_field_value_pairs)\n",
    "    res_json = res_query.json()\n",
    "    res_recs = res_json['records']\n",
    "    records_not_dict = [rec for rec in res_recs if type(rec) is not dict]\n",
    "    records_no_fields_key = [rec for rec in res_recs if 'fields' not in rec]\n",
    "except Exception as e:\n",
    "    print ('You probably have a syntax error, we got the following exception:')\n",
    "    print (str(e))\n",
    "    raise\n",
    "\n",
    "assert len(records_no_fields_key)==0, \"Each of the records should include the key 'fields'\"\n",
    "\n",
    "print (\"Good Job!\\nYou've passed the 5th test for the 'get_res_for_API_query' function implementation :-)\")"
   ],
   "outputs": [
    {
     "name": "stdout",
     "output_type": "stream",
     "text": [
      "Part 1 - Test 5 (0.5 points)\n",
      "\t--->Testing the implementation of 'get_res_for_API_query' ...\n",
      "Good Job!\n",
      "You've passed the 5th test for the 'get_res_for_API_query' function implementation :-)\n"
     ]
    }
   ],
   "execution_count": 27
  },
  {
   "cell_type": "code",
   "metadata": {
    "nbgrader": {
     "grade": true,
     "grade_id": "test-1_6-get_res_for_API_query",
     "locked": true,
     "points": "0.5",
     "solution": false
    },
    "editable": false,
    "deletable": false,
    "ExecuteTime": {
     "end_time": "2024-11-22T09:19:28.040352Z",
     "start_time": "2024-11-22T09:19:27.204343Z"
    }
   },
   "source": [
    "# 1.\n",
    "# ------------>>>>>>>> RUN THIS CODE CELL <<<<<<<<------------\n",
    "# --------  (run only)\n",
    "# === CODE TYPE: GRADED TEST \n",
    "\n",
    "print (\"Part 1 - Test 6 (0.5 points)\")\n",
    "print (\"\\t---> - Testing the implementation of 'get_res_for_API_query' ...\")\n",
    "\n",
    "include_field_value_pairs = [('review_date', '2012'), ('company_location', 'Canada')]\n",
    "exlude_field_value_pairs = [('rating', '3.25')]\n",
    "res_query = None\n",
    "try:\n",
    "    res_query = get_res_for_API_query(include_field_value_pairs, exlude_field_value_pairs)\n",
    "    res_json = res_query.json()\n",
    "    res_recs = res_json['records']\n",
    "    records_not_dict = [rec for rec in res_recs if type(rec) is not dict]\n",
    "    records_no_fields_key = [rec for rec in res_recs if 'fields' not in rec]\n",
    "    res_fields = [rec['fields'] for rec in res_recs]\n",
    "except Exception as e:\n",
    "    print ('You probably have a syntax error, we got the following exception:')\n",
    "    print (str(e))\n",
    "    raise\n",
    "\n",
    "assert 7==len(res_fields), \"Wrong number of result for query\"\n",
    "print ('\\n---------------\\nFields:')\n",
    "print (res_fields)\n",
    "\n",
    "print (\"Good Job!\\nYou've passed the 6th test for the 'load_dataset' function implementation :-)\")"
   ],
   "outputs": [
    {
     "name": "stdout",
     "output_type": "stream",
     "text": [
      "Part 1 - Test 6 (0.5 points)\n",
      "\t---> - Testing the implementation of 'get_res_for_API_query' ...\n",
      "\n",
      "---------------\n",
      "Fields:\n",
      "[{'bean_type': 'Blend', 'broad_bean_origin': 'Dom. Rep., Madagascar', 'cocoa_percent': 70, 'company': 'Soma', 'company_location': 'Canada', 'name': 'Dual Origins, Sambirano, Elvesia', 'rating': 4.0, 'ref': '867', 'review_date': '2012'}, {'bean_type': 'Blend', 'broad_bean_origin': 'Gre., PNG, Haw., Haiti, Mad', 'cocoa_percent': 70, 'company': 'Soma', 'company_location': 'Canada', 'name': 'Dancing in Your Head, 5 bean blend', 'rating': 4.0, 'ref': '867', 'review_date': '2012'}, {'bean_type': 'Trinitario', 'broad_bean_origin': 'Guatemala', 'cocoa_percent': 70, 'company': 'Soma', 'company_location': 'Canada', 'name': 'Cahabon Region', 'rating': 3.5, 'ref': '951', 'review_date': '2012'}, {'bean_type': 'Trinitario', 'broad_bean_origin': 'Papua New Guinea', 'cocoa_percent': 85, 'company': 'Soma', 'company_location': 'Canada', 'name': 'Papua New Guinea', 'rating': 3.5, 'ref': '983', 'review_date': '2012'}, {'bean_type': 'Trinitario', 'broad_bean_origin': 'Venezuela', 'cocoa_percent': 70, 'company': 'Soma', 'company_location': 'Canada', 'name': 'Carenero Superior', 'rating': 3.75, 'ref': '951', 'review_date': '2012'}, {'bean_type': '', 'broad_bean_origin': 'Hawaii', 'cocoa_percent': 70, 'company': 'Soma', 'company_location': 'Canada', 'name': \"O'ahu\", 'rating': 3.75, 'ref': '833', 'review_date': '2012'}, {'bean_type': 'Blend', 'broad_bean_origin': 'Mad., Java, PNG', 'cocoa_percent': 70, 'company': 'Soma', 'company_location': 'Canada', 'name': 'Eastern Promises', 'rating': 3.5, 'ref': '967', 'review_date': '2012'}]\n",
      "Good Job!\n",
      "You've passed the 6th test for the 'load_dataset' function implementation :-)\n"
     ]
    }
   ],
   "execution_count": 28
  },
  {
   "cell_type": "markdown",
   "metadata": {
    "nbgrader": {
     "grade": false,
     "locked": true,
     "solution": false
    },
    "editable": false,
    "deletable": false
   },
   "source": [
    "## 2. Organizing the acquired API information\n",
    "The records returned from the chocolate opendatasoft API in in [moocdsand](http://moocdsand.ml:8080/api/records/1.0/search) are returned in json format.<br/>\n",
    "(If the response object is called res_obj) use res_obj.json() to get a dictionary (representing the json).\n",
    "\n",
    "In this sub section you will organize the results in a dataframe.<br/>\n",
    "You need to find the relevant path in the dictionary, in order to extract the relevant information.\n",
    "The relevant information might look as following: \n",
    "\n",
    "{\"nhits\": 2, \"parameters\": {\"dataset\": \"chocolate-bars\", \"refine\": {\"company\": \"Acalli\"}, \"timezone\": \"UTC\", \"rows\": 10, \"format\": \"json\"}, \"**records**\": [{\"datasetid\": \"chocolate-bars\", \"recordid\": \"8f51...b42c\", \"**fields**\": {\"rating\": 3.75, \"review_date\": \"2015\", \"name\": \"Tumbes, Norandino\", \"cocoa_percent\": 70, \"company\": \"Acalli\", \"bean_type\": \"Criollo\", \"company_location\": \"U.S.A.\", \"broad_bean_origin\": \"Peru\", \"ref\": \"1470\"}, \"record_timestamp\": \"2016-12-20T16:57:04.946000+00:00\"}, {\"datasetid\": \"chocolate-bars\", \"recordid\": \"685b...81d8\", \"**fields**\": {\"rating\": 3.75, \"review_date\": \"2015\", \"name\": \"Chulucanas, El Platanal\", \"cocoa_percent\": 70, \"company\": \"Acalli\", \"company_location\": \"U.S.A.\", \"broad_bean_origin\": \"Peru\", \"ref\": \"1462\"}, \"record_timestamp\": \"2016-12-20T16:57:04.946000+00:00\"}], \"facet_groups\": [{\"facets\": ..."
   ]
  },
  {
   "cell_type": "markdown",
   "metadata": {
    "nbgrader": {
     "grade": false,
     "locked": true,
     "solution": false
    },
    "editable": false,
    "deletable": false
   },
   "source": [
    "### Instructions\n",
    "<u>method name</u>: <b>load_query_result_to_df</b>\n",
    "<pre>The following is expected:\n",
    "--- Complete the 'load_query_result_to_df' function to load the 'api_query_res' result from the \n",
    "    previous 'get_res_for_API_query' to a dataframe.\n",
    "    Use the api_query_res.json() to get a dictionary (representing the json), as explained above.\n",
    "\n",
    "    The information of each record (i.e. a row in the dataframe) appears under the 'fields' key,\n",
    "    in the sub dictionary.\n",
    "    See the path to 'fields', as showed above.\n",
    "--------\n",
    "Parameters:\n",
    "'included_field_value_pairs' - For example, [('review_date', '2015'),\n",
    "                                     ('company', 'Acalli')] - \n",
    "                  means that the 'review_date' must be equal to '2015' and the 'company' \n",
    "                  must be equal to 'Acalli'.\n",
    "'excluded_field_value_pairs' - For example, [('company_location', 'Peru')] -\n",
    "                  means that the 'company_location' MUST NOT be equal to 'Peru'\n",
    "--------\n",
    "The returned value needs to be the object returned from requests.get(str_query)    \n",
    "</pre>"
   ]
  },
  {
   "cell_type": "code",
   "metadata": {
    "collapsed": true,
    "ExecuteTime": {
     "end_time": "2024-11-22T09:36:09.884187Z",
     "start_time": "2024-11-22T09:36:09.871956Z"
    }
   },
   "source": [
    "# 2.\n",
    "# ------------>>>>>>>> RUN THIS CODE CELL <<<<<<<<------------\n",
    "# --------  (run after implementation)\n",
    "# === CODE TYPE: ANSWER \n",
    "\n",
    "def load_query_result_to_df(api_query_res):\n",
    "    api_query_res_json = api_query_res.json()\n",
    "    records = api_query_res_json['records']\n",
    "    fields = [rec['fields'] for rec in records]\n",
    "    return pd.DataFrame(fields)"
   ],
   "outputs": [],
   "execution_count": 61
  },
  {
   "cell_type": "code",
   "metadata": {
    "ExecuteTime": {
     "end_time": "2024-11-22T09:36:21.370666Z",
     "start_time": "2024-11-22T09:36:20.722816Z"
    }
   },
   "source": [
    "# 2.\n",
    "# ------------>>>>>>>> RUN THIS CODE CELL <<<<<<<<------------\n",
    "# --------  (run after implementation)\n",
    "# === CODE TYPE: SELF TESTING\n",
    "# Use the following code to test your implementation:\n",
    "\n",
    "include_field_value_pairs = [('review_date', '2013'),\n",
    "                         ('company_location', 'Belgium')]\n",
    "exlude_field_value_pairs = [('rating', '3.25'), ('bean_type', 'Trinitario')]\n",
    "res_query = get_res_for_API_query(include_field_value_pairs, exlude_field_value_pairs)\n",
    "df_results = load_query_result_to_df(res_query)\n",
    "df_results\n"
   ],
   "outputs": [
    {
     "data": {
      "text/plain": [
       "  bean_type broad_bean_origin  cocoa_percent        company company_location  \\\n",
       "0   Criollo         Venezuela             74  Benoit Nihant          Belgium   \n",
       "1   Criollo         Venezuela             74  Benoit Nihant          Belgium   \n",
       "\n",
       "              name  rating   ref review_date  \n",
       "0  Cuyagua Village     3.5  1141        2013  \n",
       "1            Chuao     3.5  1141        2013  "
      ],
      "text/html": [
       "<div>\n",
       "<style scoped>\n",
       "    .dataframe tbody tr th:only-of-type {\n",
       "        vertical-align: middle;\n",
       "    }\n",
       "\n",
       "    .dataframe tbody tr th {\n",
       "        vertical-align: top;\n",
       "    }\n",
       "\n",
       "    .dataframe thead th {\n",
       "        text-align: right;\n",
       "    }\n",
       "</style>\n",
       "<table border=\"1\" class=\"dataframe\">\n",
       "  <thead>\n",
       "    <tr style=\"text-align: right;\">\n",
       "      <th></th>\n",
       "      <th>bean_type</th>\n",
       "      <th>broad_bean_origin</th>\n",
       "      <th>cocoa_percent</th>\n",
       "      <th>company</th>\n",
       "      <th>company_location</th>\n",
       "      <th>name</th>\n",
       "      <th>rating</th>\n",
       "      <th>ref</th>\n",
       "      <th>review_date</th>\n",
       "    </tr>\n",
       "  </thead>\n",
       "  <tbody>\n",
       "    <tr>\n",
       "      <th>0</th>\n",
       "      <td>Criollo</td>\n",
       "      <td>Venezuela</td>\n",
       "      <td>74</td>\n",
       "      <td>Benoit Nihant</td>\n",
       "      <td>Belgium</td>\n",
       "      <td>Cuyagua Village</td>\n",
       "      <td>3.5</td>\n",
       "      <td>1141</td>\n",
       "      <td>2013</td>\n",
       "    </tr>\n",
       "    <tr>\n",
       "      <th>1</th>\n",
       "      <td>Criollo</td>\n",
       "      <td>Venezuela</td>\n",
       "      <td>74</td>\n",
       "      <td>Benoit Nihant</td>\n",
       "      <td>Belgium</td>\n",
       "      <td>Chuao</td>\n",
       "      <td>3.5</td>\n",
       "      <td>1141</td>\n",
       "      <td>2013</td>\n",
       "    </tr>\n",
       "  </tbody>\n",
       "</table>\n",
       "</div>"
      ]
     },
     "execution_count": 63,
     "metadata": {},
     "output_type": "execute_result"
    }
   ],
   "execution_count": 63
  },
  {
   "cell_type": "code",
   "execution_count": 30,
   "metadata": {
    "collapsed": true
   },
   "outputs": [],
   "source": [
    "# 2.\n",
    "# ------------>>>>>>>> RUN THIS CODE CELL <<<<<<<<------------\n",
    "# --------  (run after implementation, if used)\n",
    "# === CODE TYPE: SELF TESTING\n",
    "# Add your additional tests here if needed:\n",
    "\n",
    "###\n",
    "### YOUR CODE HERE\n",
    "###\n"
   ]
  },
  {
   "cell_type": "code",
   "metadata": {
    "nbgrader": {
     "grade": true,
     "grade_id": "test-2_1-load_query_result_to_df",
     "locked": true,
     "points": "0.5",
     "solution": false
    },
    "editable": false,
    "deletable": false,
    "ExecuteTime": {
     "end_time": "2024-11-22T09:36:29.689940Z",
     "start_time": "2024-11-22T09:36:28.983329Z"
    }
   },
   "source": [
    "# 2.\n",
    "# ------------>>>>>>>> RUN THIS CODE CELL <<<<<<<<------------\n",
    "# --------  (run only)\n",
    "# === CODE TYPE: GRADED TEST \n",
    "\n",
    "print (\"Part 2. - Test 1 (0.5 points) - Sanity\")\n",
    "print (\"\\t--->Testing the implementation of the 'load_query_result_to_df' method (and 'get_res_for_API_query') ...\")\n",
    "\n",
    "include_field_value_pairs = [('review_date', '2013'),\n",
    "                         ('company_location', 'Belgium')]\n",
    "exlude_field_value_pairs = [('rating', '3.25'), ('bean_type', 'Trinitario')]\n",
    "\n",
    "res_query = None\n",
    "try:\n",
    "    res_query = get_res_for_API_query(include_field_value_pairs, exlude_field_value_pairs)\n",
    "    df_results = load_query_result_to_df(res_query)\n",
    "except Exception as e:\n",
    "    print ('You probably have a syntax error, we got the following exception:')\n",
    "    print (str(e))\n",
    "    raise\n",
    "\n",
    "print (\"Good Job!\\nYou've passed the 1st test for the 'load_query_result_to_df' method (and 'get_res_for_API_query') implementation :-)\")"
   ],
   "outputs": [
    {
     "name": "stdout",
     "output_type": "stream",
     "text": [
      "Part 2. - Test 1 (0.5 points) - Sanity\n",
      "\t--->Testing the implementation of the 'load_query_result_to_df' method (and 'get_res_for_API_query') ...\n",
      "Good Job!\n",
      "You've passed the 1st test for the 'load_query_result_to_df' method (and 'get_res_for_API_query') implementation :-)\n"
     ]
    }
   ],
   "execution_count": 64
  },
  {
   "cell_type": "code",
   "metadata": {
    "nbgrader": {
     "grade": true,
     "grade_id": "test-2_2-load_query_result_to_df",
     "locked": true,
     "points": "0.5",
     "solution": false
    },
    "editable": false,
    "deletable": false,
    "ExecuteTime": {
     "end_time": "2024-11-22T09:36:31.329441Z",
     "start_time": "2024-11-22T09:36:30.683246Z"
    }
   },
   "source": [
    "# 2.\n",
    "# ------------>>>>>>>> RUN THIS CODE CELL <<<<<<<<------------\n",
    "# --------  (run only)\n",
    "# === CODE TYPE: GRADED TEST \n",
    "\n",
    "print (\"Part 2. - Test 2 (0.5 points) - Sanity (2)\")\n",
    "print (\"\\t--->Testing the implementation of the 'load_query_result_to_df' method (and 'get_res_for_API_query') ...\")\n",
    "\n",
    "include_field_value_pairs = [('review_date', '2013'),\n",
    "                         ('company_location', 'Belgium')]\n",
    "exlude_field_value_pairs = [('rating', '3.25'), ('bean_type', 'Trinitario')]\n",
    "\n",
    "res_query = None\n",
    "try:\n",
    "    res_query = get_res_for_API_query(include_field_value_pairs, exlude_field_value_pairs)\n",
    "    df_results = load_query_result_to_df(res_query)\n",
    "except Exception as e:\n",
    "    print ('You probably have a syntax error, we got the following exception:')\n",
    "    print (str(e))\n",
    "    raise\n",
    "    \n",
    "assert type(res_query) is requests.models.Response,'wrong type of result'\n",
    "assert type(df_results) is pd.DataFrame, 'result should be a dataframe'\n",
    "\n",
    "print (\"Good Job!\\nYou've passed the 2nd test for the 'load_query_result_to_df' method (and 'get_res_for_API_query') implementation :-)\")"
   ],
   "outputs": [
    {
     "name": "stdout",
     "output_type": "stream",
     "text": [
      "Part 2. - Test 2 (0.5 points) - Sanity (2)\n",
      "\t--->Testing the implementation of the 'load_query_result_to_df' method (and 'get_res_for_API_query') ...\n",
      "Good Job!\n",
      "You've passed the 2nd test for the 'load_query_result_to_df' method (and 'get_res_for_API_query') implementation :-)\n"
     ]
    }
   ],
   "execution_count": 65
  },
  {
   "cell_type": "code",
   "metadata": {
    "nbgrader": {
     "grade": true,
     "grade_id": "test-2_3-load_query_result_to_df",
     "locked": true,
     "points": "1",
     "solution": false
    },
    "editable": false,
    "deletable": false,
    "ExecuteTime": {
     "end_time": "2024-11-22T09:36:32.843156Z",
     "start_time": "2024-11-22T09:36:32.171339Z"
    }
   },
   "source": [
    "# 2.\n",
    "# ------------>>>>>>>> RUN THIS CODE CELL <<<<<<<<------------\n",
    "# --------  (run only)\n",
    "# === CODE TYPE: GRADED TEST \n",
    "\n",
    "print (\"Part 2. - Test 3 (1 points)\")\n",
    "print (\"\\t--->Testing the implementation of the 'load_query_result_to_df' method (and 'get_res_for_API_query') ...\")\n",
    "\n",
    "include_field_value_pairs = [('review_date', '2013'),\n",
    "                         ('company_location', 'Belgium')]\n",
    "exlude_field_value_pairs = [('rating', '3.25'), ('bean_type', 'Trinitario')]\n",
    "\n",
    "\n",
    "res_query = None\n",
    "try:\n",
    "    res_query = get_res_for_API_query(include_field_value_pairs, exlude_field_value_pairs)\n",
    "    df_results = load_query_result_to_df(res_query)\n",
    "except Exception as e:\n",
    "    print ('You probably have a syntax error, we got the following exception:')\n",
    "    print (str(e))\n",
    "    raise\n",
    "    \n",
    "assert 74==df_results['cocoa_percent'].iloc[0], 'wrong value for cocoa_percent in 1st row'\n",
    "\n",
    "\n",
    "print (\"Good Job!\\nYou've passed the 3rd test for the load_query_result_to_df' method (and 'get_res_for_API_query') function implementation :-)\")       "
   ],
   "outputs": [
    {
     "name": "stdout",
     "output_type": "stream",
     "text": [
      "Part 2. - Test 3 (1 points)\n",
      "\t--->Testing the implementation of the 'load_query_result_to_df' method (and 'get_res_for_API_query') ...\n",
      "Good Job!\n",
      "You've passed the 3rd test for the load_query_result_to_df' method (and 'get_res_for_API_query') function implementation :-)\n"
     ]
    }
   ],
   "execution_count": 66
  },
  {
   "cell_type": "code",
   "metadata": {
    "nbgrader": {
     "grade": true,
     "grade_id": "test-2_4-load_query_result_to_df",
     "locked": true,
     "points": "1",
     "solution": false
    },
    "editable": false,
    "deletable": false,
    "ExecuteTime": {
     "end_time": "2024-11-22T09:36:35.490176Z",
     "start_time": "2024-11-22T09:36:34.413241Z"
    }
   },
   "source": [
    "# 2.\n",
    "# ------------>>>>>>>> RUN THIS CODE CELL <<<<<<<<------------\n",
    "# --------  (run only)\n",
    "# === CODE TYPE: GRADED TEST \n",
    "\n",
    "print (\"Part 2. - Test 4 (1 points)\")\n",
    "print (\"\\t--->Testing the implementation of the 'load_query_result_to_df' method (and 'get_res_for_API_query') ...\")\n",
    "\n",
    "include_field_value_pairs = [('review_date', '2013'),\n",
    "                         ('company_location', 'Belgium')]\n",
    "exlude_field_value_pairs = [('rating', '3.25'), ('bean_type', 'Trinitario')]\n",
    "\n",
    "\n",
    "res_query = None\n",
    "try:\n",
    "    res_query = get_res_for_API_query(include_field_value_pairs, exlude_field_value_pairs)\n",
    "    df_results = load_query_result_to_df(res_query)\n",
    "except Exception as e:\n",
    "    print ('You probably have a syntax error, we got the following exception:')\n",
    "    print (str(e))\n",
    "    raise\n",
    "    \n",
    "assert 2==df_results.shape[0], \"Wrong number of results for query\"\n",
    "print ('\\nResults:')\n",
    "print (df_results[['name', 'rating', 'company_location', 'cocoa_percent']])\n",
    "\n",
    "print (\"Good Job!\\nYou've passed the 4th test for the load_query_result_to_df' method (and 'get_res_for_API_query') function implementation :-)\")"
   ],
   "outputs": [
    {
     "name": "stdout",
     "output_type": "stream",
     "text": [
      "Part 2. - Test 4 (1 points)\n",
      "\t--->Testing the implementation of the 'load_query_result_to_df' method (and 'get_res_for_API_query') ...\n",
      "\n",
      "Results:\n",
      "              name  rating company_location  cocoa_percent\n",
      "0  Cuyagua Village     3.5          Belgium             74\n",
      "1            Chuao     3.5          Belgium             74\n",
      "Good Job!\n",
      "You've passed the 4th test for the load_query_result_to_df' method (and 'get_res_for_API_query') function implementation :-)\n"
     ]
    }
   ],
   "execution_count": 67
  },
  {
   "metadata": {},
   "cell_type": "code",
   "outputs": [],
   "execution_count": null,
   "source": ""
  }
 ],
 "metadata": {
  "kernelspec": {
   "display_name": "Python 3 [3.7]",
   "language": "python",
   "name": "python3"
  },
  "language_info": {
   "codemirror_mode": {
    "name": "ipython",
    "version": 3
   },
   "file_extension": ".py",
   "mimetype": "text/x-python",
   "name": "python",
   "nbconvert_exporter": "python",
   "pygments_lexer": "ipython3",
   "version": "3.7.5"
  }
 },
 "nbformat": 4,
 "nbformat_minor": 4
}
