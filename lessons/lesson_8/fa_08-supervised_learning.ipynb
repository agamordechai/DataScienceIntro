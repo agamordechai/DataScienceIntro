{
    "cells": [
        {
            "cell_type": "markdown",
            "metadata": {
                "nbgrader": {
                    "grade": false,
                    "locked": true,
                    "solution": false
                },
                "editable": false,
                "deletable": false
            },
            "source": [
                "![Final Lesson Exercise](images\/Banner_FEX.png)"
            ]
        },
        {
            "cell_type": "markdown",
            "metadata": {
                "nbgrader": {
                    "grade": false,
                    "locked": true,
                    "solution": false
                },
                "editable": false,
                "deletable": false
            },
            "source": [
                "# Lesson #8: Supervised Learning - classification and regression\n",
                "## Good Movies - The IMDb movie dataset"
            ]
        },
        {
            "cell_type": "markdown",
            "metadata": {
                "nbgrader": {
                    "grade": false,
                    "locked": true,
                    "solution": false
                },
                "editable": false,
                "deletable": false
            },
            "source": [
                "## About this assignment\n",
                "In this assignment, you will continue to explore information regarding good movies.<br\/>\n",
                "\n",
                "This time you will practice the classification and regression flow.<br \/>\n",
                "You will need to do the following:\n",
                "* Distinguish between classification and regression problems\n",
                "* Train classification and regression models and predict the test examples\n",
                "* Run evaluation for the classification and regression models\n",
                "* Manipulate features in order to improve the results"
            ]
        },
        {
            "cell_type": "markdown",
            "metadata": {
                "nbgrader": {
                    "grade": false,
                    "locked": true,
                    "solution": false
                },
                "editable": false,
                "deletable": false
            },
            "source": [
                "## Preceding Step - import modules (packages)\n",
                "This step is necessary in order to use external packages. \n",
                "\n",
                "**Use the following libraries for the assignment, when needed**:"
            ]
        },
        {
            "cell_type": "code",
            "execution_count": null,
            "metadata": {
                "collapsed": true
            },
            "outputs": [],
            "source": [
                "# ------------>>>>>>>> RUN THIS CODE CELL <<<<<<<<------------\n",
                "# === CELL TYPE: IMPORTS AND SETUP \n",
                "\n",
                "import os                       # for testing use only\n",
                "import pandas as pd\n",
                "import numpy as np\n",
                "import matplotlib as mpl\n",
                "import matplotlib.pyplot as plt\n",
                "import seaborn as sns\n",
                "from collections import Counter\n",
                "import sklearn\n",
                "from sklearn import linear_model, metrics, preprocessing\n",
                "from sklearn.preprocessing import StandardScaler, MinMaxScaler\n",
                "from sklearn.linear_model import LogisticRegression, LinearRegression\n",
                "from sklearn.metrics import r2_score, f1_score\n",
                "\n",
                "%matplotlib inline"
            ]
        },
        {
            "cell_type": "markdown",
            "metadata": {
                "nbgrader": {
                    "grade": false,
                    "locked": true,
                    "solution": false
                },
                "editable": false,
                "deletable": false
            },
            "source": [
                "## 1. Load the dataset\n",
                "In this section you will need to load the dataset and split the dataset to feature vectors (X) and target (y).<br \/>\n",
                "\n",
                "Note: the target could vary and represent a classification target or a regression target."
            ]
        },
        {
            "cell_type": "markdown",
            "metadata": {
                "nbgrader": {
                    "grade": false,
                    "locked": true,
                    "solution": false
                },
                "editable": false,
                "deletable": false
            },
            "source": [
                "### 1. Instructions\n",
                "<u>method name<\/u>: <b>load_dataset<\/b>\n",
                "<pre>The following is expected:\n",
                "--- Complete the 'load_dataset' function to load the csv \n",
                "    located in the 'file_name' parameter into a pandas dataframe.\n",
                "You should return a dataframe for the feature vectors (without the target column) \n",
                "    and a series containing the corresponding target values, determined by the 'target_column' column.\n",
                "\n",
                "<\/pre>\n",
                "<hr>\n",
                "Assuming 'X' represents the feature vector dataframe and 'y' represents the target values series,<br \/>\n",
                "The return statement should look similar to the following statement:<br \/>\n",
                "<b>return X, y<\/b>"
            ]
        },
        {
            "cell_type": "code",
            "execution_count": null,
            "metadata": {
                "collapsed": true
            },
            "outputs": [],
            "source": [
                "# 1.\n",
                "# ------------>>>>>>>> RUN THIS CODE CELL <<<<<<<<------------\n",
                "# --------  (run after implementation)\n",
                "# === CODE TYPE: ANSWER \n",
                "\n",
                "def load_dataset(file_name, target_column):\n",
                "    ###\n",
                "    ### YOUR CODE HERE\n",
                "    ###\n"
            ]
        },
        {
            "cell_type": "code",
            "execution_count": null,
            "metadata": {
                "collapsed": true
            },
            "outputs": [],
            "source": [
                "# 1.\n",
                "# ------------>>>>>>>> RUN THIS CODE CELL <<<<<<<<------------\n",
                "# --------  (run after implementation)\n",
                "# === CODE TYPE: SELF TESTING\n",
                "# Use the following code to test your implementation:\n",
                "\n",
                "file_name = '.' + os.sep + 'data' + os.sep + 'imdb_for_1st_model_train.csv'\n",
                "target_col_name = 'imdb_score'\n",
                "X, y = load_dataset(file_name, target_col_name)\n",
                "print(X.shape,y.shape)\n",
                "# --- add additional code to check your code if needed:\n",
                "###\n",
                "### YOUR CODE HERE\n",
                "###\n"
            ]
        },
        {
            "cell_type": "code",
            "execution_count": null,
            "metadata": {
                "collapsed": true
            },
            "outputs": [],
            "source": [
                "# 1.\n",
                "# ------------>>>>>>>> RUN THIS CODE CELL <<<<<<<<------------\n",
                "# --------  (run after implementation, if used)\n",
                "# === CODE TYPE: SELF TESTING\n",
                "# ---- Add your additional tests here if needed:\n",
                "###\n",
                "### YOUR CODE HERE\n",
                "###\n"
            ]
        },
        {
            "cell_type": "code",
            "execution_count": null,
            "metadata": {
                "collapsed": true,
                "nbgrader": {
                    "grade": true,
                    "grade_id": "test1-1_load_dataset",
                    "locked": true,
                    "points": "0.1",
                    "solution": false
                },
                "editable": false,
                "deletable": false
            },
            "outputs": [],
            "source": [
                "# 1.\n",
                "# ------------>>>>>>>> RUN THIS CODE CELL <<<<<<<<------------\n",
                "# --------  (run only)\n",
                "# === CODE TYPE: GRADED TEST \n",
                "\n",
                "print (\"Part 1. - Test 1 (name: test1-1_load_dataset, points: 0.1) - Sanity\")\n",
                "print (\"\\t--->Testing the implementation of 'load_dataset' ...\")\n",
                "\n",
                "file_name = '.' + os.sep + 'data' + os.sep + 'imdb_for_1st_model_train.csv'\n",
                "target_col_name = 'imdb_score'\n",
                "\n",
                "try:\n",
                "    X, y = load_dataset(file_name, target_col_name)\n",
                "except Exception as e:\n",
                "    print ('You probably have a syntax error, we got the following exception:')\n",
                "    print ('\\tError Message:', str(e))\n",
                "    print ('Try fixing your implementation')\n",
                "    raise \n",
                "\n",
                "print (\"Good Job!\\nYou've passed the 1st test for the 'load_dataset' function implementation :-)\")"
            ]
        },
        {
            "cell_type": "code",
            "execution_count": null,
            "metadata": {
                "collapsed": true,
                "nbgrader": {
                    "grade": true,
                    "grade_id": "test1-2_load_dataset",
                    "locked": true,
                    "points": "0.1",
                    "solution": false
                },
                "editable": false,
                "deletable": false
            },
            "outputs": [],
            "source": [
                "# 1.\n",
                "# ------------>>>>>>>> RUN THIS CODE CELL <<<<<<<<------------\n",
                "# --------  (run only)\n",
                "# === CODE TYPE: GRADED TEST \n",
                "\n",
                "print (\"Part 1. - Test 2 (name: test1-2_load_dataset, points: 0.1)\")\n",
                "print (\"\\t--->Testing the implementation of 'load_dataset' ...\")\n",
                "\n",
                "file_name = '.' + os.sep + 'data' + os.sep + 'imdb_for_1st_model_train.csv'\n",
                "target_col_name = 'imdb_score'\n",
                "\n",
                "try:\n",
                "    X, y = load_dataset(file_name, target_col_name)\n",
                "except Exception as e:\n",
                "    print ('You probably have a syntax error, we got the following exception:')\n",
                "    print ('\\tError Message:', str(e))\n",
                "    print ('Try fixing your implementation')\n",
                "    raise \n",
                "\n",
                "assert X.shape == (2956, 14), 'Wrong shape for feature vector dataframe'\n",
                "assert y.shape[0] == 2956, 'Wrong number of target values in series'\n",
                "np.testing.assert_array_equal(X.index, y.index, 'X and y should have the same index')\n",
                "\n",
                "print (\"Good Job!\\nYou've passed the 2nd test for the 'load_dataset' function implementation :-)\")"
            ]
        },
        {
            "cell_type": "code",
            "execution_count": null,
            "metadata": {
                "collapsed": true,
                "nbgrader": {
                    "grade": true,
                    "grade_id": "test1-3_load_dataset",
                    "locked": true,
                    "points": "0.1",
                    "solution": false
                },
                "editable": false,
                "deletable": false
            },
            "outputs": [],
            "source": [
                "# 1.\n",
                "# ------------>>>>>>>> RUN THIS CODE CELL <<<<<<<<------------\n",
                "# --------  (run only)\n",
                "# === CODE TYPE: GRADED TEST \n",
                "\n",
                "print (\"Part 1. - Test 3 (name: test1-3_load_dataset, points: 0.1)\")\n",
                "print (\"\\t--->Testing the implementation of 'load_dataset' ...\")\n",
                "\n",
                "file_name = '.' + os.sep + 'data' + os.sep + 'imdb_for_2nd_model_train.csv'\n",
                "target_col_name = 'suitable_for_kids'\n",
                "    \n",
                "print ('Note: the dataset is already scaled ...')\n",
                "try:\n",
                "    X, y = load_dataset(file_name, target_col_name)\n",
                "except Exception as e:\n",
                "    print ('You probably have a syntax error, we got the following exception:')\n",
                "    print ('\\tError Message:', str(e))\n",
                "    print ('Try fixing your implementation')\n",
                "    raise \n",
                "\n",
                "assert X.shape == (2892, 15), 'Wrong shape for feature vector dataframe'\n",
                "assert y.shape[0] == 2892, 'Wrong number of target values in series'\n",
                "\n",
                "print (\"Good Job!\\nYou've passed the 3rd test for the 'load_dataset' function implementation :-)\")"
            ]
        },
        {
            "cell_type": "markdown",
            "metadata": {
                "nbgrader": {
                    "grade": false,
                    "locked": true,
                    "solution": false
                },
                "editable": false,
                "deletable": false
            },
            "source": [
                "## 2. <u>The first<\/u> supervised model \n",
                "In his section you will do the following:\n",
                "* Train a supervised model on the train set\n",
                "* Predict the examples from the test set\n",
                "* Evaluate the performance of the model you've built"
            ]
        },
        {
            "cell_type": "code",
            "execution_count": null,
            "metadata": {
                "collapsed": true,
                "nbgrader": {
                    "grade": false,
                    "locked": true,
                    "solution": false
                },
                "editable": false,
                "deletable": false
            },
            "outputs": [],
            "source": [
                "# 2.\n",
                "# ------------>>>>>>>> RUN THIS CODE CELL <<<<<<<<------------\n",
                "# --------  (run only)\n",
                "# === CODE TYPE: EXPLORATION\n",
                "\n",
                "print (\"The following are the first few rows of the 1st dataset:\")\n",
                "print (\"-------------------------\")\n",
                "\n",
                "file_name = '.' + os.sep + 'data' + os.sep + 'imdb_for_1st_model_train.csv'\n",
                "target_col_name = 'imdb_score'\n",
                "\n",
                "try:\n",
                "    X, y = load_dataset(file_name, target_col_name)\n",
                "except Exception as e:\n",
                "    print ('You probably have a syntax error, we got the following exception:')\n",
                "    print ('\\tError Message:', str(e))\n",
                "    print ('Try fixing your implementation')\n",
                "    raise \n",
                "\n",
                "X.head()"
            ]
        },
        {
            "cell_type": "markdown",
            "metadata": {
                "nbgrader": {
                    "grade": false,
                    "locked": true,
                    "solution": false
                },
                "editable": false,
                "deletable": false
            },
            "source": [
                "### 2.a. Train <u>the first<\/u> supervised model \n",
                "\n",
                "You need to train a model, which predicts the IMDb score.<br \/>\n",
                "* The value of the target series will be between 0 and 1. (the unit interval) <br \/>\n",
                "  Higher values means a better score.<br \/>\n",
                "\n",
                "You need to <u>identify the type of learning problem<\/u>.<br \/>\n",
                "Accordingly, you need to understand whether to train a classification model or regression model.<br \/>\n",
                "* Train the supervised model, using the relevant `sklearn` algorithm you've studied: `LinearRegression` or `LogisticRegression`."
            ]
        },
        {
            "cell_type": "markdown",
            "metadata": {
                "nbgrader": {
                    "grade": false,
                    "locked": true,
                    "solution": false
                },
                "editable": false,
                "deletable": false
            },
            "source": [
                "### 2.a. Instructions\n",
                "<u>method name<\/u>: <b>train_1st_model<\/b>\n",
                "<pre>The following is expected:\n",
                "You need to train a model, which predicts the IMDb score.\n",
                "\n",
                "--- Complete the 'train_1st_model' function to train a supervised learning model on the \n",
                "    training set (use the input 'X_train' dataframe and the corresponding 'y_train' target values).\n",
                "\n",
                "Notes:\n",
                "- Use the relevant sklearn algorithm for the training\n",
                "  (LinearRegression or LogisticRegression) and return the trained model.\n",
                "- Use all input variables in your model.\n",
                "<\/pre>\n",
                "<hr>\n",
                "The return statement should look similar to the following statement:<br \/>\n",
                "<b>return trained_model<\/b>"
            ]
        },
        {
            "cell_type": "code",
            "execution_count": null,
            "metadata": {
                "collapsed": true
            },
            "outputs": [],
            "source": [
                "# 2.a.\n",
                "# ------------>>>>>>>> RUN THIS CODE CELL <<<<<<<<------------\n",
                "# --------  (run after implementation)\n",
                "# === CODE TYPE: ANSWER \n",
                "\n",
                "def train_1st_model(X_train, y_train):\n",
                "    ###\n",
                "    ### YOUR CODE HERE\n",
                "    ###\n"
            ]
        },
        {
            "cell_type": "code",
            "execution_count": null,
            "metadata": {
                "collapsed": true
            },
            "outputs": [],
            "source": [
                "# 2.a.\n",
                "# ------------>>>>>>>> RUN THIS CODE CELL <<<<<<<<------------\n",
                "# --------  (run after implementation)\n",
                "# === CODE TYPE: SELF TESTING\n",
                "# Use the following code to test your implementation:\n",
                "file_name_train = '.' + os.sep + 'data' + os.sep + 'imdb_for_1st_model_train.csv'\n",
                "file_name_test = '.' + os.sep + 'data' + os.sep + 'imdb_for_1st_model_test.csv'\n",
                "target_col_name = 'imdb_score'\n",
                "X_1st_train, y_1st_train = load_dataset(file_name_train, target_col_name)\n",
                "X_1st_test, y_1st_test = load_dataset(file_name_test, target_col_name)\n",
                "trained_model_1st = train_1st_model(X_1st_train, y_1st_train)\n",
                "# --- add additional code to check your code if needed:\n",
                "###\n",
                "### YOUR CODE HERE\n",
                "###\n"
            ]
        },
        {
            "cell_type": "code",
            "execution_count": null,
            "metadata": {
                "collapsed": true
            },
            "outputs": [],
            "source": [
                "# 2.a.\n",
                "# ------------>>>>>>>> RUN THIS CODE CELL <<<<<<<<------------\n",
                "# --------  (run after implementation, if used)\n",
                "# === CODE TYPE: SELF TESTING\n",
                "# ---- Add your additional tests here if needed:\n",
                "###\n",
                "### YOUR CODE HERE\n",
                "###\n"
            ]
        },
        {
            "cell_type": "code",
            "execution_count": null,
            "metadata": {
                "collapsed": true,
                "nbgrader": {
                    "grade": true,
                    "grade_id": "test2a-1_train_1st_model",
                    "locked": true,
                    "points": "0.1",
                    "solution": false
                },
                "editable": false,
                "deletable": false
            },
            "outputs": [],
            "source": [
                "# 2.a.\n",
                "# ------------>>>>>>>> RUN THIS CODE CELL <<<<<<<<------------\n",
                "# --------  (run only)\n",
                "# === CODE TYPE: GRADED TEST \n",
                "\n",
                "print (\"Part 2.a. - Test 1 (name: test2a-1_train_1st_model, points: 0.1) - Sanity\")\n",
                "print (\"\\t--->Testing the implementation of 'train_1st_model' ...\")\n",
                "\n",
                "file_name_train = '.' + os.sep + 'data' + os.sep + 'imdb_for_1st_model_train.csv'\n",
                "file_name_test = '.' + os.sep + 'data' + os.sep + 'imdb_for_1st_model_test.csv'\n",
                "target_col_name = 'imdb_score'\n",
                "\n",
                "try:\n",
                "    X_1st_train, y_1st_train = load_dataset(file_name_train, target_col_name)\n",
                "    X_1st_test, y_1st_test = load_dataset(file_name_test, target_col_name)\n",
                "    trained_model_1st = train_1st_model(X_1st_train, y_1st_train)\n",
                "except Exception as e:\n",
                "    print ('You probably have a syntax error, we got the following exception:')\n",
                "    print ('\\tError Message:', str(e))\n",
                "    print ('Try fixing your implementation')\n",
                "    raise \n",
                "    \n",
                "print (\"Good Job!\\nYou've passed the 1st test for the 'train_1st_model' function implementation :-)\")"
            ]
        },
        {
            "cell_type": "code",
            "execution_count": null,
            "metadata": {
                "collapsed": true,
                "nbgrader": {
                    "grade": true,
                    "grade_id": "test2a-2_train_1st_model",
                    "locked": true,
                    "points": "0.3",
                    "solution": false
                },
                "editable": false,
                "deletable": false
            },
            "outputs": [],
            "source": [
                "# 2.a.\n",
                "# ------------>>>>>>>> RUN THIS CODE CELL <<<<<<<<------------\n",
                "# --------  (run only)\n",
                "# === CODE TYPE: GRADED TEST \n",
                "\n",
                "print (\"Part 2.a. - Test 2 (name: test2a-2_train_1st_model, points: 0.3)\")\n",
                "print (\"\\t--->Testing the implementation of 'train_1st_model' ...\")\n",
                "\n",
                "file_name_train = '.' + os.sep + 'data' + os.sep + 'imdb_for_1st_model_train.csv'\n",
                "file_name_test = '.' + os.sep + 'data' + os.sep + 'imdb_for_1st_model_test.csv'\n",
                "target_col_name = 'imdb_score'\n",
                "\n",
                "try:\n",
                "    X_1st_train, y_1st_train = load_dataset(file_name_train, target_col_name)\n",
                "    X_1st_test, y_1st_test = load_dataset(file_name_test, target_col_name)\n",
                "    trained_model_1st = train_1st_model(X_1st_train, y_1st_train)\n",
                "except Exception as e:\n",
                "    print ('You probably have a syntax error, we got the following exception:')\n",
                "    print ('\\tError Message:', str(e))\n",
                "    print ('Try fixing your implementation')\n",
                "    raise \n",
                "    \n",
                "assert X_1st_train.shape == (2956, 14), 'Wrong shape for feature vector dataframe'\n",
                "assert y_1st_train.shape[0] == 2956, 'Wrong number of target values in series'\n",
                "np.testing.assert_array_equal(X_1st_train.index, y_1st_train.index, 'X and y should have the same index')\n",
                "\n",
                "assert X_1st_test.shape == (739, 14), 'Wrong shape for feature vector dataframe'\n",
                "assert y_1st_test.shape[0] == 739, 'Wrong number of target values in series'\n",
                "np.testing.assert_array_equal(X_1st_test.index, y_1st_test.index, 'X and y should have the same index')\n",
                "possible_python_classes = [sklearn.linear_model.LogisticRegression, sklearn.linear_model.LinearRegression]\n",
                "assert type(trained_model_1st) in possible_python_classes, \"Wrong retured type from 'train_1st_model' method, expected a 'LogisticRegression' or a 'LinearRegression' object\"\n",
                "    \n",
                "print (\"Good Job!\\nYou've passed the 2nd test for the 'train_1st_model' function implementation :-)\")"
            ]
        },
        {
            "cell_type": "code",
            "execution_count": null,
            "metadata": {
                "collapsed": true,
                "nbgrader": {
                    "grade": true,
                    "grade_id": "test2a-3_train_1st_model",
                    "locked": true,
                    "points": "0.2",
                    "solution": false
                },
                "editable": false,
                "deletable": false
            },
            "outputs": [],
            "source": [
                "# 2.a.\n",
                "# ------------>>>>>>>> RUN THIS CODE CELL <<<<<<<<------------\n",
                "# --------  (run only)\n",
                "# === CODE TYPE: GRADED TEST \n",
                "\n",
                "print (\"Part 2.a. - Test 3 (name: test2a-3_train_1st_model, points: 0.2)\")\n",
                "print (\"\\t--->Testing the implementation of 'train_1st_model' ...\")\n",
                "print (\"\\n\\t====> Full grading test - the following test can not be seen before submission\")\n",
                "\n",
                "###\n",
                "### AUTOGRADER TEST - DO NOT REMOVE\n",
                "###\n"
            ]
        },
        {
            "cell_type": "markdown",
            "metadata": {
                "nbgrader": {
                    "grade": false,
                    "locked": true,
                    "solution": false
                },
                "editable": false,
                "deletable": false
            },
            "source": [
                "### 2.b. Predict (IMDb score)\n",
                "In this section you will predict the IMDb score, for each of the examples in the test set,<br \/>\n",
                "using the first trained supervised model (based on your implementation in section 2.a.)."
            ]
        },
        {
            "cell_type": "markdown",
            "metadata": {
                "nbgrader": {
                    "grade": false,
                    "locked": true,
                    "solution": false
                },
                "editable": false,
                "deletable": false
            },
            "source": [
                "### 2.b. Instructions\n",
                "<u>method name<\/u>: <b>predict_1st<\/b>\n",
                "<pre>The following is expected:\n",
                "--- Complete the 'predict_1st' function, using the input 'trained_1st_model' model,\n",
                "    to predict the target of each example in the given 'X_test' test set.\n",
                "You need to return the predicted target values, for each test set example.\n",
                "<\/pre>\n",
                "<hr>\n",
                "The return statement should look similar to the following statement:<br \/>\n",
                "<b>return predicted_vals<\/b>"
            ]
        },
        {
            "cell_type": "code",
            "execution_count": null,
            "metadata": {
                "collapsed": true
            },
            "outputs": [],
            "source": [
                "# 2.b.\n",
                "# ------------>>>>>>>> RUN THIS CODE CELL <<<<<<<<------------\n",
                "# --------  (run after implementation)\n",
                "# === CODE TYPE: ANSWER \n",
                "\n",
                "def predict_1st(trained_1st_model, X_test):\n",
                "    ###\n",
                "    ### YOUR CODE HERE\n",
                "    ###\n"
            ]
        },
        {
            "cell_type": "code",
            "execution_count": null,
            "metadata": {
                "collapsed": true
            },
            "outputs": [],
            "source": [
                "# 2.b.\n",
                "# ------------>>>>>>>> RUN THIS CODE CELL <<<<<<<<------------\n",
                "# --------  (run after implementation)\n",
                "# === CODE TYPE: SELF TESTING\n",
                "# Use the following code to test your implementation:\n",
                "file_name_train = '.' + os.sep + 'data' + os.sep + 'imdb_for_1st_model_train.csv'\n",
                "file_name_test = '.' + os.sep + 'data' + os.sep + 'imdb_for_1st_model_test.csv'\n",
                "target_col_name = 'imdb_score'\n",
                "X_1st_train, y_1st_train = load_dataset(file_name_train, target_col_name)\n",
                "X_1st_test, y_1st_test = load_dataset(file_name_test, target_col_name)\n",
                "trained_model_1st = train_1st_model(X_1st_train, y_1st_train)\n",
                "pred_1st_vals = predict_1st(trained_model_1st, X_1st_test)\n",
                "# --- add additional code to check your code if needed:\n",
                "###\n",
                "### YOUR CODE HERE\n",
                "###\n"
            ]
        },
        {
            "cell_type": "code",
            "execution_count": null,
            "metadata": {
                "collapsed": true
            },
            "outputs": [],
            "source": [
                "# 2.b.\n",
                "# ------------>>>>>>>> RUN THIS CODE CELL <<<<<<<<------------\n",
                "# --------  (run after implementation, if used)\n",
                "# === CODE TYPE: SELF TESTING\n",
                "# ---- Add your additional tests here if needed:\n",
                "###\n",
                "### YOUR CODE HERE\n",
                "###\n"
            ]
        },
        {
            "cell_type": "code",
            "execution_count": null,
            "metadata": {
                "collapsed": true,
                "nbgrader": {
                    "grade": true,
                    "grade_id": "test2b-1_predict_1st",
                    "locked": true,
                    "points": "0.1",
                    "solution": false
                },
                "editable": false,
                "deletable": false
            },
            "outputs": [],
            "source": [
                "# 2.b.\n",
                "# ------------>>>>>>>> RUN THIS CODE CELL <<<<<<<<------------\n",
                "# --------  (run only)\n",
                "# === CODE TYPE: GRADED TEST \n",
                "\n",
                "print (\"Part 1. - Test 1 (name: test2b-1_predict_1st, points: 0.1) - Sanity\")\n",
                "print (\"\\t--->Testing the implementation of 'predict_1st' ...\")\n",
                "    \n",
                "file_name_train = '.' + os.sep + 'data' + os.sep + 'imdb_for_1st_model_train.csv'\n",
                "file_name_test = '.' + os.sep + 'data' + os.sep + 'imdb_for_1st_model_test.csv'\n",
                "target_col_name = 'imdb_score'\n",
                "\n",
                "try:\n",
                "    X_1st_train, y_1st_train = load_dataset(file_name_train, target_col_name)\n",
                "    X_1st_test, y_1st_test = load_dataset(file_name_test, target_col_name)\n",
                "    trained_model_1st = train_1st_model(X_1st_train, y_1st_train)\n",
                "    pred_1st_vals = predict_1st(trained_model_1st, X_1st_test)\n",
                "except Exception as e:\n",
                "    print ('You probably have a syntax error, we got the following exception:')\n",
                "    print ('\\tError Message:', str(e))\n",
                "    print ('Try fixing your implementation')\n",
                "    raise \n",
                "    \n",
                "print (\"Good Job!\\nYou've passed the 1st test for the 'predict_1st' function implementation :-)\")"
            ]
        },
        {
            "cell_type": "code",
            "execution_count": null,
            "metadata": {
                "collapsed": true,
                "nbgrader": {
                    "grade": true,
                    "grade_id": "test2b-2_predict_1st",
                    "locked": true,
                    "points": "0.3",
                    "solution": false
                },
                "editable": false,
                "deletable": false
            },
            "outputs": [],
            "source": [
                "# 2.b.\n",
                "# ------------>>>>>>>> RUN THIS CODE CELL <<<<<<<<------------\n",
                "# --------  (run only)\n",
                "# === CODE TYPE: GRADED TEST \n",
                "\n",
                "print (\"Part 2.b. - Test 2 (name: test2b-2_predict_1st, points: 0.3)\")\n",
                "print (\"\\t--->Testing the implementation of 'predict_1st' ...\")\n",
                "  \n",
                "file_name_train = '.' + os.sep + 'data' + os.sep + 'imdb_for_1st_model_train.csv'\n",
                "file_name_test = '.' + os.sep + 'data' + os.sep + 'imdb_for_1st_model_test.csv'\n",
                "target_col_name = 'imdb_score'\n",
                "\n",
                "try:\n",
                "    X_1st_train, y_1st_train = load_dataset(file_name_train, target_col_name)\n",
                "    X_1st_test, y_1st_test = load_dataset(file_name_test, target_col_name)\n",
                "    trained_model_1st = train_1st_model(X_1st_train, y_1st_train)\n",
                "    pred_1st_vals = predict_1st(trained_model_1st, X_1st_test)\n",
                "    \n",
                "except Exception as e:\n",
                "    print ('You probably have a syntax error, we got the following exception:')\n",
                "    print ('\\tError Message:', str(e))\n",
                "    print ('Try fixing your implementation')\n",
                "    raise \n",
                "    \n",
                "y_pred_1st= pd.Series(pred_1st_vals)\n",
                "assert y_pred_1st.mean()!=y_1st_test.mean(), 'predicted values should not be identicle to actual test target values'\n",
                " \n",
                "print (\"Good Job!\\nYou've passed the 2nd test for the 'predict_1st' function implementation :-)\")"
            ]
        },
        {
            "cell_type": "code",
            "execution_count": null,
            "metadata": {
                "collapsed": true,
                "nbgrader": {
                    "grade": true,
                    "grade_id": "test2b-3_predict_1st",
                    "locked": true,
                    "points": "0.3",
                    "solution": false
                },
                "editable": false,
                "deletable": false
            },
            "outputs": [],
            "source": [
                "# 2.b.\n",
                "# ------------>>>>>>>> RUN THIS CODE CELL <<<<<<<<------------\n",
                "# --------  (run only)\n",
                "# === CODE TYPE: GRADED TEST \n",
                "\n",
                "print (\"Part 2.b. - Test 3 (name: test2b-3_predict_1st, points: 0.3)\")\n",
                "print (\"\\t--->Testing the implementation of 'predict_1st' ...\")\n",
                "print (\"\\n\\t====> Full grading test - the following test can not be seen before submission\")\n",
                "    \n",
                "###\n",
                "### AUTOGRADER TEST - DO NOT REMOVE\n",
                "###\n"
            ]
        },
        {
            "cell_type": "markdown",
            "metadata": {
                "nbgrader": {
                    "grade": false,
                    "locked": true,
                    "solution": false
                },
                "editable": false,
                "deletable": false
            },
            "source": [
                "### 2.c. Evaluation of the first model (IMDb score prediction)\n",
                "In this section you will evaluate the performance of the first supervised model on the test set.\n",
                "\n",
                "You will need to use an evaluation metric, which corresponds to the <u>type of learning problem<\/u>,\n",
                "   which you've identified in section 2.a.<br \/>\n",
                "\n",
                "Accordingly, you need use one of the following relevant `sklearn` metrics you've studied: \n",
                "* `r2_score` \n",
                "* `f1_score`"
            ]
        },
        {
            "cell_type": "markdown",
            "metadata": {
                "nbgrader": {
                    "grade": false,
                    "locked": true,
                    "solution": false
                },
                "editable": false,
                "deletable": false
            },
            "source": [
                "### 2.c. Instructions\n",
                "<u>method name<\/u>: <b>evaluate_performance_1st<\/b>\n",
                "<pre>The following is expected:\n",
                "--- Complete the 'evaluate_performance_1st' function to evaluate the performance of the\n",
                "      1st supervised learning model (IMDb score prediction), on the test set examples.\n",
                "--- Use either the 'r2_score' or the 'f1_score' evaluation metric.\n",
                "\n",
                "The input parameters:\n",
                "                     y_test - a series of containing all actual target values per test instance\n",
                "                     y_predicted - a series which contains all the predicted values per test instance \n",
                "                                   (using the 1st model).\n",
                "Note: You need to return the evaluation metric (a floating number).\n",
                "<\/pre>\n",
                "<hr>\n",
                "The return statement should look similar to the following statement:<br \/>\n",
                "<b>return evaluate_value<\/b>"
            ]
        },
        {
            "cell_type": "code",
            "execution_count": null,
            "metadata": {
                "collapsed": true
            },
            "outputs": [],
            "source": [
                "# 2.c.\n",
                "# ------------>>>>>>>> RUN THIS CODE CELL <<<<<<<<------------\n",
                "# --------  (run after implementation)\n",
                "# === CODE TYPE: ANSWER \n",
                "\n",
                "def evaluate_performance_1st(y_test,y_predicted):\n",
                "    ###\n",
                "    ### YOUR CODE HERE\n",
                "    ###\n"
            ]
        },
        {
            "cell_type": "code",
            "execution_count": null,
            "metadata": {
                "collapsed": true
            },
            "outputs": [],
            "source": [
                "# 2.c\n",
                "# ------------>>>>>>>> RUN THIS CODE CELL <<<<<<<<------------\n",
                "# --------  (run after implementation)\n",
                "# === CODE TYPE: SELF TESTING\n",
                "# Use the following code to test your implementation:\n",
                "file_name_train = '.' + os.sep + 'data' + os.sep + 'imdb_for_1st_model_train.csv'\n",
                "file_name_test = '.' + os.sep + 'data' + os.sep + 'imdb_for_1st_model_test.csv'\n",
                "target_col_name = 'imdb_score'  \n",
                "X_1st_train, y_1st_train = load_dataset(file_name_train, target_col_name)\n",
                "X_1st_test, y_1st_test = load_dataset(file_name_test, target_col_name)\n",
                "trained_model_1st = train_1st_model(X_1st_train, y_1st_train)\n",
                "pred_1st_vals = predict_1st(trained_model_1st, X_1st_test)\n",
                "y_pred_1st= pd.Series(pred_1st_vals,index=X_1st_test.index)\n",
                "eval_res_1st = evaluate_performance_1st(y_1st_test, y_pred_1st)\n",
                "print(eval_res_1st)\n",
                "# --- add additional code to check your code if needed:\n",
                "###\n",
                "### YOUR CODE HERE\n",
                "###\n"
            ]
        },
        {
            "cell_type": "code",
            "execution_count": null,
            "metadata": {
                "collapsed": true
            },
            "outputs": [],
            "source": [
                "# 2.c.\n",
                "# ------------>>>>>>>> RUN THIS CODE CELL <<<<<<<<------------\n",
                "# --------  (run after implementation, if used)\n",
                "# === CODE TYPE: SELF TESTING\n",
                "# ---- Add your additional tests here if needed:\n",
                "###\n",
                "### YOUR CODE HERE\n",
                "###\n"
            ]
        },
        {
            "cell_type": "code",
            "execution_count": null,
            "metadata": {
                "collapsed": true,
                "nbgrader": {
                    "grade": true,
                    "grade_id": "test2c-1_evaluate_performance_1st",
                    "locked": true,
                    "points": "0.1",
                    "solution": false
                },
                "editable": false,
                "deletable": false
            },
            "outputs": [],
            "source": [
                "# 2.c.\n",
                "# ------------>>>>>>>> RUN THIS CODE CELL <<<<<<<<------------\n",
                "# --------  (run only)\n",
                "# === CODE TYPE: GRADED TEST \n",
                "\n",
                "print (\"Part 2.c. - Test 1 (name: test2c-1_evaluate_performance_1st, points: 0.1) - Sanity\")\n",
                "print (\"\\t--->Testing the implementation of 'evaluate_performance_1st' ...\")\n",
                "\n",
                "file_name_train = '.' + os.sep + 'data' + os.sep + 'imdb_for_1st_model_train.csv'\n",
                "file_name_test = '.' + os.sep + 'data' + os.sep + 'imdb_for_1st_model_test.csv'\n",
                "target_col_name = 'imdb_score'\n",
                "\n",
                "try:    \n",
                "    X_1st_train, y_1st_train = load_dataset(file_name_train, target_col_name)\n",
                "    X_1st_test, y_1st_test = load_dataset(file_name_test, target_col_name)\n",
                "    trained_model_1st = train_1st_model(X_1st_train, y_1st_train)\n",
                "    pred_1st_vals = predict_1st(trained_model_1st, X_1st_test)\n",
                "    y_pred_1st= pd.Series(pred_1st_vals,index=X_1st_test.index)\n",
                "    eval_res_1st = evaluate_performance_1st(y_1st_test, y_pred_1st)\n",
                "except Exception as e:\n",
                "    print ('You probably have a syntax or implementation error,  \\nerror Message:',str(e), '\\nTry fixing your code')\n",
                "    raise\n",
                "    \n",
                "print (\"Good Job!\\nYou've passed the 1st test for the 'evaluate_performance_1st' function implementation :-)\")"
            ]
        },
        {
            "cell_type": "code",
            "execution_count": null,
            "metadata": {
                "collapsed": true,
                "nbgrader": {
                    "grade": true,
                    "grade_id": "test2c-2_evaluate_performance_1st",
                    "locked": true,
                    "points": "0.4",
                    "solution": false
                },
                "editable": false,
                "deletable": false
            },
            "outputs": [],
            "source": [
                "# 2.c.\n",
                "# ------------>>>>>>>> RUN THIS CODE CELL <<<<<<<<------------\n",
                "# --------  (run only)\n",
                "# === CODE TYPE: GRADED TEST \n",
                "\n",
                "print (\"Part 2.c. - Test 2 (name: test2c-2_evaluate_performance_1st, points: 0.4)\")\n",
                "print (\"\\t--->Testing the implementation of 'evaluate_performance_1st' ...\")\n",
                "    \n",
                "file_name_train = '.' + os.sep + 'data' + os.sep + 'imdb_for_1st_model_train.csv'\n",
                "file_name_test = '.' + os.sep + 'data' + os.sep + 'imdb_for_1st_model_test.csv'\n",
                "target_col_name = 'imdb_score'\n",
                "\n",
                "try:    \n",
                "    X_1st_train, y_1st_train = load_dataset(file_name_train, target_col_name)\n",
                "    X_1st_test, y_1st_test = load_dataset(file_name_test, target_col_name)\n",
                "    trained_model_1st = train_1st_model(X_1st_train, y_1st_train)\n",
                "    pred_1st_vals = predict_1st(trained_model_1st, X_1st_test)\n",
                "    y_pred_1st= pd.Series(pred_1st_vals,index=X_1st_test.index)\n",
                "    eval_res_1st = evaluate_performance_1st(y_1st_test, y_pred_1st)\n",
                "except Exception as e:\n",
                "    print ('You probably have a syntax or implementation error,  \\nerror Message:',str(e), '\\nTry fixing your code')\n",
                "    raise\n",
                "\n",
                "assert np.round(eval_res_1st+0.001,2) == 0.34, 'Wrong evaluation result'\n",
                "\n",
                "print (\"Good Job!\\nYou've passed the 2nd test for the 'evaluate_performance_1st' function implementation :-)\")"
            ]
        },
        {
            "cell_type": "markdown",
            "metadata": {
                "nbgrader": {
                    "grade": false,
                    "locked": true,
                    "solution": false
                },
                "editable": false,
                "deletable": false
            },
            "source": [
                "## 3. <u>The second<\/u> supervised model \n",
                "In his section will we will do the following:\n",
                "* Train a supervised model on the train set\n",
                "* Predict the examples from the test set\n",
                "* Evaluate the performance of the model you've built"
            ]
        },
        {
            "cell_type": "code",
            "execution_count": null,
            "metadata": {
                "collapsed": true
            },
            "outputs": [],
            "source": [
                "# 3.\n",
                "# ------------>>>>>>>> RUN THIS CODE CELL <<<<<<<<------------\n",
                "# --------  (run only)\n",
                "# === CODE TYPE: EXPLORATION\n",
                "\n",
                "print (\"The following are the first few rows of the 2nd dataset:\")\n",
                "print (\"-------------------------\")\n",
                "\n",
                "file_name = '.' + os.sep + 'data' + os.sep + 'imdb_for_2nd_model_train.csv'\n",
                "target_col_name = 'suitable_for_kids'\n",
                "    \n",
                "print ('Note: the dataset is already scaled ...')\n",
                "\n",
                "try:\n",
                "    X, y = load_dataset(file_name, target_col_name)\n",
                "except Exception as e:\n",
                "    print ('You probably have a syntax error, we got the following exception:')\n",
                "    print ('\\tError Message:', str(e))\n",
                "    print ('Try fixing your implementation')\n",
                "    raise \n",
                "\n",
                "X.head()"
            ]
        },
        {
            "cell_type": "markdown",
            "metadata": {
                "nbgrader": {
                    "grade": false,
                    "locked": true,
                    "solution": false
                },
                "editable": false,
                "deletable": false
            },
            "source": [
                "### 3.a. Train <u>the second<\/u> supervised model \n",
                "You need to train a model, which predicts whether the movie is suitable for children.<br \/>\n",
                "* Expect a value of 1 in the target series, if the movie is suitable for children.<br\/>\n",
                "  Otherwise, expect a value of 0.<br \/>\n",
                "* You could see the first few elements of the target series, from the output of the previous test."
            ]
        },
        {
            "cell_type": "markdown",
            "metadata": {
                "nbgrader": {
                    "grade": false,
                    "locked": true,
                    "solution": false
                },
                "editable": false,
                "deletable": false
            },
            "source": [
                "### 3.a. Instructions\n",
                "<u>method name<\/u>: <b>train_2nd_model<\/b>\n",
                "<pre>The following is expected:\n",
                "--- Complete the 'train_2nd_model' function to train a supervised learning model on the \n",
                "      training set (use the give 'X_train' dataframe and the corresponding 'y_train' target values).\n",
                "   Identify the learning problem and decide whether it is a classification or regression problem.\n",
                "      Accordingly, use the relevant sklearn algorithm for the training: \n",
                "      LinearRegression or LogisticRegression.\n",
                "return the trained model.\n",
                "<\/pre>\n",
                "<hr>\n",
                "The return statement should look similar to the following statement:<br \/>\n",
                "<b>return trained_model<\/b>"
            ]
        },
        {
            "cell_type": "code",
            "execution_count": null,
            "metadata": {
                "collapsed": true
            },
            "outputs": [],
            "source": [
                "### 3.a.\n",
                "# ------------>>>>>>>> RUN THIS CODE CELL <<<<<<<<------------\n",
                "# --------  (run after implementation)\n",
                "# === CODE TYPE: ANSWER \n",
                "\n",
                "def train_2nd_model(X_train, y_train):\n",
                "    ###\n",
                "    ### YOUR CODE HERE\n",
                "    ###\n"
            ]
        },
        {
            "cell_type": "code",
            "execution_count": null,
            "metadata": {
                "collapsed": true
            },
            "outputs": [],
            "source": [
                "# 3.a.\n",
                "# ------------>>>>>>>> RUN THIS CODE CELL <<<<<<<<------------\n",
                "# --------  (run after implementation)\n",
                "# === CODE TYPE: SELF TESTING\n",
                "# Use the following code to test your implementation:\n",
                "file_name_2nd_train = '.' + os.sep + 'data' + os.sep + 'imdb_for_2nd_model_train.csv'\n",
                "file_name_2nd_test = '.' + os.sep + 'data' + os.sep + 'imdb_for_2nd_model_test.csv'\n",
                "target_col_2nd_name = 'suitable_for_kids'\n",
                "X_2nd_train, y_2nd_train = load_dataset(file_name_2nd_train, target_col_2nd_name)\n",
                "X_2nd_test, y_2nd_test = load_dataset(file_name_2nd_test, target_col_2nd_name)\n",
                "trained_model_2nd = train_2nd_model(X_2nd_train, y_2nd_train)\n",
                "# --- add additional code to check your code if needed:\n",
                "###\n",
                "### YOUR CODE HERE\n",
                "###\n"
            ]
        },
        {
            "cell_type": "code",
            "execution_count": null,
            "metadata": {
                "collapsed": true
            },
            "outputs": [],
            "source": [
                "# 3.a.\n",
                "# ------------>>>>>>>> RUN THIS CODE CELL <<<<<<<<------------\n",
                "# --------  (run after implementation, if used)\n",
                "# === CODE TYPE: SELF TESTING\n",
                "# ---- Add your additional tests here if needed:\n",
                "###\n",
                "### YOUR CODE HERE\n",
                "###\n"
            ]
        },
        {
            "cell_type": "code",
            "execution_count": null,
            "metadata": {
                "collapsed": true,
                "nbgrader": {
                    "grade": true,
                    "grade_id": "test3a-1_train_2nd_model",
                    "locked": true,
                    "points": "0.1",
                    "solution": false
                },
                "editable": false,
                "deletable": false
            },
            "outputs": [],
            "source": [
                "# 3.a.\n",
                "# ------------>>>>>>>> RUN THIS CODE CELL <<<<<<<<------------\n",
                "# --------  (run only)\n",
                "# === CODE TYPE: GRADED TEST \n",
                "\n",
                "print (\"Part 3.a. - Test 1 (name: test3a-1_train_2nd_model, points: 0.1) - Sanity\")\n",
                "print (\"\\t--->Testing the implementation of 'train_2nd_model' ...\")\n",
                "    \n",
                "file_name_2nd_train = '.' + os.sep + 'data' + os.sep + 'imdb_for_2nd_model_train.csv'\n",
                "file_name_2nd_test = '.' + os.sep + 'data' + os.sep + 'imdb_for_2nd_model_test.csv'\n",
                "target_col_2nd_name = 'suitable_for_kids'\n",
                "\n",
                "try:    \n",
                "    X_2nd_train, y_2nd_train = load_dataset(file_name_2nd_train, target_col_2nd_name)\n",
                "    X_2nd_test, y_2nd_test = load_dataset(file_name_2nd_test, target_col_2nd_name)\n",
                "    trained_model_2nd = train_2nd_model(X_2nd_train, y_2nd_train)\n",
                "except Exception as e:\n",
                "    print ('You probably have a syntax error, we got the following exception:')\n",
                "    print ('\\tError Message:', str(e))\n",
                "    print ('Try fixing your implementation')\n",
                "    raise \n",
                "    \n",
                "print (\"Good Job!\\nYou've passed the 1st test for the 'train_2nd_model' function implementation :-)\")"
            ]
        },
        {
            "cell_type": "code",
            "execution_count": null,
            "metadata": {
                "collapsed": true,
                "nbgrader": {
                    "grade": true,
                    "grade_id": "test3a-2_train_2nd_model",
                    "locked": true,
                    "points": "0.3",
                    "solution": false
                },
                "editable": false,
                "deletable": false
            },
            "outputs": [],
            "source": [
                "# 3.a.\n",
                "# ------------>>>>>>>> RUN THIS CODE CELL <<<<<<<<------------\n",
                "# --------  (run only)\n",
                "# === CODE TYPE: GRADED TEST \n",
                "\n",
                "print (\"Part 3.a. - Test 2 (name: test3a-2_train_2nd_model, points: 0.3)\")\n",
                "print (\"\\t--->Testing the implementation of 'train_2nd_model' ...\")\n",
                "\n",
                "file_name_2nd_train = '.' + os.sep + 'data' + os.sep + 'imdb_for_2nd_model_train.csv'\n",
                "file_name_2nd_test = '.' + os.sep + 'data' + os.sep + 'imdb_for_2nd_model_test.csv'\n",
                "target_col_2nd_name = 'suitable_for_kids'\n",
                "\n",
                "try:    \n",
                "    X_2nd_train, y_2nd_train = load_dataset(file_name_2nd_train, target_col_2nd_name)\n",
                "    X_2nd_test, y_2nd_test = load_dataset(file_name_2nd_test, target_col_2nd_name)\n",
                "    trained_model_2nd = train_2nd_model(X_2nd_train, y_2nd_train)\n",
                "except Exception as e:\n",
                "    print ('You probably have a syntax error, we got the following exception:')\n",
                "    print ('\\tError Message:', str(e))\n",
                "    print ('Try fixing your implementation')\n",
                "    raise \n",
                "\n",
                "assert X_2nd_train.shape == (2892, 15), 'Wrong shape for feature vector dataframe'\n",
                "assert y_2nd_train.shape[0] == 2892, 'Wrong number of target values in series'\n",
                "np.testing.assert_array_equal(X_2nd_train.index, y_2nd_train.index, 'X and y should have the same index')\n",
                "\n",
                "assert X_2nd_test.shape == (724, 15), 'Wrong shape for feature vector dataframe'\n",
                "assert y_2nd_test.shape[0] == 724, 'Wrong number of target values in series'\n",
                "np.testing.assert_array_equal(X_2nd_test.index, y_2nd_test.index, 'X and y should have the same index')\n",
                "possible_python_classes = [sklearn.linear_model.LogisticRegression, sklearn.linear_model.LinearRegression]\n",
                "assert type(trained_model_2nd) in possible_python_classes, \"Wrong retured type from 'train_2nd_model' method, expected a 'LogisticRegression' or a 'LinearRegression' object\"\n",
                "    \n",
                "print (\"Good Job!\\nYou've passed the 2nd test for the 'train_2nd_model' function implementation :-)\")"
            ]
        },
        {
            "cell_type": "code",
            "execution_count": null,
            "metadata": {
                "collapsed": true,
                "nbgrader": {
                    "grade": true,
                    "grade_id": "test3a-3_train_2nd_model",
                    "locked": true,
                    "points": "0.2",
                    "solution": false
                },
                "editable": false,
                "deletable": false
            },
            "outputs": [],
            "source": [
                "# 3.a.\n",
                "# ------------>>>>>>>> RUN THIS CODE CELL <<<<<<<<------------\n",
                "# --------  (run only)\n",
                "# === CODE TYPE: GRADED TEST \n",
                "print (\"Part 3.a. - Test 3 (name: test3a-3_train_2nd_model, points: 0.2)\")\n",
                "print (\"\\t--->Testing the implementation of 'train_2nd_model' ...\")\n",
                "print (\"\\n\\t====> Full grading test - the following test can not be seen before submission\")\n",
                "\n",
                "###\n",
                "### AUTOGRADER TEST - DO NOT REMOVE\n",
                "###\n"
            ]
        },
        {
            "cell_type": "markdown",
            "metadata": {
                "nbgrader": {
                    "grade": false,
                    "locked": true,
                    "solution": false
                },
                "editable": false,
                "deletable": false
            },
            "source": [
                "### 3.b. Predict (is movie suitable for children)\n",
                "In this section you will predict whether the movies are suitable for children, for each of the <br \/>\n",
                "examples in the test set, using the second trained supervised model (based on your implementation in 3.a.)."
            ]
        },
        {
            "cell_type": "markdown",
            "metadata": {
                "nbgrader": {
                    "grade": false,
                    "locked": true,
                    "solution": false
                },
                "editable": false,
                "deletable": false
            },
            "source": [
                "### 3.b. Instructions\n",
                "<u>method name<\/u>: <b>predict_2nd<\/b>\n",
                "<pre>The following is expected:\n",
                "--- Complete the 'predict_2nd' function, using the input 'trained_2nd_model' model,\n",
                "      to predict the target of each example in the given 'X_test' test set.\n",
                "You need to return the predicted target values (a series)\n",
                "<\/pre>\n",
                "<hr>\n",
                "The return statement should look similar to the following statement:<br \/>\n",
                "<b>return predicted_vals<\/b>"
            ]
        },
        {
            "cell_type": "code",
            "execution_count": null,
            "metadata": {
                "collapsed": true
            },
            "outputs": [],
            "source": [
                "### 3.b.\n",
                "# ------------>>>>>>>> RUN THIS CODE CELL <<<<<<<<------------\n",
                "# --------  (run after implementation)\n",
                "# === CODE TYPE: ANSWER \n",
                "\n",
                "def predict_2nd(trained_2nd_model, X_test):\n",
                "    ###\n",
                "    ### YOUR CODE HERE\n",
                "    ###\n"
            ]
        },
        {
            "cell_type": "code",
            "execution_count": null,
            "metadata": {
                "collapsed": true
            },
            "outputs": [],
            "source": [
                "# 3.b.\n",
                "# ---->>>>>>>> RUN THIS CODE CELL <<<<<<<<------------\n",
                "# --------  (run after implementation)\n",
                "# === CODE TYPE: SELF TESTING\n",
                "# Use the following code to test your implementation:\n",
                "file_name_2nd_train = '.' + os.sep + 'data' + os.sep + 'imdb_for_2nd_model_train.csv'\n",
                "file_name_2nd_test = '.' + os.sep + 'data' + os.sep + 'imdb_for_2nd_model_test.csv'\n",
                "target_col_2nd_name = 'suitable_for_kids'\n",
                "X_2nd_train, y_2nd_train = load_dataset(file_name_2nd_train, target_col_2nd_name)\n",
                "X_2nd_test, y_2nd_test = load_dataset(file_name_2nd_test, target_col_2nd_name)\n",
                "trained_model_2nd = train_2nd_model(X_2nd_train, y_2nd_train)\n",
                "pred_2nd_vals = predict_2nd(trained_model_2nd, X_2nd_test)\n",
                "y_pred_2nd = pd.Series(pred_2nd_vals,index=X_2nd_test.index)\n",
                "print(y_pred_2nd)\n",
                "# --- add additional code to check your code if needed:\n",
                "###\n",
                "### YOUR CODE HERE\n",
                "###\n"
            ]
        },
        {
            "cell_type": "code",
            "execution_count": null,
            "metadata": {
                "collapsed": true
            },
            "outputs": [],
            "source": [
                "# 3.b.\n",
                "# ------------>>>>>>>> RUN THIS CODE CELL <<<<<<<<------------\n",
                "# --------  (run after implementation, if used)\n",
                "# === CODE TYPE: SELF TESTING\n",
                "# ---- Add your additional tests here if needed:\n",
                "###\n",
                "### YOUR CODE HERE\n",
                "###\n"
            ]
        },
        {
            "cell_type": "code",
            "execution_count": null,
            "metadata": {
                "collapsed": true,
                "nbgrader": {
                    "grade": true,
                    "grade_id": "test3b-1_predict_2nd",
                    "locked": true,
                    "points": "0.1",
                    "solution": false
                },
                "editable": false,
                "deletable": false
            },
            "outputs": [],
            "source": [
                "# 3.b.\n",
                "# ------------>>>>>>>> RUN THIS CODE CELL <<<<<<<<------------\n",
                "# --------  (run only)\n",
                "# === CODE TYPE: GRADED TEST \n",
                "\n",
                "print (\"Part 3.b. - Test 1 (name: test3b-1_predict_2nd, points: 0.1) - Sanity\")\n",
                "print (\"\\t--->Testing the implementation of 'predict_2nd' ...\")\n",
                "\n",
                "file_name_2nd_train = '.' + os.sep + 'data' + os.sep + 'imdb_for_2nd_model_train.csv'\n",
                "file_name_2nd_test = '.' + os.sep + 'data' + os.sep + 'imdb_for_2nd_model_test.csv'\n",
                "target_col_2nd_name = 'suitable_for_kids'\n",
                "\n",
                "try:    \n",
                "    X_2nd_train, y_2nd_train = load_dataset(file_name_2nd_train, target_col_2nd_name)\n",
                "    X_2nd_test, y_2nd_test = load_dataset(file_name_2nd_test, target_col_2nd_name)\n",
                "    trained_model_2nd = train_2nd_model(X_2nd_train, y_2nd_train)\n",
                "    pred_2nd_vals = predict_2nd(trained_model_2nd, X_2nd_test)\n",
                "    y_pred_2nd = pd.Series(pred_2nd_vals,index=X_2nd_test.index)\n",
                "except Exception as e:\n",
                "    print ('You probably have a syntax error, we got the following exception:')\n",
                "    print ('\\tError Message:', str(e))\n",
                "    print ('Try fixing your implementation')\n",
                "    raise \n",
                "    \n",
                "print (\"Good Job!\\nYou've passed the 1st test for the 'predict_2nd' function implementation :-)\")"
            ]
        },
        {
            "cell_type": "code",
            "execution_count": null,
            "metadata": {
                "collapsed": true,
                "nbgrader": {
                    "grade": true,
                    "grade_id": "test3b-2_predict_2nd",
                    "locked": true,
                    "points": "0.3",
                    "solution": false
                },
                "editable": false,
                "deletable": false
            },
            "outputs": [],
            "source": [
                "# 3.b.\n",
                "# ------------>>>>>>>> RUN THIS CODE CELL <<<<<<<<------------\n",
                "# --------  (run only)\n",
                "# === CODE TYPE: GRADED TEST \n",
                "\n",
                "print (\"Part 3.b. - Test 2 (name: test3b-2_predict_2nd, points: 0.3)\")\n",
                "print (\"\\t--->Testing the implementation of 'predict_2nd' ...\")\n",
                "\n",
                "file_name_2nd_train = '.' + os.sep + 'data' + os.sep + 'imdb_for_2nd_model_train.csv'\n",
                "file_name_2nd_test = '.' + os.sep + 'data' + os.sep + 'imdb_for_2nd_model_test.csv'\n",
                "target_col_2nd_name = 'suitable_for_kids'\n",
                "\n",
                "try:    \n",
                "    X_2nd_train, y_2nd_train = load_dataset(file_name_2nd_train, target_col_2nd_name)\n",
                "    X_2nd_test, y_2nd_test = load_dataset(file_name_2nd_test, target_col_2nd_name)\n",
                "    trained_model_2nd = train_2nd_model(X_2nd_train, y_2nd_train)\n",
                "    pred_2nd_vals = predict_2nd(trained_model_2nd, X_2nd_test)\n",
                "except Exception as e:\n",
                "    print ('You probably have a syntax error, we got the following exception:')\n",
                "    print ('\\tError Message:', str(e))\n",
                "    print ('Try fixing your implementation')\n",
                "    raise \n",
                "\n",
                "y_pred_2nd = pd.Series(pred_2nd_vals,index=X_2nd_test.index)\n",
                "assert y_pred_2nd.mean()!=y_2nd_test.mean(), 'predicted values should not be identicle to actual test target values'\n",
                "     \n",
                "print (\"Good Job!\\nYou've passed the 2nd test for the 'predict_2nd' function implementation :-)\")"
            ]
        },
        {
            "cell_type": "code",
            "execution_count": null,
            "metadata": {
                "collapsed": true,
                "nbgrader": {
                    "grade": true,
                    "grade_id": "test3b-3_predict_2nd",
                    "locked": true,
                    "points": "0.2",
                    "solution": false
                },
                "editable": false,
                "deletable": false
            },
            "outputs": [],
            "source": [
                "# 3.b.\n",
                "# ------------>>>>>>>> RUN THIS CODE CELL <<<<<<<<------------\n",
                "# --------  (run only)\n",
                "# === CODE TYPE: GRADED TEST \n",
                "\n",
                "print (\"Part 3.b. - Test 3 (name: test3b-3_predict_2nd, points: 0.2)\")\n",
                "print (\"\\t--->Testing the implementation of 'predict_2nd' ...\")\n",
                "print (\"\\n\\t====> Full grading test - the following test can not be seen before submission\")\n",
                "\n",
                "###\n",
                "### AUTOGRADER TEST - DO NOT REMOVE\n",
                "###\n"
            ]
        },
        {
            "cell_type": "markdown",
            "metadata": {
                "nbgrader": {
                    "grade": false,
                    "locked": true,
                    "solution": false
                },
                "editable": false,
                "deletable": false
            },
            "source": [
                "### 3.c. Evaluation of the second model ('is movie suitable for children' prediction)\n",
                "In this section you will evaluate the performance of the second supervised model on the test set.\n",
                "\n",
                "You will need to use an evaluation metric, which corresponds to the <u>type of learning problem<\/u>,\n",
                "   which you've identified in section 3.a.<br \/>\n",
                "\n",
                "Accordingly, you need use one of the following relevant `sklearn` metrics you've studied: \n",
                "* `r2_score` \n",
                "* `f1_score`"
            ]
        },
        {
            "cell_type": "markdown",
            "metadata": {
                "nbgrader": {
                    "grade": false,
                    "locked": true,
                    "solution": false
                },
                "editable": false,
                "deletable": false
            },
            "source": [
                "### 3.c. Instructions\n",
                "<u>method name<\/u>: <b>evaluate_performance_2nd<\/b>\n",
                "<pre>The following is expected:\n",
                "--- Complete the 'evaluate_performance_2nd' function to evaluate the performance of the\n",
                "    2nd supervised learning model ('is movie suitable for children' prediction)\n",
                "    \n",
                "    You need use either the 'r2_score' or the 'f1_score' evaluation metric.\n",
                "The input parameters:\n",
                "   y_test - a series of containing all actual target values per test instance\n",
                "   y_predicted -  a series which contains all the predicted values per test instance \n",
                "                                   (using the 2nd model).\n",
                "You need to return the result of the evaluation metric (floating number).\n",
                "<\/pre>\n",
                "<hr>\n",
                "The return statement should look similar to the following statement:<br \/>\n",
                "<b>return evaluate_value<\/b>"
            ]
        },
        {
            "cell_type": "code",
            "execution_count": null,
            "metadata": {
                "collapsed": true
            },
            "outputs": [],
            "source": [
                "### 3.c.\n",
                "# ------------>>>>>>>> RUN THIS CODE CELL <<<<<<<<------------\n",
                "# --------  (run after implementation)\n",
                "# === CODE TYPE: ANSWER \n",
                "\n",
                "def evaluate_performance_2nd(y_test,y_predicted):\n",
                "    ###\n",
                "    ### YOUR CODE HERE\n",
                "    ###\n"
            ]
        },
        {
            "cell_type": "code",
            "execution_count": null,
            "metadata": {
                "collapsed": true
            },
            "outputs": [],
            "source": [
                "# 3.c.\n",
                "# ------------>>>>>>>> RUN THIS CODE CELL <<<<<<<<------------\n",
                "# --------  (run after implementation)\n",
                "# === CODE TYPE: SELF TESTING\n",
                "# Use the following code to test your implementation:\n",
                "file_name_2nd_train = '.' + os.sep + 'data' + os.sep + 'imdb_for_2nd_model_train.csv'\n",
                "file_name_2nd_test = '.' + os.sep + 'data' + os.sep + 'imdb_for_2nd_model_test.csv'\n",
                "target_col_2nd_name = 'suitable_for_kids'\n",
                "X_2nd_train, y_2nd_train = load_dataset(file_name_2nd_train, target_col_2nd_name)\n",
                "X_2nd_test, y_2nd_test = load_dataset(file_name_2nd_test, target_col_2nd_name)\n",
                "trained_model_2nd = train_2nd_model(X_2nd_train, y_2nd_train)\n",
                "pred_2nd_vals = predict_2nd(trained_model_2nd, X_2nd_test)\n",
                "y_pred_2nd = pd.Series(pred_2nd_vals,index=X_2nd_test.index)\n",
                "eval_res_2nd = evaluate_performance_2nd(y_2nd_test, y_pred_2nd)\n",
                "print(eval_res_2nd)\n",
                "# --- add additional code to check your code if needed:\n",
                "###\n",
                "### YOUR CODE HERE\n",
                "###\n"
            ]
        },
        {
            "cell_type": "code",
            "execution_count": null,
            "metadata": {
                "collapsed": true
            },
            "outputs": [],
            "source": [
                "# 3.c.\n",
                "# ------------>>>>>>>> RUN THIS CODE CELL <<<<<<<<------------\n",
                "# --------  (run after implementation, if used)\n",
                "# === CODE TYPE: SELF TESTING\n",
                "# ---- Add your additional tests here if needed:\n",
                "###\n",
                "### YOUR CODE HERE\n",
                "###\n"
            ]
        },
        {
            "cell_type": "code",
            "execution_count": null,
            "metadata": {
                "collapsed": true,
                "nbgrader": {
                    "grade": true,
                    "grade_id": "test3c-1_evaluate_performance_2nd",
                    "locked": true,
                    "points": "0.1",
                    "solution": false
                },
                "editable": false,
                "deletable": false
            },
            "outputs": [],
            "source": [
                "# 3.c.\n",
                "# ------------>>>>>>>> RUN THIS CODE CELL <<<<<<<<------------\n",
                "# --------  (run only)\n",
                "# === CODE TYPE: GRADED TEST \n",
                "\n",
                "print (\"Part 3.c. - Test 1 (name: test3c-1_evaluate_performance_2nd, points: 0.1) - Sanity\")\n",
                "print (\"\\t--->Testing the implementation of 'evaluate_performance_2nd' ...\")\n",
                "\n",
                "file_name_2nd_train = '.' + os.sep + 'data' + os.sep + 'imdb_for_2nd_model_train.csv'\n",
                "file_name_2nd_test = '.' + os.sep + 'data' + os.sep + 'imdb_for_2nd_model_test.csv'\n",
                "target_col_2nd_name = 'suitable_for_kids'\n",
                "\n",
                "try:    \n",
                "    X_2nd_train, y_2nd_train = load_dataset(file_name_2nd_train, target_col_2nd_name)\n",
                "    X_2nd_test, y_2nd_test = load_dataset(file_name_2nd_test, target_col_2nd_name)\n",
                "    trained_model_2nd = train_2nd_model(X_2nd_train, y_2nd_train)\n",
                "    pred_2nd_vals = predict_2nd(trained_model_2nd, X_2nd_test)\n",
                "    y_pred_2nd = pd.Series(pred_2nd_vals,index=X_2nd_test.index)\n",
                "    eval_res_2nd = evaluate_performance_2nd(y_2nd_test, y_pred_2nd)\n",
                "except Exception as e:\n",
                "    print ('You probably have a syntax or implementation error,  \\nerror Message:',str(e), '\\nTry fixing your code')\n",
                "    raise\n",
                "\n",
                "print (\"Good Job!\\nYou've passed the 1st test for the 'evaluate_performance_2nd' function implementation :-)\")"
            ]
        },
        {
            "cell_type": "code",
            "execution_count": null,
            "metadata": {
                "collapsed": true,
                "nbgrader": {
                    "grade": true,
                    "grade_id": "test3c-2_evaluate_performance_2nd",
                    "locked": true,
                    "points": "0.4",
                    "solution": false
                },
                "editable": false,
                "deletable": false
            },
            "outputs": [],
            "source": [
                "# 3.c.\n",
                "# ------------>>>>>>>> RUN THIS CODE CELL <<<<<<<<------------\n",
                "# --------  (run only)\n",
                "# === CODE TYPE: GRADED TEST \n",
                "\n",
                "print (\"Part 3.c. - Test 2 (name: test3c-2_evaluate_performance_2nd, points: 0.4)\")\n",
                "print (\"\\t--->Testing the implementation of 'evaluate_performance_2nd' ...\")\n",
                "\n",
                "file_name_2nd_train = '.' + os.sep + 'data' + os.sep + 'imdb_for_2nd_model_train.csv'\n",
                "file_name_2nd_test = '.' + os.sep + 'data' + os.sep + 'imdb_for_2nd_model_test.csv'\n",
                "target_col_2nd_name = 'suitable_for_kids'\n",
                "\n",
                "try:    \n",
                "    X_2nd_train, y_2nd_train = load_dataset(file_name_2nd_train, target_col_2nd_name)\n",
                "    X_2nd_test, y_2nd_test = load_dataset(file_name_2nd_test, target_col_2nd_name)\n",
                "    trained_model_2nd = train_2nd_model(X_2nd_train, y_2nd_train)\n",
                "    pred_2nd_vals = predict_2nd(trained_model_2nd, X_2nd_test)\n",
                "    y_pred_2nd = pd.Series(pred_2nd_vals,index=X_2nd_test.index)\n",
                "    eval_res_2nd = evaluate_performance_2nd(y_2nd_test, y_pred_2nd)\n",
                "except Exception as e:\n",
                "    print ('You probably have a syntax or implementation error,  \\nerror Message:',str(e), '\\nTry fixing your code')\n",
                "    raise\n",
                "# ---------------------------\n",
                "assert np.round(eval_res_2nd+0.001,2)  == 0.69, 'Wrong evaluation result'\n",
                "\n",
                "print (\"Good Job!\\nYou've passed the 2nd test for the 'evaluate_performance_2nd' function implementation :-)\")"
            ]
        },
        {
            "cell_type": "markdown",
            "metadata": {
                "nbgrader": {
                    "grade": false,
                    "locked": true,
                    "solution": false
                },
                "editable": false,
                "deletable": false
            },
            "source": [
                "## 4. Feature manipulation  \n",
                "In this section you need to perform feature manipulation, in order to<br \/>\n",
                "improve the performance of the 1st supervised model (IMDB score prediction)<br \/>\n",
                "\n",
                "### Important note:\n",
                "The improvements should be consistent with your identification of the learning problem in section 2.a.\n",
                "\n",
                "Accordigly we will use the following functions for testing:\n",
                "* train_1st_model - to train the model with your improvements\n",
                "* predict_1st     - to predict the test examples\n",
                "* evaluate_performance_1st -to evaluate the performance of the model after the feature manipulation\n",
                "  improvements.\n",
                "\n",
                "### About the scores and tests in this section:\n",
                "The tests will compare the performance of the models,<br \/>\n",
                "Using the evaluation metic (implemeted in 'evaluate_performance_1st').<br \/>\n",
                "\n",
                "`Eval_improved` - evaluation performance of the <u>improved trained model<\/u> (model with your improvements).<br\/>\n",
                "`Eval_basic`    -  evaluation performance of the <u>basic trained model<\/u>  (model without improvements)<br \/>\n",
                "<u> The criteria to pass the test will check what is the value of `Eval_improved` - `Eval_basic` <\/u>\n",
                "* First 2 tests, are basic syntax test and will give you 0.3 points if you pass them.\n",
                "* If  `Eval_improved` - `Eval_basic` > 0, you pass the 1st test     (total 0.7 a point if you pass this test)\n",
                "* If  `Eval_improved` - `Eval_basic` > 0.015, you pass the 2nd test (total 1.1 point if you pass this test too)\n",
                "* If  `Eval_improved` - `Eval_basic` > 0.03, you pass the 3rd test  (total 1.6 points if you pass this test too)\n",
                "* If  `Eval_improved` - `Eval_basic` > 0.04, you pass the 3rd test  (total 2.1 points if you pass this test too)\n",
                "\n",
                "### About the dataset\n",
                "The next Dataset includes a few additional features, which were not included in the original dataset.<br \/>\n",
                "Note: the <u>new features that were added all contain string values<\/u>. If you decide to use these features, they <b>must to be transfered to numerical features.<\/b><br \/>\n",
                "The following list is an explaination of these new features (all the features contain string values):<br \/>\n",
                "* 'color' - It indicates whether the movie is in Color or Black & White\n",
                "* 'language' - The main spoken language in the movie, such as English, Dutch, Mandarin and so on.\n",
                "* 'content_rating' - The group category for which the movie is appropriate for, such as 'PG-13', 'PG', 'R' and so on.\n",
                "* 'country' - The country which the film took place in.\n",
                "\n",
                "The following section includes the first few lines of this dataset:"
            ]
        },
        {
            "cell_type": "code",
            "execution_count": null,
            "metadata": {
                "collapsed": true
            },
            "outputs": [],
            "source": [
                "# 4.\n",
                "# ------------>>>>>>>> RUN THIS CODE CELL <<<<<<<<------------\n",
                "# --------  (run only)\n",
                "# === CODE TYPE: EXPLORATION\n",
                "\n",
                "print (\"The first few lines of this dataset:\")\n",
                "print (\"-----------------------------------\")\n",
                "\n",
                "file_name_train = '.' + os.sep + 'data' + os.sep + 'imdb_for_1st_model_w_cat_train.csv'\n",
                "target_col_name = 'imdb_score'\n",
                "    \n",
                "print ('Note: the dataset is already scaled ...')\n",
                "\n",
                "try:\n",
                "    X_1st_manip_train, y_1st_manip_train = load_dataset(file_name_train, target_col_name)\n",
                "except Exception as e:\n",
                "    print ('You probably have a syntax error, we got the following exception:')\n",
                "    print ('\\tError Message:', str(e))\n",
                "    print ('Try fixing your implementation')\n",
                "    raise \n",
                "\n",
                "X_1st_manip_train.head()"
            ]
        },
        {
            "cell_type": "markdown",
            "metadata": {
                "nbgrader": {
                    "grade": false,
                    "locked": true,
                    "solution": false
                },
                "editable": false,
                "deletable": false
            },
            "source": [
                "### Imprtant notes\n",
                "<div class=\"alert alert-danger\">\n",
                "&#x2718; <u>do not change the  values of the target<\/u><br \/>\n",
                "&#x2718; <u>do not leave features, which contain string values after this process<\/u>\n",
                "<\/div>\n",
                "\n",
                "### Perform feature manipulation\n",
                "You could perform one or more of the following manipulations, or any other manipulation you've studied about or you can think of:\n",
                "<div class=\"alert alert-success\">\n",
                "<ul>\n",
                "  <li>Transfer the values of the new features from string to numerical values, For instance:\n",
                "    <ul>\n",
                "      <li>In some 'col1' feature: 'str_val_1' --> 0<\/li>\n",
                "      <li>'str_val_2' -->1<\/li>\n",
                "      <li>...<\/li>\n",
                "    <\/ul>\n",
                "  <\/li>\n",
                "  <li>Use the methods you studied to group values and transfer them to categorical numeric values, For instance:\n",
                "    <ul><li>Group numerical values into bins of into binary values.<\/li><\/ul>\n",
                "  <\/li>\n",
                "  <li>Perform mathimatical combination between two features, such as:\n",
                "    <ul>\n",
                "        <li>df['new_feature'] = df['col_name1']-df['col_name2']<\/li>\n",
                "        <li>df['new_feature'] = df['col_name1']\/df['col_name2'] # make sure you don't divide in zero<\/li>\n",
                "     <\/ul>\n",
                "  <li>Remove features, which might not be helpful.<\/li>\n",
                "<\/ul><br \/>\n",
                "<u>For instance<\/u>, we recommend that you try unifying countries and features regarding Facebook likes.\n",
                "<\/div>"
            ]
        },
        {
            "cell_type": "markdown",
            "metadata": {
                "nbgrader": {
                    "grade": false,
                    "locked": true,
                    "solution": false
                },
                "editable": false,
                "deletable": false
            },
            "source": [
                "### 4. Instructions\n",
                "<u>method name<\/u>: <b>manipulate_1st_feature_vector<\/b>\n",
                "<pre>The following is expected:\n",
                "--- Complete the 'manipulate_1st_feature_vector' function to return a dataframe, for which\n",
                "    the evaluation of the 1st learning problem should improve, using feature manipulation.\n",
                "This could include any manipulation of the features, which you've studied, removal of features,\n",
                "   and also creation of new features, which contain some sort of combination\n",
                "   of the original features (such as a division of the value of two other features and so on).\n",
                "Notes:\n",
                "   Features which are not numeric should be removed from the output (otherwise, the training will fail).\n",
                "   The improvements should be consistent with your identification of the learning problem in section 2.a.\n",
                "<\/pre>\n",
                "<hr>\n",
                "The return statement should look similar to the following statement:<br \/>\n",
                "<b>return processed_X<\/b>"
            ]
        },
        {
            "cell_type": "code",
            "execution_count": null,
            "metadata": {
                "collapsed": true
            },
            "outputs": [],
            "source": [
                "# 4.\n",
                "# ------------>>>>>>>> RUN THIS CODE CELL <<<<<<<<------------\n",
                "# --------  (run after implementation)\n",
                "# === CODE TYPE: ASSISTANCE TO ANSWER \n",
                "# ---- Add assistance code here IF NEEDED:\n",
                "###\n",
                "### YOUR CODE HERE\n",
                "###\n"
            ]
        },
        {
            "cell_type": "code",
            "execution_count": null,
            "metadata": {
                "collapsed": true
            },
            "outputs": [],
            "source": [
                "### 4.\n",
                "# ------------>>>>>>>> RUN THIS CODE CELL <<<<<<<<------------\n",
                "# --------  (run after implementation)\n",
                "# === CODE TYPE: ANSWER \n",
                "\n",
                "def manipulate_1st_feature_vector(X):\n",
                "    ###\n",
                "    ### YOUR CODE HERE\n",
                "    ###\n"
            ]
        },
        {
            "cell_type": "code",
            "execution_count": null,
            "metadata": {
                "collapsed": true
            },
            "outputs": [],
            "source": [
                "# 4.\n",
                "# ------------>>>>>>>> RUN THIS CODE CELL <<<<<<<<------------\n",
                "# --------  (run after implementation)\n",
                "# === CODE TYPE: SELF TESTING\n",
                "# Use the following code to test your implementation:file_basic_train = '.' + os.sep + 'data' + os.sep + 'imdb_for_1st_model_train.csv'\n",
                "\n",
                "file_basic_train = '.' + os.sep + 'data' + os.sep + 'imdb_for_1st_model_train.csv'\n",
                "file_basic_test = '.' + os.sep + 'data' + os.sep + 'imdb_for_1st_model_test.csv'\n",
                "\n",
                "file_name_train = '.' + os.sep + 'data' + os.sep + 'imdb_for_1st_model_w_cat_train.csv'\n",
                "file_name_test = '.' + os.sep + 'data' + os.sep + 'imdb_for_1st_model_w_cat_test.csv'\n",
                "target_col_name = 'imdb_score'\n",
                "\n",
                "X_1st_manip_train, y_1st_manip_train = load_dataset(file_name_train, target_col_name)\n",
                "X_1st_manip_test, y_1st_manip_test = load_dataset(file_name_test, target_col_name)\n",
                "X_1st_manip_train = manipulate_1st_feature_vector(X_1st_manip_train)\n",
                "X_1st_manip_test = manipulate_1st_feature_vector(X_1st_manip_test)\n",
                "\n",
                "X_1st_train, y_1st_train = load_dataset(file_basic_train, target_col_name)\n",
                "X_1st_test, y_1st_test = load_dataset(file_basic_test, target_col_name)\n",
                "\n",
                "trained_model_1st = train_1st_model(X_1st_train, y_1st_train)\n",
                "trained_model_manip_1st = train_1st_model(X_1st_manip_train, y_1st_manip_train)\n",
                "\n",
                "pred_1st_vals = predict_1st(trained_model_1st, X_1st_test)\n",
                "y_pred_1st= pd.Series(pred_1st_vals,index=X_1st_test.index)\n",
                "\n",
                "pred_manip_1st_vals = predict_1st(trained_model_manip_1st, X_1st_manip_test)\n",
                "y_pred_manip_1st = pd.Series(pred_manip_1st_vals,index=X_1st_manip_test.index)\n",
                "\n",
                "eval_res_1st = evaluate_performance_1st(y_1st_test, y_pred_1st)\n",
                "eval_res_manip_1st = evaluate_performance_1st(y_1st_manip_test, y_pred_manip_1st)\n",
                "\n",
                "print('orig:', eval_res_1st, \" ~ improved:\", eval_res_manip_1st)\n",
                "    \n",
                "# --- add additional code to check your code if needed:\n",
                "###\n",
                "### YOUR CODE HERE\n",
                "###\n"
            ]
        },
        {
            "cell_type": "code",
            "execution_count": null,
            "metadata": {
                "collapsed": true
            },
            "outputs": [],
            "source": [
                "# 4.\n",
                "# ------------>>>>>>>> RUN THIS CODE CELL <<<<<<<<------------\n",
                "# --------  (run after implementation, if used)\n",
                "# === CODE TYPE: SELF TESTING\n",
                "# ---- Add your additional tests here if needed:\n",
                "###\n",
                "### YOUR CODE HERE\n",
                "###\n"
            ]
        },
        {
            "cell_type": "code",
            "execution_count": null,
            "metadata": {
                "collapsed": true,
                "nbgrader": {
                    "grade": true,
                    "grade_id": "test4-1_manipulate_1st_feature_vector",
                    "locked": true,
                    "points": "0.1",
                    "solution": false
                },
                "editable": false,
                "deletable": false
            },
            "outputs": [],
            "source": [
                "# 4.\n",
                "# ------------>>>>>>>> RUN THIS CODE CELL <<<<<<<<------------\n",
                "# --------  (run only)\n",
                "# === CODE TYPE: GRADED TEST \n",
                "\n",
                "print (\"Part 4. - Test 1 (name: test4-1_manipulate_1st_feature_vector, points: 0.1) - Sanity\")\n",
                "print (\"\\t--->Testing the implementation of 'manipulate_1st_feature_vector' ...\")\n",
                "\n",
                "file_name_train = '.' + os.sep + 'data' + os.sep + 'imdb_for_1st_model_w_cat_train.csv'\n",
                "file_name_test = '.' + os.sep + 'data' + os.sep + 'imdb_for_1st_model_w_cat_test.csv'\n",
                "target_col_name = 'imdb_score'\n",
                "\n",
                "try:\n",
                "    X_1st_manip_train, y_1st_manip_train = load_dataset(file_name_train, target_col_name)\n",
                "    X_1st_manip_test, y_1st_manip_test = load_dataset(file_name_test, target_col_name)\n",
                "    X_1st_manip_train = manipulate_1st_feature_vector(X_1st_manip_train)\n",
                "    X_1st_manip_test = manipulate_1st_feature_vector(X_1st_manip_test)\n",
                "except Exception as e:\n",
                "    print ('You probably have a syntax or implementation error,  \\nerror Message:',str(e), '\\nTry fixing your code')\n",
                "    raise\n",
                "\n",
                "print (\"Good Job!\\nYou've passed the 1st test for the 'manipulate_1st_feature_vector' function implementation :-)\")"
            ]
        },
        {
            "cell_type": "code",
            "execution_count": null,
            "metadata": {
                "collapsed": true,
                "nbgrader": {
                    "grade": true,
                    "grade_id": "test4-2_manipulate_1st_feature_vector",
                    "locked": true,
                    "points": "0.2",
                    "solution": false
                },
                "editable": false,
                "deletable": false
            },
            "outputs": [],
            "source": [
                "# 4.\n",
                "# ------------>>>>>>>> RUN THIS CODE CELL <<<<<<<<------------\n",
                "# --------  (run only)\n",
                "# === CODE TYPE: GRADED TEST \n",
                "\n",
                "print (\"Part 4. - Test 2 (name: test4-2_manipulate_1st_feature_vector, points: 0.2)\")\n",
                "print (\"\\t--->Testing the implementation of 'manipulate_1st_feature_vector' ...\")\n",
                "\n",
                "file_basic_train = '.' + os.sep + 'data' + os.sep + 'imdb_for_1st_model_train.csv'\n",
                "file_basic_test = '.' + os.sep + 'data' + os.sep + 'imdb_for_1st_model_test.csv'\n",
                "file_name_train = '.' + os.sep + 'data' + os.sep + 'imdb_for_1st_model_w_cat_train.csv'\n",
                "file_name_test = '.' + os.sep + 'data' + os.sep + 'imdb_for_1st_model_w_cat_test.csv'\n",
                "target_col_name = 'imdb_score'\n",
                "\n",
                "try:\n",
                "    X_1st_train, y_1st_train = load_dataset(file_basic_train, target_col_name)\n",
                "    X_1st_test, y_1st_test = load_dataset(file_basic_test, target_col_name)\n",
                "    X_1st_manip_train, y_1st_manip_train = load_dataset(file_name_train, target_col_name)\n",
                "    X_1st_manip_test, y_1st_manip_test = load_dataset(file_name_test, target_col_name)\n",
                "    X_1st_manip_train = manipulate_1st_feature_vector(X_1st_manip_train)\n",
                "    X_1st_manip_test = manipulate_1st_feature_vector(X_1st_manip_test)\n",
                "    trained_model_1st = train_1st_model(X_1st_train, y_1st_train)\n",
                "    trained_model_manip_1st = train_1st_model(X_1st_manip_train, y_1st_manip_train)\n",
                "    pred_1st_vals = predict_1st(trained_model_1st, X_1st_test)\n",
                "    y_pred_1st= pd.Series(pred_1st_vals,index=X_1st_test.index)\n",
                "    pred_manip_1st_vals = predict_1st(trained_model_manip_1st, X_1st_manip_test)\n",
                "    y_pred_manip_1st = pd.Series(pred_manip_1st_vals,index=X_1st_manip_test.index)\n",
                "    eval_res_1st = evaluate_performance_1st(y_1st_test, y_pred_1st)\n",
                "    eval_res_manip_1st = evaluate_performance_1st(y_1st_manip_test, y_pred_manip_1st)\n",
                "except Exception as e:\n",
                "    print ('You probably have a syntax or implementation error,  \\nerror Message:',str(e), '\\nTry fixing your code')\n",
                "    raise\n",
                "\n",
                "assert X_1st_train.shape == (2956, 14), 'Wrong shape for feature vector dataframe'\n",
                "assert X_1st_test.shape == (739, 14), 'Wrong shape for feature vector dataframe'\n",
                "np.testing.assert_array_equal(X_1st_train.index, y_1st_train.index, 'X and y should have the same index')\n",
                "np.testing.assert_array_equal(X_1st_manip_train.index, X_1st_train.index, \"index shouldn't change after feature manipulation\")\n",
                "np.testing.assert_array_equal(X_1st_manip_test.index, X_1st_test.index, \"index shouldn't change after feature manipulation\")\n",
                "np.testing.assert_array_equal(X_1st_test.index, y_1st_test.index, 'X and y should have the same index')\n",
                "np.testing.assert_array_equal(X_1st_manip_test.index, y_1st_manip_test.index, 'X and y should have the same index')\n",
                "np.testing.assert_array_equal(y_1st_manip_test.index, y_pred_manip_1st.index, 'pred and test should have the same index')\n",
                "\n",
                "print (\"Good Job!\\nYou've passed the 2nd test for the 'manipulate_1st_feature_vector' function implementation :-)\")"
            ]
        },
        {
            "cell_type": "code",
            "execution_count": null,
            "metadata": {
                "collapsed": true,
                "nbgrader": {
                    "grade": true,
                    "grade_id": "test4-3_manipulate_1st_feature_vector",
                    "locked": true,
                    "points": "0.4",
                    "solution": false
                },
                "editable": false,
                "deletable": false
            },
            "outputs": [],
            "source": [
                "# 4.\n",
                "# ------------>>>>>>>> RUN THIS CODE CELL <<<<<<<<------------\n",
                "# --------  (run only)\n",
                "# === CODE TYPE: GRADED TEST \n",
                "\n",
                "print (\"Part 4. - Test 3 (name: test4-3_manipulate_1st_feature_vector, points: 0.4)\")\n",
                "print (\"\\t--->Testing the implementation of 'manipulate_1st_feature_vector' ...\")\n",
                "print (\"\\n\\t====> model improvement test - in order to get the points for this test,\")\n",
                "print (\"\\t                               you need to improve the performance of the basic model,\")\n",
                "print (\"\\t                               using your implementation in the \")\n",
                "print (\"\\t                               'manipulate_1st_feature_vector' function\")\n",
                "\n",
                "file_basic_train = '.' + os.sep + 'data' + os.sep + 'imdb_for_1st_model_train.csv'\n",
                "file_basic_test = '.' + os.sep + 'data' + os.sep + 'imdb_for_1st_model_test.csv'\n",
                "file_name_train = '.' + os.sep + 'data' + os.sep + 'imdb_for_1st_model_w_cat_train.csv'\n",
                "file_name_test = '.' + os.sep + 'data' + os.sep + 'imdb_for_1st_model_w_cat_test.csv'\n",
                "target_col_name = 'imdb_score'\n",
                "\n",
                "try:\n",
                "    X_1st_train, y_1st_train = load_dataset(file_basic_train, target_col_name)\n",
                "    X_1st_test, y_1st_test = load_dataset(file_basic_test, target_col_name)\n",
                "    X_1st_manip_train, y_1st_manip_train = load_dataset(file_name_train, target_col_name)\n",
                "    X_1st_manip_test, y_1st_manip_test = load_dataset(file_name_test, target_col_name)\n",
                "    X_1st_manip_train = manipulate_1st_feature_vector(X_1st_manip_train)\n",
                "    X_1st_manip_test = manipulate_1st_feature_vector(X_1st_manip_test)\n",
                "    trained_model_1st = train_1st_model(X_1st_train, y_1st_train)\n",
                "    trained_model_manip_1st = train_1st_model(X_1st_manip_train, y_1st_manip_train)\n",
                "    pred_1st_vals = predict_1st(trained_model_1st, X_1st_test)\n",
                "    y_pred_1st= pd.Series(pred_1st_vals,index=X_1st_test.index)\n",
                "    pred_manip_1st_vals = predict_1st(trained_model_manip_1st, X_1st_manip_test)\n",
                "    y_pred_manip_1st = pd.Series(pred_manip_1st_vals,index=X_1st_manip_test.index)\n",
                "    eval_res_1st = evaluate_performance_1st(y_1st_test, y_pred_1st)\n",
                "    eval_res_manip_1st = evaluate_performance_1st(y_1st_manip_test, y_pred_manip_1st)\n",
                "except Exception as e:\n",
                "    print ('You probably have a syntax or implementation error,  \\nerror Message:',str(e), '\\nTry fixing your code')\n",
                "    raise\n",
                "    \n",
                "assert np.round(eval_res_manip_1st-eval_res_1st,3) > 0, 'improved model must have a better performance to pass this test ...'\n",
                "\n",
                "print (\"Good Job!\\nYou've passed the 3rd test for the 'manipulate_1st_feature_vector' function implementation :-)\")"
            ]
        },
        {
            "cell_type": "code",
            "execution_count": null,
            "metadata": {
                "collapsed": true,
                "nbgrader": {
                    "grade": true,
                    "grade_id": "test4-4_manipulate_1st_feature_vector",
                    "locked": true,
                    "points": "0.5",
                    "solution": false
                },
                "editable": false,
                "deletable": false
            },
            "outputs": [],
            "source": [
                "# 4.\n",
                "# ------------>>>>>>>> RUN THIS CODE CELL <<<<<<<<------------\n",
                "# --------  (run only)\n",
                "# === CODE TYPE: GRADED TEST \n",
                "\n",
                "print (\"Part 4. - Test 4 (name: test4-4_manipulate_1st_feature_vector, points: 0.5)\")\n",
                "print (\"\\t--->Testing the implementation of 'manipulate_1st_feature_vector' ...\")\n",
                "print (\"\\n\\t====> model improvement test - in order to get the points for this test,\")\n",
                "print (\"\\t                               you need to improve the performance of the basic model\")\n",
                "print (\"\\t                               in MORE THAN 0.015, using your implementation in the \")\n",
                "print (\"\\t                               'manipulate_1st_feature_vector' function\")\n",
                "\n",
                "file_basic_train = '.' + os.sep + 'data' + os.sep + 'imdb_for_1st_model_train.csv'\n",
                "file_basic_test = '.' + os.sep + 'data' + os.sep + 'imdb_for_1st_model_test.csv'\n",
                "file_name_train = '.' + os.sep + 'data' + os.sep + 'imdb_for_1st_model_w_cat_train.csv'\n",
                "file_name_test = '.' + os.sep + 'data' + os.sep + 'imdb_for_1st_model_w_cat_test.csv'\n",
                "target_col_name = 'imdb_score'\n",
                "\n",
                "try:    \n",
                "    X_1st_train, y_1st_train = load_dataset(file_basic_train, target_col_name)\n",
                "    X_1st_test, y_1st_test = load_dataset(file_basic_test, target_col_name)\n",
                "    X_1st_manip_train, y_1st_manip_train = load_dataset(file_name_train, target_col_name)\n",
                "    X_1st_manip_test, y_1st_manip_test = load_dataset(file_name_test, target_col_name)\n",
                "    X_1st_manip_train = manipulate_1st_feature_vector(X_1st_manip_train)\n",
                "    X_1st_manip_test = manipulate_1st_feature_vector(X_1st_manip_test)\n",
                "    trained_model_1st = train_1st_model(X_1st_train, y_1st_train)\n",
                "    trained_model_manip_1st = train_1st_model(X_1st_manip_train, y_1st_manip_train)\n",
                "    pred_1st_vals = predict_1st(trained_model_1st, X_1st_test)\n",
                "    y_pred_1st= pd.Series(pred_1st_vals,index=X_1st_test.index)\n",
                "    pred_manip_1st_vals = predict_1st(trained_model_manip_1st, X_1st_manip_test)\n",
                "    y_pred_manip_1st = pd.Series(pred_manip_1st_vals,index=X_1st_manip_test.index)\n",
                "    eval_res_1st = evaluate_performance_1st(y_1st_test, y_pred_1st)\n",
                "    eval_res_manip_1st = evaluate_performance_1st(y_1st_manip_test, y_pred_manip_1st)\n",
                "except Exception as e:\n",
                "    print ('You probably have a syntax or implementation error,  \\nerror Message:',str(e), '\\nTry fixing your code')\n",
                "    raise\n",
                "\n",
                "assert np.round(eval_res_manip_1st-eval_res_1st,4) > 0.015, 'improvement was less than  0.015, not enough for this test'\n",
                "\n",
                "print (\"Good Job!\\nYou've passed the 4th test for the 'manipulate_1st_feature_vector' function implementation :-)\")"
            ]
        },
        {
            "cell_type": "code",
            "execution_count": null,
            "metadata": {
                "collapsed": true,
                "nbgrader": {
                    "grade": true,
                    "grade_id": "test4-5_manipulate_1st_feature_vector",
                    "locked": true,
                    "points": "0.5",
                    "solution": false
                },
                "editable": false,
                "deletable": false
            },
            "outputs": [],
            "source": [
                "# 4.\n",
                "# ------------>>>>>>>> RUN THIS CODE CELL <<<<<<<<------------\n",
                "# --------  (run only)\n",
                "# === CODE TYPE: GRADED TEST \n",
                "\n",
                "print (\"Part 4. - Test 5 (name: test4-5_manipulate_1st_feature_vector, points: 0.5)\")\n",
                "print (\"\\t--->Testing the implementation of 'manipulate_1st_feature_vector' ...\")\n",
                "print (\"\\n\\t====> model improvement test - in order to get the points for this test,\")\n",
                "print (\"\\t                               you need to improve the performance of the basic model\")\n",
                "print (\"\\t                               in MORE THAN 0.03, using your implementation in the \")\n",
                "print (\"\\t                               'manipulate_1st_feature_vector' function\")\n",
                "\n",
                "file_basic_train = '.' + os.sep + 'data' + os.sep + 'imdb_for_1st_model_train.csv'\n",
                "file_basic_test = '.' + os.sep + 'data' + os.sep + 'imdb_for_1st_model_test.csv'\n",
                "file_name_train = '.' + os.sep + 'data' + os.sep + 'imdb_for_1st_model_w_cat_train.csv'\n",
                "file_name_test = '.' + os.sep + 'data' + os.sep + 'imdb_for_1st_model_w_cat_test.csv'\n",
                "target_col_name = 'imdb_score'\n",
                "\n",
                "try:    \n",
                "    X_1st_train, y_1st_train = load_dataset(file_basic_train, target_col_name)\n",
                "    X_1st_test, y_1st_test = load_dataset(file_basic_test, target_col_name)\n",
                "    X_1st_manip_train, y_1st_manip_train = load_dataset(file_name_train, target_col_name)\n",
                "    X_1st_manip_test, y_1st_manip_test = load_dataset(file_name_test, target_col_name)\n",
                "    X_1st_manip_train = manipulate_1st_feature_vector(X_1st_manip_train)\n",
                "    X_1st_manip_test = manipulate_1st_feature_vector(X_1st_manip_test)\n",
                "    trained_model_1st = train_1st_model(X_1st_train, y_1st_train)\n",
                "    trained_model_manip_1st = train_1st_model(X_1st_manip_train, y_1st_manip_train)\n",
                "    pred_1st_vals = predict_1st(trained_model_1st, X_1st_test)\n",
                "    y_pred_1st= pd.Series(pred_1st_vals,index=X_1st_test.index)\n",
                "    pred_manip_1st_vals = predict_1st(trained_model_manip_1st, X_1st_manip_test)\n",
                "    y_pred_manip_1st = pd.Series(pred_manip_1st_vals,index=X_1st_manip_test.index)\n",
                "    eval_res_1st = evaluate_performance_1st(y_1st_test, y_pred_1st)\n",
                "    eval_res_manip_1st = evaluate_performance_1st(y_1st_manip_test, y_pred_manip_1st)\n",
                "except Exception as e:\n",
                "    print ('You probably have a syntax or implementation error,  \\nerror Message:',str(e), '\\nTry fixing your code')\n",
                "    raise\n",
                "\n",
                "assert np.round(eval_res_manip_1st-eval_res_1st,3) > 0.03, 'improvement was less than 0.03, not enough for this test'\n",
                "\n",
                "print (\"Good Job!\\nYou've passed the 5th test for the 'manipulate_1st_feature_vector' function implementation :-)\")"
            ]
        },
        {
            "cell_type": "code",
            "execution_count": null,
            "metadata": {
                "collapsed": true,
                "nbgrader": {
                    "grade": true,
                    "grade_id": "test4-6_manipulate_1st_feature_vector",
                    "locked": true,
                    "points": "0.5",
                    "solution": false
                },
                "editable": false,
                "deletable": false
            },
            "outputs": [],
            "source": [
                "# 4.\n",
                "# ------------>>>>>>>> RUN THIS CODE CELL <<<<<<<<------------\n",
                "# --------  (run only)\n",
                "# === CODE TYPE: GRADED TEST \n",
                "\n",
                "print (\"Part 4. - Test 6 (name: test4-6_manipulate_1st_feature_vector, points: 0.5)\")\n",
                "print (\"\\t--->Testing the implementation of 'manipulate_1st_feature_vector' ...\")\n",
                "print (\"\\n\\t====> model improvement test - in order to get the points for this test,\")\n",
                "print (\"\\t                               you need to improve the performance of the basic model\")\n",
                "print (\"\\t                               in MORE THAN 0.04, using your implementation in the \")\n",
                "print (\"\\t                               'manipulate_1st_feature_vector' function\")\n",
                "\n",
                "file_basic_train = '.' + os.sep + 'data' + os.sep + 'imdb_for_1st_model_train.csv'\n",
                "file_basic_test = '.' + os.sep + 'data' + os.sep + 'imdb_for_1st_model_test.csv'\n",
                "file_name_train = '.' + os.sep + 'data' + os.sep + 'imdb_for_1st_model_w_cat_train.csv'\n",
                "file_name_test = '.' + os.sep + 'data' + os.sep + 'imdb_for_1st_model_w_cat_test.csv'\n",
                "target_col_name = 'imdb_score'\n",
                "\n",
                "try:    \n",
                "    X_1st_train, y_1st_train = load_dataset(file_basic_train, target_col_name)\n",
                "    X_1st_test, y_1st_test = load_dataset(file_basic_test, target_col_name)\n",
                "    X_1st_manip_train, y_1st_manip_train = load_dataset(file_name_train, target_col_name)\n",
                "    X_1st_manip_test, y_1st_manip_test = load_dataset(file_name_test, target_col_name)\n",
                "    X_1st_manip_train = manipulate_1st_feature_vector(X_1st_manip_train)\n",
                "    X_1st_manip_test = manipulate_1st_feature_vector(X_1st_manip_test)\n",
                "    trained_model_1st = train_1st_model(X_1st_train, y_1st_train)\n",
                "    trained_model_manip_1st = train_1st_model(X_1st_manip_train, y_1st_manip_train)\n",
                "    pred_1st_vals = predict_1st(trained_model_1st, X_1st_test)\n",
                "    y_pred_1st= pd.Series(pred_1st_vals,index=X_1st_test.index)\n",
                "    pred_manip_1st_vals = predict_1st(trained_model_manip_1st, X_1st_manip_test)\n",
                "    y_pred_manip_1st = pd.Series(pred_manip_1st_vals,index=X_1st_manip_test.index)\n",
                "    eval_res_1st = evaluate_performance_1st(y_1st_test, y_pred_1st)\n",
                "    eval_res_manip_1st = evaluate_performance_1st(y_1st_manip_test, y_pred_manip_1st)\n",
                "except Exception as e:\n",
                "    print ('You probably have a syntax or implementation error,  \\nerror Message:',str(e), '\\nTry fixing your code')\n",
                "    raise\n",
                "\n",
                "assert np.round(eval_res_manip_1st-eval_res_1st,3) > 0.04, 'improvement not enough for this test'\n",
                "\n",
                "print (\"Good Job!\\nYou've passed the 6th test for the 'manipulate_1st_feature_vector' function implementation :-)\")"
            ]
        },
        {
            "cell_type": "code",
            "execution_count": null,
            "metadata": {
                "collapsed": true
            },
            "outputs": [],
            "source": []
        },
        {
            "cell_type": "code",
            "execution_count": null,
            "metadata": {
                "collapsed": true
            },
            "outputs": [],
            "source": []
        }
    ],
    "metadata": {
        "kernelspec": {
            "display_name": "Python 3.8",
            "language": "python",
            "name": "python38"
        },
        "language_info": {
            "codemirror_mode": {
                "name": "ipython",
                "version": 3
            },
            "file_extension": ".py",
            "mimetype": "text\/x-python",
            "name": "python",
            "nbconvert_exporter": "python",
            "pygments_lexer": "ipython3",
            "version": "3.8.7"
        }
    },
    "nbformat": 4,
    "nbformat_minor": 2
}