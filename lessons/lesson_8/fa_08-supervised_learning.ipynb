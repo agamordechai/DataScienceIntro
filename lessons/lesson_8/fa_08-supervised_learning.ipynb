{
 "cells": [
  {
   "cell_type": "markdown",
   "metadata": {
    "nbgrader": {
     "grade": false,
     "locked": true,
     "solution": false
    },
    "editable": false,
    "deletable": false
   },
   "source": [
    "![Final Lesson Exercise](images/Banner_FEX.png)"
   ]
  },
  {
   "cell_type": "markdown",
   "metadata": {
    "nbgrader": {
     "grade": false,
     "locked": true,
     "solution": false
    },
    "editable": false,
    "deletable": false
   },
   "source": [
    "# Lesson #8: Supervised Learning - classification and regression\n",
    "## Good Movies - The IMDb movie dataset"
   ]
  },
  {
   "cell_type": "markdown",
   "metadata": {
    "nbgrader": {
     "grade": false,
     "locked": true,
     "solution": false
    },
    "editable": false,
    "deletable": false
   },
   "source": [
    "## About this assignment\n",
    "In this assignment, you will continue to explore information regarding good movies.<br/>\n",
    "\n",
    "This time you will practice the classification and regression flow.<br />\n",
    "You will need to do the following:\n",
    "* Distinguish between classification and regression problems\n",
    "* Train classification and regression models and predict the test examples\n",
    "* Run evaluation for the classification and regression models\n",
    "* Manipulate features in order to improve the results"
   ]
  },
  {
   "cell_type": "markdown",
   "metadata": {
    "nbgrader": {
     "grade": false,
     "locked": true,
     "solution": false
    },
    "editable": false,
    "deletable": false
   },
   "source": [
    "## Preceding Step - import modules (packages)\n",
    "This step is necessary in order to use external packages. \n",
    "\n",
    "**Use the following libraries for the assignment, when needed**:"
   ]
  },
  {
   "cell_type": "code",
   "metadata": {
    "collapsed": true,
    "ExecuteTime": {
     "end_time": "2025-01-04T18:04:23.499238Z",
     "start_time": "2025-01-04T18:04:23.196948Z"
    }
   },
   "source": [
    "# ------------>>>>>>>> RUN THIS CODE CELL <<<<<<<<------------\n",
    "# === CELL TYPE: IMPORTS AND SETUP \n",
    "\n",
    "import os                       # for testing use only\n",
    "import pandas as pd\n",
    "import numpy as np\n",
    "import matplotlib as mpl\n",
    "import matplotlib.pyplot as plt\n",
    "import seaborn as sns\n",
    "from collections import Counter\n",
    "import sklearn\n",
    "from sklearn import linear_model, metrics, preprocessing\n",
    "from sklearn.preprocessing import StandardScaler, MinMaxScaler\n",
    "from sklearn.linear_model import LogisticRegression, LinearRegression\n",
    "from sklearn.metrics import r2_score, f1_score\n",
    "\n",
    "%matplotlib inline"
   ],
   "outputs": [],
   "execution_count": 1
  },
  {
   "cell_type": "markdown",
   "metadata": {
    "nbgrader": {
     "grade": false,
     "locked": true,
     "solution": false
    },
    "editable": false,
    "deletable": false
   },
   "source": [
    "## 1. Load the dataset\n",
    "In this section you will need to load the dataset and split the dataset to feature vectors (X) and target (y).<br />\n",
    "\n",
    "Note: the target could vary and represent a classification target or a regression target."
   ]
  },
  {
   "cell_type": "markdown",
   "metadata": {
    "nbgrader": {
     "grade": false,
     "locked": true,
     "solution": false
    },
    "editable": false,
    "deletable": false
   },
   "source": [
    "### 1. Instructions\n",
    "<u>method name</u>: <b>load_dataset</b>\n",
    "<pre>The following is expected:\n",
    "--- Complete the 'load_dataset' function to load the csv \n",
    "    located in the 'file_name' parameter into a pandas dataframe.\n",
    "You should return a dataframe for the feature vectors (without the target column) \n",
    "    and a series containing the corresponding target values, determined by the 'target_column' column.\n",
    "\n",
    "</pre>\n",
    "<hr>\n",
    "Assuming 'X' represents the feature vector dataframe and 'y' represents the target values series,<br />\n",
    "The return statement should look similar to the following statement:<br />\n",
    "<b>return X, y</b>"
   ]
  },
  {
   "cell_type": "code",
   "metadata": {
    "collapsed": true,
    "ExecuteTime": {
     "end_time": "2025-01-04T18:09:44.240920Z",
     "start_time": "2025-01-04T18:09:44.237445Z"
    }
   },
   "source": [
    "# 1.\n",
    "# ------------>>>>>>>> RUN THIS CODE CELL <<<<<<<<------------\n",
    "# --------  (run after implementation)\n",
    "# === CODE TYPE: ANSWER \n",
    "\n",
    "def load_dataset(file_name, target_column):\n",
    "    df = pd.read_csv(file_name)\n",
    "    y = df[target_column]\n",
    "    X = df.drop(target_column, axis=1)\n",
    "    return X, y"
   ],
   "outputs": [],
   "execution_count": 11
  },
  {
   "cell_type": "code",
   "metadata": {
    "collapsed": true,
    "ExecuteTime": {
     "end_time": "2025-01-04T18:09:45.098464Z",
     "start_time": "2025-01-04T18:09:45.087880Z"
    }
   },
   "source": [
    "# 1.\n",
    "# ------------>>>>>>>> RUN THIS CODE CELL <<<<<<<<------------\n",
    "# --------  (run after implementation)\n",
    "# === CODE TYPE: SELF TESTING\n",
    "# Use the following code to test your implementation:\n",
    "\n",
    "file_name = '.' + os.sep + 'data' + os.sep + 'imdb_for_1st_model_train.csv'\n",
    "target_col_name = 'imdb_score'\n",
    "X, y = load_dataset(file_name, target_col_name)\n",
    "print(X.shape,y.shape)\n",
    "# --- add additional code to check your code if needed:\n",
    "###\n",
    "### YOUR CODE HERE\n",
    "###\n"
   ],
   "outputs": [
    {
     "name": "stdout",
     "output_type": "stream",
     "text": [
      "(2956, 14) (2956,)\n"
     ]
    }
   ],
   "execution_count": 12
  },
  {
   "cell_type": "code",
   "metadata": {
    "collapsed": true,
    "ExecuteTime": {
     "end_time": "2025-01-04T18:10:27.811959Z",
     "start_time": "2025-01-04T18:10:27.801716Z"
    }
   },
   "source": [
    "# 1.\n",
    "# ------------>>>>>>>> RUN THIS CODE CELL <<<<<<<<------------\n",
    "# --------  (run after implementation, if used)\n",
    "# === CODE TYPE: SELF TESTING\n",
    "# ---- Add your additional tests here if needed:\n",
    "print(y.head())\n",
    "X.head()"
   ],
   "outputs": [
    {
     "name": "stdout",
     "output_type": "stream",
     "text": [
      "0    0.59\n",
      "1    0.57\n",
      "2    0.66\n",
      "3    0.75\n",
      "4    0.71\n",
      "Name: imdb_score, dtype: float64\n"
     ]
    },
    {
     "data": {
      "text/plain": [
       "   duration  num_voted_users  num_critic_for_reviews  num_user_for_reviews  \\\n",
       "0        90            23021                     137                   220   \n",
       "1        87            97089                     225                   233   \n",
       "2       300             1666                      31                    47   \n",
       "3       133           112175                      57                   329   \n",
       "4       134             5603                      73                    45   \n",
       "\n",
       "   director_facebook_likes  actor_1_facebook_likes  actor_2_facebook_likes  \\\n",
       "0                       65                    1000                     989   \n",
       "1                      124                     865                     441   \n",
       "2                        6                       7                       6   \n",
       "3                      380                   12000                   11000   \n",
       "4                       45                       9                       2   \n",
       "\n",
       "   actor_3_facebook_likes  cast_total_facebook_likes  movie_facebook_likes  \\\n",
       "0                     683                       3155                   816   \n",
       "1                      77                       1417                 20000   \n",
       "2                       6                         32                   124   \n",
       "3                     918                      26388                 11000   \n",
       "4                     429                         11                   607   \n",
       "\n",
       "      gross  facenumber_in_poster      budget  title_year  \n",
       "0  10042266                     0     1000000        2005  \n",
       "1  29136626                     0    60000000        2011  \n",
       "2    454255                     3   400000000        2001  \n",
       "3  66528842                     2    30000000        1994  \n",
       "4    195888                     0  2500000000        2005  "
      ],
      "text/html": [
       "<div>\n",
       "<style scoped>\n",
       "    .dataframe tbody tr th:only-of-type {\n",
       "        vertical-align: middle;\n",
       "    }\n",
       "\n",
       "    .dataframe tbody tr th {\n",
       "        vertical-align: top;\n",
       "    }\n",
       "\n",
       "    .dataframe thead th {\n",
       "        text-align: right;\n",
       "    }\n",
       "</style>\n",
       "<table border=\"1\" class=\"dataframe\">\n",
       "  <thead>\n",
       "    <tr style=\"text-align: right;\">\n",
       "      <th></th>\n",
       "      <th>duration</th>\n",
       "      <th>num_voted_users</th>\n",
       "      <th>num_critic_for_reviews</th>\n",
       "      <th>num_user_for_reviews</th>\n",
       "      <th>director_facebook_likes</th>\n",
       "      <th>actor_1_facebook_likes</th>\n",
       "      <th>actor_2_facebook_likes</th>\n",
       "      <th>actor_3_facebook_likes</th>\n",
       "      <th>cast_total_facebook_likes</th>\n",
       "      <th>movie_facebook_likes</th>\n",
       "      <th>gross</th>\n",
       "      <th>facenumber_in_poster</th>\n",
       "      <th>budget</th>\n",
       "      <th>title_year</th>\n",
       "    </tr>\n",
       "  </thead>\n",
       "  <tbody>\n",
       "    <tr>\n",
       "      <th>0</th>\n",
       "      <td>90</td>\n",
       "      <td>23021</td>\n",
       "      <td>137</td>\n",
       "      <td>220</td>\n",
       "      <td>65</td>\n",
       "      <td>1000</td>\n",
       "      <td>989</td>\n",
       "      <td>683</td>\n",
       "      <td>3155</td>\n",
       "      <td>816</td>\n",
       "      <td>10042266</td>\n",
       "      <td>0</td>\n",
       "      <td>1000000</td>\n",
       "      <td>2005</td>\n",
       "    </tr>\n",
       "    <tr>\n",
       "      <th>1</th>\n",
       "      <td>87</td>\n",
       "      <td>97089</td>\n",
       "      <td>225</td>\n",
       "      <td>233</td>\n",
       "      <td>124</td>\n",
       "      <td>865</td>\n",
       "      <td>441</td>\n",
       "      <td>77</td>\n",
       "      <td>1417</td>\n",
       "      <td>20000</td>\n",
       "      <td>29136626</td>\n",
       "      <td>0</td>\n",
       "      <td>60000000</td>\n",
       "      <td>2011</td>\n",
       "    </tr>\n",
       "    <tr>\n",
       "      <th>2</th>\n",
       "      <td>300</td>\n",
       "      <td>1666</td>\n",
       "      <td>31</td>\n",
       "      <td>47</td>\n",
       "      <td>6</td>\n",
       "      <td>7</td>\n",
       "      <td>6</td>\n",
       "      <td>6</td>\n",
       "      <td>32</td>\n",
       "      <td>124</td>\n",
       "      <td>454255</td>\n",
       "      <td>3</td>\n",
       "      <td>400000000</td>\n",
       "      <td>2001</td>\n",
       "    </tr>\n",
       "    <tr>\n",
       "      <th>3</th>\n",
       "      <td>133</td>\n",
       "      <td>112175</td>\n",
       "      <td>57</td>\n",
       "      <td>329</td>\n",
       "      <td>380</td>\n",
       "      <td>12000</td>\n",
       "      <td>11000</td>\n",
       "      <td>918</td>\n",
       "      <td>26388</td>\n",
       "      <td>11000</td>\n",
       "      <td>66528842</td>\n",
       "      <td>2</td>\n",
       "      <td>30000000</td>\n",
       "      <td>1994</td>\n",
       "    </tr>\n",
       "    <tr>\n",
       "      <th>4</th>\n",
       "      <td>134</td>\n",
       "      <td>5603</td>\n",
       "      <td>73</td>\n",
       "      <td>45</td>\n",
       "      <td>45</td>\n",
       "      <td>9</td>\n",
       "      <td>2</td>\n",
       "      <td>429</td>\n",
       "      <td>11</td>\n",
       "      <td>607</td>\n",
       "      <td>195888</td>\n",
       "      <td>0</td>\n",
       "      <td>2500000000</td>\n",
       "      <td>2005</td>\n",
       "    </tr>\n",
       "  </tbody>\n",
       "</table>\n",
       "</div>"
      ]
     },
     "execution_count": 16,
     "metadata": {},
     "output_type": "execute_result"
    }
   ],
   "execution_count": 16
  },
  {
   "cell_type": "code",
   "metadata": {
    "collapsed": true,
    "nbgrader": {
     "grade": true,
     "grade_id": "test1-1_load_dataset",
     "locked": true,
     "points": "0.1",
     "solution": false
    },
    "editable": false,
    "deletable": false,
    "ExecuteTime": {
     "end_time": "2025-01-04T18:10:37.407518Z",
     "start_time": "2025-01-04T18:10:37.397725Z"
    }
   },
   "source": [
    "# 1.\n",
    "# ------------>>>>>>>> RUN THIS CODE CELL <<<<<<<<------------\n",
    "# --------  (run only)\n",
    "# === CODE TYPE: GRADED TEST \n",
    "\n",
    "print (\"Part 1. - Test 1 (name: test1-1_load_dataset, points: 0.1) - Sanity\")\n",
    "print (\"\\t--->Testing the implementation of 'load_dataset' ...\")\n",
    "\n",
    "file_name = '.' + os.sep + 'data' + os.sep + 'imdb_for_1st_model_train.csv'\n",
    "target_col_name = 'imdb_score'\n",
    "\n",
    "try:\n",
    "    X, y = load_dataset(file_name, target_col_name)\n",
    "except Exception as e:\n",
    "    print ('You probably have a syntax error, we got the following exception:')\n",
    "    print ('\\tError Message:', str(e))\n",
    "    print ('Try fixing your implementation')\n",
    "    raise \n",
    "\n",
    "print (\"Good Job!\\nYou've passed the 1st test for the 'load_dataset' function implementation :-)\")"
   ],
   "outputs": [
    {
     "name": "stdout",
     "output_type": "stream",
     "text": [
      "Part 1. - Test 1 (name: test1-1_load_dataset, points: 0.1) - Sanity\n",
      "\t--->Testing the implementation of 'load_dataset' ...\n",
      "Good Job!\n",
      "You've passed the 1st test for the 'load_dataset' function implementation :-)\n"
     ]
    }
   ],
   "execution_count": 17
  },
  {
   "cell_type": "code",
   "metadata": {
    "collapsed": true,
    "nbgrader": {
     "grade": true,
     "grade_id": "test1-2_load_dataset",
     "locked": true,
     "points": "0.1",
     "solution": false
    },
    "editable": false,
    "deletable": false,
    "ExecuteTime": {
     "end_time": "2025-01-04T18:10:38.001480Z",
     "start_time": "2025-01-04T18:10:37.987117Z"
    }
   },
   "source": [
    "# 1.\n",
    "# ------------>>>>>>>> RUN THIS CODE CELL <<<<<<<<------------\n",
    "# --------  (run only)\n",
    "# === CODE TYPE: GRADED TEST \n",
    "\n",
    "print (\"Part 1. - Test 2 (name: test1-2_load_dataset, points: 0.1)\")\n",
    "print (\"\\t--->Testing the implementation of 'load_dataset' ...\")\n",
    "\n",
    "file_name = '.' + os.sep + 'data' + os.sep + 'imdb_for_1st_model_train.csv'\n",
    "target_col_name = 'imdb_score'\n",
    "\n",
    "try:\n",
    "    X, y = load_dataset(file_name, target_col_name)\n",
    "except Exception as e:\n",
    "    print ('You probably have a syntax error, we got the following exception:')\n",
    "    print ('\\tError Message:', str(e))\n",
    "    print ('Try fixing your implementation')\n",
    "    raise \n",
    "\n",
    "assert X.shape == (2956, 14), 'Wrong shape for feature vector dataframe'\n",
    "assert y.shape[0] == 2956, 'Wrong number of target values in series'\n",
    "np.testing.assert_array_equal(X.index, y.index, 'X and y should have the same index')\n",
    "\n",
    "print (\"Good Job!\\nYou've passed the 2nd test for the 'load_dataset' function implementation :-)\")"
   ],
   "outputs": [
    {
     "name": "stdout",
     "output_type": "stream",
     "text": [
      "Part 1. - Test 2 (name: test1-2_load_dataset, points: 0.1)\n",
      "\t--->Testing the implementation of 'load_dataset' ...\n",
      "Good Job!\n",
      "You've passed the 2nd test for the 'load_dataset' function implementation :-)\n"
     ]
    }
   ],
   "execution_count": 18
  },
  {
   "cell_type": "code",
   "metadata": {
    "collapsed": true,
    "nbgrader": {
     "grade": true,
     "grade_id": "test1-3_load_dataset",
     "locked": true,
     "points": "0.1",
     "solution": false
    },
    "editable": false,
    "deletable": false,
    "ExecuteTime": {
     "end_time": "2025-01-04T18:10:38.622475Z",
     "start_time": "2025-01-04T18:10:38.606429Z"
    }
   },
   "source": [
    "# 1.\n",
    "# ------------>>>>>>>> RUN THIS CODE CELL <<<<<<<<------------\n",
    "# --------  (run only)\n",
    "# === CODE TYPE: GRADED TEST \n",
    "\n",
    "print (\"Part 1. - Test 3 (name: test1-3_load_dataset, points: 0.1)\")\n",
    "print (\"\\t--->Testing the implementation of 'load_dataset' ...\")\n",
    "\n",
    "file_name = '.' + os.sep + 'data' + os.sep + 'imdb_for_2nd_model_train.csv'\n",
    "target_col_name = 'suitable_for_kids'\n",
    "    \n",
    "print ('Note: the dataset is already scaled ...')\n",
    "try:\n",
    "    X, y = load_dataset(file_name, target_col_name)\n",
    "except Exception as e:\n",
    "    print ('You probably have a syntax error, we got the following exception:')\n",
    "    print ('\\tError Message:', str(e))\n",
    "    print ('Try fixing your implementation')\n",
    "    raise \n",
    "\n",
    "assert X.shape == (2892, 15), 'Wrong shape for feature vector dataframe'\n",
    "assert y.shape[0] == 2892, 'Wrong number of target values in series'\n",
    "\n",
    "print (\"Good Job!\\nYou've passed the 3rd test for the 'load_dataset' function implementation :-)\")"
   ],
   "outputs": [
    {
     "name": "stdout",
     "output_type": "stream",
     "text": [
      "Part 1. - Test 3 (name: test1-3_load_dataset, points: 0.1)\n",
      "\t--->Testing the implementation of 'load_dataset' ...\n",
      "Note: the dataset is already scaled ...\n",
      "Good Job!\n",
      "You've passed the 3rd test for the 'load_dataset' function implementation :-)\n"
     ]
    }
   ],
   "execution_count": 19
  },
  {
   "cell_type": "markdown",
   "metadata": {
    "nbgrader": {
     "grade": false,
     "locked": true,
     "solution": false
    },
    "editable": false,
    "deletable": false
   },
   "source": [
    "## 2. <u>The first</u> supervised model \n",
    "In his section you will do the following:\n",
    "* Train a supervised model on the train set\n",
    "* Predict the examples from the test set\n",
    "* Evaluate the performance of the model you've built"
   ]
  },
  {
   "cell_type": "code",
   "metadata": {
    "collapsed": true,
    "nbgrader": {
     "grade": false,
     "locked": true,
     "solution": false
    },
    "editable": false,
    "deletable": false,
    "ExecuteTime": {
     "end_time": "2025-01-04T18:11:03.681399Z",
     "start_time": "2025-01-04T18:11:03.667488Z"
    }
   },
   "source": [
    "# 2.\n",
    "# ------------>>>>>>>> RUN THIS CODE CELL <<<<<<<<------------\n",
    "# --------  (run only)\n",
    "# === CODE TYPE: EXPLORATION\n",
    "\n",
    "print (\"The following are the first few rows of the 1st dataset:\")\n",
    "print (\"-------------------------\")\n",
    "\n",
    "file_name = '.' + os.sep + 'data' + os.sep + 'imdb_for_1st_model_train.csv'\n",
    "target_col_name = 'imdb_score'\n",
    "\n",
    "try:\n",
    "    X, y = load_dataset(file_name, target_col_name)\n",
    "except Exception as e:\n",
    "    print ('You probably have a syntax error, we got the following exception:')\n",
    "    print ('\\tError Message:', str(e))\n",
    "    print ('Try fixing your implementation')\n",
    "    raise \n",
    "\n",
    "X.head()"
   ],
   "outputs": [
    {
     "name": "stdout",
     "output_type": "stream",
     "text": [
      "The following are the first few rows of the 1st dataset:\n",
      "-------------------------\n"
     ]
    },
    {
     "data": {
      "text/plain": [
       "   duration  num_voted_users  num_critic_for_reviews  num_user_for_reviews  \\\n",
       "0        90            23021                     137                   220   \n",
       "1        87            97089                     225                   233   \n",
       "2       300             1666                      31                    47   \n",
       "3       133           112175                      57                   329   \n",
       "4       134             5603                      73                    45   \n",
       "\n",
       "   director_facebook_likes  actor_1_facebook_likes  actor_2_facebook_likes  \\\n",
       "0                       65                    1000                     989   \n",
       "1                      124                     865                     441   \n",
       "2                        6                       7                       6   \n",
       "3                      380                   12000                   11000   \n",
       "4                       45                       9                       2   \n",
       "\n",
       "   actor_3_facebook_likes  cast_total_facebook_likes  movie_facebook_likes  \\\n",
       "0                     683                       3155                   816   \n",
       "1                      77                       1417                 20000   \n",
       "2                       6                         32                   124   \n",
       "3                     918                      26388                 11000   \n",
       "4                     429                         11                   607   \n",
       "\n",
       "      gross  facenumber_in_poster      budget  title_year  \n",
       "0  10042266                     0     1000000        2005  \n",
       "1  29136626                     0    60000000        2011  \n",
       "2    454255                     3   400000000        2001  \n",
       "3  66528842                     2    30000000        1994  \n",
       "4    195888                     0  2500000000        2005  "
      ],
      "text/html": [
       "<div>\n",
       "<style scoped>\n",
       "    .dataframe tbody tr th:only-of-type {\n",
       "        vertical-align: middle;\n",
       "    }\n",
       "\n",
       "    .dataframe tbody tr th {\n",
       "        vertical-align: top;\n",
       "    }\n",
       "\n",
       "    .dataframe thead th {\n",
       "        text-align: right;\n",
       "    }\n",
       "</style>\n",
       "<table border=\"1\" class=\"dataframe\">\n",
       "  <thead>\n",
       "    <tr style=\"text-align: right;\">\n",
       "      <th></th>\n",
       "      <th>duration</th>\n",
       "      <th>num_voted_users</th>\n",
       "      <th>num_critic_for_reviews</th>\n",
       "      <th>num_user_for_reviews</th>\n",
       "      <th>director_facebook_likes</th>\n",
       "      <th>actor_1_facebook_likes</th>\n",
       "      <th>actor_2_facebook_likes</th>\n",
       "      <th>actor_3_facebook_likes</th>\n",
       "      <th>cast_total_facebook_likes</th>\n",
       "      <th>movie_facebook_likes</th>\n",
       "      <th>gross</th>\n",
       "      <th>facenumber_in_poster</th>\n",
       "      <th>budget</th>\n",
       "      <th>title_year</th>\n",
       "    </tr>\n",
       "  </thead>\n",
       "  <tbody>\n",
       "    <tr>\n",
       "      <th>0</th>\n",
       "      <td>90</td>\n",
       "      <td>23021</td>\n",
       "      <td>137</td>\n",
       "      <td>220</td>\n",
       "      <td>65</td>\n",
       "      <td>1000</td>\n",
       "      <td>989</td>\n",
       "      <td>683</td>\n",
       "      <td>3155</td>\n",
       "      <td>816</td>\n",
       "      <td>10042266</td>\n",
       "      <td>0</td>\n",
       "      <td>1000000</td>\n",
       "      <td>2005</td>\n",
       "    </tr>\n",
       "    <tr>\n",
       "      <th>1</th>\n",
       "      <td>87</td>\n",
       "      <td>97089</td>\n",
       "      <td>225</td>\n",
       "      <td>233</td>\n",
       "      <td>124</td>\n",
       "      <td>865</td>\n",
       "      <td>441</td>\n",
       "      <td>77</td>\n",
       "      <td>1417</td>\n",
       "      <td>20000</td>\n",
       "      <td>29136626</td>\n",
       "      <td>0</td>\n",
       "      <td>60000000</td>\n",
       "      <td>2011</td>\n",
       "    </tr>\n",
       "    <tr>\n",
       "      <th>2</th>\n",
       "      <td>300</td>\n",
       "      <td>1666</td>\n",
       "      <td>31</td>\n",
       "      <td>47</td>\n",
       "      <td>6</td>\n",
       "      <td>7</td>\n",
       "      <td>6</td>\n",
       "      <td>6</td>\n",
       "      <td>32</td>\n",
       "      <td>124</td>\n",
       "      <td>454255</td>\n",
       "      <td>3</td>\n",
       "      <td>400000000</td>\n",
       "      <td>2001</td>\n",
       "    </tr>\n",
       "    <tr>\n",
       "      <th>3</th>\n",
       "      <td>133</td>\n",
       "      <td>112175</td>\n",
       "      <td>57</td>\n",
       "      <td>329</td>\n",
       "      <td>380</td>\n",
       "      <td>12000</td>\n",
       "      <td>11000</td>\n",
       "      <td>918</td>\n",
       "      <td>26388</td>\n",
       "      <td>11000</td>\n",
       "      <td>66528842</td>\n",
       "      <td>2</td>\n",
       "      <td>30000000</td>\n",
       "      <td>1994</td>\n",
       "    </tr>\n",
       "    <tr>\n",
       "      <th>4</th>\n",
       "      <td>134</td>\n",
       "      <td>5603</td>\n",
       "      <td>73</td>\n",
       "      <td>45</td>\n",
       "      <td>45</td>\n",
       "      <td>9</td>\n",
       "      <td>2</td>\n",
       "      <td>429</td>\n",
       "      <td>11</td>\n",
       "      <td>607</td>\n",
       "      <td>195888</td>\n",
       "      <td>0</td>\n",
       "      <td>2500000000</td>\n",
       "      <td>2005</td>\n",
       "    </tr>\n",
       "  </tbody>\n",
       "</table>\n",
       "</div>"
      ]
     },
     "execution_count": 20,
     "metadata": {},
     "output_type": "execute_result"
    }
   ],
   "execution_count": 20
  },
  {
   "cell_type": "markdown",
   "metadata": {
    "nbgrader": {
     "grade": false,
     "locked": true,
     "solution": false
    },
    "editable": false,
    "deletable": false
   },
   "source": [
    "### 2.a. Train <u>the first</u> supervised model \n",
    "\n",
    "You need to train a model, which predicts the IMDb score.<br />\n",
    "* The value of the target series will be between 0 and 1. (the unit interval) <br />\n",
    "  Higher values means a better score.<br />\n",
    "\n",
    "You need to <u>identify the type of learning problem</u>.<br />\n",
    "Accordingly, you need to understand whether to train a classification model or regression model.<br />\n",
    "* Train the supervised model, using the relevant `sklearn` algorithm you've studied: `LinearRegression` or `LogisticRegression`."
   ]
  },
  {
   "cell_type": "markdown",
   "metadata": {
    "nbgrader": {
     "grade": false,
     "locked": true,
     "solution": false
    },
    "editable": false,
    "deletable": false
   },
   "source": [
    "### 2.a. Instructions\n",
    "<u>method name</u>: <b>train_1st_model</b>\n",
    "<pre>The following is expected:\n",
    "You need to train a model, which predicts the IMDb score.\n",
    "\n",
    "--- Complete the 'train_1st_model' function to train a supervised learning model on the \n",
    "    training set (use the input 'X_train' dataframe and the corresponding 'y_train' target values).\n",
    "\n",
    "Notes:\n",
    "- Use the relevant sklearn algorithm for the training\n",
    "  (LinearRegression or LogisticRegression) and return the trained model.\n",
    "- Use all input variables in your model.\n",
    "</pre>\n",
    "<hr>\n",
    "The return statement should look similar to the following statement:<br />\n",
    "<b>return trained_model</b>"
   ]
  },
  {
   "cell_type": "code",
   "metadata": {
    "collapsed": true,
    "ExecuteTime": {
     "end_time": "2025-01-04T18:14:38.087557Z",
     "start_time": "2025-01-04T18:14:38.084232Z"
    }
   },
   "source": [
    "# 2.a.\n",
    "# ------------>>>>>>>> RUN THIS CODE CELL <<<<<<<<------------\n",
    "# --------  (run after implementation)\n",
    "# === CODE TYPE: ANSWER \n",
    "\n",
    "def train_1st_model(X_train, y_train):\n",
    "    return LinearRegression().fit(X_train, y_train)\n"
   ],
   "outputs": [],
   "execution_count": 21
  },
  {
   "cell_type": "code",
   "metadata": {
    "collapsed": true,
    "ExecuteTime": {
     "end_time": "2025-01-04T18:14:41.649770Z",
     "start_time": "2025-01-04T18:14:41.605583Z"
    }
   },
   "source": [
    "# 2.a.\n",
    "# ------------>>>>>>>> RUN THIS CODE CELL <<<<<<<<------------\n",
    "# --------  (run after implementation)\n",
    "# === CODE TYPE: SELF TESTING\n",
    "# Use the following code to test your implementation:\n",
    "file_name_train = '.' + os.sep + 'data' + os.sep + 'imdb_for_1st_model_train.csv'\n",
    "file_name_test = '.' + os.sep + 'data' + os.sep + 'imdb_for_1st_model_test.csv'\n",
    "target_col_name = 'imdb_score'\n",
    "X_1st_train, y_1st_train = load_dataset(file_name_train, target_col_name)\n",
    "X_1st_test, y_1st_test = load_dataset(file_name_test, target_col_name)\n",
    "trained_model_1st = train_1st_model(X_1st_train, y_1st_train)\n",
    "# --- add additional code to check your code if needed:\n",
    "###\n",
    "### YOUR CODE HERE\n",
    "###\n"
   ],
   "outputs": [],
   "execution_count": 22
  },
  {
   "cell_type": "code",
   "metadata": {
    "collapsed": true,
    "ExecuteTime": {
     "end_time": "2025-01-04T18:15:04.409397Z",
     "start_time": "2025-01-04T18:15:04.405804Z"
    }
   },
   "source": [
    "# 2.a.\n",
    "# ------------>>>>>>>> RUN THIS CODE CELL <<<<<<<<------------\n",
    "# --------  (run after implementation, if used)\n",
    "# === CODE TYPE: SELF TESTING\n",
    "# ---- Add your additional tests here if needed:\n",
    "type(trained_model_1st)\n"
   ],
   "outputs": [
    {
     "data": {
      "text/plain": [
       "sklearn.linear_model._base.LinearRegression"
      ]
     },
     "execution_count": 25,
     "metadata": {},
     "output_type": "execute_result"
    }
   ],
   "execution_count": 25
  },
  {
   "cell_type": "code",
   "metadata": {
    "collapsed": true,
    "nbgrader": {
     "grade": true,
     "grade_id": "test2a-1_train_1st_model",
     "locked": true,
     "points": "0.1",
     "solution": false
    },
    "editable": false,
    "deletable": false,
    "ExecuteTime": {
     "end_time": "2025-01-04T18:15:08.847457Z",
     "start_time": "2025-01-04T18:15:08.826195Z"
    }
   },
   "source": [
    "# 2.a.\n",
    "# ------------>>>>>>>> RUN THIS CODE CELL <<<<<<<<------------\n",
    "# --------  (run only)\n",
    "# === CODE TYPE: GRADED TEST \n",
    "\n",
    "print (\"Part 2.a. - Test 1 (name: test2a-1_train_1st_model, points: 0.1) - Sanity\")\n",
    "print (\"\\t--->Testing the implementation of 'train_1st_model' ...\")\n",
    "\n",
    "file_name_train = '.' + os.sep + 'data' + os.sep + 'imdb_for_1st_model_train.csv'\n",
    "file_name_test = '.' + os.sep + 'data' + os.sep + 'imdb_for_1st_model_test.csv'\n",
    "target_col_name = 'imdb_score'\n",
    "\n",
    "try:\n",
    "    X_1st_train, y_1st_train = load_dataset(file_name_train, target_col_name)\n",
    "    X_1st_test, y_1st_test = load_dataset(file_name_test, target_col_name)\n",
    "    trained_model_1st = train_1st_model(X_1st_train, y_1st_train)\n",
    "except Exception as e:\n",
    "    print ('You probably have a syntax error, we got the following exception:')\n",
    "    print ('\\tError Message:', str(e))\n",
    "    print ('Try fixing your implementation')\n",
    "    raise \n",
    "    \n",
    "print (\"Good Job!\\nYou've passed the 1st test for the 'train_1st_model' function implementation :-)\")"
   ],
   "outputs": [
    {
     "name": "stdout",
     "output_type": "stream",
     "text": [
      "Part 2.a. - Test 1 (name: test2a-1_train_1st_model, points: 0.1) - Sanity\n",
      "\t--->Testing the implementation of 'train_1st_model' ...\n",
      "Good Job!\n",
      "You've passed the 1st test for the 'train_1st_model' function implementation :-)\n"
     ]
    }
   ],
   "execution_count": 26
  },
  {
   "cell_type": "code",
   "metadata": {
    "collapsed": true,
    "nbgrader": {
     "grade": true,
     "grade_id": "test2a-2_train_1st_model",
     "locked": true,
     "points": "0.3",
     "solution": false
    },
    "editable": false,
    "deletable": false,
    "ExecuteTime": {
     "end_time": "2025-01-04T18:15:09.769795Z",
     "start_time": "2025-01-04T18:15:09.752077Z"
    }
   },
   "source": [
    "# 2.a.\n",
    "# ------------>>>>>>>> RUN THIS CODE CELL <<<<<<<<------------\n",
    "# --------  (run only)\n",
    "# === CODE TYPE: GRADED TEST \n",
    "\n",
    "print (\"Part 2.a. - Test 2 (name: test2a-2_train_1st_model, points: 0.3)\")\n",
    "print (\"\\t--->Testing the implementation of 'train_1st_model' ...\")\n",
    "\n",
    "file_name_train = '.' + os.sep + 'data' + os.sep + 'imdb_for_1st_model_train.csv'\n",
    "file_name_test = '.' + os.sep + 'data' + os.sep + 'imdb_for_1st_model_test.csv'\n",
    "target_col_name = 'imdb_score'\n",
    "\n",
    "try:\n",
    "    X_1st_train, y_1st_train = load_dataset(file_name_train, target_col_name)\n",
    "    X_1st_test, y_1st_test = load_dataset(file_name_test, target_col_name)\n",
    "    trained_model_1st = train_1st_model(X_1st_train, y_1st_train)\n",
    "except Exception as e:\n",
    "    print ('You probably have a syntax error, we got the following exception:')\n",
    "    print ('\\tError Message:', str(e))\n",
    "    print ('Try fixing your implementation')\n",
    "    raise \n",
    "    \n",
    "assert X_1st_train.shape == (2956, 14), 'Wrong shape for feature vector dataframe'\n",
    "assert y_1st_train.shape[0] == 2956, 'Wrong number of target values in series'\n",
    "np.testing.assert_array_equal(X_1st_train.index, y_1st_train.index, 'X and y should have the same index')\n",
    "\n",
    "assert X_1st_test.shape == (739, 14), 'Wrong shape for feature vector dataframe'\n",
    "assert y_1st_test.shape[0] == 739, 'Wrong number of target values in series'\n",
    "np.testing.assert_array_equal(X_1st_test.index, y_1st_test.index, 'X and y should have the same index')\n",
    "possible_python_classes = [sklearn.linear_model.LogisticRegression, sklearn.linear_model.LinearRegression]\n",
    "assert type(trained_model_1st) in possible_python_classes, \"Wrong retured type from 'train_1st_model' method, expected a 'LogisticRegression' or a 'LinearRegression' object\"\n",
    "    \n",
    "print (\"Good Job!\\nYou've passed the 2nd test for the 'train_1st_model' function implementation :-)\")"
   ],
   "outputs": [
    {
     "name": "stdout",
     "output_type": "stream",
     "text": [
      "Part 2.a. - Test 2 (name: test2a-2_train_1st_model, points: 0.3)\n",
      "\t--->Testing the implementation of 'train_1st_model' ...\n",
      "Good Job!\n",
      "You've passed the 2nd test for the 'train_1st_model' function implementation :-)\n"
     ]
    }
   ],
   "execution_count": 27
  },
  {
   "cell_type": "code",
   "metadata": {
    "collapsed": true,
    "nbgrader": {
     "grade": true,
     "grade_id": "test2a-3_train_1st_model",
     "locked": true,
     "points": "0.2",
     "solution": false
    },
    "editable": false,
    "deletable": false,
    "ExecuteTime": {
     "end_time": "2025-01-04T18:15:10.571566Z",
     "start_time": "2025-01-04T18:15:10.568217Z"
    }
   },
   "source": [
    "# 2.a.\n",
    "# ------------>>>>>>>> RUN THIS CODE CELL <<<<<<<<------------\n",
    "# --------  (run only)\n",
    "# === CODE TYPE: GRADED TEST \n",
    "\n",
    "print (\"Part 2.a. - Test 3 (name: test2a-3_train_1st_model, points: 0.2)\")\n",
    "print (\"\\t--->Testing the implementation of 'train_1st_model' ...\")\n",
    "print (\"\\n\\t====> Full grading test - the following test can not be seen before submission\")\n",
    "\n",
    "###\n",
    "### AUTOGRADER TEST - DO NOT REMOVE\n",
    "###\n"
   ],
   "outputs": [
    {
     "name": "stdout",
     "output_type": "stream",
     "text": [
      "Part 2.a. - Test 3 (name: test2a-3_train_1st_model, points: 0.2)\n",
      "\t--->Testing the implementation of 'train_1st_model' ...\n",
      "\n",
      "\t====> Full grading test - the following test can not be seen before submission\n"
     ]
    }
   ],
   "execution_count": 28
  },
  {
   "cell_type": "markdown",
   "metadata": {
    "nbgrader": {
     "grade": false,
     "locked": true,
     "solution": false
    },
    "editable": false,
    "deletable": false
   },
   "source": [
    "### 2.b. Predict (IMDb score)\n",
    "In this section you will predict the IMDb score, for each of the examples in the test set,<br />\n",
    "using the first trained supervised model (based on your implementation in section 2.a.)."
   ]
  },
  {
   "cell_type": "markdown",
   "metadata": {
    "nbgrader": {
     "grade": false,
     "locked": true,
     "solution": false
    },
    "editable": false,
    "deletable": false
   },
   "source": [
    "### 2.b. Instructions\n",
    "<u>method name</u>: <b>predict_1st</b>\n",
    "<pre>The following is expected:\n",
    "--- Complete the 'predict_1st' function, using the input 'trained_1st_model' model,\n",
    "    to predict the target of each example in the given 'X_test' test set.\n",
    "You need to return the predicted target values, for each test set example.\n",
    "</pre>\n",
    "<hr>\n",
    "The return statement should look similar to the following statement:<br />\n",
    "<b>return predicted_vals</b>"
   ]
  },
  {
   "cell_type": "code",
   "metadata": {
    "collapsed": true,
    "ExecuteTime": {
     "end_time": "2025-01-04T18:15:51.651198Z",
     "start_time": "2025-01-04T18:15:51.648732Z"
    }
   },
   "source": [
    "# 2.b.\n",
    "# ------------>>>>>>>> RUN THIS CODE CELL <<<<<<<<------------\n",
    "# --------  (run after implementation)\n",
    "# === CODE TYPE: ANSWER \n",
    "\n",
    "def predict_1st(trained_1st_model, X_test):\n",
    "    return trained_1st_model.predict(X_test)\n"
   ],
   "outputs": [],
   "execution_count": 29
  },
  {
   "cell_type": "code",
   "metadata": {
    "collapsed": true,
    "ExecuteTime": {
     "end_time": "2025-01-04T18:15:52.453436Z",
     "start_time": "2025-01-04T18:15:52.436092Z"
    }
   },
   "source": [
    "# 2.b.\n",
    "# ------------>>>>>>>> RUN THIS CODE CELL <<<<<<<<------------\n",
    "# --------  (run after implementation)\n",
    "# === CODE TYPE: SELF TESTING\n",
    "# Use the following code to test your implementation:\n",
    "file_name_train = '.' + os.sep + 'data' + os.sep + 'imdb_for_1st_model_train.csv'\n",
    "file_name_test = '.' + os.sep + 'data' + os.sep + 'imdb_for_1st_model_test.csv'\n",
    "target_col_name = 'imdb_score'\n",
    "X_1st_train, y_1st_train = load_dataset(file_name_train, target_col_name)\n",
    "X_1st_test, y_1st_test = load_dataset(file_name_test, target_col_name)\n",
    "trained_model_1st = train_1st_model(X_1st_train, y_1st_train)\n",
    "pred_1st_vals = predict_1st(trained_model_1st, X_1st_test)\n",
    "# --- add additional code to check your code if needed:\n",
    "###\n",
    "### YOUR CODE HERE\n",
    "###\n"
   ],
   "outputs": [],
   "execution_count": 30
  },
  {
   "cell_type": "code",
   "metadata": {
    "collapsed": true,
    "ExecuteTime": {
     "end_time": "2025-01-04T18:17:30.759275Z",
     "start_time": "2025-01-04T18:17:30.753783Z"
    }
   },
   "source": [
    "# 2.b.\n",
    "# ------------>>>>>>>> RUN THIS CODE CELL <<<<<<<<------------\n",
    "# --------  (run after implementation, if used)\n",
    "# === CODE TYPE: SELF TESTING\n",
    "# ---- Add your additional tests here if needed:\n",
    "print(f\"Predicted values of type {type(pred_1st_vals)}, with shape of {pred_1st_vals.shape}:\")\n",
    "print(pred_1st_vals)\n"
   ],
   "outputs": [
    {
     "name": "stdout",
     "output_type": "stream",
     "text": [
      "Predicted values of type <class 'numpy.ndarray'>, with shape of (739,):\n",
      "[0.60064187 0.60778412 0.6045582  0.7001611  0.61950638 0.76367481\n",
      " 0.72161194 0.6332295  0.5857783  0.60714226 0.60028053 0.6142692\n",
      " 0.6689812  0.59215048 0.72711261 0.6400246  0.60396318 0.64524388\n",
      " 0.65261004 0.62877041 0.70727572 0.58028742 0.5759088  0.65510683\n",
      " 0.63457855 0.55663019 0.73360837 0.59267968 0.73974083 0.64731631\n",
      " 0.62926999 0.62239764 0.56460071 0.54953801 0.70907011 0.59043521\n",
      " 0.64178715 0.67095569 0.6819806  0.61963652 0.56369686 0.6368959\n",
      " 0.60778898 0.61420203 0.59067554 0.57092369 0.60198142 0.64308469\n",
      " 0.63042572 0.67402614 0.78805192 0.86594696 0.74223648 0.61176683\n",
      " 0.6980677  0.62498579 0.65875196 0.64858674 0.60805699 0.61226824\n",
      " 0.63509168 0.59540711 0.58781404 0.64988841 0.71372548 0.57804626\n",
      " 0.62429269 0.67069475 0.71598665 0.62838969 0.55723119 0.69154354\n",
      " 0.62106508 0.59329519 0.60353046 0.58794451 0.59598289 0.60084229\n",
      " 0.5957293  0.65842439 0.64849236 0.61038597 0.58345936 0.59746693\n",
      " 0.58548204 0.62642796 0.59010616 0.61179494 0.58647817 0.59441955\n",
      " 0.59205991 0.62672271 0.59683001 0.69179572 0.80336436 0.6749823\n",
      " 0.6116683  0.60895117 0.58391433 0.67132386 0.62123663 0.60634114\n",
      " 0.85144364 0.69743341 0.69093758 0.59566624 0.70401516 0.86363988\n",
      " 0.63879051 0.60079294 0.64996973 0.61078314 0.58207837 0.59289664\n",
      " 0.55385493 0.6068429  0.72060167 0.80735598 0.59864718 0.66086848\n",
      " 0.66686936 0.65298423 0.61212174 0.63430313 0.61852936 0.67990094\n",
      " 0.61943914 0.67823951 0.63173528 0.59950452 0.67759202 0.60783054\n",
      " 0.69161794 0.58087638 0.59546764 0.62352175 0.59436673 0.65066151\n",
      " 0.73587341 0.70930654 0.58685314 0.78589682 0.61817262 0.61847489\n",
      " 0.63171531 0.62792757 0.78191017 0.69884257 0.59818989 0.71075753\n",
      " 0.63267923 0.60013065 0.62343216 0.62482019 0.5558157  0.64055109\n",
      " 0.69666869 0.69968172 0.63712031 0.59212309 0.66354538 0.61171933\n",
      " 0.63951322 0.63578772 0.64682737 0.67983916 0.59632224 0.66734279\n",
      " 0.68638988 0.60459766 0.7000023  0.66777419 0.61316408 0.60959024\n",
      " 0.76019281 0.64680963 0.61423905 0.70862183 0.94517467 0.59067356\n",
      " 0.61334018 0.65843278 0.64733679 0.64675976 0.78963253 0.63075759\n",
      " 0.7087594  0.6845264  0.61126923 0.72161304 0.698106   0.7312105\n",
      " 0.63232512 0.58597265 0.63748057 0.66573475 0.65359092 0.66781717\n",
      " 0.61001433 0.65344937 0.66785272 0.61431592 0.60563632 0.57836179\n",
      " 0.65182938 0.68880598 0.62680124 0.67926488 0.61716859 0.60270201\n",
      " 0.61097896 0.70370505 0.63663706 0.55949167 0.63646176 0.71345642\n",
      " 0.64000596 0.63737978 0.62046935 0.66477342 0.63422243 0.63870012\n",
      " 0.71271922 0.61307876 0.67822434 0.62097742 0.63571716 0.57613142\n",
      " 0.62072722 0.67553445 0.60570297 0.66735859 0.53060891 0.61857304\n",
      " 0.6467377  0.62566305 0.61462156 0.64074968 0.58943284 0.58285176\n",
      " 0.58273576 0.64292248 0.67926985 0.68361363 0.60967644 0.73360901\n",
      " 0.62136097 0.58502348 0.71752669 0.63675623 0.61890512 0.60636505\n",
      " 0.69333164 0.61827001 0.61268054 0.74206687 0.62012782 0.66969389\n",
      " 0.57949015 0.66227439 0.65890167 0.67411044 0.63894931 0.69480116\n",
      " 0.62221066 0.61736755 0.74110268 0.6620426  0.60876541 0.62504394\n",
      " 0.70362137 0.60575856 0.66348311 0.57302497 0.81942717 0.59079422\n",
      " 0.67647666 0.60839089 0.59595304 0.7174003  0.58793226 0.6513599\n",
      " 0.59579425 0.66266794 0.63158276 0.65099575 0.66666562 0.61209505\n",
      " 0.63928581 0.61574552 0.6035343  0.61199589 0.58866326 0.60017748\n",
      " 0.64059403 0.57254448 0.61375982 0.61928644 0.59276567 0.64133305\n",
      " 0.5817408  0.64747779 0.66059923 0.7456066  0.5786279  0.63692569\n",
      " 0.80872033 0.65696787 0.61235013 0.61902399 0.62070442 0.61311521\n",
      " 0.64874007 0.64732454 0.65969637 0.60344192 0.62677174 0.66526618\n",
      " 0.70430165 0.62738776 0.55341111 0.61906193 0.81854758 0.61927004\n",
      " 0.58521368 0.57888988 0.6169907  0.57529492 0.67415039 0.60710238\n",
      " 0.84476295 0.59349047 0.68360412 0.69057952 0.61090594 0.61047109\n",
      " 0.58772526 0.55288583 0.69561392 0.63922197 0.60106361 0.64543909\n",
      " 0.62459731 0.71496759 0.65635977 0.64798911 0.59425017 0.64511989\n",
      " 0.61859803 0.64185259 0.66306079 0.63208372 0.57398013 0.68074436\n",
      " 0.60351327 0.6375477  0.61178139 0.74788299 0.60914985 0.65584401\n",
      " 0.60408833 0.6232629  0.55289199 0.61573584 0.6367885  0.7802126\n",
      " 0.73728192 0.60985538 0.57155497 0.63647018 0.69751633 0.59978411\n",
      " 0.62076614 0.6376027  0.6825309  0.63100056 0.64411207 0.61187255\n",
      " 0.61890369 0.64323214 0.73819971 0.65941946 1.0662447  0.64949329\n",
      " 0.6113221  0.74523177 0.64037064 0.6756297  0.59150057 0.60172131\n",
      " 0.694443   0.67251434 0.6525903  0.58620448 0.85253958 0.59088238\n",
      " 0.63454717 0.66429162 0.62610207 0.6931318  0.85730545 0.61151202\n",
      " 0.63216857 0.69438226 0.82938241 0.63867122 0.63736019 0.64686104\n",
      " 0.62340439 0.57508756 0.66969373 0.64662921 0.69329973 0.80854519\n",
      " 0.74206994 0.70864895 0.60512613 0.81374166 0.87916336 0.66996347\n",
      " 0.67851936 0.66239748 0.9449905  0.59935718 0.67053116 0.69827492\n",
      " 0.64883013 0.64007864 0.60891141 0.58706035 0.62199996 0.60662158\n",
      " 0.65628554 0.73997064 0.69057411 0.63261177 0.59801501 0.60496557\n",
      " 0.59258589 0.67213411 0.64432177 0.64321252 0.62543464 0.64484118\n",
      " 0.65673214 0.57889141 0.59613146 0.65566704 0.84422034 0.62297544\n",
      " 0.58418873 0.62023478 0.59160853 0.572769   0.60550256 0.60822362\n",
      " 0.62125995 0.60853259 0.59836545 0.59265672 0.61329383 0.64068199\n",
      " 0.62795501 0.58899773 0.61887002 0.63979864 0.64639498 0.54401943\n",
      " 0.6401235  0.61844863 0.6105646  0.64722999 0.62177613 0.61136006\n",
      " 0.61963693 0.63782647 0.75255722 0.63362643 0.66942993 0.67258685\n",
      " 0.83692761 0.5965349  0.64079191 0.66883372 0.57945418 0.6567643\n",
      " 0.67844268 0.60554786 0.60658725 0.6493303  0.6436132  0.62154047\n",
      " 0.61161999 0.68055227 0.57454665 0.63349065 0.67673081 0.61278562\n",
      " 0.62552683 0.61039058 0.62139537 0.63424637 0.59960261 0.63520193\n",
      " 0.62161191 0.66925886 0.62890903 0.60949758 0.85468254 0.66945296\n",
      " 0.63707546 0.56293122 0.60984218 0.63072476 0.63268536 0.61367659\n",
      " 0.65120603 0.57744198 0.60441065 0.64824271 0.80973617 0.63885876\n",
      " 0.65156023 0.59567812 0.68572747 0.73804952 0.66529992 0.71864682\n",
      " 0.50214067 0.63470384 0.59555412 0.62958874 0.60206984 0.70319021\n",
      " 0.57708593 0.58043271 0.61126585 0.63586061 0.59902365 0.57762637\n",
      " 0.53813929 0.71660465 0.62527721 0.61667414 0.64291826 0.60347277\n",
      " 0.59087951 0.62632489 0.60752177 0.65975997 0.587126   0.67012582\n",
      " 0.81457825 0.64918509 0.59671158 0.62779724 0.57632831 0.59640946\n",
      " 0.60249926 0.65590901 0.79337924 0.83042104 0.673412   0.65190499\n",
      " 0.63624246 0.61091329 0.66769601 0.63730003 0.57727289 0.62967004\n",
      " 0.6518801  0.67821006 0.6651782  0.63101658 0.59317411 0.64868042\n",
      " 0.59815158 0.55628266 0.81714637 0.57853323 0.59782309 0.64794592\n",
      " 0.60997886 0.60543855 0.69182055 0.74923541 0.59703399 0.68283218\n",
      " 0.6530214  0.59627332 0.67192592 0.60751709 0.61630199 0.62042811\n",
      " 0.65755436 0.65385338 0.76960398 0.66358646 0.61334176 0.62174434\n",
      " 0.64335938 0.62379629 0.62646824 0.61364409 0.59445535 0.59687887\n",
      " 0.55591835 0.64720117 0.64759396 0.66681089 0.61979429 0.68050069\n",
      " 0.66165184 0.64928791 0.67563813 0.68736445 0.7304317  0.60309637\n",
      " 0.6274722  0.80609275 0.61220728 0.67532505 0.59461049 0.62828025\n",
      " 0.71018098 0.64034895 0.58539388 0.57310181 0.62763673 0.63214621\n",
      " 0.65991213 0.62070531 0.60965056 0.60058697 0.61120713 0.56966253\n",
      " 0.61529818 0.64369972 0.75047798 0.60206717 0.63106309 0.90856766\n",
      " 0.56833688 0.56845356 0.57120808 0.62532433 0.72162643 0.62517508\n",
      " 0.64658661 0.57793778 0.6676293  0.59589126 0.67594191 0.67794547\n",
      " 0.63695937 0.64602732 0.64482119 0.77105819 0.61346791 0.62125018\n",
      " 0.64838222 0.74593602 0.62358286 0.58142855 0.65830756 0.62028927\n",
      " 0.73526705 0.71233278 0.71063619 0.60024139 0.60403067 0.62164847\n",
      " 0.67801297 0.63584691 0.60341911 0.65688031 0.648767   0.58997317\n",
      " 0.61069041 0.6370021  0.58703341 0.60464728 0.61744396 0.6153101\n",
      " 0.68022896 0.68371706 0.69808865 0.70118987 0.60664848 0.60421575\n",
      " 0.63819196 0.5290902  0.5927426  0.64264542 0.61094163 0.61280029\n",
      " 0.63418949 0.62257512 0.63924719 0.6338952  0.6292809  0.61437221\n",
      " 0.5682069  0.59994129 0.6348268  0.99825093 0.59993808 0.65799253\n",
      " 0.66813354 0.61109854 0.60781107 0.5911729  0.62224862 0.80949562\n",
      " 0.60891424 0.66289766 0.75451847 0.82849235 0.63756946 0.59123182\n",
      " 0.59046179 0.61634957 0.79943927 0.62842829 0.62131439 0.6154776\n",
      " 0.62757162 0.62665841 0.63787866 0.73225338 0.63098609 0.6444244\n",
      " 0.63910927 0.59385444 0.59696489 0.69300784 0.67605021 0.79694786\n",
      " 0.76995842]\n"
     ]
    }
   ],
   "execution_count": 37
  },
  {
   "cell_type": "code",
   "metadata": {
    "collapsed": true,
    "nbgrader": {
     "grade": true,
     "grade_id": "test2b-1_predict_1st",
     "locked": true,
     "points": "0.1",
     "solution": false
    },
    "editable": false,
    "deletable": false,
    "ExecuteTime": {
     "end_time": "2025-01-04T18:17:35.982933Z",
     "start_time": "2025-01-04T18:17:35.926065Z"
    }
   },
   "source": [
    "# 2.b.\n",
    "# ------------>>>>>>>> RUN THIS CODE CELL <<<<<<<<------------\n",
    "# --------  (run only)\n",
    "# === CODE TYPE: GRADED TEST \n",
    "\n",
    "print (\"Part 1. - Test 1 (name: test2b-1_predict_1st, points: 0.1) - Sanity\")\n",
    "print (\"\\t--->Testing the implementation of 'predict_1st' ...\")\n",
    "    \n",
    "file_name_train = '.' + os.sep + 'data' + os.sep + 'imdb_for_1st_model_train.csv'\n",
    "file_name_test = '.' + os.sep + 'data' + os.sep + 'imdb_for_1st_model_test.csv'\n",
    "target_col_name = 'imdb_score'\n",
    "\n",
    "try:\n",
    "    X_1st_train, y_1st_train = load_dataset(file_name_train, target_col_name)\n",
    "    X_1st_test, y_1st_test = load_dataset(file_name_test, target_col_name)\n",
    "    trained_model_1st = train_1st_model(X_1st_train, y_1st_train)\n",
    "    pred_1st_vals = predict_1st(trained_model_1st, X_1st_test)\n",
    "except Exception as e:\n",
    "    print ('You probably have a syntax error, we got the following exception:')\n",
    "    print ('\\tError Message:', str(e))\n",
    "    print ('Try fixing your implementation')\n",
    "    raise \n",
    "    \n",
    "print (\"Good Job!\\nYou've passed the 1st test for the 'predict_1st' function implementation :-)\")"
   ],
   "outputs": [
    {
     "name": "stdout",
     "output_type": "stream",
     "text": [
      "Part 1. - Test 1 (name: test2b-1_predict_1st, points: 0.1) - Sanity\n",
      "\t--->Testing the implementation of 'predict_1st' ...\n",
      "Good Job!\n",
      "You've passed the 1st test for the 'predict_1st' function implementation :-)\n"
     ]
    }
   ],
   "execution_count": 38
  },
  {
   "cell_type": "code",
   "metadata": {
    "collapsed": true,
    "nbgrader": {
     "grade": true,
     "grade_id": "test2b-2_predict_1st",
     "locked": true,
     "points": "0.3",
     "solution": false
    },
    "editable": false,
    "deletable": false,
    "ExecuteTime": {
     "end_time": "2025-01-04T18:17:36.192627Z",
     "start_time": "2025-01-04T18:17:36.172897Z"
    }
   },
   "source": [
    "# 2.b.\n",
    "# ------------>>>>>>>> RUN THIS CODE CELL <<<<<<<<------------\n",
    "# --------  (run only)\n",
    "# === CODE TYPE: GRADED TEST \n",
    "\n",
    "print (\"Part 2.b. - Test 2 (name: test2b-2_predict_1st, points: 0.3)\")\n",
    "print (\"\\t--->Testing the implementation of 'predict_1st' ...\")\n",
    "  \n",
    "file_name_train = '.' + os.sep + 'data' + os.sep + 'imdb_for_1st_model_train.csv'\n",
    "file_name_test = '.' + os.sep + 'data' + os.sep + 'imdb_for_1st_model_test.csv'\n",
    "target_col_name = 'imdb_score'\n",
    "\n",
    "try:\n",
    "    X_1st_train, y_1st_train = load_dataset(file_name_train, target_col_name)\n",
    "    X_1st_test, y_1st_test = load_dataset(file_name_test, target_col_name)\n",
    "    trained_model_1st = train_1st_model(X_1st_train, y_1st_train)\n",
    "    pred_1st_vals = predict_1st(trained_model_1st, X_1st_test)\n",
    "    \n",
    "except Exception as e:\n",
    "    print ('You probably have a syntax error, we got the following exception:')\n",
    "    print ('\\tError Message:', str(e))\n",
    "    print ('Try fixing your implementation')\n",
    "    raise \n",
    "    \n",
    "y_pred_1st= pd.Series(pred_1st_vals)\n",
    "assert y_pred_1st.mean()!=y_1st_test.mean(), 'predicted values should not be identicle to actual test target values'\n",
    " \n",
    "print (\"Good Job!\\nYou've passed the 2nd test for the 'predict_1st' function implementation :-)\")"
   ],
   "outputs": [
    {
     "name": "stdout",
     "output_type": "stream",
     "text": [
      "Part 2.b. - Test 2 (name: test2b-2_predict_1st, points: 0.3)\n",
      "\t--->Testing the implementation of 'predict_1st' ...\n",
      "Good Job!\n",
      "You've passed the 2nd test for the 'predict_1st' function implementation :-)\n"
     ]
    }
   ],
   "execution_count": 39
  },
  {
   "cell_type": "code",
   "metadata": {
    "collapsed": true,
    "nbgrader": {
     "grade": true,
     "grade_id": "test2b-3_predict_1st",
     "locked": true,
     "points": "0.3",
     "solution": false
    },
    "editable": false,
    "deletable": false,
    "ExecuteTime": {
     "end_time": "2025-01-04T18:17:38.774632Z",
     "start_time": "2025-01-04T18:17:38.771175Z"
    }
   },
   "source": [
    "# 2.b.\n",
    "# ------------>>>>>>>> RUN THIS CODE CELL <<<<<<<<------------\n",
    "# --------  (run only)\n",
    "# === CODE TYPE: GRADED TEST \n",
    "\n",
    "print (\"Part 2.b. - Test 3 (name: test2b-3_predict_1st, points: 0.3)\")\n",
    "print (\"\\t--->Testing the implementation of 'predict_1st' ...\")\n",
    "print (\"\\n\\t====> Full grading test - the following test can not be seen before submission\")\n",
    "    \n",
    "###\n",
    "### AUTOGRADER TEST - DO NOT REMOVE\n",
    "###\n"
   ],
   "outputs": [
    {
     "name": "stdout",
     "output_type": "stream",
     "text": [
      "Part 2.b. - Test 3 (name: test2b-3_predict_1st, points: 0.3)\n",
      "\t--->Testing the implementation of 'predict_1st' ...\n",
      "\n",
      "\t====> Full grading test - the following test can not be seen before submission\n"
     ]
    }
   ],
   "execution_count": 40
  },
  {
   "cell_type": "markdown",
   "metadata": {
    "nbgrader": {
     "grade": false,
     "locked": true,
     "solution": false
    },
    "editable": false,
    "deletable": false
   },
   "source": [
    "### 2.c. Evaluation of the first model (IMDb score prediction)\n",
    "In this section you will evaluate the performance of the first supervised model on the test set.\n",
    "\n",
    "You will need to use an evaluation metric, which corresponds to the <u>type of learning problem</u>,\n",
    "   which you've identified in section 2.a.<br />\n",
    "\n",
    "Accordingly, you need use one of the following relevant `sklearn` metrics you've studied: \n",
    "* `r2_score` \n",
    "* `f1_score`"
   ]
  },
  {
   "cell_type": "markdown",
   "metadata": {
    "nbgrader": {
     "grade": false,
     "locked": true,
     "solution": false
    },
    "editable": false,
    "deletable": false
   },
   "source": [
    "### 2.c. Instructions\n",
    "<u>method name</u>: <b>evaluate_performance_1st</b>\n",
    "<pre>The following is expected:\n",
    "--- Complete the 'evaluate_performance_1st' function to evaluate the performance of the\n",
    "      1st supervised learning model (IMDb score prediction), on the test set examples.\n",
    "--- Use either the 'r2_score' or the 'f1_score' evaluation metric.\n",
    "\n",
    "The input parameters:\n",
    "                     y_test - a series of containing all actual target values per test instance\n",
    "                     y_predicted - a series which contains all the predicted values per test instance \n",
    "                                   (using the 1st model).\n",
    "Note: You need to return the evaluation metric (a floating number).\n",
    "</pre>\n",
    "<hr>\n",
    "The return statement should look similar to the following statement:<br />\n",
    "<b>return evaluate_value</b>"
   ]
  },
  {
   "cell_type": "code",
   "metadata": {
    "collapsed": true,
    "ExecuteTime": {
     "end_time": "2025-01-04T18:20:49.229274Z",
     "start_time": "2025-01-04T18:20:49.227237Z"
    }
   },
   "source": [
    "# 2.c.\n",
    "# ------------>>>>>>>> RUN THIS CODE CELL <<<<<<<<------------\n",
    "# --------  (run after implementation)\n",
    "# === CODE TYPE: ANSWER \n",
    "\n",
    "def evaluate_performance_1st(y_test,y_predicted):\n",
    "    return r2_score(y_test, y_predicted)\n"
   ],
   "outputs": [],
   "execution_count": 49
  },
  {
   "cell_type": "code",
   "metadata": {
    "collapsed": true,
    "ExecuteTime": {
     "end_time": "2025-01-04T18:20:49.392382Z",
     "start_time": "2025-01-04T18:20:49.367202Z"
    }
   },
   "source": [
    "# 2.c\n",
    "# ------------>>>>>>>> RUN THIS CODE CELL <<<<<<<<------------\n",
    "# --------  (run after implementation)\n",
    "# === CODE TYPE: SELF TESTING\n",
    "# Use the following code to test your implementation:\n",
    "file_name_train = '.' + os.sep + 'data' + os.sep + 'imdb_for_1st_model_train.csv'\n",
    "file_name_test = '.' + os.sep + 'data' + os.sep + 'imdb_for_1st_model_test.csv'\n",
    "target_col_name = 'imdb_score'  \n",
    "X_1st_train, y_1st_train = load_dataset(file_name_train, target_col_name)\n",
    "X_1st_test, y_1st_test = load_dataset(file_name_test, target_col_name)\n",
    "trained_model_1st = train_1st_model(X_1st_train, y_1st_train)\n",
    "pred_1st_vals = predict_1st(trained_model_1st, X_1st_test)\n",
    "y_pred_1st= pd.Series(pred_1st_vals,index=X_1st_test.index)\n",
    "eval_res_1st = evaluate_performance_1st(y_1st_test, y_pred_1st)\n",
    "print(eval_res_1st)\n",
    "# --- add additional code to check your code if needed:\n",
    "###\n",
    "### YOUR CODE HERE\n",
    "###\n"
   ],
   "outputs": [
    {
     "name": "stdout",
     "output_type": "stream",
     "text": [
      "0.33583856885169683\n"
     ]
    }
   ],
   "execution_count": 50
  },
  {
   "cell_type": "code",
   "metadata": {
    "collapsed": true,
    "ExecuteTime": {
     "end_time": "2025-01-04T18:20:49.568729Z",
     "start_time": "2025-01-04T18:20:49.566117Z"
    }
   },
   "source": [
    "# 2.c.\n",
    "# ------------>>>>>>>> RUN THIS CODE CELL <<<<<<<<------------\n",
    "# --------  (run after implementation, if used)\n",
    "# === CODE TYPE: SELF TESTING\n",
    "# ---- Add your additional tests here if needed:\n",
    "###\n",
    "### YOUR CODE HERE\n",
    "###\n"
   ],
   "outputs": [],
   "execution_count": 51
  },
  {
   "cell_type": "code",
   "metadata": {
    "collapsed": true,
    "nbgrader": {
     "grade": true,
     "grade_id": "test2c-1_evaluate_performance_1st",
     "locked": true,
     "points": "0.1",
     "solution": false
    },
    "editable": false,
    "deletable": false,
    "ExecuteTime": {
     "end_time": "2025-01-04T18:20:49.744140Z",
     "start_time": "2025-01-04T18:20:49.722048Z"
    }
   },
   "source": [
    "# 2.c.\n",
    "# ------------>>>>>>>> RUN THIS CODE CELL <<<<<<<<------------\n",
    "# --------  (run only)\n",
    "# === CODE TYPE: GRADED TEST \n",
    "\n",
    "print (\"Part 2.c. - Test 1 (name: test2c-1_evaluate_performance_1st, points: 0.1) - Sanity\")\n",
    "print (\"\\t--->Testing the implementation of 'evaluate_performance_1st' ...\")\n",
    "\n",
    "file_name_train = '.' + os.sep + 'data' + os.sep + 'imdb_for_1st_model_train.csv'\n",
    "file_name_test = '.' + os.sep + 'data' + os.sep + 'imdb_for_1st_model_test.csv'\n",
    "target_col_name = 'imdb_score'\n",
    "\n",
    "try:    \n",
    "    X_1st_train, y_1st_train = load_dataset(file_name_train, target_col_name)\n",
    "    X_1st_test, y_1st_test = load_dataset(file_name_test, target_col_name)\n",
    "    trained_model_1st = train_1st_model(X_1st_train, y_1st_train)\n",
    "    pred_1st_vals = predict_1st(trained_model_1st, X_1st_test)\n",
    "    y_pred_1st= pd.Series(pred_1st_vals,index=X_1st_test.index)\n",
    "    eval_res_1st = evaluate_performance_1st(y_1st_test, y_pred_1st)\n",
    "except Exception as e:\n",
    "    print ('You probably have a syntax or implementation error,  \\nerror Message:',str(e), '\\nTry fixing your code')\n",
    "    raise\n",
    "    \n",
    "print (\"Good Job!\\nYou've passed the 1st test for the 'evaluate_performance_1st' function implementation :-)\")"
   ],
   "outputs": [
    {
     "name": "stdout",
     "output_type": "stream",
     "text": [
      "Part 2.c. - Test 1 (name: test2c-1_evaluate_performance_1st, points: 0.1) - Sanity\n",
      "\t--->Testing the implementation of 'evaluate_performance_1st' ...\n",
      "Good Job!\n",
      "You've passed the 1st test for the 'evaluate_performance_1st' function implementation :-)\n"
     ]
    }
   ],
   "execution_count": 52
  },
  {
   "cell_type": "code",
   "metadata": {
    "collapsed": true,
    "nbgrader": {
     "grade": true,
     "grade_id": "test2c-2_evaluate_performance_1st",
     "locked": true,
     "points": "0.4",
     "solution": false
    },
    "editable": false,
    "deletable": false,
    "ExecuteTime": {
     "end_time": "2025-01-04T18:20:50.693148Z",
     "start_time": "2025-01-04T18:20:50.662914Z"
    }
   },
   "source": [
    "# 2.c.\n",
    "# ------------>>>>>>>> RUN THIS CODE CELL <<<<<<<<------------\n",
    "# --------  (run only)\n",
    "# === CODE TYPE: GRADED TEST \n",
    "\n",
    "print (\"Part 2.c. - Test 2 (name: test2c-2_evaluate_performance_1st, points: 0.4)\")\n",
    "print (\"\\t--->Testing the implementation of 'evaluate_performance_1st' ...\")\n",
    "    \n",
    "file_name_train = '.' + os.sep + 'data' + os.sep + 'imdb_for_1st_model_train.csv'\n",
    "file_name_test = '.' + os.sep + 'data' + os.sep + 'imdb_for_1st_model_test.csv'\n",
    "target_col_name = 'imdb_score'\n",
    "\n",
    "try:    \n",
    "    X_1st_train, y_1st_train = load_dataset(file_name_train, target_col_name)\n",
    "    X_1st_test, y_1st_test = load_dataset(file_name_test, target_col_name)\n",
    "    trained_model_1st = train_1st_model(X_1st_train, y_1st_train)\n",
    "    pred_1st_vals = predict_1st(trained_model_1st, X_1st_test)\n",
    "    y_pred_1st= pd.Series(pred_1st_vals,index=X_1st_test.index)\n",
    "    eval_res_1st = evaluate_performance_1st(y_1st_test, y_pred_1st)\n",
    "except Exception as e:\n",
    "    print ('You probably have a syntax or implementation error,  \\nerror Message:',str(e), '\\nTry fixing your code')\n",
    "    raise\n",
    "\n",
    "assert np.round(eval_res_1st+0.001,2) == 0.34, 'Wrong evaluation result'\n",
    "\n",
    "print (\"Good Job!\\nYou've passed the 2nd test for the 'evaluate_performance_1st' function implementation :-)\")"
   ],
   "outputs": [
    {
     "name": "stdout",
     "output_type": "stream",
     "text": [
      "Part 2.c. - Test 2 (name: test2c-2_evaluate_performance_1st, points: 0.4)\n",
      "\t--->Testing the implementation of 'evaluate_performance_1st' ...\n",
      "Good Job!\n",
      "You've passed the 2nd test for the 'evaluate_performance_1st' function implementation :-)\n"
     ]
    }
   ],
   "execution_count": 53
  },
  {
   "cell_type": "markdown",
   "metadata": {
    "nbgrader": {
     "grade": false,
     "locked": true,
     "solution": false
    },
    "editable": false,
    "deletable": false
   },
   "source": [
    "## 3. <u>The second</u> supervised model \n",
    "In his section will we will do the following:\n",
    "* Train a supervised model on the train set\n",
    "* Predict the examples from the test set\n",
    "* Evaluate the performance of the model you've built"
   ]
  },
  {
   "cell_type": "code",
   "metadata": {
    "collapsed": true,
    "ExecuteTime": {
     "end_time": "2025-01-04T18:23:16.261911Z",
     "start_time": "2025-01-04T18:23:16.243092Z"
    }
   },
   "source": [
    "# 3.\n",
    "# ------------>>>>>>>> RUN THIS CODE CELL <<<<<<<<------------\n",
    "# --------  (run only)\n",
    "# === CODE TYPE: EXPLORATION\n",
    "\n",
    "print (\"The following are the first few rows of the 2nd dataset:\")\n",
    "print (\"-------------------------\")\n",
    "\n",
    "file_name = '.' + os.sep + 'data' + os.sep + 'imdb_for_2nd_model_train.csv'\n",
    "target_col_name = 'suitable_for_kids'\n",
    "    \n",
    "print ('Note: the dataset is already scaled ...')\n",
    "\n",
    "try:\n",
    "    X, y = load_dataset(file_name, target_col_name)\n",
    "except Exception as e:\n",
    "    print ('You probably have a syntax error, we got the following exception:')\n",
    "    print ('\\tError Message:', str(e))\n",
    "    print ('Try fixing your implementation')\n",
    "    raise \n",
    "\n",
    "X.head()"
   ],
   "outputs": [
    {
     "name": "stdout",
     "output_type": "stream",
     "text": [
      "The following are the first few rows of the 2nd dataset:\n",
      "-------------------------\n",
      "Note: the dataset is already scaled ...\n"
     ]
    },
    {
     "data": {
      "text/plain": [
       "   duration  director_facebook_likes  actor_1_facebook_likes  \\\n",
       "0  0.192568                 0.001174                0.001522   \n",
       "1  0.172297                 0.003870                0.034372   \n",
       "2  0.314189                 0.521698                0.001534   \n",
       "3  0.418919                 0.033655                0.001559   \n",
       "4  0.233108                 0.039308                0.001559   \n",
       "\n",
       "   actor_2_facebook_likes  actor_3_facebook_likes  cast_total_facebook_likes  \\\n",
       "0                0.005818                0.033046                   0.006048   \n",
       "1                0.087578                0.041917                   0.056162   \n",
       "2                0.006847                0.038916                   0.008679   \n",
       "3                0.003402                0.013392                   0.003262   \n",
       "4                0.006599                0.032438                   0.009448   \n",
       "\n",
       "   movie_facebook_likes  imdb_score     gross  facenumber_in_poster    budget  \\\n",
       "0              0.002407    0.391892  0.018433              0.023256  0.007143   \n",
       "1              0.001140    0.527027  0.000132              0.023256  0.000905   \n",
       "2              0.020032    0.554054  0.013329              0.000000  0.011905   \n",
       "3              0.037224    0.527027  0.218423              0.000000  0.047619   \n",
       "4              0.002840    0.608108  0.092198              0.000000  0.013809   \n",
       "\n",
       "   title_year  num_voted_users  num_critic_for_reviews  num_user_for_reviews  \n",
       "0    0.666667         0.010475                0.084975              0.021743  \n",
       "1    0.805556         0.001480                0.054187              0.001977  \n",
       "2    0.694444         0.034321                0.227833              0.073730  \n",
       "3    0.805556         0.167716                0.450739              0.208342  \n",
       "4    0.500000         0.033567                0.195813              0.101601  "
      ],
      "text/html": [
       "<div>\n",
       "<style scoped>\n",
       "    .dataframe tbody tr th:only-of-type {\n",
       "        vertical-align: middle;\n",
       "    }\n",
       "\n",
       "    .dataframe tbody tr th {\n",
       "        vertical-align: top;\n",
       "    }\n",
       "\n",
       "    .dataframe thead th {\n",
       "        text-align: right;\n",
       "    }\n",
       "</style>\n",
       "<table border=\"1\" class=\"dataframe\">\n",
       "  <thead>\n",
       "    <tr style=\"text-align: right;\">\n",
       "      <th></th>\n",
       "      <th>duration</th>\n",
       "      <th>director_facebook_likes</th>\n",
       "      <th>actor_1_facebook_likes</th>\n",
       "      <th>actor_2_facebook_likes</th>\n",
       "      <th>actor_3_facebook_likes</th>\n",
       "      <th>cast_total_facebook_likes</th>\n",
       "      <th>movie_facebook_likes</th>\n",
       "      <th>imdb_score</th>\n",
       "      <th>gross</th>\n",
       "      <th>facenumber_in_poster</th>\n",
       "      <th>budget</th>\n",
       "      <th>title_year</th>\n",
       "      <th>num_voted_users</th>\n",
       "      <th>num_critic_for_reviews</th>\n",
       "      <th>num_user_for_reviews</th>\n",
       "    </tr>\n",
       "  </thead>\n",
       "  <tbody>\n",
       "    <tr>\n",
       "      <th>0</th>\n",
       "      <td>0.192568</td>\n",
       "      <td>0.001174</td>\n",
       "      <td>0.001522</td>\n",
       "      <td>0.005818</td>\n",
       "      <td>0.033046</td>\n",
       "      <td>0.006048</td>\n",
       "      <td>0.002407</td>\n",
       "      <td>0.391892</td>\n",
       "      <td>0.018433</td>\n",
       "      <td>0.023256</td>\n",
       "      <td>0.007143</td>\n",
       "      <td>0.666667</td>\n",
       "      <td>0.010475</td>\n",
       "      <td>0.084975</td>\n",
       "      <td>0.021743</td>\n",
       "    </tr>\n",
       "    <tr>\n",
       "      <th>1</th>\n",
       "      <td>0.172297</td>\n",
       "      <td>0.003870</td>\n",
       "      <td>0.034372</td>\n",
       "      <td>0.087578</td>\n",
       "      <td>0.041917</td>\n",
       "      <td>0.056162</td>\n",
       "      <td>0.001140</td>\n",
       "      <td>0.527027</td>\n",
       "      <td>0.000132</td>\n",
       "      <td>0.023256</td>\n",
       "      <td>0.000905</td>\n",
       "      <td>0.805556</td>\n",
       "      <td>0.001480</td>\n",
       "      <td>0.054187</td>\n",
       "      <td>0.001977</td>\n",
       "    </tr>\n",
       "    <tr>\n",
       "      <th>2</th>\n",
       "      <td>0.314189</td>\n",
       "      <td>0.521698</td>\n",
       "      <td>0.001534</td>\n",
       "      <td>0.006847</td>\n",
       "      <td>0.038916</td>\n",
       "      <td>0.008679</td>\n",
       "      <td>0.020032</td>\n",
       "      <td>0.554054</td>\n",
       "      <td>0.013329</td>\n",
       "      <td>0.000000</td>\n",
       "      <td>0.011905</td>\n",
       "      <td>0.694444</td>\n",
       "      <td>0.034321</td>\n",
       "      <td>0.227833</td>\n",
       "      <td>0.073730</td>\n",
       "    </tr>\n",
       "    <tr>\n",
       "      <th>3</th>\n",
       "      <td>0.418919</td>\n",
       "      <td>0.033655</td>\n",
       "      <td>0.001559</td>\n",
       "      <td>0.003402</td>\n",
       "      <td>0.013392</td>\n",
       "      <td>0.003262</td>\n",
       "      <td>0.037224</td>\n",
       "      <td>0.527027</td>\n",
       "      <td>0.218423</td>\n",
       "      <td>0.000000</td>\n",
       "      <td>0.047619</td>\n",
       "      <td>0.805556</td>\n",
       "      <td>0.167716</td>\n",
       "      <td>0.450739</td>\n",
       "      <td>0.208342</td>\n",
       "    </tr>\n",
       "    <tr>\n",
       "      <th>4</th>\n",
       "      <td>0.233108</td>\n",
       "      <td>0.039308</td>\n",
       "      <td>0.001559</td>\n",
       "      <td>0.006599</td>\n",
       "      <td>0.032438</td>\n",
       "      <td>0.009448</td>\n",
       "      <td>0.002840</td>\n",
       "      <td>0.608108</td>\n",
       "      <td>0.092198</td>\n",
       "      <td>0.000000</td>\n",
       "      <td>0.013809</td>\n",
       "      <td>0.500000</td>\n",
       "      <td>0.033567</td>\n",
       "      <td>0.195813</td>\n",
       "      <td>0.101601</td>\n",
       "    </tr>\n",
       "  </tbody>\n",
       "</table>\n",
       "</div>"
      ]
     },
     "execution_count": 54,
     "metadata": {},
     "output_type": "execute_result"
    }
   ],
   "execution_count": 54
  },
  {
   "cell_type": "markdown",
   "metadata": {
    "nbgrader": {
     "grade": false,
     "locked": true,
     "solution": false
    },
    "editable": false,
    "deletable": false
   },
   "source": [
    "### 3.a. Train <u>the second</u> supervised model \n",
    "You need to train a model, which predicts whether the movie is suitable for children.<br />\n",
    "* Expect a value of 1 in the target series, if the movie is suitable for children.<br/>\n",
    "  Otherwise, expect a value of 0.<br />\n",
    "* You could see the first few elements of the target series, from the output of the previous test."
   ]
  },
  {
   "cell_type": "markdown",
   "metadata": {
    "nbgrader": {
     "grade": false,
     "locked": true,
     "solution": false
    },
    "editable": false,
    "deletable": false
   },
   "source": [
    "### 3.a. Instructions\n",
    "<u>method name</u>: <b>train_2nd_model</b>\n",
    "<pre>The following is expected:\n",
    "--- Complete the 'train_2nd_model' function to train a supervised learning model on the \n",
    "      training set (use the give 'X_train' dataframe and the corresponding 'y_train' target values).\n",
    "   Identify the learning problem and decide whether it is a classification or regression problem.\n",
    "      Accordingly, use the relevant sklearn algorithm for the training: \n",
    "      LinearRegression or LogisticRegression.\n",
    "return the trained model.\n",
    "</pre>\n",
    "<hr>\n",
    "The return statement should look similar to the following statement:<br />\n",
    "<b>return trained_model</b>"
   ]
  },
  {
   "cell_type": "code",
   "metadata": {
    "collapsed": true,
    "ExecuteTime": {
     "end_time": "2025-01-04T18:24:31.427169Z",
     "start_time": "2025-01-04T18:24:31.423885Z"
    }
   },
   "source": [
    "### 3.a.\n",
    "# ------------>>>>>>>> RUN THIS CODE CELL <<<<<<<<------------\n",
    "# --------  (run after implementation)\n",
    "# === CODE TYPE: ANSWER \n",
    "\n",
    "def train_2nd_model(X_train, y_train):\n",
    "    return LogisticRegression().fit(X_train, y_train)\n"
   ],
   "outputs": [],
   "execution_count": 55
  },
  {
   "cell_type": "code",
   "metadata": {
    "collapsed": true,
    "ExecuteTime": {
     "end_time": "2025-01-04T18:24:32.593406Z",
     "start_time": "2025-01-04T18:24:32.564096Z"
    }
   },
   "source": [
    "# 3.a.\n",
    "# ------------>>>>>>>> RUN THIS CODE CELL <<<<<<<<------------\n",
    "# --------  (run after implementation)\n",
    "# === CODE TYPE: SELF TESTING\n",
    "# Use the following code to test your implementation:\n",
    "file_name_2nd_train = '.' + os.sep + 'data' + os.sep + 'imdb_for_2nd_model_train.csv'\n",
    "file_name_2nd_test = '.' + os.sep + 'data' + os.sep + 'imdb_for_2nd_model_test.csv'\n",
    "target_col_2nd_name = 'suitable_for_kids'\n",
    "X_2nd_train, y_2nd_train = load_dataset(file_name_2nd_train, target_col_2nd_name)\n",
    "X_2nd_test, y_2nd_test = load_dataset(file_name_2nd_test, target_col_2nd_name)\n",
    "trained_model_2nd = train_2nd_model(X_2nd_train, y_2nd_train)\n",
    "# --- add additional code to check your code if needed:\n",
    "###\n",
    "### YOUR CODE HERE\n",
    "###\n"
   ],
   "outputs": [],
   "execution_count": 56
  },
  {
   "cell_type": "code",
   "metadata": {
    "collapsed": true,
    "ExecuteTime": {
     "end_time": "2025-01-04T18:25:04.279110Z",
     "start_time": "2025-01-04T18:25:04.275430Z"
    }
   },
   "source": [
    "# 3.a.\n",
    "# ------------>>>>>>>> RUN THIS CODE CELL <<<<<<<<------------\n",
    "# --------  (run after implementation, if used)\n",
    "# === CODE TYPE: SELF TESTING\n",
    "# ---- Add your additional tests here if needed:\n",
    "type(trained_model_2nd)\n"
   ],
   "outputs": [
    {
     "data": {
      "text/plain": [
       "sklearn.linear_model._logistic.LogisticRegression"
      ]
     },
     "execution_count": 59,
     "metadata": {},
     "output_type": "execute_result"
    }
   ],
   "execution_count": 59
  },
  {
   "cell_type": "code",
   "metadata": {
    "collapsed": true,
    "nbgrader": {
     "grade": true,
     "grade_id": "test3a-1_train_2nd_model",
     "locked": true,
     "points": "0.1",
     "solution": false
    },
    "editable": false,
    "deletable": false,
    "ExecuteTime": {
     "end_time": "2025-01-04T18:25:05.732611Z",
     "start_time": "2025-01-04T18:25:05.710337Z"
    }
   },
   "source": [
    "# 3.a.\n",
    "# ------------>>>>>>>> RUN THIS CODE CELL <<<<<<<<------------\n",
    "# --------  (run only)\n",
    "# === CODE TYPE: GRADED TEST \n",
    "\n",
    "print (\"Part 3.a. - Test 1 (name: test3a-1_train_2nd_model, points: 0.1) - Sanity\")\n",
    "print (\"\\t--->Testing the implementation of 'train_2nd_model' ...\")\n",
    "    \n",
    "file_name_2nd_train = '.' + os.sep + 'data' + os.sep + 'imdb_for_2nd_model_train.csv'\n",
    "file_name_2nd_test = '.' + os.sep + 'data' + os.sep + 'imdb_for_2nd_model_test.csv'\n",
    "target_col_2nd_name = 'suitable_for_kids'\n",
    "\n",
    "try:    \n",
    "    X_2nd_train, y_2nd_train = load_dataset(file_name_2nd_train, target_col_2nd_name)\n",
    "    X_2nd_test, y_2nd_test = load_dataset(file_name_2nd_test, target_col_2nd_name)\n",
    "    trained_model_2nd = train_2nd_model(X_2nd_train, y_2nd_train)\n",
    "except Exception as e:\n",
    "    print ('You probably have a syntax error, we got the following exception:')\n",
    "    print ('\\tError Message:', str(e))\n",
    "    print ('Try fixing your implementation')\n",
    "    raise \n",
    "    \n",
    "print (\"Good Job!\\nYou've passed the 1st test for the 'train_2nd_model' function implementation :-)\")"
   ],
   "outputs": [
    {
     "name": "stdout",
     "output_type": "stream",
     "text": [
      "Part 3.a. - Test 1 (name: test3a-1_train_2nd_model, points: 0.1) - Sanity\n",
      "\t--->Testing the implementation of 'train_2nd_model' ...\n",
      "Good Job!\n",
      "You've passed the 1st test for the 'train_2nd_model' function implementation :-)\n"
     ]
    }
   ],
   "execution_count": 60
  },
  {
   "cell_type": "code",
   "metadata": {
    "collapsed": true,
    "nbgrader": {
     "grade": true,
     "grade_id": "test3a-2_train_2nd_model",
     "locked": true,
     "points": "0.3",
     "solution": false
    },
    "editable": false,
    "deletable": false,
    "ExecuteTime": {
     "end_time": "2025-01-04T18:25:06.646588Z",
     "start_time": "2025-01-04T18:25:06.621217Z"
    }
   },
   "source": [
    "# 3.a.\n",
    "# ------------>>>>>>>> RUN THIS CODE CELL <<<<<<<<------------\n",
    "# --------  (run only)\n",
    "# === CODE TYPE: GRADED TEST \n",
    "\n",
    "print (\"Part 3.a. - Test 2 (name: test3a-2_train_2nd_model, points: 0.3)\")\n",
    "print (\"\\t--->Testing the implementation of 'train_2nd_model' ...\")\n",
    "\n",
    "file_name_2nd_train = '.' + os.sep + 'data' + os.sep + 'imdb_for_2nd_model_train.csv'\n",
    "file_name_2nd_test = '.' + os.sep + 'data' + os.sep + 'imdb_for_2nd_model_test.csv'\n",
    "target_col_2nd_name = 'suitable_for_kids'\n",
    "\n",
    "try:    \n",
    "    X_2nd_train, y_2nd_train = load_dataset(file_name_2nd_train, target_col_2nd_name)\n",
    "    X_2nd_test, y_2nd_test = load_dataset(file_name_2nd_test, target_col_2nd_name)\n",
    "    trained_model_2nd = train_2nd_model(X_2nd_train, y_2nd_train)\n",
    "except Exception as e:\n",
    "    print ('You probably have a syntax error, we got the following exception:')\n",
    "    print ('\\tError Message:', str(e))\n",
    "    print ('Try fixing your implementation')\n",
    "    raise \n",
    "\n",
    "assert X_2nd_train.shape == (2892, 15), 'Wrong shape for feature vector dataframe'\n",
    "assert y_2nd_train.shape[0] == 2892, 'Wrong number of target values in series'\n",
    "np.testing.assert_array_equal(X_2nd_train.index, y_2nd_train.index, 'X and y should have the same index')\n",
    "\n",
    "assert X_2nd_test.shape == (724, 15), 'Wrong shape for feature vector dataframe'\n",
    "assert y_2nd_test.shape[0] == 724, 'Wrong number of target values in series'\n",
    "np.testing.assert_array_equal(X_2nd_test.index, y_2nd_test.index, 'X and y should have the same index')\n",
    "possible_python_classes = [sklearn.linear_model.LogisticRegression, sklearn.linear_model.LinearRegression]\n",
    "assert type(trained_model_2nd) in possible_python_classes, \"Wrong retured type from 'train_2nd_model' method, expected a 'LogisticRegression' or a 'LinearRegression' object\"\n",
    "    \n",
    "print (\"Good Job!\\nYou've passed the 2nd test for the 'train_2nd_model' function implementation :-)\")"
   ],
   "outputs": [
    {
     "name": "stdout",
     "output_type": "stream",
     "text": [
      "Part 3.a. - Test 2 (name: test3a-2_train_2nd_model, points: 0.3)\n",
      "\t--->Testing the implementation of 'train_2nd_model' ...\n",
      "Good Job!\n",
      "You've passed the 2nd test for the 'train_2nd_model' function implementation :-)\n"
     ]
    }
   ],
   "execution_count": 61
  },
  {
   "cell_type": "code",
   "metadata": {
    "collapsed": true,
    "nbgrader": {
     "grade": true,
     "grade_id": "test3a-3_train_2nd_model",
     "locked": true,
     "points": "0.2",
     "solution": false
    },
    "editable": false,
    "deletable": false,
    "ExecuteTime": {
     "end_time": "2025-01-04T18:25:07.749914Z",
     "start_time": "2025-01-04T18:25:07.747045Z"
    }
   },
   "source": [
    "# 3.a.\n",
    "# ------------>>>>>>>> RUN THIS CODE CELL <<<<<<<<------------\n",
    "# --------  (run only)\n",
    "# === CODE TYPE: GRADED TEST \n",
    "print (\"Part 3.a. - Test 3 (name: test3a-3_train_2nd_model, points: 0.2)\")\n",
    "print (\"\\t--->Testing the implementation of 'train_2nd_model' ...\")\n",
    "print (\"\\n\\t====> Full grading test - the following test can not be seen before submission\")\n",
    "\n",
    "###\n",
    "### AUTOGRADER TEST - DO NOT REMOVE\n",
    "###\n"
   ],
   "outputs": [
    {
     "name": "stdout",
     "output_type": "stream",
     "text": [
      "Part 3.a. - Test 3 (name: test3a-3_train_2nd_model, points: 0.2)\n",
      "\t--->Testing the implementation of 'train_2nd_model' ...\n",
      "\n",
      "\t====> Full grading test - the following test can not be seen before submission\n"
     ]
    }
   ],
   "execution_count": 62
  },
  {
   "cell_type": "markdown",
   "metadata": {
    "nbgrader": {
     "grade": false,
     "locked": true,
     "solution": false
    },
    "editable": false,
    "deletable": false
   },
   "source": [
    "### 3.b. Predict (is movie suitable for children)\n",
    "In this section you will predict whether the movies are suitable for children, for each of the <br />\n",
    "examples in the test set, using the second trained supervised model (based on your implementation in 3.a.)."
   ]
  },
  {
   "cell_type": "markdown",
   "metadata": {
    "nbgrader": {
     "grade": false,
     "locked": true,
     "solution": false
    },
    "editable": false,
    "deletable": false
   },
   "source": [
    "### 3.b. Instructions\n",
    "<u>method name</u>: <b>predict_2nd</b>\n",
    "<pre>The following is expected:\n",
    "--- Complete the 'predict_2nd' function, using the input 'trained_2nd_model' model,\n",
    "      to predict the target of each example in the given 'X_test' test set.\n",
    "You need to return the predicted target values (a series)\n",
    "</pre>\n",
    "<hr>\n",
    "The return statement should look similar to the following statement:<br />\n",
    "<b>return predicted_vals</b>"
   ]
  },
  {
   "cell_type": "code",
   "metadata": {
    "collapsed": true,
    "ExecuteTime": {
     "end_time": "2025-01-04T18:26:30.468650Z",
     "start_time": "2025-01-04T18:26:30.466424Z"
    }
   },
   "source": [
    "### 3.b.\n",
    "# ------------>>>>>>>> RUN THIS CODE CELL <<<<<<<<------------\n",
    "# --------  (run after implementation)\n",
    "# === CODE TYPE: ANSWER \n",
    "\n",
    "def predict_2nd(trained_2nd_model, X_test):\n",
    "    return trained_2nd_model.predict(X_test)\n"
   ],
   "outputs": [],
   "execution_count": 66
  },
  {
   "cell_type": "code",
   "metadata": {
    "collapsed": true,
    "ExecuteTime": {
     "end_time": "2025-01-04T18:26:31.253714Z",
     "start_time": "2025-01-04T18:26:31.230361Z"
    }
   },
   "source": [
    "# 3.b.\n",
    "# ---->>>>>>>> RUN THIS CODE CELL <<<<<<<<------------\n",
    "# --------  (run after implementation)\n",
    "# === CODE TYPE: SELF TESTING\n",
    "# Use the following code to test your implementation:\n",
    "file_name_2nd_train = '.' + os.sep + 'data' + os.sep + 'imdb_for_2nd_model_train.csv'\n",
    "file_name_2nd_test = '.' + os.sep + 'data' + os.sep + 'imdb_for_2nd_model_test.csv'\n",
    "target_col_2nd_name = 'suitable_for_kids'\n",
    "X_2nd_train, y_2nd_train = load_dataset(file_name_2nd_train, target_col_2nd_name)\n",
    "X_2nd_test, y_2nd_test = load_dataset(file_name_2nd_test, target_col_2nd_name)\n",
    "trained_model_2nd = train_2nd_model(X_2nd_train, y_2nd_train)\n",
    "pred_2nd_vals = predict_2nd(trained_model_2nd, X_2nd_test)\n",
    "y_pred_2nd = pd.Series(pred_2nd_vals,index=X_2nd_test.index)\n",
    "print(y_pred_2nd)\n",
    "# --- add additional code to check your code if needed:\n",
    "###\n",
    "### YOUR CODE HERE\n",
    "###\n"
   ],
   "outputs": [
    {
     "name": "stdout",
     "output_type": "stream",
     "text": [
      "0      1\n",
      "1      1\n",
      "2      0\n",
      "3      0\n",
      "4      0\n",
      "      ..\n",
      "719    0\n",
      "720    0\n",
      "721    1\n",
      "722    0\n",
      "723    1\n",
      "Length: 724, dtype: int64\n"
     ]
    }
   ],
   "execution_count": 67
  },
  {
   "cell_type": "code",
   "metadata": {
    "collapsed": true,
    "ExecuteTime": {
     "end_time": "2025-01-04T18:26:32.374844Z",
     "start_time": "2025-01-04T18:26:32.370357Z"
    }
   },
   "source": [
    "# 3.b.\n",
    "# ------------>>>>>>>> RUN THIS CODE CELL <<<<<<<<------------\n",
    "# --------  (run after implementation, if used)\n",
    "# === CODE TYPE: SELF TESTING\n",
    "# ---- Add your additional tests here if needed:\n",
    "print(f\"Predicted values of type {type(pred_2nd_vals)}, with shape of {pred_2nd_vals.shape}:\")\n",
    "print(pred_2nd_vals)\n"
   ],
   "outputs": [
    {
     "name": "stdout",
     "output_type": "stream",
     "text": [
      "Predicted values of type <class 'numpy.ndarray'>, with shape of (724,):\n",
      "[1 1 0 0 0 1 1 0 1 1 1 1 0 1 1 1 1 1 0 0 0 1 1 0 0 0 0 1 0 1 1 1 1 1 0 0 1\n",
      " 0 0 0 1 0 0 0 1 1 0 1 1 0 1 1 1 0 1 0 1 0 0 1 1 0 1 0 1 0 0 0 1 0 0 1 1 1\n",
      " 1 0 1 1 0 1 1 1 1 0 0 0 0 1 0 0 0 0 1 0 1 0 0 0 1 0 0 0 1 1 1 1 0 1 0 1 0\n",
      " 1 1 0 0 0 1 1 1 1 0 1 1 0 1 0 0 1 0 1 0 0 0 1 1 0 0 0 1 0 1 0 0 0 0 0 0 0\n",
      " 1 1 1 0 1 0 0 1 1 0 1 0 1 1 1 1 1 1 1 0 1 0 1 0 0 0 1 0 1 0 0 0 1 1 0 1 1\n",
      " 1 1 0 0 1 0 0 1 1 0 1 1 0 0 1 0 1 0 0 0 0 1 1 1 0 1 0 0 0 1 0 1 0 1 0 0 1\n",
      " 1 1 0 1 0 1 0 0 1 0 0 0 0 1 0 0 1 1 1 0 0 1 0 1 1 1 0 0 0 0 0 1 0 0 1 0 0\n",
      " 1 0 1 1 0 0 1 1 0 1 1 0 1 0 0 0 1 1 1 1 0 1 0 1 1 1 0 0 0 0 0 0 0 1 0 0 1\n",
      " 1 1 0 0 1 1 1 1 1 1 1 0 1 1 0 0 1 0 0 1 1 1 0 1 1 0 1 1 1 1 0 1 0 0 1 0 1\n",
      " 0 1 0 0 0 1 1 0 1 0 0 0 0 0 1 1 1 1 0 1 1 0 1 0 1 0 0 0 1 1 1 0 0 0 0 0 0\n",
      " 1 1 1 1 1 1 1 0 0 1 1 1 0 1 0 1 1 1 0 1 1 0 1 0 0 0 1 0 1 0 0 1 0 1 0 1 0\n",
      " 1 0 1 0 1 0 0 1 0 1 1 1 0 1 0 1 1 0 1 0 1 0 0 0 0 1 0 1 0 0 0 1 1 1 0 1 0\n",
      " 0 0 0 0 0 0 0 1 1 0 0 0 1 0 0 1 0 1 1 0 1 1 1 0 0 0 1 0 1 0 0 0 0 1 1 1 1\n",
      " 0 0 0 1 1 0 1 0 1 0 1 0 0 0 1 0 0 1 0 0 0 1 1 1 1 1 1 1 1 0 1 1 0 1 1 0 1\n",
      " 1 0 0 1 1 0 0 1 1 0 0 1 0 1 0 1 0 1 1 1 1 0 0 0 0 1 1 1 0 0 1 1 1 0 1 1 0\n",
      " 0 0 1 1 0 1 0 0 0 0 1 1 1 1 1 1 0 0 1 0 1 1 0 0 0 0 1 0 0 0 0 0 0 1 0 1 0\n",
      " 0 1 0 1 1 1 1 1 1 1 0 1 0 0 0 0 0 0 1 1 0 1 1 1 0 0 0 0 0 1 1 0 0 1 0 1 0\n",
      " 1 1 1 1 1 1 1 0 0 0 1 1 0 1 1 1 1 1 0 1 0 1 0 0 1 0 0 0 1 1 1 0 0 1 0 0 1\n",
      " 0 1 1 0 0 1 0 0 0 1 1 0 0 1 0 1 1 0 0 1 0 1 0 1 1 1 1 0 0 1 0 1 1 1 0 0 0\n",
      " 1 0 0 0 0 0 1 0 0 0 1 1 1 1 1 0 0 0 1 0 1]\n"
     ]
    }
   ],
   "execution_count": 68
  },
  {
   "cell_type": "code",
   "metadata": {
    "collapsed": true,
    "nbgrader": {
     "grade": true,
     "grade_id": "test3b-1_predict_2nd",
     "locked": true,
     "points": "0.1",
     "solution": false
    },
    "editable": false,
    "deletable": false,
    "ExecuteTime": {
     "end_time": "2025-01-04T18:26:34.061497Z",
     "start_time": "2025-01-04T18:26:34.037738Z"
    }
   },
   "source": [
    "# 3.b.\n",
    "# ------------>>>>>>>> RUN THIS CODE CELL <<<<<<<<------------\n",
    "# --------  (run only)\n",
    "# === CODE TYPE: GRADED TEST \n",
    "\n",
    "print (\"Part 3.b. - Test 1 (name: test3b-1_predict_2nd, points: 0.1) - Sanity\")\n",
    "print (\"\\t--->Testing the implementation of 'predict_2nd' ...\")\n",
    "\n",
    "file_name_2nd_train = '.' + os.sep + 'data' + os.sep + 'imdb_for_2nd_model_train.csv'\n",
    "file_name_2nd_test = '.' + os.sep + 'data' + os.sep + 'imdb_for_2nd_model_test.csv'\n",
    "target_col_2nd_name = 'suitable_for_kids'\n",
    "\n",
    "try:    \n",
    "    X_2nd_train, y_2nd_train = load_dataset(file_name_2nd_train, target_col_2nd_name)\n",
    "    X_2nd_test, y_2nd_test = load_dataset(file_name_2nd_test, target_col_2nd_name)\n",
    "    trained_model_2nd = train_2nd_model(X_2nd_train, y_2nd_train)\n",
    "    pred_2nd_vals = predict_2nd(trained_model_2nd, X_2nd_test)\n",
    "    y_pred_2nd = pd.Series(pred_2nd_vals,index=X_2nd_test.index)\n",
    "except Exception as e:\n",
    "    print ('You probably have a syntax error, we got the following exception:')\n",
    "    print ('\\tError Message:', str(e))\n",
    "    print ('Try fixing your implementation')\n",
    "    raise \n",
    "    \n",
    "print (\"Good Job!\\nYou've passed the 1st test for the 'predict_2nd' function implementation :-)\")"
   ],
   "outputs": [
    {
     "name": "stdout",
     "output_type": "stream",
     "text": [
      "Part 3.b. - Test 1 (name: test3b-1_predict_2nd, points: 0.1) - Sanity\n",
      "\t--->Testing the implementation of 'predict_2nd' ...\n",
      "Good Job!\n",
      "You've passed the 1st test for the 'predict_2nd' function implementation :-)\n"
     ]
    }
   ],
   "execution_count": 69
  },
  {
   "cell_type": "code",
   "metadata": {
    "collapsed": true,
    "nbgrader": {
     "grade": true,
     "grade_id": "test3b-2_predict_2nd",
     "locked": true,
     "points": "0.3",
     "solution": false
    },
    "editable": false,
    "deletable": false,
    "ExecuteTime": {
     "end_time": "2025-01-04T18:26:35.047041Z",
     "start_time": "2025-01-04T18:26:35.024234Z"
    }
   },
   "source": [
    "# 3.b.\n",
    "# ------------>>>>>>>> RUN THIS CODE CELL <<<<<<<<------------\n",
    "# --------  (run only)\n",
    "# === CODE TYPE: GRADED TEST \n",
    "\n",
    "print (\"Part 3.b. - Test 2 (name: test3b-2_predict_2nd, points: 0.3)\")\n",
    "print (\"\\t--->Testing the implementation of 'predict_2nd' ...\")\n",
    "\n",
    "file_name_2nd_train = '.' + os.sep + 'data' + os.sep + 'imdb_for_2nd_model_train.csv'\n",
    "file_name_2nd_test = '.' + os.sep + 'data' + os.sep + 'imdb_for_2nd_model_test.csv'\n",
    "target_col_2nd_name = 'suitable_for_kids'\n",
    "\n",
    "try:    \n",
    "    X_2nd_train, y_2nd_train = load_dataset(file_name_2nd_train, target_col_2nd_name)\n",
    "    X_2nd_test, y_2nd_test = load_dataset(file_name_2nd_test, target_col_2nd_name)\n",
    "    trained_model_2nd = train_2nd_model(X_2nd_train, y_2nd_train)\n",
    "    pred_2nd_vals = predict_2nd(trained_model_2nd, X_2nd_test)\n",
    "except Exception as e:\n",
    "    print ('You probably have a syntax error, we got the following exception:')\n",
    "    print ('\\tError Message:', str(e))\n",
    "    print ('Try fixing your implementation')\n",
    "    raise \n",
    "\n",
    "y_pred_2nd = pd.Series(pred_2nd_vals,index=X_2nd_test.index)\n",
    "assert y_pred_2nd.mean()!=y_2nd_test.mean(), 'predicted values should not be identicle to actual test target values'\n",
    "     \n",
    "print (\"Good Job!\\nYou've passed the 2nd test for the 'predict_2nd' function implementation :-)\")"
   ],
   "outputs": [
    {
     "name": "stdout",
     "output_type": "stream",
     "text": [
      "Part 3.b. - Test 2 (name: test3b-2_predict_2nd, points: 0.3)\n",
      "\t--->Testing the implementation of 'predict_2nd' ...\n",
      "Good Job!\n",
      "You've passed the 2nd test for the 'predict_2nd' function implementation :-)\n"
     ]
    }
   ],
   "execution_count": 70
  },
  {
   "cell_type": "code",
   "metadata": {
    "collapsed": true,
    "nbgrader": {
     "grade": true,
     "grade_id": "test3b-3_predict_2nd",
     "locked": true,
     "points": "0.2",
     "solution": false
    },
    "editable": false,
    "deletable": false,
    "ExecuteTime": {
     "end_time": "2025-01-04T18:26:36.091225Z",
     "start_time": "2025-01-04T18:26:36.088271Z"
    }
   },
   "source": [
    "# 3.b.\n",
    "# ------------>>>>>>>> RUN THIS CODE CELL <<<<<<<<------------\n",
    "# --------  (run only)\n",
    "# === CODE TYPE: GRADED TEST \n",
    "\n",
    "print (\"Part 3.b. - Test 3 (name: test3b-3_predict_2nd, points: 0.2)\")\n",
    "print (\"\\t--->Testing the implementation of 'predict_2nd' ...\")\n",
    "print (\"\\n\\t====> Full grading test - the following test can not be seen before submission\")\n",
    "\n",
    "###\n",
    "### AUTOGRADER TEST - DO NOT REMOVE\n",
    "###\n"
   ],
   "outputs": [
    {
     "name": "stdout",
     "output_type": "stream",
     "text": [
      "Part 3.b. - Test 3 (name: test3b-3_predict_2nd, points: 0.2)\n",
      "\t--->Testing the implementation of 'predict_2nd' ...\n",
      "\n",
      "\t====> Full grading test - the following test can not be seen before submission\n"
     ]
    }
   ],
   "execution_count": 71
  },
  {
   "cell_type": "markdown",
   "metadata": {
    "nbgrader": {
     "grade": false,
     "locked": true,
     "solution": false
    },
    "editable": false,
    "deletable": false
   },
   "source": [
    "### 3.c. Evaluation of the second model ('is movie suitable for children' prediction)\n",
    "In this section you will evaluate the performance of the second supervised model on the test set.\n",
    "\n",
    "You will need to use an evaluation metric, which corresponds to the <u>type of learning problem</u>,\n",
    "   which you've identified in section 3.a.<br />\n",
    "\n",
    "Accordingly, you need use one of the following relevant `sklearn` metrics you've studied: \n",
    "* `r2_score` \n",
    "* `f1_score`"
   ]
  },
  {
   "cell_type": "markdown",
   "metadata": {
    "nbgrader": {
     "grade": false,
     "locked": true,
     "solution": false
    },
    "editable": false,
    "deletable": false
   },
   "source": [
    "### 3.c. Instructions\n",
    "<u>method name</u>: <b>evaluate_performance_2nd</b>\n",
    "<pre>The following is expected:\n",
    "--- Complete the 'evaluate_performance_2nd' function to evaluate the performance of the\n",
    "    2nd supervised learning model ('is movie suitable for children' prediction)\n",
    "    \n",
    "    You need use either the 'r2_score' or the 'f1_score' evaluation metric.\n",
    "The input parameters:\n",
    "   y_test - a series of containing all actual target values per test instance\n",
    "   y_predicted -  a series which contains all the predicted values per test instance \n",
    "                                   (using the 2nd model).\n",
    "You need to return the result of the evaluation metric (floating number).\n",
    "</pre>\n",
    "<hr>\n",
    "The return statement should look similar to the following statement:<br />\n",
    "<b>return evaluate_value</b>"
   ]
  },
  {
   "cell_type": "code",
   "metadata": {
    "collapsed": true,
    "ExecuteTime": {
     "end_time": "2025-01-04T18:26:47.411865Z",
     "start_time": "2025-01-04T18:26:47.409545Z"
    }
   },
   "source": [
    "### 3.c.\n",
    "# ------------>>>>>>>> RUN THIS CODE CELL <<<<<<<<------------\n",
    "# --------  (run after implementation)\n",
    "# === CODE TYPE: ANSWER \n",
    "\n",
    "def evaluate_performance_2nd(y_test,y_predicted):\n",
    "    return f1_score(y_test, y_predicted)"
   ],
   "outputs": [],
   "execution_count": 72
  },
  {
   "cell_type": "code",
   "metadata": {
    "collapsed": true,
    "ExecuteTime": {
     "end_time": "2025-01-04T18:26:48.022998Z",
     "start_time": "2025-01-04T18:26:47.996221Z"
    }
   },
   "source": [
    "# 3.c.\n",
    "# ------------>>>>>>>> RUN THIS CODE CELL <<<<<<<<------------\n",
    "# --------  (run after implementation)\n",
    "# === CODE TYPE: SELF TESTING\n",
    "# Use the following code to test your implementation:\n",
    "file_name_2nd_train = '.' + os.sep + 'data' + os.sep + 'imdb_for_2nd_model_train.csv'\n",
    "file_name_2nd_test = '.' + os.sep + 'data' + os.sep + 'imdb_for_2nd_model_test.csv'\n",
    "target_col_2nd_name = 'suitable_for_kids'\n",
    "X_2nd_train, y_2nd_train = load_dataset(file_name_2nd_train, target_col_2nd_name)\n",
    "X_2nd_test, y_2nd_test = load_dataset(file_name_2nd_test, target_col_2nd_name)\n",
    "trained_model_2nd = train_2nd_model(X_2nd_train, y_2nd_train)\n",
    "pred_2nd_vals = predict_2nd(trained_model_2nd, X_2nd_test)\n",
    "y_pred_2nd = pd.Series(pred_2nd_vals,index=X_2nd_test.index)\n",
    "eval_res_2nd = evaluate_performance_2nd(y_2nd_test, y_pred_2nd)\n",
    "print(eval_res_2nd)\n",
    "# --- add additional code to check your code if needed:\n",
    "###\n",
    "### YOUR CODE HERE\n",
    "###\n"
   ],
   "outputs": [
    {
     "name": "stdout",
     "output_type": "stream",
     "text": [
      "0.6868131868131868\n"
     ]
    }
   ],
   "execution_count": 73
  },
  {
   "cell_type": "code",
   "metadata": {
    "collapsed": true,
    "ExecuteTime": {
     "end_time": "2025-01-04T18:27:11.482095Z",
     "start_time": "2025-01-04T18:27:11.479629Z"
    }
   },
   "source": [
    "# 3.c.\n",
    "# ------------>>>>>>>> RUN THIS CODE CELL <<<<<<<<------------\n",
    "# --------  (run after implementation, if used)\n",
    "# === CODE TYPE: SELF TESTING\n",
    "# ---- Add your additional tests here if needed:\n",
    "\n"
   ],
   "outputs": [],
   "execution_count": 74
  },
  {
   "cell_type": "code",
   "metadata": {
    "collapsed": true,
    "nbgrader": {
     "grade": true,
     "grade_id": "test3c-1_evaluate_performance_2nd",
     "locked": true,
     "points": "0.1",
     "solution": false
    },
    "editable": false,
    "deletable": false,
    "ExecuteTime": {
     "end_time": "2025-01-04T18:27:12.537860Z",
     "start_time": "2025-01-04T18:27:12.512563Z"
    }
   },
   "source": [
    "# 3.c.\n",
    "# ------------>>>>>>>> RUN THIS CODE CELL <<<<<<<<------------\n",
    "# --------  (run only)\n",
    "# === CODE TYPE: GRADED TEST \n",
    "\n",
    "print (\"Part 3.c. - Test 1 (name: test3c-1_evaluate_performance_2nd, points: 0.1) - Sanity\")\n",
    "print (\"\\t--->Testing the implementation of 'evaluate_performance_2nd' ...\")\n",
    "\n",
    "file_name_2nd_train = '.' + os.sep + 'data' + os.sep + 'imdb_for_2nd_model_train.csv'\n",
    "file_name_2nd_test = '.' + os.sep + 'data' + os.sep + 'imdb_for_2nd_model_test.csv'\n",
    "target_col_2nd_name = 'suitable_for_kids'\n",
    "\n",
    "try:    \n",
    "    X_2nd_train, y_2nd_train = load_dataset(file_name_2nd_train, target_col_2nd_name)\n",
    "    X_2nd_test, y_2nd_test = load_dataset(file_name_2nd_test, target_col_2nd_name)\n",
    "    trained_model_2nd = train_2nd_model(X_2nd_train, y_2nd_train)\n",
    "    pred_2nd_vals = predict_2nd(trained_model_2nd, X_2nd_test)\n",
    "    y_pred_2nd = pd.Series(pred_2nd_vals,index=X_2nd_test.index)\n",
    "    eval_res_2nd = evaluate_performance_2nd(y_2nd_test, y_pred_2nd)\n",
    "except Exception as e:\n",
    "    print ('You probably have a syntax or implementation error,  \\nerror Message:',str(e), '\\nTry fixing your code')\n",
    "    raise\n",
    "\n",
    "print (\"Good Job!\\nYou've passed the 1st test for the 'evaluate_performance_2nd' function implementation :-)\")"
   ],
   "outputs": [
    {
     "name": "stdout",
     "output_type": "stream",
     "text": [
      "Part 3.c. - Test 1 (name: test3c-1_evaluate_performance_2nd, points: 0.1) - Sanity\n",
      "\t--->Testing the implementation of 'evaluate_performance_2nd' ...\n",
      "Good Job!\n",
      "You've passed the 1st test for the 'evaluate_performance_2nd' function implementation :-)\n"
     ]
    }
   ],
   "execution_count": 75
  },
  {
   "cell_type": "code",
   "metadata": {
    "collapsed": true,
    "nbgrader": {
     "grade": true,
     "grade_id": "test3c-2_evaluate_performance_2nd",
     "locked": true,
     "points": "0.4",
     "solution": false
    },
    "editable": false,
    "deletable": false,
    "ExecuteTime": {
     "end_time": "2025-01-04T18:27:13.124865Z",
     "start_time": "2025-01-04T18:27:13.098734Z"
    }
   },
   "source": [
    "# 3.c.\n",
    "# ------------>>>>>>>> RUN THIS CODE CELL <<<<<<<<------------\n",
    "# --------  (run only)\n",
    "# === CODE TYPE: GRADED TEST \n",
    "\n",
    "print (\"Part 3.c. - Test 2 (name: test3c-2_evaluate_performance_2nd, points: 0.4)\")\n",
    "print (\"\\t--->Testing the implementation of 'evaluate_performance_2nd' ...\")\n",
    "\n",
    "file_name_2nd_train = '.' + os.sep + 'data' + os.sep + 'imdb_for_2nd_model_train.csv'\n",
    "file_name_2nd_test = '.' + os.sep + 'data' + os.sep + 'imdb_for_2nd_model_test.csv'\n",
    "target_col_2nd_name = 'suitable_for_kids'\n",
    "\n",
    "try:    \n",
    "    X_2nd_train, y_2nd_train = load_dataset(file_name_2nd_train, target_col_2nd_name)\n",
    "    X_2nd_test, y_2nd_test = load_dataset(file_name_2nd_test, target_col_2nd_name)\n",
    "    trained_model_2nd = train_2nd_model(X_2nd_train, y_2nd_train)\n",
    "    pred_2nd_vals = predict_2nd(trained_model_2nd, X_2nd_test)\n",
    "    y_pred_2nd = pd.Series(pred_2nd_vals,index=X_2nd_test.index)\n",
    "    eval_res_2nd = evaluate_performance_2nd(y_2nd_test, y_pred_2nd)\n",
    "except Exception as e:\n",
    "    print ('You probably have a syntax or implementation error,  \\nerror Message:',str(e), '\\nTry fixing your code')\n",
    "    raise\n",
    "# ---------------------------\n",
    "assert np.round(eval_res_2nd+0.001,2)  == 0.69, 'Wrong evaluation result'\n",
    "\n",
    "print (\"Good Job!\\nYou've passed the 2nd test for the 'evaluate_performance_2nd' function implementation :-)\")"
   ],
   "outputs": [
    {
     "name": "stdout",
     "output_type": "stream",
     "text": [
      "Part 3.c. - Test 2 (name: test3c-2_evaluate_performance_2nd, points: 0.4)\n",
      "\t--->Testing the implementation of 'evaluate_performance_2nd' ...\n",
      "Good Job!\n",
      "You've passed the 2nd test for the 'evaluate_performance_2nd' function implementation :-)\n"
     ]
    }
   ],
   "execution_count": 76
  },
  {
   "cell_type": "markdown",
   "metadata": {
    "nbgrader": {
     "grade": false,
     "locked": true,
     "solution": false
    },
    "editable": false,
    "deletable": false
   },
   "source": [
    "## 4. Feature manipulation  \n",
    "In this section you need to perform feature manipulation, in order to<br />\n",
    "improve the performance of the 1st supervised model (IMDB score prediction)<br />\n",
    "\n",
    "### Important note:\n",
    "The improvements should be consistent with your identification of the learning problem in section 2.a.\n",
    "\n",
    "Accordigly we will use the following functions for testing:\n",
    "* train_1st_model - to train the model with your improvements\n",
    "* predict_1st     - to predict the test examples\n",
    "* evaluate_performance_1st -to evaluate the performance of the model after the feature manipulation\n",
    "  improvements.\n",
    "\n",
    "### About the scores and tests in this section:\n",
    "The tests will compare the performance of the models,<br />\n",
    "Using the evaluation metic (implemeted in 'evaluate_performance_1st').<br />\n",
    "\n",
    "`Eval_improved` - evaluation performance of the <u>improved trained model</u> (model with your improvements).<br/>\n",
    "`Eval_basic`    -  evaluation performance of the <u>basic trained model</u>  (model without improvements)<br />\n",
    "<u> The criteria to pass the test will check what is the value of `Eval_improved` - `Eval_basic` </u>\n",
    "* First 2 tests, are basic syntax test and will give you 0.3 points if you pass them.\n",
    "* If  `Eval_improved` - `Eval_basic` > 0, you pass the 1st test     (total 0.7 a point if you pass this test)\n",
    "* If  `Eval_improved` - `Eval_basic` > 0.015, you pass the 2nd test (total 1.1 point if you pass this test too)\n",
    "* If  `Eval_improved` - `Eval_basic` > 0.03, you pass the 3rd test  (total 1.6 points if you pass this test too)\n",
    "* If  `Eval_improved` - `Eval_basic` > 0.04, you pass the 3rd test  (total 2.1 points if you pass this test too)\n",
    "\n",
    "### About the dataset\n",
    "The next Dataset includes a few additional features, which were not included in the original dataset.<br />\n",
    "Note: the <u>new features that were added all contain string values</u>. If you decide to use these features, they <b>must to be transfered to numerical features.</b><br />\n",
    "The following list is an explaination of these new features (all the features contain string values):<br />\n",
    "* 'color' - It indicates whether the movie is in Color or Black & White\n",
    "* 'language' - The main spoken language in the movie, such as English, Dutch, Mandarin and so on.\n",
    "* 'content_rating' - The group category for which the movie is appropriate for, such as 'PG-13', 'PG', 'R' and so on.\n",
    "* 'country' - The country which the film took place in.\n",
    "\n",
    "The following section includes the first few lines of this dataset:"
   ]
  },
  {
   "cell_type": "code",
   "metadata": {
    "collapsed": true,
    "ExecuteTime": {
     "end_time": "2025-01-04T22:43:06.074319Z",
     "start_time": "2025-01-04T22:43:06.056865Z"
    }
   },
   "source": [
    "# 4.\n",
    "# ------------>>>>>>>> RUN THIS CODE CELL <<<<<<<<------------\n",
    "# --------  (run only)\n",
    "# === CODE TYPE: EXPLORATION\n",
    "\n",
    "print (\"The first few lines of this dataset:\")\n",
    "print (\"-----------------------------------\")\n",
    "\n",
    "file_name_train = '.' + os.sep + 'data' + os.sep + 'imdb_for_1st_model_w_cat_train.csv'\n",
    "target_col_name = 'imdb_score'\n",
    "    \n",
    "print ('Note: the dataset is already scaled ...')\n",
    "\n",
    "try:\n",
    "    X_1st_manip_train, y_1st_manip_train = load_dataset(file_name_train, target_col_name)\n",
    "except Exception as e:\n",
    "    print ('You probably have a syntax error, we got the following exception:')\n",
    "    print ('\\tError Message:', str(e))\n",
    "    print ('Try fixing your implementation')\n",
    "    raise \n",
    "\n",
    "X_1st_manip_train.head()"
   ],
   "outputs": [
    {
     "name": "stdout",
     "output_type": "stream",
     "text": [
      "The first few lines of this dataset:\n",
      "-----------------------------------\n",
      "Note: the dataset is already scaled ...\n"
     ]
    },
    {
     "data": {
      "text/plain": [
       "   color  num_critic_for_reviews  duration  director_facebook_likes  \\\n",
       "0  Color                     137        90                       65   \n",
       "1  Color                     225        87                      124   \n",
       "2  Color                      31       300                        6   \n",
       "3  Color                      57       133                      380   \n",
       "4  Color                      73       134                       45   \n",
       "\n",
       "   actor_3_facebook_likes  actor_1_facebook_likes     gross  num_voted_users  \\\n",
       "0                     683                    1000  10042266            23021   \n",
       "1                      77                     865  29136626            97089   \n",
       "2                       6                       7    454255             1666   \n",
       "3                     918                   12000  66528842           112175   \n",
       "4                     429                       9    195888             5603   \n",
       "\n",
       "   cast_total_facebook_likes  facenumber_in_poster  num_user_for_reviews  \\\n",
       "0                       3155                     0                   220   \n",
       "1                       1417                     0                   233   \n",
       "2                         32                     3                    47   \n",
       "3                      26388                     2                   329   \n",
       "4                         11                     0                    45   \n",
       "\n",
       "    language   country content_rating      budget  title_year  \\\n",
       "0    English       USA          PG-13     1000000        2005   \n",
       "1    English       USA          PG-13    60000000        2011   \n",
       "2       Thai  Thailand              R   400000000        2001   \n",
       "3    English       USA              R    30000000        1994   \n",
       "4  Hungarian   Hungary              R  2500000000        2005   \n",
       "\n",
       "   actor_2_facebook_likes  movie_facebook_likes  \n",
       "0                     989                   816  \n",
       "1                     441                 20000  \n",
       "2                       6                   124  \n",
       "3                   11000                 11000  \n",
       "4                       2                   607  "
      ],
      "text/html": [
       "<div>\n",
       "<style scoped>\n",
       "    .dataframe tbody tr th:only-of-type {\n",
       "        vertical-align: middle;\n",
       "    }\n",
       "\n",
       "    .dataframe tbody tr th {\n",
       "        vertical-align: top;\n",
       "    }\n",
       "\n",
       "    .dataframe thead th {\n",
       "        text-align: right;\n",
       "    }\n",
       "</style>\n",
       "<table border=\"1\" class=\"dataframe\">\n",
       "  <thead>\n",
       "    <tr style=\"text-align: right;\">\n",
       "      <th></th>\n",
       "      <th>color</th>\n",
       "      <th>num_critic_for_reviews</th>\n",
       "      <th>duration</th>\n",
       "      <th>director_facebook_likes</th>\n",
       "      <th>actor_3_facebook_likes</th>\n",
       "      <th>actor_1_facebook_likes</th>\n",
       "      <th>gross</th>\n",
       "      <th>num_voted_users</th>\n",
       "      <th>cast_total_facebook_likes</th>\n",
       "      <th>facenumber_in_poster</th>\n",
       "      <th>num_user_for_reviews</th>\n",
       "      <th>language</th>\n",
       "      <th>country</th>\n",
       "      <th>content_rating</th>\n",
       "      <th>budget</th>\n",
       "      <th>title_year</th>\n",
       "      <th>actor_2_facebook_likes</th>\n",
       "      <th>movie_facebook_likes</th>\n",
       "    </tr>\n",
       "  </thead>\n",
       "  <tbody>\n",
       "    <tr>\n",
       "      <th>0</th>\n",
       "      <td>Color</td>\n",
       "      <td>137</td>\n",
       "      <td>90</td>\n",
       "      <td>65</td>\n",
       "      <td>683</td>\n",
       "      <td>1000</td>\n",
       "      <td>10042266</td>\n",
       "      <td>23021</td>\n",
       "      <td>3155</td>\n",
       "      <td>0</td>\n",
       "      <td>220</td>\n",
       "      <td>English</td>\n",
       "      <td>USA</td>\n",
       "      <td>PG-13</td>\n",
       "      <td>1000000</td>\n",
       "      <td>2005</td>\n",
       "      <td>989</td>\n",
       "      <td>816</td>\n",
       "    </tr>\n",
       "    <tr>\n",
       "      <th>1</th>\n",
       "      <td>Color</td>\n",
       "      <td>225</td>\n",
       "      <td>87</td>\n",
       "      <td>124</td>\n",
       "      <td>77</td>\n",
       "      <td>865</td>\n",
       "      <td>29136626</td>\n",
       "      <td>97089</td>\n",
       "      <td>1417</td>\n",
       "      <td>0</td>\n",
       "      <td>233</td>\n",
       "      <td>English</td>\n",
       "      <td>USA</td>\n",
       "      <td>PG-13</td>\n",
       "      <td>60000000</td>\n",
       "      <td>2011</td>\n",
       "      <td>441</td>\n",
       "      <td>20000</td>\n",
       "    </tr>\n",
       "    <tr>\n",
       "      <th>2</th>\n",
       "      <td>Color</td>\n",
       "      <td>31</td>\n",
       "      <td>300</td>\n",
       "      <td>6</td>\n",
       "      <td>6</td>\n",
       "      <td>7</td>\n",
       "      <td>454255</td>\n",
       "      <td>1666</td>\n",
       "      <td>32</td>\n",
       "      <td>3</td>\n",
       "      <td>47</td>\n",
       "      <td>Thai</td>\n",
       "      <td>Thailand</td>\n",
       "      <td>R</td>\n",
       "      <td>400000000</td>\n",
       "      <td>2001</td>\n",
       "      <td>6</td>\n",
       "      <td>124</td>\n",
       "    </tr>\n",
       "    <tr>\n",
       "      <th>3</th>\n",
       "      <td>Color</td>\n",
       "      <td>57</td>\n",
       "      <td>133</td>\n",
       "      <td>380</td>\n",
       "      <td>918</td>\n",
       "      <td>12000</td>\n",
       "      <td>66528842</td>\n",
       "      <td>112175</td>\n",
       "      <td>26388</td>\n",
       "      <td>2</td>\n",
       "      <td>329</td>\n",
       "      <td>English</td>\n",
       "      <td>USA</td>\n",
       "      <td>R</td>\n",
       "      <td>30000000</td>\n",
       "      <td>1994</td>\n",
       "      <td>11000</td>\n",
       "      <td>11000</td>\n",
       "    </tr>\n",
       "    <tr>\n",
       "      <th>4</th>\n",
       "      <td>Color</td>\n",
       "      <td>73</td>\n",
       "      <td>134</td>\n",
       "      <td>45</td>\n",
       "      <td>429</td>\n",
       "      <td>9</td>\n",
       "      <td>195888</td>\n",
       "      <td>5603</td>\n",
       "      <td>11</td>\n",
       "      <td>0</td>\n",
       "      <td>45</td>\n",
       "      <td>Hungarian</td>\n",
       "      <td>Hungary</td>\n",
       "      <td>R</td>\n",
       "      <td>2500000000</td>\n",
       "      <td>2005</td>\n",
       "      <td>2</td>\n",
       "      <td>607</td>\n",
       "    </tr>\n",
       "  </tbody>\n",
       "</table>\n",
       "</div>"
      ]
     },
     "execution_count": 79,
     "metadata": {},
     "output_type": "execute_result"
    }
   ],
   "execution_count": 79
  },
  {
   "cell_type": "markdown",
   "metadata": {
    "nbgrader": {
     "grade": false,
     "locked": true,
     "solution": false
    },
    "editable": false,
    "deletable": false
   },
   "source": [
    "### Imprtant notes\n",
    "<div class=\"alert alert-danger\">\n",
    "&#x2718; <u>do not change the  values of the target</u><br />\n",
    "&#x2718; <u>do not leave features, which contain string values after this process</u>\n",
    "</div>\n",
    "\n",
    "### Perform feature manipulation\n",
    "You could perform one or more of the following manipulations, or any other manipulation you've studied about or you can think of:\n",
    "<div class=\"alert alert-success\">\n",
    "<ul>\n",
    "  <li>Transfer the values of the new features from string to numerical values, For instance:\n",
    "    <ul>\n",
    "      <li>In some 'col1' feature: 'str_val_1' --> 0</li>\n",
    "      <li>'str_val_2' -->1</li>\n",
    "      <li>...</li>\n",
    "    </ul>\n",
    "  </li>\n",
    "  <li>Use the methods you studied to group values and transfer them to categorical numeric values, For instance:\n",
    "    <ul><li>Group numerical values into bins of into binary values.</li></ul>\n",
    "  </li>\n",
    "  <li>Perform mathimatical combination between two features, such as:\n",
    "    <ul>\n",
    "        <li>df['new_feature'] = df['col_name1']-df['col_name2']</li>\n",
    "        <li>df['new_feature'] = df['col_name1']/df['col_name2'] # make sure you don't divide in zero</li>\n",
    "     </ul>\n",
    "  <li>Remove features, which might not be helpful.</li>\n",
    "</ul><br />\n",
    "<u>For instance</u>, we recommend that you try unifying countries and features regarding Facebook likes.\n",
    "</div>"
   ]
  },
  {
   "cell_type": "markdown",
   "metadata": {
    "nbgrader": {
     "grade": false,
     "locked": true,
     "solution": false
    },
    "editable": false,
    "deletable": false
   },
   "source": [
    "### 4. Instructions\n",
    "<u>method name</u>: <b>manipulate_1st_feature_vector</b>\n",
    "<pre>The following is expected:\n",
    "--- Complete the 'manipulate_1st_feature_vector' function to return a dataframe, for which\n",
    "    the evaluation of the 1st learning problem should improve, using feature manipulation.\n",
    "This could include any manipulation of the features, which you've studied, removal of features,\n",
    "   and also creation of new features, which contain some sort of combination\n",
    "   of the original features (such as a division of the value of two other features and so on).\n",
    "Notes:\n",
    "   Features which are not numeric should be removed from the output (otherwise, the training will fail).\n",
    "   The improvements should be consistent with your identification of the learning problem in section 2.a.\n",
    "</pre>\n",
    "<hr>\n",
    "The return statement should look similar to the following statement:<br />\n",
    "<b>return processed_X</b>"
   ]
  },
  {
   "cell_type": "code",
   "execution_count": null,
   "metadata": {
    "collapsed": true
   },
   "outputs": [],
   "source": [
    "# 4.\n",
    "# ------------>>>>>>>> RUN THIS CODE CELL <<<<<<<<------------\n",
    "# --------  (run after implementation)\n",
    "# === CODE TYPE: ASSISTANCE TO ANSWER \n",
    "# ---- Add assistance code here IF NEEDED:\n",
    "###\n",
    "### YOUR CODE HERE\n",
    "###\n"
   ]
  },
  {
   "cell_type": "code",
   "metadata": {
    "collapsed": true,
    "ExecuteTime": {
     "end_time": "2025-01-04T22:43:41.991486Z",
     "start_time": "2025-01-04T22:43:41.987799Z"
    }
   },
   "source": [
    "### 4.\n",
    "# ------------>>>>>>>> RUN THIS CODE CELL <<<<<<<<------------\n",
    "# --------  (run after implementation)\n",
    "# === CODE TYPE: ANSWER \n",
    "\n",
    "def manipulate_1st_feature_vector(X):\n",
    "    x = X.copy()\n",
    "    x['color'] = x['color'].apply(lambda x: 1 if x == 'Color' else 0)\n",
    "    x['language'] = x['language'].apply(lambda x: 1 if x == 'English' else 0)\n",
    "    x['content_rating'] = x['content_rating'].apply(lambda x: 1 if x == 'R' else 0)\n",
    "    x['country'] = x['country'].apply(lambda x: 1 if x == 'USA' else 0)\n",
    "    return x\n"
   ],
   "outputs": [],
   "execution_count": 80
  },
  {
   "cell_type": "code",
   "metadata": {
    "collapsed": true,
    "ExecuteTime": {
     "end_time": "2025-01-04T22:43:43.359701Z",
     "start_time": "2025-01-04T22:43:43.301090Z"
    }
   },
   "source": [
    "# 4.\n",
    "# ------------>>>>>>>> RUN THIS CODE CELL <<<<<<<<------------\n",
    "# --------  (run after implementation)\n",
    "# === CODE TYPE: SELF TESTING\n",
    "# Use the following code to test your implementation:file_basic_train = '.' + os.sep + 'data' + os.sep + 'imdb_for_1st_model_train.csv'\n",
    "\n",
    "file_basic_train = '.' + os.sep + 'data' + os.sep + 'imdb_for_1st_model_train.csv'\n",
    "file_basic_test = '.' + os.sep + 'data' + os.sep + 'imdb_for_1st_model_test.csv'\n",
    "\n",
    "file_name_train = '.' + os.sep + 'data' + os.sep + 'imdb_for_1st_model_w_cat_train.csv'\n",
    "file_name_test = '.' + os.sep + 'data' + os.sep + 'imdb_for_1st_model_w_cat_test.csv'\n",
    "target_col_name = 'imdb_score'\n",
    "\n",
    "X_1st_manip_train, y_1st_manip_train = load_dataset(file_name_train, target_col_name)\n",
    "X_1st_manip_test, y_1st_manip_test = load_dataset(file_name_test, target_col_name)\n",
    "X_1st_manip_train = manipulate_1st_feature_vector(X_1st_manip_train)\n",
    "X_1st_manip_test = manipulate_1st_feature_vector(X_1st_manip_test)\n",
    "\n",
    "X_1st_train, y_1st_train = load_dataset(file_basic_train, target_col_name)\n",
    "X_1st_test, y_1st_test = load_dataset(file_basic_test, target_col_name)\n",
    "\n",
    "trained_model_1st = train_1st_model(X_1st_train, y_1st_train)\n",
    "trained_model_manip_1st = train_1st_model(X_1st_manip_train, y_1st_manip_train)\n",
    "\n",
    "pred_1st_vals = predict_1st(trained_model_1st, X_1st_test)\n",
    "y_pred_1st= pd.Series(pred_1st_vals,index=X_1st_test.index)\n",
    "\n",
    "pred_manip_1st_vals = predict_1st(trained_model_manip_1st, X_1st_manip_test)\n",
    "y_pred_manip_1st = pd.Series(pred_manip_1st_vals,index=X_1st_manip_test.index)\n",
    "\n",
    "eval_res_1st = evaluate_performance_1st(y_1st_test, y_pred_1st)\n",
    "eval_res_manip_1st = evaluate_performance_1st(y_1st_manip_test, y_pred_manip_1st)\n",
    "\n",
    "print('orig:', eval_res_1st, \" ~ improved:\", eval_res_manip_1st)\n",
    "    \n",
    "# --- add additional code to check your code if needed:\n",
    "###\n",
    "### YOUR CODE HERE\n",
    "###\n"
   ],
   "outputs": [
    {
     "name": "stdout",
     "output_type": "stream",
     "text": [
      "orig: 0.33583856885169683  ~ improved: 0.38664711386827866\n"
     ]
    }
   ],
   "execution_count": 81
  },
  {
   "cell_type": "code",
   "metadata": {
    "collapsed": true,
    "ExecuteTime": {
     "end_time": "2025-01-04T22:44:53.871815Z",
     "start_time": "2025-01-04T22:44:53.868668Z"
    }
   },
   "source": [
    "# 4.\n",
    "# ------------>>>>>>>> RUN THIS CODE CELL <<<<<<<<------------\n",
    "# --------  (run after implementation, if used)\n",
    "# === CODE TYPE: SELF TESTING\n",
    "# ---- Add your additional tests here if needed:\n",
    "print(f\"Difference: {eval_res_manip_1st-eval_res_1st}\")\n"
   ],
   "outputs": [
    {
     "name": "stdout",
     "output_type": "stream",
     "text": [
      "Difference: 0.05080854501658183\n"
     ]
    }
   ],
   "execution_count": 90
  },
  {
   "cell_type": "code",
   "metadata": {
    "collapsed": true,
    "nbgrader": {
     "grade": true,
     "grade_id": "test4-1_manipulate_1st_feature_vector",
     "locked": true,
     "points": "0.1",
     "solution": false
    },
    "editable": false,
    "deletable": false,
    "ExecuteTime": {
     "end_time": "2025-01-04T22:43:45.575625Z",
     "start_time": "2025-01-04T22:43:45.553112Z"
    }
   },
   "source": [
    "# 4.\n",
    "# ------------>>>>>>>> RUN THIS CODE CELL <<<<<<<<------------\n",
    "# --------  (run only)\n",
    "# === CODE TYPE: GRADED TEST \n",
    "\n",
    "print (\"Part 4. - Test 1 (name: test4-1_manipulate_1st_feature_vector, points: 0.1) - Sanity\")\n",
    "print (\"\\t--->Testing the implementation of 'manipulate_1st_feature_vector' ...\")\n",
    "\n",
    "file_name_train = '.' + os.sep + 'data' + os.sep + 'imdb_for_1st_model_w_cat_train.csv'\n",
    "file_name_test = '.' + os.sep + 'data' + os.sep + 'imdb_for_1st_model_w_cat_test.csv'\n",
    "target_col_name = 'imdb_score'\n",
    "\n",
    "try:\n",
    "    X_1st_manip_train, y_1st_manip_train = load_dataset(file_name_train, target_col_name)\n",
    "    X_1st_manip_test, y_1st_manip_test = load_dataset(file_name_test, target_col_name)\n",
    "    X_1st_manip_train = manipulate_1st_feature_vector(X_1st_manip_train)\n",
    "    X_1st_manip_test = manipulate_1st_feature_vector(X_1st_manip_test)\n",
    "except Exception as e:\n",
    "    print ('You probably have a syntax or implementation error,  \\nerror Message:',str(e), '\\nTry fixing your code')\n",
    "    raise\n",
    "\n",
    "print (\"Good Job!\\nYou've passed the 1st test for the 'manipulate_1st_feature_vector' function implementation :-)\")"
   ],
   "outputs": [
    {
     "name": "stdout",
     "output_type": "stream",
     "text": [
      "Part 4. - Test 1 (name: test4-1_manipulate_1st_feature_vector, points: 0.1) - Sanity\n",
      "\t--->Testing the implementation of 'manipulate_1st_feature_vector' ...\n",
      "Good Job!\n",
      "You've passed the 1st test for the 'manipulate_1st_feature_vector' function implementation :-)\n"
     ]
    }
   ],
   "execution_count": 83
  },
  {
   "cell_type": "code",
   "metadata": {
    "collapsed": true,
    "nbgrader": {
     "grade": true,
     "grade_id": "test4-2_manipulate_1st_feature_vector",
     "locked": true,
     "points": "0.2",
     "solution": false
    },
    "editable": false,
    "deletable": false,
    "ExecuteTime": {
     "end_time": "2025-01-04T22:43:48.063883Z",
     "start_time": "2025-01-04T22:43:48.018025Z"
    }
   },
   "source": [
    "# 4.\n",
    "# ------------>>>>>>>> RUN THIS CODE CELL <<<<<<<<------------\n",
    "# --------  (run only)\n",
    "# === CODE TYPE: GRADED TEST \n",
    "\n",
    "print (\"Part 4. - Test 2 (name: test4-2_manipulate_1st_feature_vector, points: 0.2)\")\n",
    "print (\"\\t--->Testing the implementation of 'manipulate_1st_feature_vector' ...\")\n",
    "\n",
    "file_basic_train = '.' + os.sep + 'data' + os.sep + 'imdb_for_1st_model_train.csv'\n",
    "file_basic_test = '.' + os.sep + 'data' + os.sep + 'imdb_for_1st_model_test.csv'\n",
    "file_name_train = '.' + os.sep + 'data' + os.sep + 'imdb_for_1st_model_w_cat_train.csv'\n",
    "file_name_test = '.' + os.sep + 'data' + os.sep + 'imdb_for_1st_model_w_cat_test.csv'\n",
    "target_col_name = 'imdb_score'\n",
    "\n",
    "try:\n",
    "    X_1st_train, y_1st_train = load_dataset(file_basic_train, target_col_name)\n",
    "    X_1st_test, y_1st_test = load_dataset(file_basic_test, target_col_name)\n",
    "    X_1st_manip_train, y_1st_manip_train = load_dataset(file_name_train, target_col_name)\n",
    "    X_1st_manip_test, y_1st_manip_test = load_dataset(file_name_test, target_col_name)\n",
    "    X_1st_manip_train = manipulate_1st_feature_vector(X_1st_manip_train)\n",
    "    X_1st_manip_test = manipulate_1st_feature_vector(X_1st_manip_test)\n",
    "    trained_model_1st = train_1st_model(X_1st_train, y_1st_train)\n",
    "    trained_model_manip_1st = train_1st_model(X_1st_manip_train, y_1st_manip_train)\n",
    "    pred_1st_vals = predict_1st(trained_model_1st, X_1st_test)\n",
    "    y_pred_1st= pd.Series(pred_1st_vals,index=X_1st_test.index)\n",
    "    pred_manip_1st_vals = predict_1st(trained_model_manip_1st, X_1st_manip_test)\n",
    "    y_pred_manip_1st = pd.Series(pred_manip_1st_vals,index=X_1st_manip_test.index)\n",
    "    eval_res_1st = evaluate_performance_1st(y_1st_test, y_pred_1st)\n",
    "    eval_res_manip_1st = evaluate_performance_1st(y_1st_manip_test, y_pred_manip_1st)\n",
    "except Exception as e:\n",
    "    print ('You probably have a syntax or implementation error,  \\nerror Message:',str(e), '\\nTry fixing your code')\n",
    "    raise\n",
    "\n",
    "assert X_1st_train.shape == (2956, 14), 'Wrong shape for feature vector dataframe'\n",
    "assert X_1st_test.shape == (739, 14), 'Wrong shape for feature vector dataframe'\n",
    "np.testing.assert_array_equal(X_1st_train.index, y_1st_train.index, 'X and y should have the same index')\n",
    "np.testing.assert_array_equal(X_1st_manip_train.index, X_1st_train.index, \"index shouldn't change after feature manipulation\")\n",
    "np.testing.assert_array_equal(X_1st_manip_test.index, X_1st_test.index, \"index shouldn't change after feature manipulation\")\n",
    "np.testing.assert_array_equal(X_1st_test.index, y_1st_test.index, 'X and y should have the same index')\n",
    "np.testing.assert_array_equal(X_1st_manip_test.index, y_1st_manip_test.index, 'X and y should have the same index')\n",
    "np.testing.assert_array_equal(y_1st_manip_test.index, y_pred_manip_1st.index, 'pred and test should have the same index')\n",
    "\n",
    "print (\"Good Job!\\nYou've passed the 2nd test for the 'manipulate_1st_feature_vector' function implementation :-)\")"
   ],
   "outputs": [
    {
     "name": "stdout",
     "output_type": "stream",
     "text": [
      "Part 4. - Test 2 (name: test4-2_manipulate_1st_feature_vector, points: 0.2)\n",
      "\t--->Testing the implementation of 'manipulate_1st_feature_vector' ...\n",
      "Good Job!\n",
      "You've passed the 2nd test for the 'manipulate_1st_feature_vector' function implementation :-)\n"
     ]
    }
   ],
   "execution_count": 84
  },
  {
   "cell_type": "code",
   "metadata": {
    "collapsed": true,
    "nbgrader": {
     "grade": true,
     "grade_id": "test4-3_manipulate_1st_feature_vector",
     "locked": true,
     "points": "0.4",
     "solution": false
    },
    "editable": false,
    "deletable": false,
    "ExecuteTime": {
     "end_time": "2025-01-04T22:43:50.019027Z",
     "start_time": "2025-01-04T22:43:49.977543Z"
    }
   },
   "source": [
    "# 4.\n",
    "# ------------>>>>>>>> RUN THIS CODE CELL <<<<<<<<------------\n",
    "# --------  (run only)\n",
    "# === CODE TYPE: GRADED TEST \n",
    "\n",
    "print (\"Part 4. - Test 3 (name: test4-3_manipulate_1st_feature_vector, points: 0.4)\")\n",
    "print (\"\\t--->Testing the implementation of 'manipulate_1st_feature_vector' ...\")\n",
    "print (\"\\n\\t====> model improvement test - in order to get the points for this test,\")\n",
    "print (\"\\t                               you need to improve the performance of the basic model,\")\n",
    "print (\"\\t                               using your implementation in the \")\n",
    "print (\"\\t                               'manipulate_1st_feature_vector' function\")\n",
    "\n",
    "file_basic_train = '.' + os.sep + 'data' + os.sep + 'imdb_for_1st_model_train.csv'\n",
    "file_basic_test = '.' + os.sep + 'data' + os.sep + 'imdb_for_1st_model_test.csv'\n",
    "file_name_train = '.' + os.sep + 'data' + os.sep + 'imdb_for_1st_model_w_cat_train.csv'\n",
    "file_name_test = '.' + os.sep + 'data' + os.sep + 'imdb_for_1st_model_w_cat_test.csv'\n",
    "target_col_name = 'imdb_score'\n",
    "\n",
    "try:\n",
    "    X_1st_train, y_1st_train = load_dataset(file_basic_train, target_col_name)\n",
    "    X_1st_test, y_1st_test = load_dataset(file_basic_test, target_col_name)\n",
    "    X_1st_manip_train, y_1st_manip_train = load_dataset(file_name_train, target_col_name)\n",
    "    X_1st_manip_test, y_1st_manip_test = load_dataset(file_name_test, target_col_name)\n",
    "    X_1st_manip_train = manipulate_1st_feature_vector(X_1st_manip_train)\n",
    "    X_1st_manip_test = manipulate_1st_feature_vector(X_1st_manip_test)\n",
    "    trained_model_1st = train_1st_model(X_1st_train, y_1st_train)\n",
    "    trained_model_manip_1st = train_1st_model(X_1st_manip_train, y_1st_manip_train)\n",
    "    pred_1st_vals = predict_1st(trained_model_1st, X_1st_test)\n",
    "    y_pred_1st= pd.Series(pred_1st_vals,index=X_1st_test.index)\n",
    "    pred_manip_1st_vals = predict_1st(trained_model_manip_1st, X_1st_manip_test)\n",
    "    y_pred_manip_1st = pd.Series(pred_manip_1st_vals,index=X_1st_manip_test.index)\n",
    "    eval_res_1st = evaluate_performance_1st(y_1st_test, y_pred_1st)\n",
    "    eval_res_manip_1st = evaluate_performance_1st(y_1st_manip_test, y_pred_manip_1st)\n",
    "except Exception as e:\n",
    "    print ('You probably have a syntax or implementation error,  \\nerror Message:',str(e), '\\nTry fixing your code')\n",
    "    raise\n",
    "    \n",
    "assert np.round(eval_res_manip_1st-eval_res_1st,3) > 0, 'improved model must have a better performance to pass this test ...'\n",
    "\n",
    "print (\"Good Job!\\nYou've passed the 3rd test for the 'manipulate_1st_feature_vector' function implementation :-)\")"
   ],
   "outputs": [
    {
     "name": "stdout",
     "output_type": "stream",
     "text": [
      "Part 4. - Test 3 (name: test4-3_manipulate_1st_feature_vector, points: 0.4)\n",
      "\t--->Testing the implementation of 'manipulate_1st_feature_vector' ...\n",
      "\n",
      "\t====> model improvement test - in order to get the points for this test,\n",
      "\t                               you need to improve the performance of the basic model,\n",
      "\t                               using your implementation in the \n",
      "\t                               'manipulate_1st_feature_vector' function\n",
      "Good Job!\n",
      "You've passed the 3rd test for the 'manipulate_1st_feature_vector' function implementation :-)\n"
     ]
    }
   ],
   "execution_count": 85
  },
  {
   "cell_type": "code",
   "metadata": {
    "collapsed": true,
    "nbgrader": {
     "grade": true,
     "grade_id": "test4-4_manipulate_1st_feature_vector",
     "locked": true,
     "points": "0.5",
     "solution": false
    },
    "editable": false,
    "deletable": false,
    "ExecuteTime": {
     "end_time": "2025-01-04T22:43:51.670737Z",
     "start_time": "2025-01-04T22:43:51.627768Z"
    }
   },
   "source": [
    "# 4.\n",
    "# ------------>>>>>>>> RUN THIS CODE CELL <<<<<<<<------------\n",
    "# --------  (run only)\n",
    "# === CODE TYPE: GRADED TEST \n",
    "\n",
    "print (\"Part 4. - Test 4 (name: test4-4_manipulate_1st_feature_vector, points: 0.5)\")\n",
    "print (\"\\t--->Testing the implementation of 'manipulate_1st_feature_vector' ...\")\n",
    "print (\"\\n\\t====> model improvement test - in order to get the points for this test,\")\n",
    "print (\"\\t                               you need to improve the performance of the basic model\")\n",
    "print (\"\\t                               in MORE THAN 0.015, using your implementation in the \")\n",
    "print (\"\\t                               'manipulate_1st_feature_vector' function\")\n",
    "\n",
    "file_basic_train = '.' + os.sep + 'data' + os.sep + 'imdb_for_1st_model_train.csv'\n",
    "file_basic_test = '.' + os.sep + 'data' + os.sep + 'imdb_for_1st_model_test.csv'\n",
    "file_name_train = '.' + os.sep + 'data' + os.sep + 'imdb_for_1st_model_w_cat_train.csv'\n",
    "file_name_test = '.' + os.sep + 'data' + os.sep + 'imdb_for_1st_model_w_cat_test.csv'\n",
    "target_col_name = 'imdb_score'\n",
    "\n",
    "try:    \n",
    "    X_1st_train, y_1st_train = load_dataset(file_basic_train, target_col_name)\n",
    "    X_1st_test, y_1st_test = load_dataset(file_basic_test, target_col_name)\n",
    "    X_1st_manip_train, y_1st_manip_train = load_dataset(file_name_train, target_col_name)\n",
    "    X_1st_manip_test, y_1st_manip_test = load_dataset(file_name_test, target_col_name)\n",
    "    X_1st_manip_train = manipulate_1st_feature_vector(X_1st_manip_train)\n",
    "    X_1st_manip_test = manipulate_1st_feature_vector(X_1st_manip_test)\n",
    "    trained_model_1st = train_1st_model(X_1st_train, y_1st_train)\n",
    "    trained_model_manip_1st = train_1st_model(X_1st_manip_train, y_1st_manip_train)\n",
    "    pred_1st_vals = predict_1st(trained_model_1st, X_1st_test)\n",
    "    y_pred_1st= pd.Series(pred_1st_vals,index=X_1st_test.index)\n",
    "    pred_manip_1st_vals = predict_1st(trained_model_manip_1st, X_1st_manip_test)\n",
    "    y_pred_manip_1st = pd.Series(pred_manip_1st_vals,index=X_1st_manip_test.index)\n",
    "    eval_res_1st = evaluate_performance_1st(y_1st_test, y_pred_1st)\n",
    "    eval_res_manip_1st = evaluate_performance_1st(y_1st_manip_test, y_pred_manip_1st)\n",
    "except Exception as e:\n",
    "    print ('You probably have a syntax or implementation error,  \\nerror Message:',str(e), '\\nTry fixing your code')\n",
    "    raise\n",
    "\n",
    "assert np.round(eval_res_manip_1st-eval_res_1st,4) > 0.015, 'improvement was less than  0.015, not enough for this test'\n",
    "\n",
    "print (\"Good Job!\\nYou've passed the 4th test for the 'manipulate_1st_feature_vector' function implementation :-)\")"
   ],
   "outputs": [
    {
     "name": "stdout",
     "output_type": "stream",
     "text": [
      "Part 4. - Test 4 (name: test4-4_manipulate_1st_feature_vector, points: 0.5)\n",
      "\t--->Testing the implementation of 'manipulate_1st_feature_vector' ...\n",
      "\n",
      "\t====> model improvement test - in order to get the points for this test,\n",
      "\t                               you need to improve the performance of the basic model\n",
      "\t                               in MORE THAN 0.015, using your implementation in the \n",
      "\t                               'manipulate_1st_feature_vector' function\n",
      "Good Job!\n",
      "You've passed the 4th test for the 'manipulate_1st_feature_vector' function implementation :-)\n"
     ]
    }
   ],
   "execution_count": 86
  },
  {
   "cell_type": "code",
   "metadata": {
    "collapsed": true,
    "nbgrader": {
     "grade": true,
     "grade_id": "test4-5_manipulate_1st_feature_vector",
     "locked": true,
     "points": "0.5",
     "solution": false
    },
    "editable": false,
    "deletable": false,
    "ExecuteTime": {
     "end_time": "2025-01-04T22:43:54.283965Z",
     "start_time": "2025-01-04T22:43:54.250575Z"
    }
   },
   "source": [
    "# 4.\n",
    "# ------------>>>>>>>> RUN THIS CODE CELL <<<<<<<<------------\n",
    "# --------  (run only)\n",
    "# === CODE TYPE: GRADED TEST \n",
    "\n",
    "print (\"Part 4. - Test 5 (name: test4-5_manipulate_1st_feature_vector, points: 0.5)\")\n",
    "print (\"\\t--->Testing the implementation of 'manipulate_1st_feature_vector' ...\")\n",
    "print (\"\\n\\t====> model improvement test - in order to get the points for this test,\")\n",
    "print (\"\\t                               you need to improve the performance of the basic model\")\n",
    "print (\"\\t                               in MORE THAN 0.03, using your implementation in the \")\n",
    "print (\"\\t                               'manipulate_1st_feature_vector' function\")\n",
    "\n",
    "file_basic_train = '.' + os.sep + 'data' + os.sep + 'imdb_for_1st_model_train.csv'\n",
    "file_basic_test = '.' + os.sep + 'data' + os.sep + 'imdb_for_1st_model_test.csv'\n",
    "file_name_train = '.' + os.sep + 'data' + os.sep + 'imdb_for_1st_model_w_cat_train.csv'\n",
    "file_name_test = '.' + os.sep + 'data' + os.sep + 'imdb_for_1st_model_w_cat_test.csv'\n",
    "target_col_name = 'imdb_score'\n",
    "\n",
    "try:    \n",
    "    X_1st_train, y_1st_train = load_dataset(file_basic_train, target_col_name)\n",
    "    X_1st_test, y_1st_test = load_dataset(file_basic_test, target_col_name)\n",
    "    X_1st_manip_train, y_1st_manip_train = load_dataset(file_name_train, target_col_name)\n",
    "    X_1st_manip_test, y_1st_manip_test = load_dataset(file_name_test, target_col_name)\n",
    "    X_1st_manip_train = manipulate_1st_feature_vector(X_1st_manip_train)\n",
    "    X_1st_manip_test = manipulate_1st_feature_vector(X_1st_manip_test)\n",
    "    trained_model_1st = train_1st_model(X_1st_train, y_1st_train)\n",
    "    trained_model_manip_1st = train_1st_model(X_1st_manip_train, y_1st_manip_train)\n",
    "    pred_1st_vals = predict_1st(trained_model_1st, X_1st_test)\n",
    "    y_pred_1st= pd.Series(pred_1st_vals,index=X_1st_test.index)\n",
    "    pred_manip_1st_vals = predict_1st(trained_model_manip_1st, X_1st_manip_test)\n",
    "    y_pred_manip_1st = pd.Series(pred_manip_1st_vals,index=X_1st_manip_test.index)\n",
    "    eval_res_1st = evaluate_performance_1st(y_1st_test, y_pred_1st)\n",
    "    eval_res_manip_1st = evaluate_performance_1st(y_1st_manip_test, y_pred_manip_1st)\n",
    "except Exception as e:\n",
    "    print ('You probably have a syntax or implementation error,  \\nerror Message:',str(e), '\\nTry fixing your code')\n",
    "    raise\n",
    "\n",
    "assert np.round(eval_res_manip_1st-eval_res_1st,3) > 0.03, 'improvement was less than 0.03, not enough for this test'\n",
    "\n",
    "print (\"Good Job!\\nYou've passed the 5th test for the 'manipulate_1st_feature_vector' function implementation :-)\")"
   ],
   "outputs": [
    {
     "name": "stdout",
     "output_type": "stream",
     "text": [
      "Part 4. - Test 5 (name: test4-5_manipulate_1st_feature_vector, points: 0.5)\n",
      "\t--->Testing the implementation of 'manipulate_1st_feature_vector' ...\n",
      "\n",
      "\t====> model improvement test - in order to get the points for this test,\n",
      "\t                               you need to improve the performance of the basic model\n",
      "\t                               in MORE THAN 0.03, using your implementation in the \n",
      "\t                               'manipulate_1st_feature_vector' function\n",
      "Good Job!\n",
      "You've passed the 5th test for the 'manipulate_1st_feature_vector' function implementation :-)\n"
     ]
    }
   ],
   "execution_count": 87
  },
  {
   "cell_type": "code",
   "metadata": {
    "collapsed": true,
    "nbgrader": {
     "grade": true,
     "grade_id": "test4-6_manipulate_1st_feature_vector",
     "locked": true,
     "points": "0.5",
     "solution": false
    },
    "editable": false,
    "deletable": false,
    "ExecuteTime": {
     "end_time": "2025-01-04T22:43:56.259137Z",
     "start_time": "2025-01-04T22:43:56.223342Z"
    }
   },
   "source": [
    "# 4.\n",
    "# ------------>>>>>>>> RUN THIS CODE CELL <<<<<<<<------------\n",
    "# --------  (run only)\n",
    "# === CODE TYPE: GRADED TEST \n",
    "\n",
    "print (\"Part 4. - Test 6 (name: test4-6_manipulate_1st_feature_vector, points: 0.5)\")\n",
    "print (\"\\t--->Testing the implementation of 'manipulate_1st_feature_vector' ...\")\n",
    "print (\"\\n\\t====> model improvement test - in order to get the points for this test,\")\n",
    "print (\"\\t                               you need to improve the performance of the basic model\")\n",
    "print (\"\\t                               in MORE THAN 0.04, using your implementation in the \")\n",
    "print (\"\\t                               'manipulate_1st_feature_vector' function\")\n",
    "\n",
    "file_basic_train = '.' + os.sep + 'data' + os.sep + 'imdb_for_1st_model_train.csv'\n",
    "file_basic_test = '.' + os.sep + 'data' + os.sep + 'imdb_for_1st_model_test.csv'\n",
    "file_name_train = '.' + os.sep + 'data' + os.sep + 'imdb_for_1st_model_w_cat_train.csv'\n",
    "file_name_test = '.' + os.sep + 'data' + os.sep + 'imdb_for_1st_model_w_cat_test.csv'\n",
    "target_col_name = 'imdb_score'\n",
    "\n",
    "try:    \n",
    "    X_1st_train, y_1st_train = load_dataset(file_basic_train, target_col_name)\n",
    "    X_1st_test, y_1st_test = load_dataset(file_basic_test, target_col_name)\n",
    "    X_1st_manip_train, y_1st_manip_train = load_dataset(file_name_train, target_col_name)\n",
    "    X_1st_manip_test, y_1st_manip_test = load_dataset(file_name_test, target_col_name)\n",
    "    X_1st_manip_train = manipulate_1st_feature_vector(X_1st_manip_train)\n",
    "    X_1st_manip_test = manipulate_1st_feature_vector(X_1st_manip_test)\n",
    "    trained_model_1st = train_1st_model(X_1st_train, y_1st_train)\n",
    "    trained_model_manip_1st = train_1st_model(X_1st_manip_train, y_1st_manip_train)\n",
    "    pred_1st_vals = predict_1st(trained_model_1st, X_1st_test)\n",
    "    y_pred_1st= pd.Series(pred_1st_vals,index=X_1st_test.index)\n",
    "    pred_manip_1st_vals = predict_1st(trained_model_manip_1st, X_1st_manip_test)\n",
    "    y_pred_manip_1st = pd.Series(pred_manip_1st_vals,index=X_1st_manip_test.index)\n",
    "    eval_res_1st = evaluate_performance_1st(y_1st_test, y_pred_1st)\n",
    "    eval_res_manip_1st = evaluate_performance_1st(y_1st_manip_test, y_pred_manip_1st)\n",
    "except Exception as e:\n",
    "    print ('You probably have a syntax or implementation error,  \\nerror Message:',str(e), '\\nTry fixing your code')\n",
    "    raise\n",
    "\n",
    "assert np.round(eval_res_manip_1st-eval_res_1st,3) > 0.04, 'improvement not enough for this test'\n",
    "\n",
    "print (\"Good Job!\\nYou've passed the 6th test for the 'manipulate_1st_feature_vector' function implementation :-)\")"
   ],
   "outputs": [
    {
     "name": "stdout",
     "output_type": "stream",
     "text": [
      "Part 4. - Test 6 (name: test4-6_manipulate_1st_feature_vector, points: 0.5)\n",
      "\t--->Testing the implementation of 'manipulate_1st_feature_vector' ...\n",
      "\n",
      "\t====> model improvement test - in order to get the points for this test,\n",
      "\t                               you need to improve the performance of the basic model\n",
      "\t                               in MORE THAN 0.04, using your implementation in the \n",
      "\t                               'manipulate_1st_feature_vector' function\n",
      "Good Job!\n",
      "You've passed the 6th test for the 'manipulate_1st_feature_vector' function implementation :-)\n"
     ]
    }
   ],
   "execution_count": 88
  },
  {
   "cell_type": "code",
   "execution_count": null,
   "metadata": {
    "collapsed": true
   },
   "outputs": [],
   "source": []
  }
 ],
 "metadata": {
  "kernelspec": {
   "display_name": "Python 3 (ipykernel)",
   "language": "python",
   "name": "python3"
  },
  "language_info": {
   "codemirror_mode": {
    "name": "ipython",
    "version": 3
   },
   "file_extension": ".py",
   "mimetype": "text/x-python",
   "name": "python",
   "nbconvert_exporter": "python",
   "pygments_lexer": "ipython3",
   "version": "3.8.7"
  }
 },
 "nbformat": 4,
 "nbformat_minor": 2
}
