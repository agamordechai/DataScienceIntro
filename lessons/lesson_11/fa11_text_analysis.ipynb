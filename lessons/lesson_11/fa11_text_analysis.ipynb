{
 "cells": [
  {
   "cell_type": "markdown",
   "metadata": {
    "nbgrader": {
     "grade": false,
     "locked": true,
     "solution": false
    },
    "editable": false,
    "deletable": false
   },
   "source": [
    "<a id=\"home\"></a>\n",
    "![Final Lesson Exercise](images/Banner_FEX.png)"
   ]
  },
  {
   "cell_type": "markdown",
   "metadata": {
    "nbgrader": {
     "grade": false,
     "locked": true,
     "solution": false
    },
    "editable": false,
    "deletable": false
   },
   "source": [
    "# Lesson #11: Text Analysis"
   ]
  },
  {
   "cell_type": "markdown",
   "metadata": {
    "nbgrader": {
     "grade": false,
     "locked": true,
     "solution": false
    },
    "editable": false,
    "deletable": false
   },
   "source": [
    "## About this assignment\n",
    "In this assignment, you will explore quotes from the `Simpsons` cartoon.<br/>\n",
    "\n",
    "This time you will practice a classification of a text analysis problem, including:\n",
    "* Finding information using regular expressions and simple text manipulations.\n",
    "* Vectorization and full classification pipeline for the classification problem.\n",
    "\n",
    "The end goal: classify `who said` a text quotation. "
   ]
  },
  {
   "cell_type": "code",
   "metadata": {
    "collapsed": true,
    "nbgrader": {
     "grade": false,
     "locked": true,
     "solution": false
    },
    "editable": false,
    "deletable": false,
    "ExecuteTime": {
     "end_time": "2025-01-24T13:17:46.084478Z",
     "start_time": "2025-01-24T13:17:35.470003Z"
    }
   },
   "source": [
    "# --------------------------- RUN THIS CODE CELL -------------------------------------\n",
    "\n",
    "# --------\n",
    "# imports and setup \n",
    "# Use the following libraries for the assignment, when needed:\n",
    "# --------\n",
    "import re\n",
    "import os\n",
    "\n",
    "import pandas as pd\n",
    "import numpy as np\n",
    "\n",
    "import sklearn \n",
    "from sklearn import preprocessing, metrics, naive_bayes, pipeline, feature_extraction\n",
    "from sklearn.feature_extraction import text\n",
    "from sklearn.preprocessing import Normalizer\n",
    "from sklearn.feature_extraction.text import CountVectorizer\n",
    "from sklearn.metrics import accuracy_score\n",
    "from sklearn.naive_bayes import MultinomialNB \n",
    "from sklearn.pipeline import Pipeline\n",
    "\n",
    "\n",
    "from sklearn import neighbors, tree, ensemble, naive_bayes, svm\n",
    "# *** KNN\n",
    "from sklearn.neighbors import KNeighborsClassifier\n",
    "from sklearn import tree\n",
    "from sklearn.tree import DecisionTreeClassifier\n",
    "from sklearn.ensemble import RandomForestClassifier\n",
    "from sklearn.naive_bayes import GaussianNB\n",
    "from sklearn.svm import SVC\n",
    "from sklearn import metrics\n",
    "from sklearn.metrics import accuracy_score, precision_score, recall_score, f1_score, confusion_matrix"
   ],
   "outputs": [],
   "execution_count": 1
  },
  {
   "cell_type": "markdown",
   "metadata": {
    "nbgrader": {
     "grade": false,
     "locked": true,
     "solution": false
    },
    "editable": false,
    "deletable": false
   },
   "source": [
    "<a id=\"dataset_desc\"></a>\n",
    "[Go back to the beginning of the assignment](#home)\n",
    "## The raw dataset - the Simpsons\n",
    "In this assignment, you will explore information regarding the \"Simpsons\" cartoon.<br/>\n",
    "The raw dataset, includes sentences quotes by different figures from the Simpson cartoons.\n",
    "\n",
    "Such as:<br>\n",
    "`Homer Simpson` said: \"**Okay, here we go...**\""
   ]
  },
  {
   "cell_type": "markdown",
   "metadata": {
    "nbgrader": {
     "grade": false,
     "locked": true,
     "solution": false
    },
    "editable": false,
    "deletable": false
   },
   "source": [
    "## 1. Read the raw data and extract information\n",
    "In this section you will perform the following actions:<br />\n",
    "* Extract person-name and quoted text, using regular expressions and simple text manipulations.\n",
    "* Read a text file and extract information into a dataframe."
   ]
  },
  {
   "cell_type": "markdown",
   "metadata": {
    "nbgrader": {
     "grade": false,
     "locked": true,
     "solution": false
    },
    "editable": false,
    "deletable": false
   },
   "source": [
    "### 1.a. Find \"what was said\" and \"who said it\" - part 1\n",
    "\n",
    "In this section you will deal with  quotations from \"Simpsons\" episodes.<br/>\n",
    "\n",
    "For a given text such as:<br />\n",
    "    `Homer Simpson` said: \"**Okay, here we go...**\"<br />\n",
    "You need to extract the following:<br />\n",
    "* Extract the person who is mentioned as saying the quoted text, in the above example, you should extract:<br />\n",
    "  `Homer Simpson`\n",
    "* Extract the quoted text, <u>after removing the double quotation marks(\")</u>. In the above example, you should extract:<br />\n",
    "  **Okay, here we go...**\n",
    "* Note that you could expect the double quotation mark (\") will appear only before and after the quoted<br />\n",
    "  text and no where else.\n",
    "\n",
    "You could expect the input text to look similar to the following pattern:<br />\n",
    "`Person name` said: \"**quoted text**\"<br />\n",
    "\n",
    "_Variations of the above pattern_:<br />\n",
    "* The colon punctuation mark (:) is optional, and and might not appear in the input sentence.\n",
    "* Instead of the word _said_ you could also expect the words: _answered_, _responded_, _replied_\n",
    "\n",
    "An _additional pattern_:<br /> \n",
    "* `Person name`: \"**quoted text**\"\n",
    "   * For Example:<br />\n",
    "   `Marge Simpson`: \"**Here, take this**.\" \n",
    "   \n",
    "**Important Note**: if the pattern is not found, return None values for both the <br />\n",
    "  extracted person name and the extracted text. \n",
    "\n",
    "----------\n",
    "\n",
    "<u>**Text files** with the different quotations</u> (one in each line), could be found in the [`data`](data) folder (click to open):<br />\n",
    "* A [`sample of 10 quotations`](data/simpsons_dataset_8_speakers_ptrn_10_lns.txt)\n",
    "* A [`sample of 100 quotations`](data/simpsons_dataset_8_speakers_ptrn_100_lns.txt)\n",
    "* Other quotation text file could be found in the [`data`](data) folder."
   ]
  },
  {
   "cell_type": "code",
   "execution_count": null,
   "metadata": {
    "collapsed": true
   },
   "outputs": [],
   "source": [
    "# --------------------------- RUN THIS CODE CELL (AFTER YOUR IMPLEMENTATION) -------------------------------------\n",
    "# (OPTIONAL IMPLEMENTATION CELL) add some assitant code or use this\n",
    "# cell code for you exploration, if needed:\n",
    "###\n",
    "### YOUR CODE HERE\n",
    "###\n"
   ]
  },
  {
   "cell_type": "code",
   "metadata": {
    "collapsed": true,
    "ExecuteTime": {
     "end_time": "2025-01-24T14:44:18.661772Z",
     "start_time": "2025-01-24T14:44:18.655996Z"
    }
   },
   "source": [
    "# --------------------------- RUN THIS CODE CELL (AFTER YOUR IMPLEMENTATION) -------------------------------------\n",
    "'''\n",
    "What do you need to do?\n",
    "\n",
    "Complete the 'person_quotation_pattern_extraction' function to extract \n",
    "     the person quoted and the quoted text, from a given input 'raw_text' as explained above.\n",
    "\n",
    "The returned values:\n",
    "- extracted_person_name - The extracted person name, as appearing in the patterns explained above\n",
    "- extracted_quotation   - The extracted quoted text (withot the surrounding quotation marks).\n",
    "\n",
    "* Important Note: if the pattern is not found, return None values for both the <br />\n",
    "                  extracted person name and the extracted text. \n",
    "------\n",
    "The return statement should look similar to the following statement:\n",
    "return extracted_person_name, extracted_quotation \n",
    "'''\n",
    "def person_quotation_pattern_extraction(raw_text):\n",
    "    pattern = r'^(?P<name>[\\w\\s.]+?)(?:\\s(?:said|answered|responded|replied))?:?\\s\"(?P<quote>.+)\"$'\n",
    "\n",
    "    match = re.match(pattern, raw_text)\n",
    "    if match:\n",
    "        return match.group('name'), match.group('quote')\n",
    "\n",
    "    return None, None\n"
   ],
   "outputs": [],
   "execution_count": 80
  },
  {
   "cell_type": "code",
   "metadata": {
    "collapsed": true,
    "ExecuteTime": {
     "end_time": "2025-01-24T14:44:19.255539Z",
     "start_time": "2025-01-24T14:44:19.247880Z"
    }
   },
   "source": [
    "# --------------------------- (AFTER YOUR IMPLEMENTATION if used) RUN THIS CODE CELL  ------------------------------------ \n",
    "# This section is FOR YOUR ASSISTANCE ONLY It will not be checked.\n",
    "# Add assistance tests here IF NEEDED:\n",
    "\n",
    "\n",
    "in_text = 'Marge Simpson responded: \"Homer, please.\"'\n",
    "person_name, extracted_text = person_quotation_pattern_extraction(in_text)\n",
    "print(f\"Person: {person_name}, Quote: {extracted_text}\")\n",
    "\n",
    "in_text = '''C. Montgomery Burns: \"Trust me, he'll say it, or I'll bust him down to Thursday night vespers.\"'''\n",
    "person_name, extracted_text = person_quotation_pattern_extraction(in_text)\n",
    "print(f\"Person: {person_name}, Quote: {extracted_text}\")"
   ],
   "outputs": [
    {
     "name": "stdout",
     "output_type": "stream",
     "text": [
      "Person: Marge Simpson, Quote: Homer, please.\n",
      "Person: C. Montgomery Burns, Quote: Trust me, he'll say it, or I'll bust him down to Thursday night vespers.\n"
     ]
    }
   ],
   "execution_count": 81
  },
  {
   "cell_type": "code",
   "metadata": {
    "collapsed": true,
    "nbgrader": {
     "grade": true,
     "grade_id": "test1-person_quotation_pattern_extraction",
     "locked": true,
     "points": "0.2",
     "solution": false
    },
    "editable": false,
    "deletable": false,
    "ExecuteTime": {
     "end_time": "2025-01-24T14:44:24.975030Z",
     "start_time": "2025-01-24T14:44:24.968030Z"
    }
   },
   "source": [
    "# --------------------------- RUN THIS TEST CODE CELL -------------------------------------\n",
    "'''\n",
    "1.a. --- Test your implementation:\n",
    "'''\n",
    "print (\"Test 1 - Testing the implementation of the 'person_quotation_pattern_extraction' method ...\\n\")\n",
    "\n",
    "in_text = 'Marge Simpson responded: \"Homer, please.\"'\n",
    "\n",
    "try:\n",
    "    person_name, extracted_text = person_quotation_pattern_extraction(in_text)\n",
    "except Exception as e:\n",
    "    print ('You probably have a syntax error, we got the following exception:')\n",
    "    print ('\\tError Message:', str(e))\n",
    "    print ('Try fixing your implementation')\n",
    "    raise \n",
    "\n",
    "assert person_name is not None and extracted_text is not None, \"Missing 'person_name' or 'extracted_text' returned values\"\n",
    "    \n",
    "print (\"Good Job!\\nYou've passed the 1st test for the 'person_quotation_pattern_extraction' function :-)\")"
   ],
   "outputs": [
    {
     "name": "stdout",
     "output_type": "stream",
     "text": [
      "Test 1 - Testing the implementation of the 'person_quotation_pattern_extraction' method ...\n",
      "\n",
      "Good Job!\n",
      "You've passed the 1st test for the 'person_quotation_pattern_extraction' function :-)\n"
     ]
    }
   ],
   "execution_count": 82
  },
  {
   "cell_type": "code",
   "metadata": {
    "collapsed": true,
    "nbgrader": {
     "grade": true,
     "grade_id": "test2-person_quotation_pattern_extraction",
     "locked": true,
     "points": "0.4",
     "solution": false
    },
    "editable": false,
    "deletable": false,
    "ExecuteTime": {
     "end_time": "2025-01-24T14:44:25.839220Z",
     "start_time": "2025-01-24T14:44:25.831483Z"
    }
   },
   "source": [
    "# --------------------------- RUN THIS TEST CODE CELL -------------------------------------\n",
    "'''\n",
    "1.a. --- Test your implementation:\n",
    "'''\n",
    "print (\"Test 2 - Testing the implementation of the 'person_quotation_pattern_extraction' method ...\\n\")\n",
    "\n",
    "in_text = 'Marge Simpson responded: \"Homer, please.\"'\n",
    "\n",
    "try:\n",
    "    person_name, extracted_text = person_quotation_pattern_extraction(in_text)\n",
    "except Exception as e:\n",
    "    print ('You probably have a syntax error, we got the following exception:')\n",
    "    print ('\\tError Message:', str(e))\n",
    "    print ('Try fixing your implementation')\n",
    "    raise \n",
    "\n",
    "assert person_name == 'Marge Simpson', \"Wrong extracted value for 'person_name', try again\"\n",
    "assert extracted_text == '''Homer, please.''', \"Wrong extracted value for 'extracted_text', try again\"\n",
    "\n",
    "print (\"Good Job!\\nYou've passed the 2nd test for the 'person_quotation_pattern_extraction' function :-)\")"
   ],
   "outputs": [
    {
     "name": "stdout",
     "output_type": "stream",
     "text": [
      "Test 2 - Testing the implementation of the 'person_quotation_pattern_extraction' method ...\n",
      "\n",
      "Good Job!\n",
      "You've passed the 2nd test for the 'person_quotation_pattern_extraction' function :-)\n"
     ]
    }
   ],
   "execution_count": 83
  },
  {
   "cell_type": "code",
   "metadata": {
    "collapsed": true,
    "nbgrader": {
     "grade": true,
     "grade_id": "test3-person_quotation_pattern_extraction",
     "locked": true,
     "points": "0.4",
     "solution": false
    },
    "editable": false,
    "deletable": false,
    "ExecuteTime": {
     "end_time": "2025-01-24T14:44:27.428468Z",
     "start_time": "2025-01-24T14:44:27.422249Z"
    }
   },
   "source": [
    "# --------------------------- RUN THIS TEST CODE CELL -------------------------------------\n",
    "'''\n",
    "1.a. --- Test your implementation:\n",
    "'''\n",
    "print (\"Test 3 - Testing the implementation of the 'person_quotation_pattern_extraction' method ...\\n\")\n",
    "print (\"====> The following is a hidden test ... \")\n",
    "\n",
    "###\n",
    "### AUTOGRADER TEST - DO NOT REMOVE\n",
    "###\n"
   ],
   "outputs": [
    {
     "name": "stdout",
     "output_type": "stream",
     "text": [
      "Test 3 - Testing the implementation of the 'person_quotation_pattern_extraction' method ...\n",
      "\n",
      "====> The following is a hidden test ... \n"
     ]
    }
   ],
   "execution_count": 84
  },
  {
   "cell_type": "markdown",
   "metadata": {
    "nbgrader": {
     "grade": false,
     "locked": true,
     "solution": false
    },
    "editable": false,
    "deletable": false
   },
   "source": [
    "### 1.b. Find \"what was said\" and \"who said it\" - part 2\n",
    "\n",
    "In this section you will continue to deal with quotations from \"Simpsons\" episodes.<br/>\n",
    "\n",
    "This time, the quoted texts will come before the \n",
    "For a given text such as:<br />\n",
    "    \"**Oh man, that guy's tough to love.**\", `Bart Simpson` replied.<br />\n",
    "You need to extract the following:<br />\n",
    "* Extract the person who is mentioned as saying the quoted text, in the above example, you should extract:<br />\n",
    "  `Bart Simpson`\n",
    "* Extract the quoted text, <u>after removing the double quotation marks(\")</u>. In the above example, you should extract:<br />\n",
    "  ****Oh man, that guy's tough to love.**.**\n",
    "* Note that you could expect the double quotation mark (\") will appear only before and after the quoted<br />\n",
    "  text and no where else.\n",
    "\n",
    "You could expect the input text to look similar to the following pattern:<br />\n",
    "\"**quoted text**\", `Person name` said.<br />\n",
    "\n",
    "_Variations of the above pattern_:<br />\n",
    "* The comma punctuation mark (,) is optional, and might not appear in the input sentence.\n",
    "* Instead of the word _said_ you could also expect the words: _answered_, _responded_, _replied_\n",
    "   \n",
    "**Important Note**: if the pattern is not found, return None values for both the <br />\n",
    "  extracted person name and the extracted text. \n",
    "  \n",
    "----------\n",
    "\n",
    "<u>**Text files** with the different quotations</u> (one in each line), could be found in the [`data`](data) folder (click to open):<br />\n",
    "* A [`sample of 10 quotations`](data/simpsons_dataset_8_speakers_ptrn_10_lns.txt)\n",
    "* A [`sample of 100 quotations`](data/simpsons_dataset_8_speakers_ptrn_100_lns.txt)\n",
    "* Other quotation text file could be found in the [`data`](data) folder."
   ]
  },
  {
   "cell_type": "code",
   "metadata": {
    "collapsed": true,
    "ExecuteTime": {
     "end_time": "2025-01-24T14:44:28.750833Z",
     "start_time": "2025-01-24T14:44:28.745980Z"
    }
   },
   "source": [
    "# --------------------------- RUN THIS CODE CELL (AFTER YOUR IMPLEMENTATION) -------------------------------------\n",
    "# (OPTIONAL IMPLEMENTATION CELL) add some assitant code or use this\n",
    "# cell code for you exploration, if needed:\n",
    "###\n",
    "### YOUR CODE HERE\n",
    "###\n"
   ],
   "outputs": [],
   "execution_count": 85
  },
  {
   "cell_type": "code",
   "metadata": {
    "collapsed": true,
    "ExecuteTime": {
     "end_time": "2025-01-24T14:44:28.967431Z",
     "start_time": "2025-01-24T14:44:28.961252Z"
    }
   },
   "source": [
    "# --------------------------- RUN THIS CODE CELL (AFTER YOUR IMPLEMENTATION) -------------------------------------\n",
    "'''\n",
    "What do you need to do?\n",
    "\n",
    "Complete the 'quotation_person_pattern_extraction' function to extract \n",
    "     the person quoted and the quoted text, from a given input 'raw_text' as explained above.\n",
    "\n",
    "     Note: In this function you should expect the quoted text to appear before the person name.\n",
    "     \n",
    "The returned values:\n",
    "- extracted_person_name - The extracted person name, as appearing in the patterns explained above\n",
    "- extracted_quotation   - The extracted quoted text (withot the surrounding quotation marks).\n",
    "\n",
    "* Important Note: if the pattern is not found, return None values for both the <br />\n",
    "                  extracted person name and the extracted text. \n",
    "------\n",
    "The return statement should look similar to the following statement:\n",
    "return extracted_person_name, extracted_quotation \n",
    "'''\n",
    "def quotation_person_pattern_extraction(raw_text):\n",
    "    pattern = r'^\"(?P<quote>.+)\"\\s?,?\\s?(?P<name>[\\w\\s]+)\\s(?:said|answered|responded|replied)\\.$'\n",
    "\n",
    "    match = re.match(pattern, raw_text)\n",
    "    if match:\n",
    "        return match.group('name'), match.group('quote')\n",
    "\n",
    "    return None, None\n"
   ],
   "outputs": [],
   "execution_count": 86
  },
  {
   "cell_type": "code",
   "metadata": {
    "collapsed": true,
    "ExecuteTime": {
     "end_time": "2025-01-24T14:44:29.083872Z",
     "start_time": "2025-01-24T14:44:29.077034Z"
    }
   },
   "source": [
    "# --------------------------- (AFTER YOUR IMPLEMENTATION if used) RUN THIS CODE CELL  ------------------------------------ \n",
    "# This section is FOR YOUR ASSISTANCE ONLY It will not be checked.\n",
    "# Add assistance tests here IF NEEDED:\n",
    "\n",
    "in_text = '''\"Oh man, that guy's tough to love.\", Bart Simpson replied.'''\n",
    "person_name, extracted_text = quotation_person_pattern_extraction(in_text)\n",
    "print(f\"Person: {person_name}, Quote: {extracted_text}\")\n",
    "\n",
    "in_text = '''\"Gimme that torch.\" Lisa Simpson said.'''\n",
    "person_name, extracted_text = quotation_person_pattern_extraction(in_text)\n",
    "print(f\"Person: {person_name}, Quote: {extracted_text}\")\n"
   ],
   "outputs": [
    {
     "name": "stdout",
     "output_type": "stream",
     "text": [
      "Person: Bart Simpson, Quote: Oh man, that guy's tough to love.\n",
      "Person: Lisa Simpson, Quote: Gimme that torch.\n"
     ]
    }
   ],
   "execution_count": 87
  },
  {
   "cell_type": "code",
   "metadata": {
    "collapsed": true,
    "nbgrader": {
     "grade": true,
     "grade_id": "test4-quotation_person_pattern_extraction",
     "locked": true,
     "points": "0.2",
     "solution": false
    },
    "editable": false,
    "deletable": false,
    "ExecuteTime": {
     "end_time": "2025-01-24T14:44:29.336088Z",
     "start_time": "2025-01-24T14:44:29.330002Z"
    }
   },
   "source": [
    "# --------------------------- RUN THIS TEST CODE CELL -------------------------------------\n",
    "'''\n",
    "1.b. --- Test your implementation:\n",
    "'''\n",
    "print (\"Test 1 - Testing the implementation of the 'quotation_person_pattern_extraction' method ...\\n\")\n",
    "\n",
    "in_text = '''\"Oh man, that guy's tough to love.\", Bart Simpson replied.''' \n",
    "\n",
    "try:\n",
    "    person_name, extracted_text = quotation_person_pattern_extraction(in_text)\n",
    "except Exception as e:\n",
    "    print ('You probably have a syntax error, we got the following exception:')\n",
    "    print ('\\tError Message:', str(e))\n",
    "    print ('Try fixing your implementation')\n",
    "    raise \n",
    "\n",
    "assert person_name is not None and extracted_text is not None, \"Missing 'person_name' or 'extracted_text' returned values\"\n",
    "\n",
    "print (\"Good Job!\\nYou've passed the 1st test for the 'quotation_person_pattern_extraction' function :-)\")"
   ],
   "outputs": [
    {
     "name": "stdout",
     "output_type": "stream",
     "text": [
      "Test 1 - Testing the implementation of the 'quotation_person_pattern_extraction' method ...\n",
      "\n",
      "Good Job!\n",
      "You've passed the 1st test for the 'quotation_person_pattern_extraction' function :-)\n"
     ]
    }
   ],
   "execution_count": 88
  },
  {
   "cell_type": "code",
   "metadata": {
    "collapsed": true,
    "nbgrader": {
     "grade": true,
     "grade_id": "test5-quotation_person_pattern_extraction",
     "locked": true,
     "points": "0.4",
     "solution": false
    },
    "editable": false,
    "deletable": false,
    "ExecuteTime": {
     "end_time": "2025-01-24T14:44:29.446332Z",
     "start_time": "2025-01-24T14:44:29.431141Z"
    }
   },
   "source": [
    "# --------------------------- RUN THIS TEST CODE CELL -------------------------------------\n",
    "'''\n",
    "1.b. --- Test your implementation:\n",
    "'''\n",
    "print (\"Test 2 - Testing the implementation of the 'quotation_person_pattern_extraction' method ...\\n\")\n",
    "\n",
    "in_text = '''\"Oh man, that guy's tough to love.\", Bart Simpson replied.''' \n",
    "\n",
    "try:\n",
    "    person_name, extracted_text = quotation_person_pattern_extraction(in_text)\n",
    "except Exception as e:\n",
    "    print ('You probably have a syntax error, we got the following exception:')\n",
    "    print ('\\tError Message:', str(e))\n",
    "    print ('Try fixing your implementation')\n",
    "    raise \n",
    "\n",
    "    assert person_name == 'Bart Simpson', \"Wrong extracted value for 'person_name', try again\"\n",
    "    assert extracted_text == '''Oh man, that guy's tough to love.''', \"Wrong extracted value for 'extracted_text', try again\"\n",
    "\n",
    "print (\"Good Job!\\nYou've passed the 2nd test for the 'quotation_person_pattern_extraction' function :-)\")"
   ],
   "outputs": [
    {
     "name": "stdout",
     "output_type": "stream",
     "text": [
      "Test 2 - Testing the implementation of the 'quotation_person_pattern_extraction' method ...\n",
      "\n",
      "Good Job!\n",
      "You've passed the 2nd test for the 'quotation_person_pattern_extraction' function :-)\n"
     ]
    }
   ],
   "execution_count": 89
  },
  {
   "cell_type": "code",
   "metadata": {
    "collapsed": true,
    "nbgrader": {
     "grade": true,
     "grade_id": "test6-quotation_person_pattern_extraction",
     "locked": true,
     "points": "0.4",
     "solution": false
    },
    "editable": false,
    "deletable": false,
    "ExecuteTime": {
     "end_time": "2025-01-24T14:44:29.604909Z",
     "start_time": "2025-01-24T14:44:29.598498Z"
    }
   },
   "source": [
    "# --------------------------- RUN THIS TEST CODE CELL -------------------------------------\n",
    "'''\n",
    "1.b. --- Test your implementation:\n",
    "'''\n",
    "print (\"Test 3 - Testing the implementation of the 'quotation_person_pattern_extraction' method ...\\n\")\n",
    "\n",
    "print (\"====> The following is a hidden test ... \")\n",
    "\n",
    "###\n",
    "### AUTOGRADER TEST - DO NOT REMOVE\n",
    "###\n"
   ],
   "outputs": [
    {
     "name": "stdout",
     "output_type": "stream",
     "text": [
      "Test 3 - Testing the implementation of the 'quotation_person_pattern_extraction' method ...\n",
      "\n",
      "====> The following is a hidden test ... \n"
     ]
    }
   ],
   "execution_count": 90
  },
  {
   "cell_type": "markdown",
   "metadata": {
    "nbgrader": {
     "grade": false,
     "locked": true,
     "solution": false
    },
    "editable": false,
    "deletable": false
   },
   "source": [
    "### 1.c. Transfer raw data to dataframe\n",
    "In this section you will read lines from a text file and <br/>\n",
    "extract the quoted person name and quoted text from each line.\n",
    "\n",
    "<u>Use both patterns</u>, which you implemented in the above methods to try to extract the person name and quoted text.<br/>\n",
    "\n",
    "Remarks:\n",
    "* Hint: Use the returned object from the 'open' method to get the file handler.\n",
    "* Each line you read is expected to contain a new-line in the end of the line. Remove the new-line as following:\n",
    "    * line_cln = line.strip()\n",
    "* There are the options for each line (assume one of these three options):\n",
    "    1. The first set of patterns, for which the person name appears before the quoted text.\n",
    "    + The second set of patterns, for which the quoted text appears before the person.\n",
    "    + Empty lines. \n",
    "\n"
   ]
  },
  {
   "cell_type": "code",
   "metadata": {
    "collapsed": true,
    "ExecuteTime": {
     "end_time": "2025-01-24T14:44:33.580804Z",
     "start_time": "2025-01-24T14:44:33.575791Z"
    }
   },
   "source": [
    "# --------------------------- RUN THIS CODE CELL (AFTER YOUR IMPLEMENTATION) -------------------------------------\n",
    "# (OPTIONAL IMPLEMENTATION CELL) add some assitant code or use this\n",
    "# cell code for you exploration, if needed:\n",
    "\n",
    "\n"
   ],
   "outputs": [],
   "execution_count": 91
  },
  {
   "cell_type": "code",
   "metadata": {
    "collapsed": true,
    "ExecuteTime": {
     "end_time": "2025-01-24T14:44:34.330300Z",
     "start_time": "2025-01-24T14:44:34.322655Z"
    }
   },
   "source": [
    "'''\n",
    "What do you need to do?\n",
    "\n",
    "Complete the 'transfer_raw_text_to_dataframe' function to return a dataframe\n",
    "   with the extracted person name and text as explained above. \n",
    "The information is expected to be extracted from the lines of the given 'filename' file.\n",
    "* Use the above implemented 'person_quotation_pattern_extraction' and \n",
    "  'quotation_person_pattern_extraction' methods, the the two pattern sets.\n",
    "\n",
    "The returned dataframe should include two columns:\n",
    "- 'person_name' - containing the extracted person name for each line.\n",
    "- 'extracted_text' - containing the extracted quoted text for each line.\n",
    "\n",
    "The returned values:\n",
    "- dataframe - The dataframe with the extracted information as described above.\n",
    "\n",
    "* Important Note: if a line does not contain any quotation pattern, no information should be saved in the\n",
    "                corresponding row in the dataframe. \n",
    "------\n",
    "------\n",
    "The return statement should look similar to the following statement:\n",
    "return dataframe\n",
    "'''\n",
    "def transfer_raw_text_to_dataframe(filename):\n",
    "    lines_data = []\n",
    "    with open(filename, 'r') as file:\n",
    "        lines = file.readlines()\n",
    "        for line in lines:\n",
    "            line_cln = line.strip()\n",
    "            person_name, extracted_text = person_quotation_pattern_extraction(line_cln)\n",
    "            if person_name is None:\n",
    "                person_name, extracted_text = quotation_person_pattern_extraction(line_cln)\n",
    "            if person_name is not None:\n",
    "                lines_data.append({'person_name': person_name, 'extracted_text': extracted_text})\n",
    "    return pd.DataFrame(lines_data)\n",
    "\n"
   ],
   "outputs": [],
   "execution_count": 92
  },
  {
   "cell_type": "code",
   "metadata": {
    "collapsed": true,
    "ExecuteTime": {
     "end_time": "2025-01-24T14:44:36.597426Z",
     "start_time": "2025-01-24T14:44:36.584393Z"
    }
   },
   "source": [
    "# --------------------------- (AFTER YOUR IMPLEMENTATION if used) RUN THIS CODE CELL  ------------------------------------ \n",
    "# This section is FOR YOUR ASSISTANCE ONLY It will not be checked.\n",
    "# Add assistance tests here IF NEEDED:\n",
    "file_name = '.' + os.sep + 'data' + os.sep + 'simpsons_dataset_8_speakers_ptrn_10_lns.txt'\n",
    "\n",
    "\n",
    "dataframe = transfer_raw_text_to_dataframe(file_name)\n",
    "dataframe\n",
    "\n"
   ],
   "outputs": [
    {
     "data": {
      "text/plain": [
       "           person_name                                     extracted_text\n",
       "0        Homer Simpson                                         Am I ever!\n",
       "1         Lisa Simpson  Hmmm. So... is it okay if I go to the women's ...\n",
       "2         Bart Simpson                                  Really? Uh, sure.\n",
       "3         Bart Simpson                                      Sounds great.\n",
       "4        Homer Simpson                     Danica Patrick in my thoughts!\n",
       "5  C. Montgomery Burns  Trust me, he'll say it, or I'll bust him down ...\n",
       "6         Lisa Simpson                                  Gimme that torch.\n",
       "7        Marge Simpson  No! No, I've got a lot more mothering left in me!\n",
       "8        Marge Simpson  Oh, Homie, I don't care if you're a billionair...\n",
       "9        Homer Simpson                                   Damn you, e-Bay!"
      ],
      "text/html": [
       "<div>\n",
       "<style scoped>\n",
       "    .dataframe tbody tr th:only-of-type {\n",
       "        vertical-align: middle;\n",
       "    }\n",
       "\n",
       "    .dataframe tbody tr th {\n",
       "        vertical-align: top;\n",
       "    }\n",
       "\n",
       "    .dataframe thead th {\n",
       "        text-align: right;\n",
       "    }\n",
       "</style>\n",
       "<table border=\"1\" class=\"dataframe\">\n",
       "  <thead>\n",
       "    <tr style=\"text-align: right;\">\n",
       "      <th></th>\n",
       "      <th>person_name</th>\n",
       "      <th>extracted_text</th>\n",
       "    </tr>\n",
       "  </thead>\n",
       "  <tbody>\n",
       "    <tr>\n",
       "      <th>0</th>\n",
       "      <td>Homer Simpson</td>\n",
       "      <td>Am I ever!</td>\n",
       "    </tr>\n",
       "    <tr>\n",
       "      <th>1</th>\n",
       "      <td>Lisa Simpson</td>\n",
       "      <td>Hmmm. So... is it okay if I go to the women's ...</td>\n",
       "    </tr>\n",
       "    <tr>\n",
       "      <th>2</th>\n",
       "      <td>Bart Simpson</td>\n",
       "      <td>Really? Uh, sure.</td>\n",
       "    </tr>\n",
       "    <tr>\n",
       "      <th>3</th>\n",
       "      <td>Bart Simpson</td>\n",
       "      <td>Sounds great.</td>\n",
       "    </tr>\n",
       "    <tr>\n",
       "      <th>4</th>\n",
       "      <td>Homer Simpson</td>\n",
       "      <td>Danica Patrick in my thoughts!</td>\n",
       "    </tr>\n",
       "    <tr>\n",
       "      <th>5</th>\n",
       "      <td>C. Montgomery Burns</td>\n",
       "      <td>Trust me, he'll say it, or I'll bust him down ...</td>\n",
       "    </tr>\n",
       "    <tr>\n",
       "      <th>6</th>\n",
       "      <td>Lisa Simpson</td>\n",
       "      <td>Gimme that torch.</td>\n",
       "    </tr>\n",
       "    <tr>\n",
       "      <th>7</th>\n",
       "      <td>Marge Simpson</td>\n",
       "      <td>No! No, I've got a lot more mothering left in me!</td>\n",
       "    </tr>\n",
       "    <tr>\n",
       "      <th>8</th>\n",
       "      <td>Marge Simpson</td>\n",
       "      <td>Oh, Homie, I don't care if you're a billionair...</td>\n",
       "    </tr>\n",
       "    <tr>\n",
       "      <th>9</th>\n",
       "      <td>Homer Simpson</td>\n",
       "      <td>Damn you, e-Bay!</td>\n",
       "    </tr>\n",
       "  </tbody>\n",
       "</table>\n",
       "</div>"
      ]
     },
     "execution_count": 93,
     "metadata": {},
     "output_type": "execute_result"
    }
   ],
   "execution_count": 93
  },
  {
   "cell_type": "code",
   "metadata": {
    "collapsed": true,
    "nbgrader": {
     "grade": true,
     "grade_id": "test7-transfer_raw_text_to_dataframe",
     "locked": true,
     "points": "0.5",
     "solution": false
    },
    "editable": false,
    "deletable": false,
    "ExecuteTime": {
     "end_time": "2025-01-24T14:44:39.182657Z",
     "start_time": "2025-01-24T14:44:39.174327Z"
    }
   },
   "source": [
    "# --------------------------- RUN THIS TEST CODE CELL -------------------------------------\n",
    "'''\n",
    "1.c. --- Test your implementation:\n",
    "'''\n",
    "print (\"Test 1 - Testing the implementation of the 'transfer_raw_text_to_dataframe' method ...\\n\")\n",
    "\n",
    "cols=['person_name', 'extracted_text']\n",
    "file_name = '.' + os.sep + 'data' + os.sep + 'simpsons_dataset_8_speakers_ptrn_10_lns.txt'\n",
    "\n",
    "try:\n",
    "    dataframe = transfer_raw_text_to_dataframe(file_name)\n",
    "except Exception as e:\n",
    "    print ('You probably have a syntax error, we got the following exception:')\n",
    "    print ('\\tError Message:', str(e))\n",
    "    print ('Try fixing your implementation')\n",
    "    raise \n",
    "    \n",
    "print (\"Good Job!\\nYou've passed the 1st test for the 'transfer_raw_text_to_dataframe' function :-)\")"
   ],
   "outputs": [
    {
     "name": "stdout",
     "output_type": "stream",
     "text": [
      "Test 1 - Testing the implementation of the 'transfer_raw_text_to_dataframe' method ...\n",
      "\n",
      "Good Job!\n",
      "You've passed the 1st test for the 'transfer_raw_text_to_dataframe' function :-)\n"
     ]
    }
   ],
   "execution_count": 94
  },
  {
   "cell_type": "code",
   "metadata": {
    "collapsed": true,
    "nbgrader": {
     "grade": true,
     "grade_id": "test8-transfer_raw_text_to_dataframe",
     "locked": true,
     "points": "0.5",
     "solution": false
    },
    "editable": false,
    "deletable": false,
    "ExecuteTime": {
     "end_time": "2025-01-24T14:44:40.556790Z",
     "start_time": "2025-01-24T14:44:40.547419Z"
    }
   },
   "source": [
    "# --------------------------- RUN THIS TEST CODE CELL -------------------------------------\n",
    "'''\n",
    "1.c. --- Test your implementation:\n",
    "'''\n",
    "print (\"Test 2 - Testing the implementation of the 'transfer_raw_text_to_dataframe' method ...\\n\")\n",
    "\n",
    "cols=sorted(['person_name', 'extracted_text'])\n",
    "file_name = '.' + os.sep + 'data' + os.sep + 'simpsons_dataset_8_speakers_ptrn_10_lns.txt'\n",
    "\n",
    "try:\n",
    "    dataframe = transfer_raw_text_to_dataframe(file_name)\n",
    "    cols_in_df = sorted(list(dataframe.columns))\n",
    "except Exception as e:\n",
    "    print ('You probably have a syntax error, we got the following exception:')\n",
    "    print ('\\tError Message:', str(e))\n",
    "    print ('Try fixing your implementation')\n",
    "    raise \n",
    "    \n",
    "assert dataframe is not None , \"Missing 'dataframe' returned value\"\n",
    "\n",
    "assert dataframe.shape == (10, 2), 'Wrong shape for returned dataframe'\n",
    "np.testing.assert_array_equal(cols_in_df, cols, 'wrong columns in returned dataframe')\n",
    "\n",
    "print (\"Good Job!\\nYou've passed the 2nd test for the 'transfer_raw_text_to_dataframe' function :-)\")"
   ],
   "outputs": [
    {
     "name": "stdout",
     "output_type": "stream",
     "text": [
      "Test 2 - Testing the implementation of the 'transfer_raw_text_to_dataframe' method ...\n",
      "\n",
      "Good Job!\n",
      "You've passed the 2nd test for the 'transfer_raw_text_to_dataframe' function :-)\n"
     ]
    }
   ],
   "execution_count": 95
  },
  {
   "cell_type": "code",
   "metadata": {
    "collapsed": true,
    "nbgrader": {
     "grade": true,
     "grade_id": "test9-transfer_raw_text_to_dataframe",
     "locked": true,
     "points": "0.5",
     "solution": false
    },
    "editable": false,
    "deletable": false,
    "ExecuteTime": {
     "end_time": "2025-01-24T14:44:42.462847Z",
     "start_time": "2025-01-24T14:44:42.448337Z"
    }
   },
   "source": [
    "# --------------------------- RUN THIS TEST CODE CELL -------------------------------------\n",
    "'''\n",
    "1.c. --- Test your implementation:\n",
    "'''\n",
    "print (\"Test 3 - Testing the implementation of the 'transfer_raw_text_to_dataframe' method ...\\n\")\n",
    "\n",
    "cols=['person_name', 'extracted_text']\n",
    "file_name = '.' + os.sep + 'data' + os.sep + 'simpsons_dataset_8_speakers_ptrn_10_lns.txt'\n",
    "\n",
    "try:\n",
    "    dataframe = transfer_raw_text_to_dataframe(file_name)\n",
    "    person_names = dataframe['person_name']\n",
    "    person_names = [person for person in person_names if person is not None and person.strip()]\n",
    "    unique_names = np.unique(person_names)\n",
    "except Exception as e:\n",
    "    print ('You probably have a syntax error, we got the following exception:')\n",
    "    print ('\\tError Message:', str(e))\n",
    "    print ('Try fixing your implementation')\n",
    "    raise \n",
    "\n",
    "assert len(person_names) == 10, 'Missing person names in returned dataframe'\n",
    "print (unique_names)\n",
    "print (\"Good Job!\\nYou've passed the 3rd test for the 'transfer_raw_text_to_dataframe' function :-)\")\n",
    "dataframe.head()"
   ],
   "outputs": [
    {
     "name": "stdout",
     "output_type": "stream",
     "text": [
      "Test 3 - Testing the implementation of the 'transfer_raw_text_to_dataframe' method ...\n",
      "\n",
      "['Bart Simpson' 'C. Montgomery Burns' 'Homer Simpson' 'Lisa Simpson'\n",
      " 'Marge Simpson']\n",
      "Good Job!\n",
      "You've passed the 3rd test for the 'transfer_raw_text_to_dataframe' function :-)\n"
     ]
    },
    {
     "data": {
      "text/plain": [
       "     person_name                                     extracted_text\n",
       "0  Homer Simpson                                         Am I ever!\n",
       "1   Lisa Simpson  Hmmm. So... is it okay if I go to the women's ...\n",
       "2   Bart Simpson                                  Really? Uh, sure.\n",
       "3   Bart Simpson                                      Sounds great.\n",
       "4  Homer Simpson                     Danica Patrick in my thoughts!"
      ],
      "text/html": [
       "<div>\n",
       "<style scoped>\n",
       "    .dataframe tbody tr th:only-of-type {\n",
       "        vertical-align: middle;\n",
       "    }\n",
       "\n",
       "    .dataframe tbody tr th {\n",
       "        vertical-align: top;\n",
       "    }\n",
       "\n",
       "    .dataframe thead th {\n",
       "        text-align: right;\n",
       "    }\n",
       "</style>\n",
       "<table border=\"1\" class=\"dataframe\">\n",
       "  <thead>\n",
       "    <tr style=\"text-align: right;\">\n",
       "      <th></th>\n",
       "      <th>person_name</th>\n",
       "      <th>extracted_text</th>\n",
       "    </tr>\n",
       "  </thead>\n",
       "  <tbody>\n",
       "    <tr>\n",
       "      <th>0</th>\n",
       "      <td>Homer Simpson</td>\n",
       "      <td>Am I ever!</td>\n",
       "    </tr>\n",
       "    <tr>\n",
       "      <th>1</th>\n",
       "      <td>Lisa Simpson</td>\n",
       "      <td>Hmmm. So... is it okay if I go to the women's ...</td>\n",
       "    </tr>\n",
       "    <tr>\n",
       "      <th>2</th>\n",
       "      <td>Bart Simpson</td>\n",
       "      <td>Really? Uh, sure.</td>\n",
       "    </tr>\n",
       "    <tr>\n",
       "      <th>3</th>\n",
       "      <td>Bart Simpson</td>\n",
       "      <td>Sounds great.</td>\n",
       "    </tr>\n",
       "    <tr>\n",
       "      <th>4</th>\n",
       "      <td>Homer Simpson</td>\n",
       "      <td>Danica Patrick in my thoughts!</td>\n",
       "    </tr>\n",
       "  </tbody>\n",
       "</table>\n",
       "</div>"
      ]
     },
     "execution_count": 96,
     "metadata": {},
     "output_type": "execute_result"
    }
   ],
   "execution_count": 96
  },
  {
   "cell_type": "markdown",
   "metadata": {
    "nbgrader": {
     "grade": false,
     "locked": true,
     "solution": false
    },
    "editable": false,
    "deletable": false
   },
   "source": [
    "## 2. Auxiliary classification pipeline methods\n",
    "* Create simple pipeline\n",
    "* fit the classification pipeline\n",
    "* predict new test examples\n",
    "* evaluate performance"
   ]
  },
  {
   "cell_type": "markdown",
   "metadata": {
    "nbgrader": {
     "grade": false,
     "locked": true,
     "solution": false
    },
    "editable": false,
    "deletable": false
   },
   "source": [
    "### 2.a. Create a simple pipeline \n",
    "Create a simple pipeline to contain the following:\n",
    "* Vectorizer - a CountVectorizer object without any parameters\n",
    "* Classifier - a MultinomialNB classifier"
   ]
  },
  {
   "cell_type": "code",
   "execution_count": null,
   "metadata": {
    "collapsed": true
   },
   "outputs": [],
   "source": [
    "# --------------------------- RUN THIS CODE CELL (AFTER YOUR IMPLEMENTATION) -------------------------------------\n",
    "# (OPTIONAL IMPLEMENTATION CELL) add some assitant code or use this\n",
    "# cell code for you exploration, if needed:\n",
    "###\n",
    "### YOUR CODE HERE\n",
    "###\n"
   ]
  },
  {
   "cell_type": "code",
   "metadata": {
    "collapsed": true,
    "ExecuteTime": {
     "end_time": "2025-01-24T17:20:23.786233Z",
     "start_time": "2025-01-24T17:20:23.773071Z"
    }
   },
   "source": [
    "'''\n",
    "What do you need to do?\n",
    "\n",
    "Complete the 'create_simple_pipeline' function to return a simple classification\n",
    "   pipeline object, which contains only the above components.\n",
    "------\n",
    "The return statement should look similar to the following statement:\n",
    "return clf_pipeline\n",
    "'''\n",
    "def create_simple_pipeline():\n",
    "    return Pipeline([('vectorizer', CountVectorizer()), ('classifier', MultinomialNB())])\n"
   ],
   "outputs": [],
   "execution_count": 97
  },
  {
   "cell_type": "code",
   "metadata": {
    "collapsed": true,
    "ExecuteTime": {
     "end_time": "2025-01-24T17:20:27.238945Z",
     "start_time": "2025-01-24T17:20:27.232965Z"
    }
   },
   "source": [
    "# --------------------------- (AFTER YOUR IMPLEMENTATION if used) RUN THIS CODE CELL  ------------------------------------ \n",
    "# This section is FOR YOUR ASSISTANCE ONLY It will not be checked.\n",
    "# Add assistance tests here IF NEEDED:\n",
    "\n",
    "\n"
   ],
   "outputs": [],
   "execution_count": 98
  },
  {
   "cell_type": "code",
   "metadata": {
    "collapsed": true,
    "nbgrader": {
     "grade": true,
     "grade_id": "test10-create_simple_pipeline",
     "locked": true,
     "points": "0.5",
     "solution": false
    },
    "editable": false,
    "deletable": false,
    "ExecuteTime": {
     "end_time": "2025-01-24T17:20:28.715732Z",
     "start_time": "2025-01-24T17:20:28.700109Z"
    }
   },
   "source": [
    "# --------------------------- RUN THIS TEST CODE CELL -------------------------------------\n",
    "'''\n",
    "2.a. --- Test your implementation:\n",
    "'''\n",
    "print (\"Test - Testing the implementation of the 'create_simple_pipeline' method ...\\n\")\n",
    "\n",
    "cols=['person_name', 'extracted_text']\n",
    "file_name = '.' + os.sep + 'data' + os.sep + 'simpsons_dataset_8_speakers_ptrn_10_lns.txt'\n",
    "\n",
    "try:\n",
    "    clf_pipeline = create_simple_pipeline()\n",
    "    clf_pipeline_steps = clf_pipeline.steps\n",
    "except Exception as e:\n",
    "    print ('You probably have a syntax error, we got the following exception:')\n",
    "    print ('\\tError Message:', str(e))\n",
    "    print ('Try fixing your implementation')\n",
    "    raise \n",
    "\n",
    "assert clf_pipeline is not None and clf_pipeline_steps is not None, 'Missing or corrupt returned pipeline object'\n",
    "assert len(clf_pipeline_steps) == 2, 'Wrong number of steps in returned pipeline object' \n",
    "\n",
    "print (\"Good Job!\\nYou've passed the test for the 'create_simple_pipeline' function :-)\")"
   ],
   "outputs": [
    {
     "name": "stdout",
     "output_type": "stream",
     "text": [
      "Test - Testing the implementation of the 'create_simple_pipeline' method ...\n",
      "\n",
      "Good Job!\n",
      "You've passed the test for the 'create_simple_pipeline' function :-)\n"
     ]
    }
   ],
   "execution_count": 99
  },
  {
   "cell_type": "markdown",
   "metadata": {},
   "source": [
    "### 2.b. Fit a pipeline on train dataframe\n",
    "Use the simple pipeline classification object to fit (train),<br />\n",
    "it on the input 'df_train' dataframe.\n",
    "\n",
    "The input 'df_train' includes two columns:\n",
    "* 'person_name' - acting as the category, which you need to classify\n",
    "* 'extracted_text' - the raw text, repesenting a sentence (or a few short sentences), \n",
    "   which are associated to the person, called 'person_name').\n",
    "   \n",
    "Use the df_train['extracted_text'] to get the X_train raw data.<br/>\n",
    "Use the df_train['person_name'] to get the y_train categories.<br/>\n",
    "\n",
    "**Note**: No return value is needed in this function"
   ]
  },
  {
   "cell_type": "code",
   "metadata": {
    "collapsed": true,
    "ExecuteTime": {
     "end_time": "2025-01-24T17:20:31.730296Z",
     "start_time": "2025-01-24T17:20:31.722339Z"
    }
   },
   "source": [
    "# --------------------------- RUN THIS CODE CELL (AFTER YOUR IMPLEMENTATION) -------------------------------------\n",
    "# (OPTIONAL IMPLEMENTATION CELL) add some assitant code or use this\n",
    "# cell code for you exploration, if needed:\n",
    "###\n",
    "### YOUR CODE HERE\n",
    "###\n"
   ],
   "outputs": [],
   "execution_count": 100
  },
  {
   "cell_type": "code",
   "metadata": {
    "collapsed": true,
    "ExecuteTime": {
     "end_time": "2025-01-24T17:21:34.462809Z",
     "start_time": "2025-01-24T17:21:34.454831Z"
    }
   },
   "source": [
    "'''\n",
    "What do you need to do?\n",
    "\n",
    "Complete the 'fit' function to train and fit the given 'clf_pipeline' object.\n",
    "      The training should be done on the input 'df_train' dataframe.\n",
    "\n",
    "For detailed explanation see the above explanation.\n",
    "\n",
    "* Note: No return value is needed in this function\n",
    "'''\n",
    "def fit(clf_pipeline, df_train):\n",
    "    X_train = df_train['extracted_text']\n",
    "    y_train = df_train['person_name']\n",
    "    clf_pipeline.fit(X_train, y_train)\n"
   ],
   "outputs": [],
   "execution_count": 101
  },
  {
   "cell_type": "code",
   "metadata": {
    "collapsed": true,
    "ExecuteTime": {
     "end_time": "2025-01-24T17:21:35.144967Z",
     "start_time": "2025-01-24T17:21:35.137843Z"
    }
   },
   "source": [
    "# --------------------------- (AFTER YOUR IMPLEMENTATION if used) RUN THIS CODE CELL  ------------------------------------ \n",
    "# This section is FOR YOUR ASSISTANCE ONLY It will not be checked.\n",
    "# Add assistance tests here IF NEEDED:\n",
    "\n",
    "\n"
   ],
   "outputs": [],
   "execution_count": 102
  },
  {
   "cell_type": "markdown",
   "metadata": {},
   "source": [
    "### 2.c. Predict test example\n",
    "Use the trained given simple pipeline to predict new test examples.<br />\n",
    "\n",
    "The input `x_test` includes a pandas series of the 'extracted_text'.<br />\n",
    "This refers to the same type of data as the 'extracted_text' column in the df_train dataframe,<br />\n",
    " described and used above."
   ]
  },
  {
   "cell_type": "code",
   "metadata": {
    "collapsed": true,
    "ExecuteTime": {
     "end_time": "2025-01-24T17:21:36.700320Z",
     "start_time": "2025-01-24T17:21:36.692594Z"
    }
   },
   "source": [
    "# --------------------------- RUN THIS CODE CELL (AFTER YOUR IMPLEMENTATION) -------------------------------------\n",
    "# (OPTIONAL IMPLEMENTATION CELL) add some assitant code or use this\n",
    "# cell code for you exploration, if needed:\n",
    "###\n",
    "### YOUR CODE HERE\n",
    "###\n"
   ],
   "outputs": [],
   "execution_count": 103
  },
  {
   "cell_type": "code",
   "metadata": {
    "collapsed": true,
    "ExecuteTime": {
     "end_time": "2025-01-24T17:21:50.552346Z",
     "start_time": "2025-01-24T17:21:50.539601Z"
    }
   },
   "source": [
    "'''\n",
    "What do you need to do?\n",
    "\n",
    "Complete the 'predict' function to return the predicted values for the test\n",
    "    'x_test' series as described above, using the trained given 'clf_trained_pipeline' pipeline.\n",
    "\n",
    "For detailed explanation see the above explanation\n",
    "------\n",
    "The return statement should look similar to the following statement:\n",
    "return y_predicted\n",
    "'''\n",
    "def predict(clf_trained_pipeline, x_test):\n",
    "    return clf_trained_pipeline.predict(x_test)\n"
   ],
   "outputs": [],
   "execution_count": 104
  },
  {
   "cell_type": "code",
   "metadata": {
    "collapsed": true,
    "ExecuteTime": {
     "end_time": "2025-01-24T17:24:23.181266Z",
     "start_time": "2025-01-24T17:24:23.133046Z"
    }
   },
   "source": [
    "# --------------------------- (AFTER YOUR IMPLEMENTATION if used) RUN THIS CODE CELL  ------------------------------------ \n",
    "# This section is FOR YOUR ASSISTANCE ONLY It will not be checked.\n",
    "# Add assistance tests here IF NEEDED:\n",
    "\n",
    "dataframe = transfer_raw_text_to_dataframe(file_name)\n",
    "df_train = dataframe.iloc[:800,:]\n",
    "df_test = dataframe.iloc[800:,:]\n",
    "clf_pipeline = create_simple_pipeline()\n",
    "fit(clf_pipeline, df_train)\n",
    "y_predicted = predict(clf_pipeline, df_test['extracted_text'])\n",
    "y_predicted"
   ],
   "outputs": [
    {
     "data": {
      "text/plain": [
       "array(['Homer Simpson', 'Homer Simpson', 'Lisa Simpson', 'Homer Simpson',\n",
       "       'Homer Simpson', 'Marge Simpson', 'Homer Simpson', 'Homer Simpson',\n",
       "       'Homer Simpson', 'Homer Simpson', 'Marge Simpson', 'Homer Simpson',\n",
       "       'Homer Simpson', 'Homer Simpson', 'Lisa Simpson', 'Homer Simpson',\n",
       "       'Homer Simpson', 'Homer Simpson', 'Homer Simpson', 'Homer Simpson',\n",
       "       'Homer Simpson', 'Homer Simpson', 'Homer Simpson', 'Homer Simpson',\n",
       "       'Homer Simpson', 'Bart Simpson', 'Homer Simpson', 'Homer Simpson',\n",
       "       'Homer Simpson', 'Homer Simpson', 'Homer Simpson', 'Homer Simpson',\n",
       "       'Homer Simpson', 'Homer Simpson', 'Homer Simpson', 'Homer Simpson',\n",
       "       'Homer Simpson', 'Homer Simpson', 'Homer Simpson', 'Homer Simpson',\n",
       "       'Homer Simpson', 'Homer Simpson', 'Homer Simpson', 'Homer Simpson',\n",
       "       'Homer Simpson', 'Homer Simpson', 'Homer Simpson', 'Homer Simpson',\n",
       "       'Lisa Simpson', 'Homer Simpson', 'Homer Simpson', 'Homer Simpson',\n",
       "       'Homer Simpson', 'Homer Simpson', 'Homer Simpson', 'Homer Simpson',\n",
       "       'Homer Simpson', 'Homer Simpson', 'Homer Simpson', 'Homer Simpson',\n",
       "       'Homer Simpson', 'Marge Simpson', 'Homer Simpson', 'Homer Simpson',\n",
       "       'Homer Simpson', 'Marge Simpson', 'Homer Simpson', 'Marge Simpson',\n",
       "       'Homer Simpson', 'Homer Simpson', 'Homer Simpson', 'Homer Simpson',\n",
       "       'Homer Simpson', 'Homer Simpson', 'Homer Simpson', 'Homer Simpson',\n",
       "       'Homer Simpson', 'Homer Simpson', 'Homer Simpson', 'Bart Simpson',\n",
       "       'Homer Simpson', 'Homer Simpson', 'Homer Simpson', 'Marge Simpson',\n",
       "       'Homer Simpson', 'Homer Simpson', 'Bart Simpson', 'Homer Simpson',\n",
       "       'Homer Simpson', 'Homer Simpson', 'Homer Simpson', 'Marge Simpson',\n",
       "       'Homer Simpson', 'Homer Simpson', 'Homer Simpson', 'Homer Simpson',\n",
       "       'Homer Simpson', 'Homer Simpson', 'Homer Simpson', 'Bart Simpson',\n",
       "       'Homer Simpson', 'Homer Simpson', 'Bart Simpson', 'Homer Simpson',\n",
       "       'Homer Simpson', 'Homer Simpson', 'Homer Simpson', 'Homer Simpson',\n",
       "       'Homer Simpson', 'Homer Simpson', 'Homer Simpson', 'Homer Simpson',\n",
       "       'Homer Simpson', 'Homer Simpson', 'Homer Simpson', 'Homer Simpson',\n",
       "       'Homer Simpson', 'Bart Simpson', 'Marge Simpson', 'Homer Simpson',\n",
       "       'Homer Simpson', 'Lisa Simpson', 'Homer Simpson', 'Homer Simpson',\n",
       "       'Homer Simpson', 'Homer Simpson', 'Bart Simpson', 'Homer Simpson',\n",
       "       'Homer Simpson', 'Homer Simpson', 'Homer Simpson', 'Homer Simpson',\n",
       "       'Homer Simpson', 'Homer Simpson', 'Marge Simpson', 'Homer Simpson',\n",
       "       'Homer Simpson', 'Homer Simpson', 'Homer Simpson', 'Homer Simpson',\n",
       "       'Homer Simpson', 'Homer Simpson', 'Lisa Simpson', 'Homer Simpson',\n",
       "       'Homer Simpson', 'Homer Simpson', 'Homer Simpson', 'Homer Simpson',\n",
       "       'Homer Simpson', 'Homer Simpson', 'Homer Simpson', 'Homer Simpson',\n",
       "       'Homer Simpson', 'Bart Simpson', 'Homer Simpson', 'Bart Simpson',\n",
       "       'Bart Simpson', 'Homer Simpson', 'Lisa Simpson', 'Homer Simpson',\n",
       "       'Homer Simpson', 'Homer Simpson', 'Homer Simpson', 'Homer Simpson',\n",
       "       'Homer Simpson', 'Homer Simpson', 'Homer Simpson', 'Homer Simpson',\n",
       "       'Homer Simpson', 'Homer Simpson', 'Homer Simpson', 'Homer Simpson',\n",
       "       'Homer Simpson', 'Homer Simpson', 'Homer Simpson', 'Homer Simpson',\n",
       "       'Homer Simpson', 'Homer Simpson', 'Homer Simpson', 'Homer Simpson',\n",
       "       'Homer Simpson', 'Homer Simpson', 'Homer Simpson', 'Homer Simpson'],\n",
       "      dtype='<U19')"
      ]
     },
     "execution_count": 111,
     "metadata": {},
     "output_type": "execute_result"
    }
   ],
   "execution_count": 111
  },
  {
   "cell_type": "code",
   "metadata": {
    "collapsed": true,
    "nbgrader": {
     "grade": true,
     "grade_id": "test11-pipeline_fit_predict",
     "locked": true,
     "points": "0.5",
     "solution": false
    },
    "editable": false,
    "deletable": false,
    "ExecuteTime": {
     "end_time": "2025-01-24T17:21:52.149433Z",
     "start_time": "2025-01-24T17:21:52.064665Z"
    }
   },
   "source": [
    "# --------------------------- RUN THIS TEST CODE CELL -------------------------------------\n",
    "'''\n",
    "2.b., 2.c. --- Test your implementation:\n",
    "'''\n",
    "print (\"Test 1 - Testing the implementation of the 'fit' and 'predict' methods ...\\n\")\n",
    "\n",
    "cols=['person_name', 'extracted_text']\n",
    "file_name = '.' + os.sep + 'data' + os.sep + 'simpsons_dataset_8_speakers_ptrn_1k_lns.txt'\n",
    "\n",
    "try:\n",
    "    dataframe = transfer_raw_text_to_dataframe(file_name)\n",
    "    # raw dataset is already shuffled\n",
    "    df_train = dataframe.iloc[:800,:]\n",
    "    df_test = dataframe.iloc[800:,:]\n",
    "    clf_pipeline = create_simple_pipeline()\n",
    "    fit(clf_pipeline, df_train)\n",
    "    y_predicted = predict(clf_pipeline, df_test['extracted_text'])\n",
    "except Exception as e:\n",
    "    print ('You probably have a syntax error, we got the following exception:')\n",
    "    print ('\\tError Message:', str(e))\n",
    "    print ('Try fixing your implementation')\n",
    "    raise \n",
    "    \n",
    "assert y_predicted is not None , \"Missing the 'y_predicted' series returned value\"\n",
    "\n",
    "print (\"Good Job!\\nYou've passed the 1st test for the 'fit' and 'predict' methods :-)\")"
   ],
   "outputs": [
    {
     "name": "stdout",
     "output_type": "stream",
     "text": [
      "Test 1 - Testing the implementation of the 'fit' and 'predict' methods ...\n",
      "\n",
      "Good Job!\n",
      "You've passed the 1st test for the 'fit' and 'predict' methods :-)\n"
     ]
    }
   ],
   "execution_count": 106
  },
  {
   "cell_type": "code",
   "metadata": {
    "collapsed": true,
    "nbgrader": {
     "grade": true,
     "grade_id": "test12-pipeline_fit_predict",
     "locked": true,
     "points": "0.5",
     "solution": false
    },
    "editable": false,
    "deletable": false,
    "ExecuteTime": {
     "end_time": "2025-01-24T17:21:53.928181Z",
     "start_time": "2025-01-24T17:21:53.836807Z"
    }
   },
   "source": [
    "# --------------------------- RUN THIS TEST CODE CELL -------------------------------------\n",
    "'''\n",
    "2.b., 2.c. --- Test your implementation:\n",
    "'''\n",
    "print (\"Test 2 - Testing the implementation of the 'fit' and 'predict' methods ...\\n\")\n",
    "\n",
    "cols=['person_name', 'extracted_text']\n",
    "file_name = '.' + os.sep + 'data' + os.sep + 'simpsons_dataset_8_speakers_ptrn_1k_lns.txt'\n",
    "\n",
    "try:\n",
    "    dataframe = transfer_raw_text_to_dataframe(file_name)\n",
    "    # raw dataset is already shuffled\n",
    "    df_train = dataframe.iloc[:800,:]\n",
    "    df_test = dataframe.iloc[800:,:]\n",
    "    clf_pipeline = create_simple_pipeline()\n",
    "    fit(clf_pipeline, df_train)\n",
    "    y_predicted = predict(clf_pipeline, df_test['extracted_text'])\n",
    "except Exception as e:\n",
    "    print ('You probably have a syntax error, we got the following exception:')\n",
    "    print ('\\tError Message:', str(e))\n",
    "    print ('Try fixing your implementation')\n",
    "    raise \n",
    "assert y_predicted[0] == 'Homer Simpson', 'Wrong predicted value'\n",
    "assert y_predicted[22] == 'Marge Simpson', 'Wrong predicted value'\n",
    "\n",
    "print (\"Good Job!\\nYou've passed the 2nd test for the 'fit' and 'predict' methods :-)\")"
   ],
   "outputs": [
    {
     "name": "stdout",
     "output_type": "stream",
     "text": [
      "Test 2 - Testing the implementation of the 'fit' and 'predict' methods ...\n",
      "\n"
     ]
    },
    {
     "ename": "AssertionError",
     "evalue": "Wrong predicted value",
     "output_type": "error",
     "traceback": [
      "\u001B[1;31m---------------------------------------------------------------------------\u001B[0m",
      "\u001B[1;31mAssertionError\u001B[0m                            Traceback (most recent call last)",
      "Cell \u001B[1;32mIn[107], line 24\u001B[0m\n\u001B[0;32m     22\u001B[0m     \u001B[38;5;28;01mraise\u001B[39;00m \n\u001B[0;32m     23\u001B[0m \u001B[38;5;28;01massert\u001B[39;00m y_predicted[\u001B[38;5;241m0\u001B[39m] \u001B[38;5;241m==\u001B[39m \u001B[38;5;124m'\u001B[39m\u001B[38;5;124mHomer Simpson\u001B[39m\u001B[38;5;124m'\u001B[39m, \u001B[38;5;124m'\u001B[39m\u001B[38;5;124mWrong predicted value\u001B[39m\u001B[38;5;124m'\u001B[39m\n\u001B[1;32m---> 24\u001B[0m \u001B[38;5;28;01massert\u001B[39;00m y_predicted[\u001B[38;5;241m22\u001B[39m] \u001B[38;5;241m==\u001B[39m \u001B[38;5;124m'\u001B[39m\u001B[38;5;124mMarge Simpson\u001B[39m\u001B[38;5;124m'\u001B[39m, \u001B[38;5;124m'\u001B[39m\u001B[38;5;124mWrong predicted value\u001B[39m\u001B[38;5;124m'\u001B[39m\n\u001B[0;32m     26\u001B[0m \u001B[38;5;28mprint\u001B[39m (\u001B[38;5;124m\"\u001B[39m\u001B[38;5;124mGood Job!\u001B[39m\u001B[38;5;130;01m\\n\u001B[39;00m\u001B[38;5;124mYou\u001B[39m\u001B[38;5;124m'\u001B[39m\u001B[38;5;124mve passed the 2nd test for the \u001B[39m\u001B[38;5;124m'\u001B[39m\u001B[38;5;124mfit\u001B[39m\u001B[38;5;124m'\u001B[39m\u001B[38;5;124m and \u001B[39m\u001B[38;5;124m'\u001B[39m\u001B[38;5;124mpredict\u001B[39m\u001B[38;5;124m'\u001B[39m\u001B[38;5;124m methods :-)\u001B[39m\u001B[38;5;124m\"\u001B[39m)\n",
      "\u001B[1;31mAssertionError\u001B[0m: Wrong predicted value"
     ]
    }
   ],
   "execution_count": 107
  },
  {
   "cell_type": "markdown",
   "metadata": {
    "nbgrader": {
     "grade": false,
     "locked": true,
     "solution": false
    },
    "editable": false,
    "deletable": false
   },
   "source": [
    "### 2.d. Evaluate trained classification pipeline\n",
    "Use the accuracy measure to evaluate the trained pipeline.<br />"
   ]
  },
  {
   "cell_type": "code",
   "execution_count": null,
   "metadata": {
    "collapsed": true
   },
   "outputs": [],
   "source": [
    "# --------------------------- RUN THIS CODE CELL (AFTER YOUR IMPLEMENTATION) -------------------------------------\n",
    "# (OPTIONAL IMPLEMENTATION CELL) add some assitant code or use this\n",
    "# cell code for you exploration, if needed:\n",
    "###\n",
    "### YOUR CODE HERE\n",
    "###\n"
   ]
  },
  {
   "cell_type": "code",
   "metadata": {
    "collapsed": true,
    "ExecuteTime": {
     "end_time": "2025-01-24T17:22:12.432695Z",
     "start_time": "2025-01-24T17:22:12.423452Z"
    }
   },
   "source": [
    "'''\n",
    "What do you need to do?\n",
    "\n",
    "Complete the 'evaluate_accuracy' function to return the accuracy value of trained \n",
    "    classification pipeline.\n",
    "    \n",
    "The evaluation will be performed between the actual values - 'y_test'\n",
    "    and the predicted values 'y_predicted'.\n",
    "\n",
    "-----\n",
    "The return statement should look similar to the following statement:\n",
    "return evaluation_val\n",
    "'''\n",
    "def evaluate_accuracy(y_test, y_predicted):\n",
    "    return accuracy_score(y_test, y_predicted)\n"
   ],
   "outputs": [],
   "execution_count": 108
  },
  {
   "cell_type": "code",
   "execution_count": null,
   "metadata": {
    "collapsed": true
   },
   "outputs": [],
   "source": [
    "# --------------------------- (AFTER YOUR IMPLEMENTATION if used) RUN THIS CODE CELL  ------------------------------------ \n",
    "# This section is FOR YOUR ASSISTANCE ONLY It will not be checked.\n",
    "# Add assistance tests here IF NEEDED:\n",
    "\n"
   ]
  },
  {
   "cell_type": "code",
   "metadata": {
    "collapsed": true,
    "nbgrader": {
     "grade": true,
     "grade_id": "test13-evaluate_accuracy",
     "locked": true,
     "points": "0.2",
     "solution": false
    },
    "editable": false,
    "deletable": false,
    "ExecuteTime": {
     "end_time": "2025-01-24T17:28:17.644030Z",
     "start_time": "2025-01-24T17:28:17.595430Z"
    }
   },
   "source": [
    "# --------------------------- RUN THIS TEST CODE CELL -------------------------------------\n",
    "'''\n",
    "2.d. --- Test your implementation:\n",
    "'''\n",
    "print (\"Test 1 - Testing the implementation of the 'evaluate_accuracy' method ...\\n\")\n",
    "\n",
    "cols=['person_name', 'extracted_text']\n",
    "file_name = '.' + os.sep + 'data' + os.sep + 'simpsons_dataset_8_speakers_ptrn_1k_lns.txt'\n",
    "\n",
    "try:\n",
    "    dataframe = transfer_raw_text_to_dataframe(file_name)\n",
    "    # raw dataset is already shuffled\n",
    "    df_train = dataframe.iloc[:800,:]\n",
    "    df_test = dataframe.iloc[800:,:]\n",
    "    y_test = df_test['person_name']\n",
    "    clf_pipeline = create_simple_pipeline()\n",
    "    fit(clf_pipeline, df_train)\n",
    "    y_predicted = predict(clf_pipeline, df_test['extracted_text'])\n",
    "    evaluation_val = evaluate_accuracy(y_test,y_predicted)\n",
    "except Exception as e:\n",
    "    print ('You probably have a syntax error, we got the following exception:')\n",
    "    print ('\\tError Message:', str(e))\n",
    "    print ('Try fixing your implementation')\n",
    "    raise \n",
    "\n",
    "print (\"Good Job!\\nYou've passed the 1st test for the 'evaluate_accuracy' method :-)\")"
   ],
   "outputs": [
    {
     "name": "stdout",
     "output_type": "stream",
     "text": [
      "Test 1 - Testing the implementation of the 'evaluate_accuracy' method ...\n",
      "\n",
      "Good Job!\n",
      "You've passed the 1st test for the 'evaluate_accuracy' method :-)\n"
     ]
    }
   ],
   "execution_count": 112
  },
  {
   "cell_type": "code",
   "metadata": {
    "collapsed": true,
    "nbgrader": {
     "grade": true,
     "grade_id": "test14-evaluate_accuracy",
     "locked": true,
     "points": "0.4",
     "solution": false
    },
    "editable": false,
    "deletable": false,
    "ExecuteTime": {
     "end_time": "2025-01-24T17:28:20.350491Z",
     "start_time": "2025-01-24T17:28:20.282765Z"
    }
   },
   "source": [
    "# --------------------------- RUN THIS TEST CODE CELL -------------------------------------\n",
    "'''\n",
    "2.d. --- Test your implementation:\n",
    "'''\n",
    "print (\"Test 2 - Testing the implementation of the 'evaluate_accuracy' method ...\\n\")\n",
    "\n",
    "cols=['person_name', 'extracted_text']\n",
    "file_name = '.' + os.sep + 'data' + os.sep + 'simpsons_dataset_8_speakers_ptrn_1k_lns.txt'\n",
    "\n",
    "try:\n",
    "    dataframe = transfer_raw_text_to_dataframe(file_name)\n",
    "    # raw dataset is already shuffled\n",
    "    df_train = dataframe.iloc[:800,:]\n",
    "    df_test = dataframe.iloc[800:,:]\n",
    "    y_test = df_test['person_name']\n",
    "    clf_pipeline = create_simple_pipeline()\n",
    "    fit(clf_pipeline, df_train)\n",
    "    y_predicted = predict(clf_pipeline, df_test['extracted_text'])\n",
    "    evaluation_val = evaluate_accuracy(y_test,y_predicted)\n",
    "except Exception as e:\n",
    "    print ('You probably have a syntax error, we got the following exception:')\n",
    "    print ('\\tError Message:', str(e))\n",
    "    print ('Try fixing your implementation')\n",
    "    raise \n",
    "    \n",
    "assert evaluation_val is not None , \"Missing the 'y_predicted' series returned value\"\n",
    "assert evaluation_val == 0.39 , \"Wrong accuracy value\"\n",
    "\n",
    "print (\"Good Job!\\nYou've passed the 2nd test for the 'evaluate_accuracy' method :-)\")"
   ],
   "outputs": [
    {
     "name": "stdout",
     "output_type": "stream",
     "text": [
      "Test 2 - Testing the implementation of the 'evaluate_accuracy' method ...\n",
      "\n"
     ]
    },
    {
     "ename": "AssertionError",
     "evalue": "Wrong accuracy value",
     "output_type": "error",
     "traceback": [
      "\u001B[1;31m---------------------------------------------------------------------------\u001B[0m",
      "\u001B[1;31mAssertionError\u001B[0m                            Traceback (most recent call last)",
      "Cell \u001B[1;32mIn[113], line 27\u001B[0m\n\u001B[0;32m     24\u001B[0m     \u001B[38;5;28;01mraise\u001B[39;00m \n\u001B[0;32m     26\u001B[0m \u001B[38;5;28;01massert\u001B[39;00m evaluation_val \u001B[38;5;129;01mis\u001B[39;00m \u001B[38;5;129;01mnot\u001B[39;00m \u001B[38;5;28;01mNone\u001B[39;00m , \u001B[38;5;124m\"\u001B[39m\u001B[38;5;124mMissing the \u001B[39m\u001B[38;5;124m'\u001B[39m\u001B[38;5;124my_predicted\u001B[39m\u001B[38;5;124m'\u001B[39m\u001B[38;5;124m series returned value\u001B[39m\u001B[38;5;124m\"\u001B[39m\n\u001B[1;32m---> 27\u001B[0m \u001B[38;5;28;01massert\u001B[39;00m evaluation_val \u001B[38;5;241m==\u001B[39m \u001B[38;5;241m0.39\u001B[39m , \u001B[38;5;124m\"\u001B[39m\u001B[38;5;124mWrong accuracy value\u001B[39m\u001B[38;5;124m\"\u001B[39m\n\u001B[0;32m     29\u001B[0m \u001B[38;5;28mprint\u001B[39m (\u001B[38;5;124m\"\u001B[39m\u001B[38;5;124mGood Job!\u001B[39m\u001B[38;5;130;01m\\n\u001B[39;00m\u001B[38;5;124mYou\u001B[39m\u001B[38;5;124m'\u001B[39m\u001B[38;5;124mve passed the 2nd test for the \u001B[39m\u001B[38;5;124m'\u001B[39m\u001B[38;5;124mevaluate_accuracy\u001B[39m\u001B[38;5;124m'\u001B[39m\u001B[38;5;124m method :-)\u001B[39m\u001B[38;5;124m\"\u001B[39m)\n",
      "\u001B[1;31mAssertionError\u001B[0m: Wrong accuracy value"
     ]
    }
   ],
   "execution_count": 113
  },
  {
   "cell_type": "code",
   "metadata": {
    "collapsed": true,
    "nbgrader": {
     "grade": true,
     "grade_id": "test15-evaluate_accuracy",
     "locked": true,
     "points": "0.4",
     "solution": false
    },
    "editable": false,
    "deletable": false,
    "ExecuteTime": {
     "end_time": "2025-01-24T17:28:23.722206Z",
     "start_time": "2025-01-24T17:28:21.895847Z"
    }
   },
   "source": [
    "# --------------------------- RUN THIS TEST CODE CELL -------------------------------------\n",
    "'''\n",
    "2.d. --- Test your implementation:\n",
    "'''\n",
    "print (\"Test 3 - Testing the implementation of the 'evaluate_accuracy' method ...\\n\")\n",
    "\n",
    "print (\"The four most frequent figures :\\n\")\n",
    "print ('- Homer Simpson')\n",
    "print ('- Marge Simpson')\n",
    "print ('- Bart Simpson')\n",
    "print ('- Lisa Simpson')\n",
    "print (\"We will test with a mass of examples, but take only the frequent\\n\")\n",
    "\n",
    "cols=['person_name', 'extracted_text']\n",
    "file_name = '.' + os.sep + 'data' + os.sep + 'simpsons_dataset_8_speakers_ptrn_40k.txt'\n",
    "\n",
    "try:\n",
    "    dataframe = transfer_raw_text_to_dataframe(file_name)\n",
    "    dataframe_freq = dataframe[dataframe['person_name'].isin(['Homer Simpson', 'Marge Simpson','Bart Simpson','Lisa Simpson'])]\n",
    "    # raw dataset is already shuffled\n",
    "    df_train = dataframe_freq.iloc[:20000,:]\n",
    "    df_test = dataframe_freq.iloc[20000:,:]\n",
    "    y_test = df_test['person_name']\n",
    "    clf_pipeline = create_simple_pipeline()\n",
    "    fit(clf_pipeline, df_train)\n",
    "    y_predicted = predict(clf_pipeline, df_test['extracted_text'])\n",
    "    evaluation_val = evaluate_accuracy(y_test,y_predicted)\n",
    "except Exception as e:\n",
    "    print ('You probably have a syntax error, we got the following exception:') \n",
    "    print ('\\tError Message:', str(e))\n",
    "    print ('Try fixing your implementation')\n",
    "    raise \n",
    "\n",
    "assert np.round(evaluation_val,2) ==  0.5 , \"Wrong accuracy value\"\n",
    "\n",
    "print (\"Good Job!\\nYou've passed the 3rd test for the 'evaluate_accuracy' method :-)\")"
   ],
   "outputs": [
    {
     "name": "stdout",
     "output_type": "stream",
     "text": [
      "Test 3 - Testing the implementation of the 'evaluate_accuracy' method ...\n",
      "\n",
      "The four most frequent figures :\n",
      "\n",
      "- Homer Simpson\n",
      "- Marge Simpson\n",
      "- Bart Simpson\n",
      "- Lisa Simpson\n",
      "We will test with a mass of examples, but take only the frequent\n",
      "\n",
      "Good Job!\n",
      "You've passed the 3rd test for the 'evaluate_accuracy' method :-)\n"
     ]
    }
   ],
   "execution_count": 114
  },
  {
   "metadata": {},
   "cell_type": "code",
   "outputs": [],
   "execution_count": null,
   "source": ""
  }
 ],
 "metadata": {
  "kernelspec": {
   "display_name": "Python 3 [3.7]",
   "language": "python",
   "name": "python3"
  },
  "language_info": {
   "codemirror_mode": {
    "name": "ipython",
    "version": 3
   },
   "file_extension": ".py",
   "mimetype": "text/x-python",
   "name": "python",
   "nbconvert_exporter": "python",
   "pygments_lexer": "ipython3",
   "version": "3.7.5"
  }
 },
 "nbformat": 4,
 "nbformat_minor": 4
}
