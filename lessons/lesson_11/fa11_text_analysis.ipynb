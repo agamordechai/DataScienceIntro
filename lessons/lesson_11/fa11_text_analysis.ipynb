{
 "cells": [
  {
   "cell_type": "markdown",
   "metadata": {
    "nbgrader": {
     "grade": false,
     "locked": true,
     "solution": false
    },
    "editable": false,
    "deletable": false
   },
   "source": [
    "<a id=\"home\"></a>\n",
    "![Final Lesson Exercise](images/Banner_FEX.png)"
   ]
  },
  {
   "cell_type": "markdown",
   "metadata": {
    "nbgrader": {
     "grade": false,
     "locked": true,
     "solution": false
    },
    "editable": false,
    "deletable": false
   },
   "source": [
    "# Lesson #11: Text Analysis"
   ]
  },
  {
   "cell_type": "markdown",
   "metadata": {
    "nbgrader": {
     "grade": false,
     "locked": true,
     "solution": false
    },
    "editable": false,
    "deletable": false
   },
   "source": [
    "## About this assignment\n",
    "In this assignment, you will explore quotes from the `Simpsons` cartoon.<br/>\n",
    "\n",
    "This time you will practice a classification of a text analysis problem, including:\n",
    "* Finding information using regular expressions and simple text manipulations.\n",
    "* Vectorization and full classification pipeline for the classification problem.\n",
    "\n",
    "The end goal: classify `who said` a text quotation. "
   ]
  },
  {
   "cell_type": "code",
   "metadata": {
    "collapsed": true,
    "nbgrader": {
     "grade": false,
     "locked": true,
     "solution": false
    },
    "editable": false,
    "deletable": false,
    "ExecuteTime": {
     "end_time": "2025-01-27T18:33:32.069125Z",
     "start_time": "2025-01-27T18:33:32.064483Z"
    }
   },
   "source": [
    "# --------------------------- RUN THIS CODE CELL -------------------------------------\n",
    "\n",
    "# --------\n",
    "# imports and setup \n",
    "# Use the following libraries for the assignment, when needed:\n",
    "# --------\n",
    "import re\n",
    "import os\n",
    "\n",
    "import pandas as pd\n",
    "import numpy as np\n",
    "\n",
    "import sklearn \n",
    "from sklearn import preprocessing, metrics, naive_bayes, pipeline, feature_extraction\n",
    "from sklearn.feature_extraction import text\n",
    "from sklearn.preprocessing import Normalizer\n",
    "from sklearn.feature_extraction.text import CountVectorizer\n",
    "from sklearn.metrics import accuracy_score\n",
    "from sklearn.naive_bayes import MultinomialNB \n",
    "from sklearn.pipeline import Pipeline\n",
    "\n",
    "\n",
    "from sklearn import neighbors, tree, ensemble, naive_bayes, svm\n",
    "# *** KNN\n",
    "from sklearn.neighbors import KNeighborsClassifier\n",
    "from sklearn import tree\n",
    "from sklearn.tree import DecisionTreeClassifier\n",
    "from sklearn.ensemble import RandomForestClassifier\n",
    "from sklearn.naive_bayes import GaussianNB\n",
    "from sklearn.svm import SVC\n",
    "from sklearn import metrics\n",
    "from sklearn.metrics import accuracy_score, precision_score, recall_score, f1_score, confusion_matrix"
   ],
   "outputs": [],
   "execution_count": 362
  },
  {
   "cell_type": "markdown",
   "metadata": {
    "nbgrader": {
     "grade": false,
     "locked": true,
     "solution": false
    },
    "editable": false,
    "deletable": false
   },
   "source": [
    "<a id=\"dataset_desc\"></a>\n",
    "[Go back to the beginning of the assignment](#home)\n",
    "## The raw dataset - the Simpsons\n",
    "In this assignment, you will explore information regarding the \"Simpsons\" cartoon.<br/>\n",
    "The raw dataset, includes sentences quotes by different figures from the Simpson cartoons.\n",
    "\n",
    "Such as:<br>\n",
    "`Homer Simpson` said: \"**Okay, here we go...**\""
   ]
  },
  {
   "cell_type": "markdown",
   "metadata": {
    "nbgrader": {
     "grade": false,
     "locked": true,
     "solution": false
    },
    "editable": false,
    "deletable": false
   },
   "source": [
    "## 1. Read the raw data and extract information\n",
    "In this section you will perform the following actions:<br />\n",
    "* Extract person-name and quoted text, using regular expressions and simple text manipulations.\n",
    "* Read a text file and extract information into a dataframe."
   ]
  },
  {
   "cell_type": "markdown",
   "metadata": {
    "nbgrader": {
     "grade": false,
     "locked": true,
     "solution": false
    },
    "editable": false,
    "deletable": false
   },
   "source": [
    "### 1.a. Find \"what was said\" and \"who said it\" - part 1\n",
    "\n",
    "In this section you will deal with  quotations from \"Simpsons\" episodes.<br/>\n",
    "\n",
    "For a given text such as:<br />\n",
    "    `Homer Simpson` said: \"**Okay, here we go...**\"<br />\n",
    "You need to extract the following:<br />\n",
    "* Extract the person who is mentioned as saying the quoted text, in the above example, you should extract:<br />\n",
    "  `Homer Simpson`\n",
    "* Extract the quoted text, <u>after removing the double quotation marks(\")</u>. In the above example, you should extract:<br />\n",
    "  **Okay, here we go...**\n",
    "* Note that you could expect the double quotation mark (\") will appear only before and after the quoted<br />\n",
    "  text and no where else.\n",
    "\n",
    "You could expect the input text to look similar to the following pattern:<br />\n",
    "`Person name` said: \"**quoted text**\"<br />\n",
    "\n",
    "_Variations of the above pattern_:<br />\n",
    "* The colon punctuation mark (:) is optional, and and might not appear in the input sentence.\n",
    "* Instead of the word _said_ you could also expect the words: _answered_, _responded_, _replied_\n",
    "\n",
    "An _additional pattern_:<br /> \n",
    "* `Person name`: \"**quoted text**\"\n",
    "   * For Example:<br />\n",
    "   `Marge Simpson`: \"**Here, take this**.\" \n",
    "   \n",
    "**Important Note**: if the pattern is not found, return None values for both the <br />\n",
    "  extracted person name and the extracted text. \n",
    "\n",
    "----------\n",
    "\n",
    "<u>**Text files** with the different quotations</u> (one in each line), could be found in the [`data`](data) folder (click to open):<br />\n",
    "* A [`sample of 10 quotations`](data/simpsons_dataset_8_speakers_ptrn_10_lns.txt)\n",
    "* A [`sample of 100 quotations`](data/simpsons_dataset_8_speakers_ptrn_100_lns.txt)\n",
    "* Other quotation text file could be found in the [`data`](data) folder."
   ]
  },
  {
   "cell_type": "code",
   "metadata": {
    "collapsed": true,
    "ExecuteTime": {
     "end_time": "2025-01-27T18:33:32.085866Z",
     "start_time": "2025-01-27T18:33:32.083555Z"
    }
   },
   "source": [
    "# --------------------------- RUN THIS CODE CELL (AFTER YOUR IMPLEMENTATION) -------------------------------------\n",
    "# (OPTIONAL IMPLEMENTATION CELL) add some assitant code or use this\n",
    "# cell code for you exploration, if needed:\n",
    "###\n",
    "### YOUR CODE HERE\n",
    "###\n"
   ],
   "outputs": [],
   "execution_count": 363
  },
  {
   "cell_type": "code",
   "metadata": {
    "collapsed": true,
    "ExecuteTime": {
     "end_time": "2025-01-27T18:33:32.100352Z",
     "start_time": "2025-01-27T18:33:32.097570Z"
    }
   },
   "source": [
    "# --------------------------- RUN THIS CODE CELL (AFTER YOUR IMPLEMENTATION) -------------------------------------\n",
    "'''\n",
    "What do you need to do?\n",
    "\n",
    "Complete the 'person_quotation_pattern_extraction' function to extract \n",
    "     the person quoted and the quoted text, from a given input 'raw_text' as explained above.\n",
    "\n",
    "The returned values:\n",
    "- extracted_person_name - The extracted person name, as appearing in the patterns explained above\n",
    "- extracted_quotation   - The extracted quoted text (withot the surrounding quotation marks).\n",
    "\n",
    "* Important Note: if the pattern is not found, return None values for both the <br />\n",
    "                  extracted person name and the extracted text. \n",
    "------\n",
    "The return statement should look similar to the following statement:\n",
    "return extracted_person_name, extracted_quotation \n",
    "'''\n",
    "def person_quotation_pattern_extraction(raw_text):\n",
    "    pattern = r'^(?P<name>[\\w\\s.]+?)(?:\\s(?:said|answered|responded|replied))?:?\\s\"(?P<quote>.+)\"$'\n",
    "\n",
    "    match = re.match(pattern, raw_text)\n",
    "    if match:\n",
    "        return match.group('name'), match.group('quote')\n",
    "\n",
    "    return None, None\n"
   ],
   "outputs": [],
   "execution_count": 364
  },
  {
   "cell_type": "code",
   "metadata": {
    "collapsed": true,
    "ExecuteTime": {
     "end_time": "2025-01-27T18:33:32.109627Z",
     "start_time": "2025-01-27T18:33:32.105388Z"
    }
   },
   "source": [
    "# --------------------------- (AFTER YOUR IMPLEMENTATION if used) RUN THIS CODE CELL  ------------------------------------ \n",
    "# This section is FOR YOUR ASSISTANCE ONLY It will not be checked.\n",
    "# Add assistance tests here IF NEEDED:\n",
    "\n",
    "\n",
    "in_text = 'Marge Simpson responded: \"Homer, please.\"'\n",
    "person_name, extracted_text = person_quotation_pattern_extraction(in_text)\n",
    "print(f\"Person: {person_name}, Quote: {extracted_text}\")\n",
    "\n",
    "in_text = '''C. Montgomery Burns: \"Trust me, he'll say it, or I'll bust him down to Thursday night vespers.\"'''\n",
    "person_name, extracted_text = person_quotation_pattern_extraction(in_text)\n",
    "print(f\"Person: {person_name}, Quote: {extracted_text}\")"
   ],
   "outputs": [
    {
     "name": "stdout",
     "output_type": "stream",
     "text": [
      "Person: Marge Simpson, Quote: Homer, please.\n",
      "Person: C. Montgomery Burns, Quote: Trust me, he'll say it, or I'll bust him down to Thursday night vespers.\n"
     ]
    }
   ],
   "execution_count": 365
  },
  {
   "cell_type": "code",
   "metadata": {
    "collapsed": true,
    "nbgrader": {
     "grade": true,
     "grade_id": "test1-person_quotation_pattern_extraction",
     "locked": true,
     "points": "0.2",
     "solution": false
    },
    "editable": false,
    "deletable": false,
    "ExecuteTime": {
     "end_time": "2025-01-27T18:33:32.127705Z",
     "start_time": "2025-01-27T18:33:32.123978Z"
    }
   },
   "source": [
    "# --------------------------- RUN THIS TEST CODE CELL -------------------------------------\n",
    "'''\n",
    "1.a. --- Test your implementation:\n",
    "'''\n",
    "print (\"Test 1 - Testing the implementation of the 'person_quotation_pattern_extraction' method ...\\n\")\n",
    "\n",
    "in_text = 'Marge Simpson responded: \"Homer, please.\"'\n",
    "\n",
    "try:\n",
    "    person_name, extracted_text = person_quotation_pattern_extraction(in_text)\n",
    "except Exception as e:\n",
    "    print ('You probably have a syntax error, we got the following exception:')\n",
    "    print ('\\tError Message:', str(e))\n",
    "    print ('Try fixing your implementation')\n",
    "    raise \n",
    "\n",
    "assert person_name is not None and extracted_text is not None, \"Missing 'person_name' or 'extracted_text' returned values\"\n",
    "    \n",
    "print (\"Good Job!\\nYou've passed the 1st test for the 'person_quotation_pattern_extraction' function :-)\")"
   ],
   "outputs": [
    {
     "name": "stdout",
     "output_type": "stream",
     "text": [
      "Test 1 - Testing the implementation of the 'person_quotation_pattern_extraction' method ...\n",
      "\n",
      "Good Job!\n",
      "You've passed the 1st test for the 'person_quotation_pattern_extraction' function :-)\n"
     ]
    }
   ],
   "execution_count": 366
  },
  {
   "cell_type": "code",
   "metadata": {
    "collapsed": true,
    "nbgrader": {
     "grade": true,
     "grade_id": "test2-person_quotation_pattern_extraction",
     "locked": true,
     "points": "0.4",
     "solution": false
    },
    "editable": false,
    "deletable": false,
    "ExecuteTime": {
     "end_time": "2025-01-27T18:33:32.151438Z",
     "start_time": "2025-01-27T18:33:32.148586Z"
    }
   },
   "source": [
    "# --------------------------- RUN THIS TEST CODE CELL -------------------------------------\n",
    "'''\n",
    "1.a. --- Test your implementation:\n",
    "'''\n",
    "print (\"Test 2 - Testing the implementation of the 'person_quotation_pattern_extraction' method ...\\n\")\n",
    "\n",
    "in_text = 'Marge Simpson responded: \"Homer, please.\"'\n",
    "\n",
    "try:\n",
    "    person_name, extracted_text = person_quotation_pattern_extraction(in_text)\n",
    "except Exception as e:\n",
    "    print ('You probably have a syntax error, we got the following exception:')\n",
    "    print ('\\tError Message:', str(e))\n",
    "    print ('Try fixing your implementation')\n",
    "    raise \n",
    "\n",
    "assert person_name == 'Marge Simpson', \"Wrong extracted value for 'person_name', try again\"\n",
    "assert extracted_text == '''Homer, please.''', \"Wrong extracted value for 'extracted_text', try again\"\n",
    "\n",
    "print (\"Good Job!\\nYou've passed the 2nd test for the 'person_quotation_pattern_extraction' function :-)\")"
   ],
   "outputs": [
    {
     "name": "stdout",
     "output_type": "stream",
     "text": [
      "Test 2 - Testing the implementation of the 'person_quotation_pattern_extraction' method ...\n",
      "\n",
      "Good Job!\n",
      "You've passed the 2nd test for the 'person_quotation_pattern_extraction' function :-)\n"
     ]
    }
   ],
   "execution_count": 367
  },
  {
   "cell_type": "code",
   "metadata": {
    "collapsed": true,
    "nbgrader": {
     "grade": true,
     "grade_id": "test3-person_quotation_pattern_extraction",
     "locked": true,
     "points": "0.4",
     "solution": false
    },
    "editable": false,
    "deletable": false,
    "ExecuteTime": {
     "end_time": "2025-01-27T18:33:32.177171Z",
     "start_time": "2025-01-27T18:33:32.174127Z"
    }
   },
   "source": [
    "# --------------------------- RUN THIS TEST CODE CELL -------------------------------------\n",
    "'''\n",
    "1.a. --- Test your implementation:\n",
    "'''\n",
    "print (\"Test 3 - Testing the implementation of the 'person_quotation_pattern_extraction' method ...\\n\")\n",
    "print (\"====> The following is a hidden test ... \")\n",
    "\n",
    "###\n",
    "### AUTOGRADER TEST - DO NOT REMOVE\n",
    "###\n"
   ],
   "outputs": [
    {
     "name": "stdout",
     "output_type": "stream",
     "text": [
      "Test 3 - Testing the implementation of the 'person_quotation_pattern_extraction' method ...\n",
      "\n",
      "====> The following is a hidden test ... \n"
     ]
    }
   ],
   "execution_count": 368
  },
  {
   "cell_type": "markdown",
   "metadata": {
    "nbgrader": {
     "grade": false,
     "locked": true,
     "solution": false
    },
    "editable": false,
    "deletable": false
   },
   "source": [
    "### 1.b. Find \"what was said\" and \"who said it\" - part 2\n",
    "\n",
    "In this section you will continue to deal with quotations from \"Simpsons\" episodes.<br/>\n",
    "\n",
    "This time, the quoted texts will come before the \n",
    "For a given text such as:<br />\n",
    "    \"**Oh man, that guy's tough to love.**\", `Bart Simpson` replied.<br />\n",
    "You need to extract the following:<br />\n",
    "* Extract the person who is mentioned as saying the quoted text, in the above example, you should extract:<br />\n",
    "  `Bart Simpson`\n",
    "* Extract the quoted text, <u>after removing the double quotation marks(\")</u>. In the above example, you should extract:<br />\n",
    "  ****Oh man, that guy's tough to love.**.**\n",
    "* Note that you could expect the double quotation mark (\") will appear only before and after the quoted<br />\n",
    "  text and no where else.\n",
    "\n",
    "You could expect the input text to look similar to the following pattern:<br />\n",
    "\"**quoted text**\", `Person name` said.<br />\n",
    "\n",
    "_Variations of the above pattern_:<br />\n",
    "* The comma punctuation mark (,) is optional, and might not appear in the input sentence.\n",
    "* Instead of the word _said_ you could also expect the words: _answered_, _responded_, _replied_\n",
    "   \n",
    "**Important Note**: if the pattern is not found, return None values for both the <br />\n",
    "  extracted person name and the extracted text. \n",
    "  \n",
    "----------\n",
    "\n",
    "<u>**Text files** with the different quotations</u> (one in each line), could be found in the [`data`](data) folder (click to open):<br />\n",
    "* A [`sample of 10 quotations`](data/simpsons_dataset_8_speakers_ptrn_10_lns.txt)\n",
    "* A [`sample of 100 quotations`](data/simpsons_dataset_8_speakers_ptrn_100_lns.txt)\n",
    "* Other quotation text file could be found in the [`data`](data) folder."
   ]
  },
  {
   "cell_type": "code",
   "metadata": {
    "collapsed": true,
    "ExecuteTime": {
     "end_time": "2025-01-27T18:33:32.201910Z",
     "start_time": "2025-01-27T18:33:32.199074Z"
    }
   },
   "source": [
    "# --------------------------- RUN THIS CODE CELL (AFTER YOUR IMPLEMENTATION) -------------------------------------\n",
    "# (OPTIONAL IMPLEMENTATION CELL) add some assitant code or use this\n",
    "# cell code for you exploration, if needed:\n",
    "###\n",
    "### YOUR CODE HERE\n",
    "###\n"
   ],
   "outputs": [],
   "execution_count": 369
  },
  {
   "cell_type": "code",
   "metadata": {
    "collapsed": true,
    "ExecuteTime": {
     "end_time": "2025-01-27T18:33:32.228537Z",
     "start_time": "2025-01-27T18:33:32.225131Z"
    }
   },
   "source": [
    "# --------------------------- RUN THIS CODE CELL (AFTER YOUR IMPLEMENTATION) -------------------------------------\n",
    "'''\n",
    "What do you need to do?\n",
    "\n",
    "Complete the 'quotation_person_pattern_extraction' function to extract \n",
    "     the person quoted and the quoted text, from a given input 'raw_text' as explained above.\n",
    "\n",
    "     Note: In this function you should expect the quoted text to appear before the person name.\n",
    "     \n",
    "The returned values:\n",
    "- extracted_person_name - The extracted person name, as appearing in the patterns explained above\n",
    "- extracted_quotation   - The extracted quoted text (withot the surrounding quotation marks).\n",
    "\n",
    "* Important Note: if the pattern is not found, return None values for both the <br />\n",
    "                  extracted person name and the extracted text. \n",
    "------\n",
    "The return statement should look similar to the following statement:\n",
    "return extracted_person_name, extracted_quotation \n",
    "'''\n",
    "def quotation_person_pattern_extraction(raw_text):\n",
    "    pattern = re.compile(r'''\n",
    "        ^\"(?P<quote>.+)\"\\s?,?\\s?  # Match the quoted text\n",
    "        (?P<name>[\\w\\s.]+)        # Match the person's name\n",
    "        \\s(?:said|answered|responded|replied)\\.$  # Match the ending words\n",
    "    ''', re.VERBOSE)\n",
    "\n",
    "    match = re.match(pattern, raw_text)\n",
    "    if match:\n",
    "        return match.group('name'), match.group('quote')\n",
    "\n",
    "    return None, None\n"
   ],
   "outputs": [],
   "execution_count": 370
  },
  {
   "cell_type": "code",
   "metadata": {
    "collapsed": true,
    "ExecuteTime": {
     "end_time": "2025-01-27T18:33:32.239951Z",
     "start_time": "2025-01-27T18:33:32.236797Z"
    }
   },
   "source": [
    "# --------------------------- (AFTER YOUR IMPLEMENTATION if used) RUN THIS CODE CELL  ------------------------------------ \n",
    "# This section is FOR YOUR ASSISTANCE ONLY It will not be checked.\n",
    "# Add assistance tests here IF NEEDED:\n",
    "\n",
    "in_text = '''\"Oh man, that guy's tough to love.\", Bart Simpson replied.'''\n",
    "person_name, extracted_text = quotation_person_pattern_extraction(in_text)\n",
    "print(f\"Person: {person_name}, Quote: {extracted_text}\")\n",
    "\n",
    "in_text = '''\"Gimme that torch.\" Lisa Simpson said.'''\n",
    "person_name, extracted_text = quotation_person_pattern_extraction(in_text)\n",
    "print(f\"Person: {person_name}, Quote: {extracted_text}\")\n",
    "\n",
    "in_text = '''\"Come to papa!\", C. Montgomery Burns replied.'''\n",
    "person_name, extracted_text = quotation_person_pattern_extraction(in_text)\n",
    "print(f\"Person: {person_name}, Quote: {extracted_text}\")\n"
   ],
   "outputs": [
    {
     "name": "stdout",
     "output_type": "stream",
     "text": [
      "Person: Bart Simpson, Quote: Oh man, that guy's tough to love.\n",
      "Person: Lisa Simpson, Quote: Gimme that torch.\n",
      "Person: C. Montgomery Burns, Quote: Come to papa!\n"
     ]
    }
   ],
   "execution_count": 371
  },
  {
   "cell_type": "code",
   "metadata": {
    "collapsed": true,
    "nbgrader": {
     "grade": true,
     "grade_id": "test4-quotation_person_pattern_extraction",
     "locked": true,
     "points": "0.2",
     "solution": false
    },
    "editable": false,
    "deletable": false,
    "ExecuteTime": {
     "end_time": "2025-01-27T18:33:32.266187Z",
     "start_time": "2025-01-27T18:33:32.262074Z"
    }
   },
   "source": [
    "# --------------------------- RUN THIS TEST CODE CELL -------------------------------------\n",
    "'''\n",
    "1.b. --- Test your implementation:\n",
    "'''\n",
    "print (\"Test 1 - Testing the implementation of the 'quotation_person_pattern_extraction' method ...\\n\")\n",
    "\n",
    "in_text = '''\"Oh man, that guy's tough to love.\", Bart Simpson replied.''' \n",
    "\n",
    "try:\n",
    "    person_name, extracted_text = quotation_person_pattern_extraction(in_text)\n",
    "except Exception as e:\n",
    "    print ('You probably have a syntax error, we got the following exception:')\n",
    "    print ('\\tError Message:', str(e))\n",
    "    print ('Try fixing your implementation')\n",
    "    raise \n",
    "\n",
    "assert person_name is not None and extracted_text is not None, \"Missing 'person_name' or 'extracted_text' returned values\"\n",
    "\n",
    "print (\"Good Job!\\nYou've passed the 1st test for the 'quotation_person_pattern_extraction' function :-)\")"
   ],
   "outputs": [
    {
     "name": "stdout",
     "output_type": "stream",
     "text": [
      "Test 1 - Testing the implementation of the 'quotation_person_pattern_extraction' method ...\n",
      "\n",
      "Good Job!\n",
      "You've passed the 1st test for the 'quotation_person_pattern_extraction' function :-)\n"
     ]
    }
   ],
   "execution_count": 372
  },
  {
   "cell_type": "code",
   "metadata": {
    "collapsed": true,
    "nbgrader": {
     "grade": true,
     "grade_id": "test5-quotation_person_pattern_extraction",
     "locked": true,
     "points": "0.4",
     "solution": false
    },
    "editable": false,
    "deletable": false,
    "ExecuteTime": {
     "end_time": "2025-01-27T18:33:32.300900Z",
     "start_time": "2025-01-27T18:33:32.296375Z"
    }
   },
   "source": [
    "# --------------------------- RUN THIS TEST CODE CELL -------------------------------------\n",
    "'''\n",
    "1.b. --- Test your implementation:\n",
    "'''\n",
    "print (\"Test 2 - Testing the implementation of the 'quotation_person_pattern_extraction' method ...\\n\")\n",
    "\n",
    "in_text = '''\"Oh man, that guy's tough to love.\", Bart Simpson replied.''' \n",
    "\n",
    "try:\n",
    "    person_name, extracted_text = quotation_person_pattern_extraction(in_text)\n",
    "except Exception as e:\n",
    "    print ('You probably have a syntax error, we got the following exception:')\n",
    "    print ('\\tError Message:', str(e))\n",
    "    print ('Try fixing your implementation')\n",
    "    raise \n",
    "\n",
    "    assert person_name == 'Bart Simpson', \"Wrong extracted value for 'person_name', try again\"\n",
    "    assert extracted_text == '''Oh man, that guy's tough to love.''', \"Wrong extracted value for 'extracted_text', try again\"\n",
    "\n",
    "print (\"Good Job!\\nYou've passed the 2nd test for the 'quotation_person_pattern_extraction' function :-)\")"
   ],
   "outputs": [
    {
     "name": "stdout",
     "output_type": "stream",
     "text": [
      "Test 2 - Testing the implementation of the 'quotation_person_pattern_extraction' method ...\n",
      "\n",
      "Good Job!\n",
      "You've passed the 2nd test for the 'quotation_person_pattern_extraction' function :-)\n"
     ]
    }
   ],
   "execution_count": 373
  },
  {
   "cell_type": "code",
   "metadata": {
    "collapsed": true,
    "nbgrader": {
     "grade": true,
     "grade_id": "test6-quotation_person_pattern_extraction",
     "locked": true,
     "points": "0.4",
     "solution": false
    },
    "editable": false,
    "deletable": false,
    "ExecuteTime": {
     "end_time": "2025-01-27T18:33:32.338640Z",
     "start_time": "2025-01-27T18:33:32.335233Z"
    }
   },
   "source": [
    "# --------------------------- RUN THIS TEST CODE CELL -------------------------------------\n",
    "'''\n",
    "1.b. --- Test your implementation:\n",
    "'''\n",
    "print (\"Test 3 - Testing the implementation of the 'quotation_person_pattern_extraction' method ...\\n\")\n",
    "\n",
    "print (\"====> The following is a hidden test ... \")\n",
    "\n",
    "###\n",
    "### AUTOGRADER TEST - DO NOT REMOVE\n",
    "###\n"
   ],
   "outputs": [
    {
     "name": "stdout",
     "output_type": "stream",
     "text": [
      "Test 3 - Testing the implementation of the 'quotation_person_pattern_extraction' method ...\n",
      "\n",
      "====> The following is a hidden test ... \n"
     ]
    }
   ],
   "execution_count": 374
  },
  {
   "cell_type": "markdown",
   "metadata": {
    "nbgrader": {
     "grade": false,
     "locked": true,
     "solution": false
    },
    "editable": false,
    "deletable": false
   },
   "source": [
    "### 1.c. Transfer raw data to dataframe\n",
    "In this section you will read lines from a text file and <br/>\n",
    "extract the quoted person name and quoted text from each line.\n",
    "\n",
    "<u>Use both patterns</u>, which you implemented in the above methods to try to extract the person name and quoted text.<br/>\n",
    "\n",
    "Remarks:\n",
    "* Hint: Use the returned object from the 'open' method to get the file handler.\n",
    "* Each line you read is expected to contain a new-line in the end of the line. Remove the new-line as following:\n",
    "    * line_cln = line.strip()\n",
    "* There are the options for each line (assume one of these three options):\n",
    "    1. The first set of patterns, for which the person name appears before the quoted text.\n",
    "    + The second set of patterns, for which the quoted text appears before the person.\n",
    "    + Empty lines. \n",
    "\n"
   ]
  },
  {
   "cell_type": "code",
   "metadata": {
    "collapsed": true,
    "ExecuteTime": {
     "end_time": "2025-01-27T18:33:32.358966Z",
     "start_time": "2025-01-27T18:33:32.356853Z"
    }
   },
   "source": [
    "# --------------------------- RUN THIS CODE CELL (AFTER YOUR IMPLEMENTATION) -------------------------------------\n",
    "# (OPTIONAL IMPLEMENTATION CELL) add some assitant code or use this\n",
    "# cell code for you exploration, if needed:\n",
    "\n",
    "\n"
   ],
   "outputs": [],
   "execution_count": 375
  },
  {
   "cell_type": "code",
   "metadata": {
    "collapsed": true,
    "ExecuteTime": {
     "end_time": "2025-01-27T18:33:32.384745Z",
     "start_time": "2025-01-27T18:33:32.381255Z"
    }
   },
   "source": [
    "'''\n",
    "What do you need to do?\n",
    "\n",
    "Complete the 'transfer_raw_text_to_dataframe' function to return a dataframe\n",
    "   with the extracted person name and text as explained above. \n",
    "The information is expected to be extracted from the lines of the given 'filename' file.\n",
    "* Use the above implemented 'person_quotation_pattern_extraction' and \n",
    "  'quotation_person_pattern_extraction' methods, the the two pattern sets.\n",
    "\n",
    "The returned dataframe should include two columns:\n",
    "- 'person_name' - containing the extracted person name for each line.\n",
    "- 'extracted_text' - containing the extracted quoted text for each line.\n",
    "\n",
    "The returned values:\n",
    "- dataframe - The dataframe with the extracted information as described above.\n",
    "\n",
    "* Important Note: if a line does not contain any quotation pattern, no information should be saved in the\n",
    "                corresponding row in the dataframe. \n",
    "------\n",
    "------\n",
    "The return statement should look similar to the following statement:\n",
    "return dataframe\n",
    "'''\n",
    "def transfer_raw_text_to_dataframe(filename):\n",
    "    lines_data = []\n",
    "    with open(filename, 'r') as file:\n",
    "        lines = file.readlines()\n",
    "        for line in lines:\n",
    "            line_cln = line.strip()\n",
    "            person_name, extracted_text = person_quotation_pattern_extraction(line_cln)\n",
    "            if person_name is None:\n",
    "                person_name, extracted_text = quotation_person_pattern_extraction(line_cln)\n",
    "            if person_name is not None:\n",
    "                lines_data.append({'person_name': person_name, 'extracted_text': extracted_text})\n",
    "            else: print(f'No pattern found in line: {line_cln}')\n",
    "    return pd.DataFrame(lines_data)\n",
    "\n"
   ],
   "outputs": [],
   "execution_count": 376
  },
  {
   "cell_type": "code",
   "metadata": {
    "collapsed": true,
    "ExecuteTime": {
     "end_time": "2025-01-27T18:33:32.401785Z",
     "start_time": "2025-01-27T18:33:32.395122Z"
    }
   },
   "source": [
    "# --------------------------- (AFTER YOUR IMPLEMENTATION if used) RUN THIS CODE CELL  ------------------------------------ \n",
    "# This section is FOR YOUR ASSISTANCE ONLY It will not be checked.\n",
    "# Add assistance tests here IF NEEDED:\n",
    "file_name = '.' + os.sep + 'data' + os.sep + 'simpsons_dataset_8_speakers_ptrn_10_lns.txt'\n",
    "\n",
    "\n",
    "dataframe = transfer_raw_text_to_dataframe(file_name)\n",
    "dataframe"
   ],
   "outputs": [
    {
     "data": {
      "text/plain": [
       "           person_name                                     extracted_text\n",
       "0        Homer Simpson                                         Am I ever!\n",
       "1         Lisa Simpson  Hmmm. So... is it okay if I go to the women's ...\n",
       "2         Bart Simpson                                  Really? Uh, sure.\n",
       "3         Bart Simpson                                      Sounds great.\n",
       "4        Homer Simpson                     Danica Patrick in my thoughts!\n",
       "5  C. Montgomery Burns  Trust me, he'll say it, or I'll bust him down ...\n",
       "6         Lisa Simpson                                  Gimme that torch.\n",
       "7        Marge Simpson  No! No, I've got a lot more mothering left in me!\n",
       "8        Marge Simpson  Oh, Homie, I don't care if you're a billionair...\n",
       "9        Homer Simpson                                   Damn you, e-Bay!"
      ],
      "text/html": [
       "<div>\n",
       "<style scoped>\n",
       "    .dataframe tbody tr th:only-of-type {\n",
       "        vertical-align: middle;\n",
       "    }\n",
       "\n",
       "    .dataframe tbody tr th {\n",
       "        vertical-align: top;\n",
       "    }\n",
       "\n",
       "    .dataframe thead th {\n",
       "        text-align: right;\n",
       "    }\n",
       "</style>\n",
       "<table border=\"1\" class=\"dataframe\">\n",
       "  <thead>\n",
       "    <tr style=\"text-align: right;\">\n",
       "      <th></th>\n",
       "      <th>person_name</th>\n",
       "      <th>extracted_text</th>\n",
       "    </tr>\n",
       "  </thead>\n",
       "  <tbody>\n",
       "    <tr>\n",
       "      <th>0</th>\n",
       "      <td>Homer Simpson</td>\n",
       "      <td>Am I ever!</td>\n",
       "    </tr>\n",
       "    <tr>\n",
       "      <th>1</th>\n",
       "      <td>Lisa Simpson</td>\n",
       "      <td>Hmmm. So... is it okay if I go to the women's ...</td>\n",
       "    </tr>\n",
       "    <tr>\n",
       "      <th>2</th>\n",
       "      <td>Bart Simpson</td>\n",
       "      <td>Really? Uh, sure.</td>\n",
       "    </tr>\n",
       "    <tr>\n",
       "      <th>3</th>\n",
       "      <td>Bart Simpson</td>\n",
       "      <td>Sounds great.</td>\n",
       "    </tr>\n",
       "    <tr>\n",
       "      <th>4</th>\n",
       "      <td>Homer Simpson</td>\n",
       "      <td>Danica Patrick in my thoughts!</td>\n",
       "    </tr>\n",
       "    <tr>\n",
       "      <th>5</th>\n",
       "      <td>C. Montgomery Burns</td>\n",
       "      <td>Trust me, he'll say it, or I'll bust him down ...</td>\n",
       "    </tr>\n",
       "    <tr>\n",
       "      <th>6</th>\n",
       "      <td>Lisa Simpson</td>\n",
       "      <td>Gimme that torch.</td>\n",
       "    </tr>\n",
       "    <tr>\n",
       "      <th>7</th>\n",
       "      <td>Marge Simpson</td>\n",
       "      <td>No! No, I've got a lot more mothering left in me!</td>\n",
       "    </tr>\n",
       "    <tr>\n",
       "      <th>8</th>\n",
       "      <td>Marge Simpson</td>\n",
       "      <td>Oh, Homie, I don't care if you're a billionair...</td>\n",
       "    </tr>\n",
       "    <tr>\n",
       "      <th>9</th>\n",
       "      <td>Homer Simpson</td>\n",
       "      <td>Damn you, e-Bay!</td>\n",
       "    </tr>\n",
       "  </tbody>\n",
       "</table>\n",
       "</div>"
      ]
     },
     "execution_count": 377,
     "metadata": {},
     "output_type": "execute_result"
    }
   ],
   "execution_count": 377
  },
  {
   "cell_type": "code",
   "metadata": {
    "collapsed": true,
    "nbgrader": {
     "grade": true,
     "grade_id": "test7-transfer_raw_text_to_dataframe",
     "locked": true,
     "points": "0.5",
     "solution": false
    },
    "editable": false,
    "deletable": false,
    "ExecuteTime": {
     "end_time": "2025-01-27T18:33:32.440010Z",
     "start_time": "2025-01-27T18:33:32.435437Z"
    }
   },
   "source": [
    "# --------------------------- RUN THIS TEST CODE CELL -------------------------------------\n",
    "'''\n",
    "1.c. --- Test your implementation:\n",
    "'''\n",
    "print (\"Test 1 - Testing the implementation of the 'transfer_raw_text_to_dataframe' method ...\\n\")\n",
    "\n",
    "cols=['person_name', 'extracted_text']\n",
    "file_name = '.' + os.sep + 'data' + os.sep + 'simpsons_dataset_8_speakers_ptrn_10_lns.txt'\n",
    "\n",
    "try:\n",
    "    dataframe = transfer_raw_text_to_dataframe(file_name)\n",
    "except Exception as e:\n",
    "    print ('You probably have a syntax error, we got the following exception:')\n",
    "    print ('\\tError Message:', str(e))\n",
    "    print ('Try fixing your implementation')\n",
    "    raise \n",
    "    \n",
    "print (\"Good Job!\\nYou've passed the 1st test for the 'transfer_raw_text_to_dataframe' function :-)\")"
   ],
   "outputs": [
    {
     "name": "stdout",
     "output_type": "stream",
     "text": [
      "Test 1 - Testing the implementation of the 'transfer_raw_text_to_dataframe' method ...\n",
      "\n",
      "Good Job!\n",
      "You've passed the 1st test for the 'transfer_raw_text_to_dataframe' function :-)\n"
     ]
    }
   ],
   "execution_count": 378
  },
  {
   "cell_type": "code",
   "metadata": {
    "collapsed": true,
    "nbgrader": {
     "grade": true,
     "grade_id": "test8-transfer_raw_text_to_dataframe",
     "locked": true,
     "points": "0.5",
     "solution": false
    },
    "editable": false,
    "deletable": false,
    "ExecuteTime": {
     "end_time": "2025-01-27T18:33:32.502317Z",
     "start_time": "2025-01-27T18:33:32.497283Z"
    }
   },
   "source": [
    "# --------------------------- RUN THIS TEST CODE CELL -------------------------------------\n",
    "'''\n",
    "1.c. --- Test your implementation:\n",
    "'''\n",
    "print (\"Test 2 - Testing the implementation of the 'transfer_raw_text_to_dataframe' method ...\\n\")\n",
    "\n",
    "cols=sorted(['person_name', 'extracted_text'])\n",
    "file_name = '.' + os.sep + 'data' + os.sep + 'simpsons_dataset_8_speakers_ptrn_10_lns.txt'\n",
    "\n",
    "try:\n",
    "    dataframe = transfer_raw_text_to_dataframe(file_name)\n",
    "    cols_in_df = sorted(list(dataframe.columns))\n",
    "except Exception as e:\n",
    "    print ('You probably have a syntax error, we got the following exception:')\n",
    "    print ('\\tError Message:', str(e))\n",
    "    print ('Try fixing your implementation')\n",
    "    raise \n",
    "    \n",
    "assert dataframe is not None , \"Missing 'dataframe' returned value\"\n",
    "\n",
    "assert dataframe.shape == (10, 2), 'Wrong shape for returned dataframe'\n",
    "np.testing.assert_array_equal(cols_in_df, cols, 'wrong columns in returned dataframe')\n",
    "\n",
    "print (\"Good Job!\\nYou've passed the 2nd test for the 'transfer_raw_text_to_dataframe' function :-)\")"
   ],
   "outputs": [
    {
     "name": "stdout",
     "output_type": "stream",
     "text": [
      "Test 2 - Testing the implementation of the 'transfer_raw_text_to_dataframe' method ...\n",
      "\n",
      "Good Job!\n",
      "You've passed the 2nd test for the 'transfer_raw_text_to_dataframe' function :-)\n"
     ]
    }
   ],
   "execution_count": 379
  },
  {
   "cell_type": "code",
   "metadata": {
    "collapsed": true,
    "nbgrader": {
     "grade": true,
     "grade_id": "test9-transfer_raw_text_to_dataframe",
     "locked": true,
     "points": "0.5",
     "solution": false
    },
    "editable": false,
    "deletable": false,
    "ExecuteTime": {
     "end_time": "2025-01-27T18:33:32.564406Z",
     "start_time": "2025-01-27T18:33:32.556915Z"
    }
   },
   "source": [
    "# --------------------------- RUN THIS TEST CODE CELL -------------------------------------\n",
    "'''\n",
    "1.c. --- Test your implementation:\n",
    "'''\n",
    "print (\"Test 3 - Testing the implementation of the 'transfer_raw_text_to_dataframe' method ...\\n\")\n",
    "\n",
    "cols=['person_name', 'extracted_text']\n",
    "file_name = '.' + os.sep + 'data' + os.sep + 'simpsons_dataset_8_speakers_ptrn_10_lns.txt'\n",
    "\n",
    "try:\n",
    "    dataframe = transfer_raw_text_to_dataframe(file_name)\n",
    "    person_names = dataframe['person_name']\n",
    "    person_names = [person for person in person_names if person is not None and person.strip()]\n",
    "    unique_names = np.unique(person_names)\n",
    "except Exception as e:\n",
    "    print ('You probably have a syntax error, we got the following exception:')\n",
    "    print ('\\tError Message:', str(e))\n",
    "    print ('Try fixing your implementation')\n",
    "    raise \n",
    "\n",
    "assert len(person_names) == 10, 'Missing person names in returned dataframe'\n",
    "print (unique_names)\n",
    "print (\"Good Job!\\nYou've passed the 3rd test for the 'transfer_raw_text_to_dataframe' function :-)\")\n",
    "dataframe.head()"
   ],
   "outputs": [
    {
     "name": "stdout",
     "output_type": "stream",
     "text": [
      "Test 3 - Testing the implementation of the 'transfer_raw_text_to_dataframe' method ...\n",
      "\n",
      "['Bart Simpson' 'C. Montgomery Burns' 'Homer Simpson' 'Lisa Simpson'\n",
      " 'Marge Simpson']\n",
      "Good Job!\n",
      "You've passed the 3rd test for the 'transfer_raw_text_to_dataframe' function :-)\n"
     ]
    },
    {
     "data": {
      "text/plain": [
       "     person_name                                     extracted_text\n",
       "0  Homer Simpson                                         Am I ever!\n",
       "1   Lisa Simpson  Hmmm. So... is it okay if I go to the women's ...\n",
       "2   Bart Simpson                                  Really? Uh, sure.\n",
       "3   Bart Simpson                                      Sounds great.\n",
       "4  Homer Simpson                     Danica Patrick in my thoughts!"
      ],
      "text/html": [
       "<div>\n",
       "<style scoped>\n",
       "    .dataframe tbody tr th:only-of-type {\n",
       "        vertical-align: middle;\n",
       "    }\n",
       "\n",
       "    .dataframe tbody tr th {\n",
       "        vertical-align: top;\n",
       "    }\n",
       "\n",
       "    .dataframe thead th {\n",
       "        text-align: right;\n",
       "    }\n",
       "</style>\n",
       "<table border=\"1\" class=\"dataframe\">\n",
       "  <thead>\n",
       "    <tr style=\"text-align: right;\">\n",
       "      <th></th>\n",
       "      <th>person_name</th>\n",
       "      <th>extracted_text</th>\n",
       "    </tr>\n",
       "  </thead>\n",
       "  <tbody>\n",
       "    <tr>\n",
       "      <th>0</th>\n",
       "      <td>Homer Simpson</td>\n",
       "      <td>Am I ever!</td>\n",
       "    </tr>\n",
       "    <tr>\n",
       "      <th>1</th>\n",
       "      <td>Lisa Simpson</td>\n",
       "      <td>Hmmm. So... is it okay if I go to the women's ...</td>\n",
       "    </tr>\n",
       "    <tr>\n",
       "      <th>2</th>\n",
       "      <td>Bart Simpson</td>\n",
       "      <td>Really? Uh, sure.</td>\n",
       "    </tr>\n",
       "    <tr>\n",
       "      <th>3</th>\n",
       "      <td>Bart Simpson</td>\n",
       "      <td>Sounds great.</td>\n",
       "    </tr>\n",
       "    <tr>\n",
       "      <th>4</th>\n",
       "      <td>Homer Simpson</td>\n",
       "      <td>Danica Patrick in my thoughts!</td>\n",
       "    </tr>\n",
       "  </tbody>\n",
       "</table>\n",
       "</div>"
      ]
     },
     "execution_count": 380,
     "metadata": {},
     "output_type": "execute_result"
    }
   ],
   "execution_count": 380
  },
  {
   "cell_type": "markdown",
   "metadata": {
    "nbgrader": {
     "grade": false,
     "locked": true,
     "solution": false
    },
    "editable": false,
    "deletable": false
   },
   "source": [
    "## 2. Auxiliary classification pipeline methods\n",
    "* Create simple pipeline\n",
    "* fit the classification pipeline\n",
    "* predict new test examples\n",
    "* evaluate performance"
   ]
  },
  {
   "cell_type": "markdown",
   "metadata": {
    "nbgrader": {
     "grade": false,
     "locked": true,
     "solution": false
    },
    "editable": false,
    "deletable": false
   },
   "source": [
    "### 2.a. Create a simple pipeline \n",
    "Create a simple pipeline to contain the following:\n",
    "* Vectorizer - a CountVectorizer object without any parameters\n",
    "* Classifier - a MultinomialNB classifier"
   ]
  },
  {
   "cell_type": "code",
   "metadata": {
    "collapsed": true,
    "ExecuteTime": {
     "end_time": "2025-01-27T18:33:32.614280Z",
     "start_time": "2025-01-27T18:33:32.611890Z"
    }
   },
   "source": [
    "# --------------------------- RUN THIS CODE CELL (AFTER YOUR IMPLEMENTATION) -------------------------------------\n",
    "# (OPTIONAL IMPLEMENTATION CELL) add some assitant code or use this\n",
    "# cell code for you exploration, if needed:\n",
    "###\n",
    "### YOUR CODE HERE\n",
    "###\n"
   ],
   "outputs": [],
   "execution_count": 381
  },
  {
   "cell_type": "code",
   "metadata": {
    "collapsed": true,
    "ExecuteTime": {
     "end_time": "2025-01-27T18:33:32.661803Z",
     "start_time": "2025-01-27T18:33:32.659180Z"
    }
   },
   "source": [
    "'''\n",
    "What do you need to do?\n",
    "\n",
    "Complete the 'create_simple_pipeline' function to return a simple classification\n",
    "   pipeline object, which contains only the above components.\n",
    "------\n",
    "The return statement should look similar to the following statement:\n",
    "return clf_pipeline\n",
    "'''\n",
    "def create_simple_pipeline():\n",
    "    return Pipeline([('vect', CountVectorizer()), ('clf', MultinomialNB())])\n"
   ],
   "outputs": [],
   "execution_count": 382
  },
  {
   "cell_type": "code",
   "metadata": {
    "collapsed": true,
    "ExecuteTime": {
     "end_time": "2025-01-27T18:33:32.717929Z",
     "start_time": "2025-01-27T18:33:32.715433Z"
    }
   },
   "source": [
    "# --------------------------- (AFTER YOUR IMPLEMENTATION if used) RUN THIS CODE CELL  ------------------------------------ \n",
    "# This section is FOR YOUR ASSISTANCE ONLY It will not be checked.\n",
    "# Add assistance tests here IF NEEDED:\n",
    "\n",
    "\n"
   ],
   "outputs": [],
   "execution_count": 383
  },
  {
   "cell_type": "code",
   "metadata": {
    "collapsed": true,
    "nbgrader": {
     "grade": true,
     "grade_id": "test10-create_simple_pipeline",
     "locked": true,
     "points": "0.5",
     "solution": false
    },
    "editable": false,
    "deletable": false,
    "ExecuteTime": {
     "end_time": "2025-01-27T18:33:32.745076Z",
     "start_time": "2025-01-27T18:33:32.740863Z"
    }
   },
   "source": [
    "# --------------------------- RUN THIS TEST CODE CELL -------------------------------------\n",
    "'''\n",
    "2.a. --- Test your implementation:\n",
    "'''\n",
    "print (\"Test - Testing the implementation of the 'create_simple_pipeline' method ...\\n\")\n",
    "\n",
    "cols=['person_name', 'extracted_text']\n",
    "file_name = '.' + os.sep + 'data' + os.sep + 'simpsons_dataset_8_speakers_ptrn_10_lns.txt'\n",
    "\n",
    "try:\n",
    "    clf_pipeline = create_simple_pipeline()\n",
    "    clf_pipeline_steps = clf_pipeline.steps\n",
    "except Exception as e:\n",
    "    print ('You probably have a syntax error, we got the following exception:')\n",
    "    print ('\\tError Message:', str(e))\n",
    "    print ('Try fixing your implementation')\n",
    "    raise \n",
    "\n",
    "assert clf_pipeline is not None and clf_pipeline_steps is not None, 'Missing or corrupt returned pipeline object'\n",
    "assert len(clf_pipeline_steps) == 2, 'Wrong number of steps in returned pipeline object' \n",
    "\n",
    "print (\"Good Job!\\nYou've passed the test for the 'create_simple_pipeline' function :-)\")"
   ],
   "outputs": [
    {
     "name": "stdout",
     "output_type": "stream",
     "text": [
      "Test - Testing the implementation of the 'create_simple_pipeline' method ...\n",
      "\n",
      "Good Job!\n",
      "You've passed the test for the 'create_simple_pipeline' function :-)\n"
     ]
    }
   ],
   "execution_count": 384
  },
  {
   "cell_type": "markdown",
   "metadata": {},
   "source": [
    "### 2.b. Fit a pipeline on train dataframe\n",
    "Use the simple pipeline classification object to fit (train),<br />\n",
    "it on the input 'df_train' dataframe.\n",
    "\n",
    "The input 'df_train' includes two columns:\n",
    "* 'person_name' - acting as the category, which you need to classify\n",
    "* 'extracted_text' - the raw text, repesenting a sentence (or a few short sentences), \n",
    "   which are associated to the person, called 'person_name').\n",
    "   \n",
    "Use the df_train['extracted_text'] to get the X_train raw data.<br/>\n",
    "Use the df_train['person_name'] to get the y_train categories.<br/>\n",
    "\n",
    "**Note**: No return value is needed in this function"
   ]
  },
  {
   "cell_type": "code",
   "metadata": {
    "collapsed": true,
    "ExecuteTime": {
     "end_time": "2025-01-27T18:33:32.769209Z",
     "start_time": "2025-01-27T18:33:32.767201Z"
    }
   },
   "source": [
    "# --------------------------- RUN THIS CODE CELL (AFTER YOUR IMPLEMENTATION) -------------------------------------\n",
    "# (OPTIONAL IMPLEMENTATION CELL) add some assitant code or use this\n",
    "# cell code for you exploration, if needed:\n",
    "###\n",
    "### YOUR CODE HERE\n",
    "###\n"
   ],
   "outputs": [],
   "execution_count": 385
  },
  {
   "cell_type": "code",
   "metadata": {
    "collapsed": true,
    "ExecuteTime": {
     "end_time": "2025-01-27T18:33:32.786011Z",
     "start_time": "2025-01-27T18:33:32.783567Z"
    }
   },
   "source": [
    "'''\n",
    "What do you need to do?\n",
    "\n",
    "Complete the 'fit' function to train and fit the given 'clf_pipeline' object.\n",
    "      The training should be done on the input 'df_train' dataframe.\n",
    "\n",
    "For detailed explanation see the above explanation.\n",
    "\n",
    "* Note: No return value is needed in this function\n",
    "'''\n",
    "def fit(clf_pipeline, df_train):\n",
    "    clf_pipeline.fit(df_train['extracted_text'], df_train['person_name'])\n"
   ],
   "outputs": [],
   "execution_count": 386
  },
  {
   "cell_type": "code",
   "metadata": {
    "collapsed": true,
    "ExecuteTime": {
     "end_time": "2025-01-27T18:33:32.806906Z",
     "start_time": "2025-01-27T18:33:32.805033Z"
    }
   },
   "source": [
    "# --------------------------- (AFTER YOUR IMPLEMENTATION if used) RUN THIS CODE CELL  ------------------------------------ \n",
    "# This section is FOR YOUR ASSISTANCE ONLY It will not be checked.\n",
    "# Add assistance tests here IF NEEDED:\n",
    "\n",
    "\n"
   ],
   "outputs": [],
   "execution_count": 387
  },
  {
   "cell_type": "markdown",
   "metadata": {},
   "source": [
    "### 2.c. Predict test example\n",
    "Use the trained given simple pipeline to predict new test examples.<br />\n",
    "\n",
    "The input `x_test` includes a pandas series of the 'extracted_text'.<br />\n",
    "This refers to the same type of data as the 'extracted_text' column in the df_train dataframe,<br />\n",
    " described and used above."
   ]
  },
  {
   "cell_type": "code",
   "metadata": {
    "collapsed": true,
    "ExecuteTime": {
     "end_time": "2025-01-27T18:33:32.821221Z",
     "start_time": "2025-01-27T18:33:32.818915Z"
    }
   },
   "source": [
    "# --------------------------- RUN THIS CODE CELL (AFTER YOUR IMPLEMENTATION) -------------------------------------\n",
    "# (OPTIONAL IMPLEMENTATION CELL) add some assitant code or use this\n",
    "# cell code for you exploration, if needed:\n",
    "###\n",
    "### YOUR CODE HERE\n",
    "###\n"
   ],
   "outputs": [],
   "execution_count": 388
  },
  {
   "cell_type": "code",
   "metadata": {
    "collapsed": true,
    "ExecuteTime": {
     "end_time": "2025-01-27T18:33:32.843547Z",
     "start_time": "2025-01-27T18:33:32.840653Z"
    }
   },
   "source": [
    "'''\n",
    "What do you need to do?\n",
    "\n",
    "Complete the 'predict' function to return the predicted values for the test\n",
    "    'x_test' series as described above, using the trained given 'clf_trained_pipeline' pipeline.\n",
    "\n",
    "For detailed explanation see the above explanation\n",
    "------\n",
    "The return statement should look similar to the following statement:\n",
    "return y_predicted\n",
    "'''\n",
    "def predict(clf_trained_pipeline, x_test):\n",
    "    return clf_trained_pipeline.predict(x_test)\n"
   ],
   "outputs": [],
   "execution_count": 389
  },
  {
   "cell_type": "code",
   "metadata": {
    "collapsed": true,
    "ExecuteTime": {
     "end_time": "2025-01-27T18:34:54.194263Z",
     "start_time": "2025-01-27T18:34:54.172064Z"
    }
   },
   "source": [
    "# --------------------------- (AFTER YOUR IMPLEMENTATION if used) RUN THIS CODE CELL  ------------------------------------ \n",
    "# This section is FOR YOUR ASSISTANCE ONLY It will not be checked.\n",
    "# Add assistance tests here IF NEEDED:\n",
    "\n",
    "file_name = '.' + os.sep + 'data' + os.sep + 'simpsons_dataset_8_speakers_ptrn_1k_lns.txt'\n",
    "dataframe = transfer_raw_text_to_dataframe(file_name)\n",
    "print(dataframe.shape)\n",
    "df_train = dataframe.iloc[:800,:]\n",
    "df_test = dataframe.iloc[800:,:]\n",
    "clf_pipeline = create_simple_pipeline()\n",
    "fit(clf_pipeline, df_train)\n",
    "y_predicted = predict(clf_pipeline, df_test['extracted_text'])"
   ],
   "outputs": [
    {
     "name": "stdout",
     "output_type": "stream",
     "text": [
      "(1000, 2)\n"
     ]
    }
   ],
   "execution_count": 401
  },
  {
   "cell_type": "code",
   "metadata": {
    "collapsed": true,
    "nbgrader": {
     "grade": true,
     "grade_id": "test11-pipeline_fit_predict",
     "locked": true,
     "points": "0.5",
     "solution": false
    },
    "editable": false,
    "deletable": false,
    "ExecuteTime": {
     "end_time": "2025-01-27T18:33:32.974040Z",
     "start_time": "2025-01-27T18:33:32.953069Z"
    }
   },
   "source": [
    "# --------------------------- RUN THIS TEST CODE CELL -------------------------------------\n",
    "'''\n",
    "2.b., 2.c. --- Test your implementation:\n",
    "'''\n",
    "print (\"Test 1 - Testing the implementation of the 'fit' and 'predict' methods ...\\n\")\n",
    "\n",
    "cols=['person_name', 'extracted_text']\n",
    "file_name = '.' + os.sep + 'data' + os.sep + 'simpsons_dataset_8_speakers_ptrn_1k_lns.txt'\n",
    "\n",
    "try:\n",
    "    dataframe = transfer_raw_text_to_dataframe(file_name)\n",
    "    # raw dataset is already shuffled\n",
    "    df_train = dataframe.iloc[:800,:]\n",
    "    df_test = dataframe.iloc[800:,:]\n",
    "    clf_pipeline = create_simple_pipeline()\n",
    "    fit(clf_pipeline, df_train)\n",
    "    y_predicted = predict(clf_pipeline, df_test['extracted_text'])\n",
    "except Exception as e:\n",
    "    print ('You probably have a syntax error, we got the following exception:')\n",
    "    print ('\\tError Message:', str(e))\n",
    "    print ('Try fixing your implementation')\n",
    "    raise \n",
    "    \n",
    "assert y_predicted is not None , \"Missing the 'y_predicted' series returned value\"\n",
    "\n",
    "print (\"Good Job!\\nYou've passed the 1st test for the 'fit' and 'predict' methods :-)\")"
   ],
   "outputs": [
    {
     "name": "stdout",
     "output_type": "stream",
     "text": [
      "Test 1 - Testing the implementation of the 'fit' and 'predict' methods ...\n",
      "\n",
      "Good Job!\n",
      "You've passed the 1st test for the 'fit' and 'predict' methods :-)\n"
     ]
    }
   ],
   "execution_count": 391
  },
  {
   "cell_type": "code",
   "metadata": {
    "collapsed": true,
    "nbgrader": {
     "grade": true,
     "grade_id": "test12-pipeline_fit_predict",
     "locked": true,
     "points": "0.5",
     "solution": false
    },
    "editable": false,
    "deletable": false,
    "ExecuteTime": {
     "end_time": "2025-01-27T18:33:33.007758Z",
     "start_time": "2025-01-27T18:33:32.987992Z"
    }
   },
   "source": [
    "# --------------------------- RUN THIS TEST CODE CELL -------------------------------------\n",
    "'''\n",
    "2.b., 2.c. --- Test your implementation:\n",
    "'''\n",
    "print (\"Test 2 - Testing the implementation of the 'fit' and 'predict' methods ...\\n\")\n",
    "\n",
    "cols=['person_name', 'extracted_text']\n",
    "file_name = '.' + os.sep + 'data' + os.sep + 'simpsons_dataset_8_speakers_ptrn_1k_lns.txt'\n",
    "\n",
    "try:\n",
    "    dataframe = transfer_raw_text_to_dataframe(file_name)\n",
    "    # raw dataset is already shuffled\n",
    "    df_train = dataframe.iloc[:800,:]\n",
    "    df_test = dataframe.iloc[800:,:]\n",
    "    clf_pipeline = create_simple_pipeline()\n",
    "    fit(clf_pipeline, df_train)\n",
    "    y_predicted = predict(clf_pipeline, df_test['extracted_text'])\n",
    "except Exception as e:\n",
    "    print ('You probably have a syntax error, we got the following exception:')\n",
    "    print ('\\tError Message:', str(e))\n",
    "    print ('Try fixing your implementation')\n",
    "    raise \n",
    "assert y_predicted[0] == 'Homer Simpson', 'Wrong predicted value'\n",
    "assert y_predicted[22] == 'Marge Simpson', 'Wrong predicted value'\n",
    "\n",
    "print (\"Good Job!\\nYou've passed the 2nd test for the 'fit' and 'predict' methods :-)\")"
   ],
   "outputs": [
    {
     "name": "stdout",
     "output_type": "stream",
     "text": [
      "Test 2 - Testing the implementation of the 'fit' and 'predict' methods ...\n",
      "\n",
      "Good Job!\n",
      "You've passed the 2nd test for the 'fit' and 'predict' methods :-)\n"
     ]
    }
   ],
   "execution_count": 392
  },
  {
   "cell_type": "markdown",
   "metadata": {
    "nbgrader": {
     "grade": false,
     "locked": true,
     "solution": false
    },
    "editable": false,
    "deletable": false
   },
   "source": [
    "### 2.d. Evaluate trained classification pipeline\n",
    "Use the accuracy measure to evaluate the trained pipeline.<br />"
   ]
  },
  {
   "cell_type": "code",
   "metadata": {
    "collapsed": true,
    "ExecuteTime": {
     "end_time": "2025-01-27T18:33:33.026910Z",
     "start_time": "2025-01-27T18:33:33.024799Z"
    }
   },
   "source": [
    "# --------------------------- RUN THIS CODE CELL (AFTER YOUR IMPLEMENTATION) -------------------------------------\n",
    "# (OPTIONAL IMPLEMENTATION CELL) add some assitant code or use this\n",
    "# cell code for you exploration, if needed:\n",
    "###\n",
    "### YOUR CODE HERE\n",
    "###\n"
   ],
   "outputs": [],
   "execution_count": 393
  },
  {
   "cell_type": "code",
   "metadata": {
    "collapsed": true,
    "ExecuteTime": {
     "end_time": "2025-01-27T18:33:33.049696Z",
     "start_time": "2025-01-27T18:33:33.047493Z"
    }
   },
   "source": [
    "'''\n",
    "What do you need to do?\n",
    "\n",
    "Complete the 'evaluate_accuracy' function to return the accuracy value of trained \n",
    "    classification pipeline.\n",
    "    \n",
    "The evaluation will be performed between the actual values - 'y_test'\n",
    "    and the predicted values 'y_predicted'.\n",
    "\n",
    "-----\n",
    "The return statement should look similar to the following statement:\n",
    "return evaluation_val\n",
    "'''\n",
    "def evaluate_accuracy(y_test, y_predicted):\n",
    "    return accuracy_score(y_test, y_predicted)\n"
   ],
   "outputs": [],
   "execution_count": 394
  },
  {
   "cell_type": "code",
   "metadata": {
    "collapsed": true,
    "ExecuteTime": {
     "end_time": "2025-01-27T18:33:33.071820Z",
     "start_time": "2025-01-27T18:33:33.068939Z"
    }
   },
   "source": [
    "# --------------------------- (AFTER YOUR IMPLEMENTATION if used) RUN THIS CODE CELL  ------------------------------------ \n",
    "# This section is FOR YOUR ASSISTANCE ONLY It will not be checked.\n",
    "# Add assistance tests here IF NEEDED:\n",
    "\n"
   ],
   "outputs": [],
   "execution_count": 395
  },
  {
   "cell_type": "code",
   "metadata": {
    "collapsed": true,
    "nbgrader": {
     "grade": true,
     "grade_id": "test13-evaluate_accuracy",
     "locked": true,
     "points": "0.2",
     "solution": false
    },
    "editable": false,
    "deletable": false,
    "ExecuteTime": {
     "end_time": "2025-01-27T18:33:33.109061Z",
     "start_time": "2025-01-27T18:33:33.090290Z"
    }
   },
   "source": [
    "# --------------------------- RUN THIS TEST CODE CELL -------------------------------------\n",
    "'''\n",
    "2.d. --- Test your implementation:\n",
    "'''\n",
    "print (\"Test 1 - Testing the implementation of the 'evaluate_accuracy' method ...\\n\")\n",
    "\n",
    "cols=['person_name', 'extracted_text']\n",
    "file_name = '.' + os.sep + 'data' + os.sep + 'simpsons_dataset_8_speakers_ptrn_1k_lns.txt'\n",
    "\n",
    "try:\n",
    "    dataframe = transfer_raw_text_to_dataframe(file_name)\n",
    "    # raw dataset is already shuffled\n",
    "    df_train = dataframe.iloc[:800,:]\n",
    "    df_test = dataframe.iloc[800:,:]\n",
    "    y_test = df_test['person_name']\n",
    "    clf_pipeline = create_simple_pipeline()\n",
    "    fit(clf_pipeline, df_train)\n",
    "    y_predicted = predict(clf_pipeline, df_test['extracted_text'])\n",
    "    evaluation_val = evaluate_accuracy(y_test,y_predicted)\n",
    "except Exception as e:\n",
    "    print ('You probably have a syntax error, we got the following exception:')\n",
    "    print ('\\tError Message:', str(e))\n",
    "    print ('Try fixing your implementation')\n",
    "    raise \n",
    "\n",
    "print (\"Good Job!\\nYou've passed the 1st test for the 'evaluate_accuracy' method :-)\")"
   ],
   "outputs": [
    {
     "name": "stdout",
     "output_type": "stream",
     "text": [
      "Test 1 - Testing the implementation of the 'evaluate_accuracy' method ...\n",
      "\n",
      "Good Job!\n",
      "You've passed the 1st test for the 'evaluate_accuracy' method :-)\n"
     ]
    }
   ],
   "execution_count": 396
  },
  {
   "cell_type": "code",
   "metadata": {
    "collapsed": true,
    "nbgrader": {
     "grade": true,
     "grade_id": "test14-evaluate_accuracy",
     "locked": true,
     "points": "0.4",
     "solution": false
    },
    "editable": false,
    "deletable": false,
    "ExecuteTime": {
     "end_time": "2025-01-27T18:33:33.138713Z",
     "start_time": "2025-01-27T18:33:33.118369Z"
    }
   },
   "source": [
    "# --------------------------- RUN THIS TEST CODE CELL -------------------------------------\n",
    "'''\n",
    "2.d. --- Test your implementation:\n",
    "'''\n",
    "print (\"Test 2 - Testing the implementation of the 'evaluate_accuracy' method ...\\n\")\n",
    "\n",
    "cols=['person_name', 'extracted_text']\n",
    "file_name = '.' + os.sep + 'data' + os.sep + 'simpsons_dataset_8_speakers_ptrn_1k_lns.txt'\n",
    "\n",
    "try:\n",
    "    dataframe = transfer_raw_text_to_dataframe(file_name)\n",
    "    # raw dataset is already shuffled\n",
    "    df_train = dataframe.iloc[:800,:]\n",
    "    df_test = dataframe.iloc[800:,:]\n",
    "    y_test = df_test['person_name']\n",
    "    clf_pipeline = create_simple_pipeline()\n",
    "    fit(clf_pipeline, df_train)\n",
    "    y_predicted = predict(clf_pipeline, df_test['extracted_text'])\n",
    "    evaluation_val = evaluate_accuracy(y_test,y_predicted)\n",
    "except Exception as e:\n",
    "    print ('You probably have a syntax error, we got the following exception:')\n",
    "    print ('\\tError Message:', str(e))\n",
    "    print ('Try fixing your implementation')\n",
    "    raise \n",
    "    \n",
    "assert evaluation_val is not None , \"Missing the 'y_predicted' series returned value\"\n",
    "assert evaluation_val == 0.39 , \"Wrong accuracy value\"\n",
    "\n",
    "print (\"Good Job!\\nYou've passed the 2nd test for the 'evaluate_accuracy' method :-)\")"
   ],
   "outputs": [
    {
     "name": "stdout",
     "output_type": "stream",
     "text": [
      "Test 2 - Testing the implementation of the 'evaluate_accuracy' method ...\n",
      "\n",
      "Good Job!\n",
      "You've passed the 2nd test for the 'evaluate_accuracy' method :-)\n"
     ]
    }
   ],
   "execution_count": 397
  },
  {
   "cell_type": "code",
   "metadata": {
    "collapsed": true,
    "nbgrader": {
     "grade": true,
     "grade_id": "test15-evaluate_accuracy",
     "locked": true,
     "points": "0.4",
     "solution": false
    },
    "editable": false,
    "deletable": false,
    "ExecuteTime": {
     "end_time": "2025-01-27T18:33:33.517801Z",
     "start_time": "2025-01-27T18:33:33.149450Z"
    }
   },
   "source": [
    "# --------------------------- RUN THIS TEST CODE CELL -------------------------------------\n",
    "'''\n",
    "2.d. --- Test your implementation:\n",
    "'''\n",
    "print (\"Test 3 - Testing the implementation of the 'evaluate_accuracy' method ...\\n\")\n",
    "\n",
    "print (\"The four most frequent figures :\\n\")\n",
    "print ('- Homer Simpson')\n",
    "print ('- Marge Simpson')\n",
    "print ('- Bart Simpson')\n",
    "print ('- Lisa Simpson')\n",
    "print (\"We will test with a mass of examples, but take only the frequent\\n\")\n",
    "\n",
    "cols=['person_name', 'extracted_text']\n",
    "file_name = '.' + os.sep + 'data' + os.sep + 'simpsons_dataset_8_speakers_ptrn_40k.txt'\n",
    "\n",
    "try:\n",
    "    dataframe = transfer_raw_text_to_dataframe(file_name)\n",
    "    dataframe_freq = dataframe[dataframe['person_name'].isin(['Homer Simpson', 'Marge Simpson','Bart Simpson','Lisa Simpson'])]\n",
    "    # raw dataset is already shuffled\n",
    "    df_train = dataframe_freq.iloc[:20000,:]\n",
    "    df_test = dataframe_freq.iloc[20000:,:]\n",
    "    y_test = df_test['person_name']\n",
    "    clf_pipeline = create_simple_pipeline()\n",
    "    fit(clf_pipeline, df_train)\n",
    "    y_predicted = predict(clf_pipeline, df_test['extracted_text'])\n",
    "    evaluation_val = evaluate_accuracy(y_test,y_predicted)\n",
    "except Exception as e:\n",
    "    print ('You probably have a syntax error, we got the following exception:') \n",
    "    print ('\\tError Message:', str(e))\n",
    "    print ('Try fixing your implementation')\n",
    "    raise \n",
    "\n",
    "assert np.round(evaluation_val,2) ==  0.5 , \"Wrong accuracy value\"\n",
    "\n",
    "print (\"Good Job!\\nYou've passed the 3rd test for the 'evaluate_accuracy' method :-)\")"
   ],
   "outputs": [
    {
     "name": "stdout",
     "output_type": "stream",
     "text": [
      "Test 3 - Testing the implementation of the 'evaluate_accuracy' method ...\n",
      "\n",
      "The four most frequent figures :\n",
      "\n",
      "- Homer Simpson\n",
      "- Marge Simpson\n",
      "- Bart Simpson\n",
      "- Lisa Simpson\n",
      "We will test with a mass of examples, but take only the frequent\n",
      "\n",
      "Good Job!\n",
      "You've passed the 3rd test for the 'evaluate_accuracy' method :-)\n"
     ]
    }
   ],
   "execution_count": 398
  },
  {
   "metadata": {
    "ExecuteTime": {
     "end_time": "2025-01-27T18:33:33.531364Z",
     "start_time": "2025-01-27T18:33:33.529617Z"
    }
   },
   "cell_type": "code",
   "source": "",
   "outputs": [],
   "execution_count": null
  }
 ],
 "metadata": {
  "kernelspec": {
   "display_name": "Python 3 [3.7]",
   "language": "python",
   "name": "python3"
  },
  "language_info": {
   "codemirror_mode": {
    "name": "ipython",
    "version": 3
   },
   "file_extension": ".py",
   "mimetype": "text/x-python",
   "name": "python",
   "nbconvert_exporter": "python",
   "pygments_lexer": "ipython3",
   "version": "3.7.5"
  }
 },
 "nbformat": 4,
 "nbformat_minor": 4
}
